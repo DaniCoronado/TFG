{
 "cells": [
  {
   "cell_type": "markdown",
   "id": "7c5dacb8",
   "metadata": {
    "papermill": {
     "duration": 0.006199,
     "end_time": "2022-06-05T00:38:19.319422",
     "exception": false,
     "start_time": "2022-06-05T00:38:19.313223",
     "status": "completed"
    },
    "tags": []
   },
   "source": [
    "instalaciones e imports previos"
   ]
  },
  {
   "cell_type": "code",
   "execution_count": 1,
   "id": "16d175e1",
   "metadata": {
    "_kg_hide-input": true,
    "_kg_hide-output": true,
    "execution": {
     "iopub.execute_input": "2022-06-05T00:38:19.331662Z",
     "iopub.status.busy": "2022-06-05T00:38:19.331189Z",
     "iopub.status.idle": "2022-06-05T00:38:46.518679Z",
     "shell.execute_reply": "2022-06-05T00:38:46.517373Z"
    },
    "papermill": {
     "duration": 27.196131,
     "end_time": "2022-06-05T00:38:46.521099",
     "exception": false,
     "start_time": "2022-06-05T00:38:19.324968",
     "status": "completed"
    },
    "tags": []
   },
   "outputs": [
    {
     "name": "stdout",
     "output_type": "stream",
     "text": [
      "Collecting tfimm\r\n",
      "  Downloading tfimm-0.2.6-py3-none-any.whl (139 kB)\r\n",
      "\u001b[2K     \u001b[90m━━━━━━━━━━━━━━━━━━━━━━━━━━━━━━━━━━━━━\u001b[0m \u001b[32m139.2/139.2 kB\u001b[0m \u001b[31m687.4 kB/s\u001b[0m eta \u001b[36m0:00:00\u001b[0m\r\n",
      "\u001b[?25hRequirement already satisfied: markdown<4.0.0,>=3.3.6 in /opt/conda/lib/python3.7/site-packages (from tfimm) (3.3.7)\r\n",
      "Requirement already satisfied: tensorflow<3.0,>=2.5 in /opt/conda/lib/python3.7/site-packages (from tfimm) (2.6.4)\r\n",
      "Requirement already satisfied: numpy in /opt/conda/lib/python3.7/site-packages (from tfimm) (1.21.6)\r\n",
      "Requirement already satisfied: importlib-metadata>=4.4 in /opt/conda/lib/python3.7/site-packages (from markdown<4.0.0,>=3.3.6->tfimm) (4.11.4)\r\n",
      "Collecting typing-extensions<3.11,>=3.7\r\n",
      "  Downloading typing_extensions-3.10.0.2-py3-none-any.whl (26 kB)\r\n",
      "Requirement already satisfied: clang~=5.0 in /opt/conda/lib/python3.7/site-packages (from tensorflow<3.0,>=2.5->tfimm) (5.0)\r\n",
      "Requirement already satisfied: grpcio<2.0,>=1.37.0 in /opt/conda/lib/python3.7/site-packages (from tensorflow<3.0,>=2.5->tfimm) (1.43.0)\r\n",
      "Requirement already satisfied: termcolor~=1.1.0 in /opt/conda/lib/python3.7/site-packages (from tensorflow<3.0,>=2.5->tfimm) (1.1.0)\r\n",
      "Requirement already satisfied: tensorboard<2.7,>=2.6.0 in /opt/conda/lib/python3.7/site-packages (from tensorflow<3.0,>=2.5->tfimm) (2.6.0)\r\n",
      "Collecting wrapt~=1.12.1\r\n",
      "  Downloading wrapt-1.12.1.tar.gz (27 kB)\r\n",
      "  Preparing metadata (setup.py) ... \u001b[?25l-\b \bdone\r\n",
      "\u001b[?25hRequirement already satisfied: astunparse~=1.6.3 in /opt/conda/lib/python3.7/site-packages (from tensorflow<3.0,>=2.5->tfimm) (1.6.3)\r\n",
      "Requirement already satisfied: google-pasta~=0.2 in /opt/conda/lib/python3.7/site-packages (from tensorflow<3.0,>=2.5->tfimm) (0.2.0)\r\n",
      "Requirement already satisfied: tensorflow-estimator<2.7,>=2.6.0 in /opt/conda/lib/python3.7/site-packages (from tensorflow<3.0,>=2.5->tfimm) (2.6.0)\r\n",
      "Collecting six~=1.15.0\r\n",
      "  Downloading six-1.15.0-py2.py3-none-any.whl (10 kB)\r\n",
      "Requirement already satisfied: gast==0.4.0 in /opt/conda/lib/python3.7/site-packages (from tensorflow<3.0,>=2.5->tfimm) (0.4.0)\r\n",
      "Requirement already satisfied: keras<2.7,>=2.6.0 in /opt/conda/lib/python3.7/site-packages (from tensorflow<3.0,>=2.5->tfimm) (2.6.0)\r\n",
      "Requirement already satisfied: flatbuffers~=1.12.0 in /opt/conda/lib/python3.7/site-packages (from tensorflow<3.0,>=2.5->tfimm) (1.12)\r\n",
      "Requirement already satisfied: protobuf>=3.9.2 in /opt/conda/lib/python3.7/site-packages (from tensorflow<3.0,>=2.5->tfimm) (3.20.1)\r\n",
      "Requirement already satisfied: wheel~=0.35 in /opt/conda/lib/python3.7/site-packages (from tensorflow<3.0,>=2.5->tfimm) (0.37.1)\r\n",
      "Requirement already satisfied: opt-einsum~=3.3.0 in /opt/conda/lib/python3.7/site-packages (from tensorflow<3.0,>=2.5->tfimm) (3.3.0)\r\n",
      "Requirement already satisfied: keras-preprocessing~=1.1.2 in /opt/conda/lib/python3.7/site-packages (from tensorflow<3.0,>=2.5->tfimm) (1.1.2)\r\n",
      "Collecting absl-py~=0.10\r\n",
      "  Downloading absl_py-0.15.0-py3-none-any.whl (132 kB)\r\n",
      "\u001b[2K     \u001b[90m━━━━━━━━━━━━━━━━━━━━━━━━━━━━━━━━━━━━━━━\u001b[0m \u001b[32m132.0/132.0 kB\u001b[0m \u001b[31m3.3 MB/s\u001b[0m eta \u001b[36m0:00:00\u001b[0m\r\n",
      "\u001b[?25hRequirement already satisfied: h5py~=3.1.0 in /opt/conda/lib/python3.7/site-packages (from tensorflow<3.0,>=2.5->tfimm) (3.1.0)\r\n",
      "Collecting numpy\r\n",
      "  Downloading numpy-1.19.5-cp37-cp37m-manylinux2010_x86_64.whl (14.8 MB)\r\n",
      "\u001b[2K     \u001b[90m━━━━━━━━━━━━━━━━━━━━━━━━━━━━━━━━━━━━━━━━\u001b[0m \u001b[32m14.8/14.8 MB\u001b[0m \u001b[31m28.6 MB/s\u001b[0m eta \u001b[36m0:00:00\u001b[0m\r\n",
      "\u001b[?25hRequirement already satisfied: cached-property in /opt/conda/lib/python3.7/site-packages (from h5py~=3.1.0->tensorflow<3.0,>=2.5->tfimm) (1.5.2)\r\n",
      "Requirement already satisfied: zipp>=0.5 in /opt/conda/lib/python3.7/site-packages (from importlib-metadata>=4.4->markdown<4.0.0,>=3.3.6->tfimm) (3.8.0)\r\n",
      "Requirement already satisfied: google-auth-oauthlib<0.5,>=0.4.1 in /opt/conda/lib/python3.7/site-packages (from tensorboard<2.7,>=2.6.0->tensorflow<3.0,>=2.5->tfimm) (0.4.6)\r\n",
      "Requirement already satisfied: tensorboard-plugin-wit>=1.6.0 in /opt/conda/lib/python3.7/site-packages (from tensorboard<2.7,>=2.6.0->tensorflow<3.0,>=2.5->tfimm) (1.8.1)\r\n",
      "Requirement already satisfied: setuptools>=41.0.0 in /opt/conda/lib/python3.7/site-packages (from tensorboard<2.7,>=2.6.0->tensorflow<3.0,>=2.5->tfimm) (59.8.0)\r\n",
      "Requirement already satisfied: werkzeug>=0.11.15 in /opt/conda/lib/python3.7/site-packages (from tensorboard<2.7,>=2.6.0->tensorflow<3.0,>=2.5->tfimm) (2.1.2)\r\n",
      "Requirement already satisfied: google-auth<2,>=1.6.3 in /opt/conda/lib/python3.7/site-packages (from tensorboard<2.7,>=2.6.0->tensorflow<3.0,>=2.5->tfimm) (1.35.0)\r\n",
      "Requirement already satisfied: tensorboard-data-server<0.7.0,>=0.6.0 in /opt/conda/lib/python3.7/site-packages (from tensorboard<2.7,>=2.6.0->tensorflow<3.0,>=2.5->tfimm) (0.6.1)\r\n",
      "Requirement already satisfied: requests<3,>=2.21.0 in /opt/conda/lib/python3.7/site-packages (from tensorboard<2.7,>=2.6.0->tensorflow<3.0,>=2.5->tfimm) (2.27.1)\r\n",
      "Requirement already satisfied: cachetools<5.0,>=2.0.0 in /opt/conda/lib/python3.7/site-packages (from google-auth<2,>=1.6.3->tensorboard<2.7,>=2.6.0->tensorflow<3.0,>=2.5->tfimm) (4.2.4)\r\n",
      "Requirement already satisfied: pyasn1-modules>=0.2.1 in /opt/conda/lib/python3.7/site-packages (from google-auth<2,>=1.6.3->tensorboard<2.7,>=2.6.0->tensorflow<3.0,>=2.5->tfimm) (0.2.7)\r\n",
      "Requirement already satisfied: rsa<5,>=3.1.4 in /opt/conda/lib/python3.7/site-packages (from google-auth<2,>=1.6.3->tensorboard<2.7,>=2.6.0->tensorflow<3.0,>=2.5->tfimm) (4.8)\r\n",
      "Requirement already satisfied: requests-oauthlib>=0.7.0 in /opt/conda/lib/python3.7/site-packages (from google-auth-oauthlib<0.5,>=0.4.1->tensorboard<2.7,>=2.6.0->tensorflow<3.0,>=2.5->tfimm) (1.3.1)\r\n",
      "Requirement already satisfied: idna<4,>=2.5 in /opt/conda/lib/python3.7/site-packages (from requests<3,>=2.21.0->tensorboard<2.7,>=2.6.0->tensorflow<3.0,>=2.5->tfimm) (3.3)\r\n",
      "Requirement already satisfied: charset-normalizer~=2.0.0 in /opt/conda/lib/python3.7/site-packages (from requests<3,>=2.21.0->tensorboard<2.7,>=2.6.0->tensorflow<3.0,>=2.5->tfimm) (2.0.12)\r\n",
      "Requirement already satisfied: certifi>=2017.4.17 in /opt/conda/lib/python3.7/site-packages (from requests<3,>=2.21.0->tensorboard<2.7,>=2.6.0->tensorflow<3.0,>=2.5->tfimm) (2022.5.18.1)\r\n",
      "Requirement already satisfied: urllib3<1.27,>=1.21.1 in /opt/conda/lib/python3.7/site-packages (from requests<3,>=2.21.0->tensorboard<2.7,>=2.6.0->tensorflow<3.0,>=2.5->tfimm) (1.26.9)\r\n",
      "Requirement already satisfied: pyasn1<0.5.0,>=0.4.6 in /opt/conda/lib/python3.7/site-packages (from pyasn1-modules>=0.2.1->google-auth<2,>=1.6.3->tensorboard<2.7,>=2.6.0->tensorflow<3.0,>=2.5->tfimm) (0.4.8)\r\n",
      "Requirement already satisfied: oauthlib>=3.0.0 in /opt/conda/lib/python3.7/site-packages (from requests-oauthlib>=0.7.0->google-auth-oauthlib<0.5,>=0.4.1->tensorboard<2.7,>=2.6.0->tensorflow<3.0,>=2.5->tfimm) (3.2.0)\r\n",
      "Building wheels for collected packages: wrapt\r\n",
      "  Building wheel for wrapt (setup.py) ... \u001b[?25l-\b \b\\\b \b|\b \bdone\r\n",
      "\u001b[?25h  Created wheel for wrapt: filename=wrapt-1.12.1-cp37-cp37m-linux_x86_64.whl size=77067 sha256=8b8f0ac92901c470ee334f495fffaeed239233eff5d9e450e7bd8e9f8e0c5c45\r\n",
      "  Stored in directory: /root/.cache/pip/wheels/62/76/4c/aa25851149f3f6d9785f6c869387ad82b3fd37582fa8147ac6\r\n",
      "Successfully built wrapt\r\n",
      "Installing collected packages: wrapt, typing-extensions, six, numpy, absl-py, tfimm\r\n",
      "  Attempting uninstall: wrapt\r\n",
      "    Found existing installation: wrapt 1.14.1\r\n",
      "    Uninstalling wrapt-1.14.1:\r\n",
      "      Successfully uninstalled wrapt-1.14.1\r\n",
      "  Attempting uninstall: typing-extensions\r\n",
      "    Found existing installation: typing_extensions 4.2.0\r\n",
      "    Uninstalling typing_extensions-4.2.0:\r\n",
      "      Successfully uninstalled typing_extensions-4.2.0\r\n",
      "  Attempting uninstall: six\r\n",
      "    Found existing installation: six 1.16.0\r\n",
      "    Uninstalling six-1.16.0:\r\n",
      "      Successfully uninstalled six-1.16.0\r\n",
      "  Attempting uninstall: numpy\r\n",
      "    Found existing installation: numpy 1.21.6\r\n",
      "    Uninstalling numpy-1.21.6:\r\n",
      "      Successfully uninstalled numpy-1.21.6\r\n",
      "  Attempting uninstall: absl-py\r\n",
      "    Found existing installation: absl-py 1.0.0\r\n",
      "    Uninstalling absl-py-1.0.0:\r\n",
      "      Successfully uninstalled absl-py-1.0.0\r\n",
      "\u001b[31mERROR: pip's dependency resolver does not currently take into account all the packages that are installed. This behaviour is the source of the following dependency conflicts.\r\n",
      "tensorflow-io 0.21.0 requires tensorflow-io-gcs-filesystem==0.21.0, which is not installed.\r\n",
      "dask-cudf 21.10.1 requires cupy-cuda114, which is not installed.\r\n",
      "beatrix-jupyterlab 3.1.7 requires google-cloud-bigquery-storage, which is not installed.\r\n",
      "xarray-einstats 0.2.2 requires numpy>=1.21, but you have numpy 1.19.5 which is incompatible.\r\n",
      "tfx-bsl 1.8.0 requires tensorflow!=2.0.*,!=2.1.*,!=2.2.*,!=2.3.*,!=2.4.*,!=2.5.*,!=2.6.*,!=2.7.*,<3,>=1.15.5, but you have tensorflow 2.6.4 which is incompatible.\r\n",
      "tensorflow-transform 1.8.0 requires tensorflow!=2.0.*,!=2.1.*,!=2.2.*,!=2.3.*,!=2.4.*,!=2.5.*,!=2.6.*,!=2.7.*,<2.9,>=1.15.5, but you have tensorflow 2.6.4 which is incompatible.\r\n",
      "tensorflow-serving-api 2.8.0 requires tensorflow<3,>=2.8.0, but you have tensorflow 2.6.4 which is incompatible.\r\n",
      "rich 12.4.4 requires typing-extensions<5.0,>=4.0.0; python_version < \"3.9\", but you have typing-extensions 3.10.0.2 which is incompatible.\r\n",
      "pytorch-lightning 1.6.3 requires typing-extensions>=4.0.0, but you have typing-extensions 3.10.0.2 which is incompatible.\r\n",
      "pytools 2022.1.9 requires typing-extensions>=4.0; python_version < \"3.11\", but you have typing-extensions 3.10.0.2 which is incompatible.\r\n",
      "pdpbox 0.2.1 requires matplotlib==3.1.1, but you have matplotlib 3.5.2 which is incompatible.\r\n",
      "grpcio-status 1.46.1 requires grpcio>=1.46.1, but you have grpcio 1.43.0 which is incompatible.\r\n",
      "google-cloud-aiplatform 0.6.0a1 requires google-cloud-storage<2.0.0dev,>=1.26.0, but you have google-cloud-storage 2.1.0 which is incompatible.\r\n",
      "gcsfs 2022.3.0 requires fsspec==2022.3.0, but you have fsspec 2022.5.0 which is incompatible.\r\n",
      "flax 0.5.0 requires typing-extensions>=4.1.1, but you have typing-extensions 3.10.0.2 which is incompatible.\r\n",
      "flake8 4.0.1 requires importlib-metadata<4.3; python_version < \"3.8\", but you have importlib-metadata 4.11.4 which is incompatible.\r\n",
      "featuretools 1.9.0 requires numpy>=1.21.0, but you have numpy 1.19.5 which is incompatible.\r\n",
      "dask-cudf 21.10.1 requires dask==2021.09.1, but you have dask 2022.2.0 which is incompatible.\r\n",
      "dask-cudf 21.10.1 requires distributed==2021.09.1, but you have distributed 2022.2.0 which is incompatible.\r\n",
      "apache-beam 2.38.0 requires dill<0.3.2,>=0.3.1.1, but you have dill 0.3.5.1 which is incompatible.\r\n",
      "apache-beam 2.38.0 requires httplib2<0.20.0,>=0.8, but you have httplib2 0.20.4 which is incompatible.\r\n",
      "aioitertools 0.10.0 requires typing_extensions>=4.0; python_version < \"3.10\", but you have typing-extensions 3.10.0.2 which is incompatible.\r\n",
      "aiobotocore 2.3.2 requires botocore<1.24.22,>=1.24.21, but you have botocore 1.26.7 which is incompatible.\u001b[0m\u001b[31m\r\n",
      "\u001b[0mSuccessfully installed absl-py-0.15.0 numpy-1.19.5 six-1.15.0 tfimm-0.2.6 typing-extensions-3.10.0.2 wrapt-1.12.1\r\n",
      "\u001b[33mWARNING: Running pip as the 'root' user can result in broken permissions and conflicting behaviour with the system package manager. It is recommended to use a virtual environment instead: https://pip.pypa.io/warnings/venv\u001b[0m\u001b[33m\r\n",
      "\u001b[0mNote: you may need to restart the kernel to use updated packages.\n"
     ]
    }
   ],
   "source": [
    "pip install tfimm"
   ]
  },
  {
   "cell_type": "code",
   "execution_count": 2,
   "id": "6a4d3509",
   "metadata": {
    "_kg_hide-input": true,
    "_kg_hide-output": true,
    "execution": {
     "iopub.execute_input": "2022-06-05T00:38:46.542855Z",
     "iopub.status.busy": "2022-06-05T00:38:46.541925Z",
     "iopub.status.idle": "2022-06-05T00:38:57.502024Z",
     "shell.execute_reply": "2022-06-05T00:38:57.500907Z"
    },
    "papermill": {
     "duration": 10.972495,
     "end_time": "2022-06-05T00:38:57.504116",
     "exception": false,
     "start_time": "2022-06-05T00:38:46.531621",
     "status": "completed"
    },
    "tags": []
   },
   "outputs": [
    {
     "name": "stdout",
     "output_type": "stream",
     "text": [
      "Collecting timm\r\n",
      "  Downloading timm-0.5.4-py3-none-any.whl (431 kB)\r\n",
      "\u001b[2K     \u001b[90m━━━━━━━━━━━━━━━━━━━━━━━━━━━━━━━━━━━━━━━\u001b[0m \u001b[32m431.5/431.5 kB\u001b[0m \u001b[31m1.4 MB/s\u001b[0m eta \u001b[36m0:00:00\u001b[0m\r\n",
      "\u001b[?25hRequirement already satisfied: torch>=1.4 in /opt/conda/lib/python3.7/site-packages (from timm) (1.11.0)\r\n",
      "Requirement already satisfied: torchvision in /opt/conda/lib/python3.7/site-packages (from timm) (0.12.0)\r\n",
      "Requirement already satisfied: typing-extensions in /opt/conda/lib/python3.7/site-packages (from torch>=1.4->timm) (3.10.0.2)\r\n",
      "Requirement already satisfied: requests in /opt/conda/lib/python3.7/site-packages (from torchvision->timm) (2.27.1)\r\n",
      "Requirement already satisfied: numpy in /opt/conda/lib/python3.7/site-packages (from torchvision->timm) (1.19.5)\r\n",
      "Requirement already satisfied: pillow!=8.3.*,>=5.3.0 in /opt/conda/lib/python3.7/site-packages (from torchvision->timm) (9.1.0)\r\n",
      "Requirement already satisfied: charset-normalizer~=2.0.0 in /opt/conda/lib/python3.7/site-packages (from requests->torchvision->timm) (2.0.12)\r\n",
      "Requirement already satisfied: urllib3<1.27,>=1.21.1 in /opt/conda/lib/python3.7/site-packages (from requests->torchvision->timm) (1.26.9)\r\n",
      "Requirement already satisfied: idna<4,>=2.5 in /opt/conda/lib/python3.7/site-packages (from requests->torchvision->timm) (3.3)\r\n",
      "Requirement already satisfied: certifi>=2017.4.17 in /opt/conda/lib/python3.7/site-packages (from requests->torchvision->timm) (2022.5.18.1)\r\n",
      "Installing collected packages: timm\r\n",
      "Successfully installed timm-0.5.4\r\n",
      "\u001b[33mWARNING: Running pip as the 'root' user can result in broken permissions and conflicting behaviour with the system package manager. It is recommended to use a virtual environment instead: https://pip.pypa.io/warnings/venv\u001b[0m\u001b[33m\r\n",
      "\u001b[0mNote: you may need to restart the kernel to use updated packages.\n"
     ]
    }
   ],
   "source": [
    "pip install timm"
   ]
  },
  {
   "cell_type": "code",
   "execution_count": 3,
   "id": "4653431e",
   "metadata": {
    "_kg_hide-input": true,
    "_kg_hide-output": true,
    "execution": {
     "iopub.execute_input": "2022-06-05T00:38:57.524344Z",
     "iopub.status.busy": "2022-06-05T00:38:57.524044Z",
     "iopub.status.idle": "2022-06-05T00:39:04.749799Z",
     "shell.execute_reply": "2022-06-05T00:39:04.748867Z"
    },
    "papermill": {
     "duration": 7.238151,
     "end_time": "2022-06-05T00:39:04.751953",
     "exception": false,
     "start_time": "2022-06-05T00:38:57.513802",
     "status": "completed"
    },
    "tags": []
   },
   "outputs": [],
   "source": [
    "import tfimm\n",
    "import timm\n",
    "import matplotlib.pyplot as plt\n",
    "import tensorflow as tf\n",
    "from tensorflow import keras\n",
    "from tensorflow.keras import layers\n",
    "import tensorflow_addons as tfa"
   ]
  },
  {
   "cell_type": "code",
   "execution_count": 4,
   "id": "b4cf73e8",
   "metadata": {
    "execution": {
     "iopub.execute_input": "2022-06-05T00:39:04.772553Z",
     "iopub.status.busy": "2022-06-05T00:39:04.771778Z",
     "iopub.status.idle": "2022-06-05T00:39:04.783432Z",
     "shell.execute_reply": "2022-06-05T00:39:04.782743Z"
    },
    "papermill": {
     "duration": 0.023771,
     "end_time": "2022-06-05T00:39:04.785285",
     "exception": false,
     "start_time": "2022-06-05T00:39:04.761514",
     "status": "completed"
    },
    "tags": []
   },
   "outputs": [
    {
     "data": {
      "text/plain": [
       "['convmixer_768_32', 'convmixer_1024_20_ks9_p14', 'convmixer_1536_20']"
      ]
     },
     "execution_count": 4,
     "metadata": {},
     "output_type": "execute_result"
    }
   ],
   "source": [
    "model_list = tfimm.list_models(pretrained=\"timm\")\n",
    "str_match = [s for s in model_list if \"convmixer\" in s]\n",
    "str_match"
   ]
  },
  {
   "cell_type": "code",
   "execution_count": 5,
   "id": "a67acef6",
   "metadata": {
    "execution": {
     "iopub.execute_input": "2022-06-05T00:39:04.804963Z",
     "iopub.status.busy": "2022-06-05T00:39:04.804510Z",
     "iopub.status.idle": "2022-06-05T00:39:22.739339Z",
     "shell.execute_reply": "2022-06-05T00:39:22.734432Z"
    },
    "papermill": {
     "duration": 17.94677,
     "end_time": "2022-06-05T00:39:22.741304",
     "exception": false,
     "start_time": "2022-06-05T00:39:04.794534",
     "status": "completed"
    },
    "tags": []
   },
   "outputs": [
    {
     "name": "stderr",
     "output_type": "stream",
     "text": [
      "2022-06-05 00:39:04.886548: I tensorflow/stream_executor/cuda/cuda_gpu_executor.cc:937] successful NUMA node read from SysFS had negative value (-1), but there must be at least one NUMA node, so returning NUMA node zero\n",
      "2022-06-05 00:39:04.887636: I tensorflow/stream_executor/cuda/cuda_gpu_executor.cc:937] successful NUMA node read from SysFS had negative value (-1), but there must be at least one NUMA node, so returning NUMA node zero\n",
      "2022-06-05 00:39:04.888319: I tensorflow/stream_executor/cuda/cuda_gpu_executor.cc:937] successful NUMA node read from SysFS had negative value (-1), but there must be at least one NUMA node, so returning NUMA node zero\n",
      "2022-06-05 00:39:04.889310: I tensorflow/core/platform/cpu_feature_guard.cc:142] This TensorFlow binary is optimized with oneAPI Deep Neural Network Library (oneDNN) to use the following CPU instructions in performance-critical operations:  AVX2 AVX512F FMA\n",
      "To enable them in other operations, rebuild TensorFlow with the appropriate compiler flags.\n",
      "2022-06-05 00:39:04.889620: I tensorflow/stream_executor/cuda/cuda_gpu_executor.cc:937] successful NUMA node read from SysFS had negative value (-1), but there must be at least one NUMA node, so returning NUMA node zero\n",
      "2022-06-05 00:39:04.890312: I tensorflow/stream_executor/cuda/cuda_gpu_executor.cc:937] successful NUMA node read from SysFS had negative value (-1), but there must be at least one NUMA node, so returning NUMA node zero\n",
      "2022-06-05 00:39:04.890940: I tensorflow/stream_executor/cuda/cuda_gpu_executor.cc:937] successful NUMA node read from SysFS had negative value (-1), but there must be at least one NUMA node, so returning NUMA node zero\n",
      "2022-06-05 00:39:09.458415: I tensorflow/stream_executor/cuda/cuda_gpu_executor.cc:937] successful NUMA node read from SysFS had negative value (-1), but there must be at least one NUMA node, so returning NUMA node zero\n",
      "2022-06-05 00:39:09.459334: I tensorflow/stream_executor/cuda/cuda_gpu_executor.cc:937] successful NUMA node read from SysFS had negative value (-1), but there must be at least one NUMA node, so returning NUMA node zero\n",
      "2022-06-05 00:39:09.460017: I tensorflow/stream_executor/cuda/cuda_gpu_executor.cc:937] successful NUMA node read from SysFS had negative value (-1), but there must be at least one NUMA node, so returning NUMA node zero\n",
      "2022-06-05 00:39:09.460633: I tensorflow/core/common_runtime/gpu/gpu_device.cc:1510] Created device /job:localhost/replica:0/task:0/device:GPU:0 with 15045 MB memory:  -> device: 0, name: Tesla P100-PCIE-16GB, pci bus id: 0000:00:04.0, compute capability: 6.0\n",
      "2022-06-05 00:39:11.088521: I tensorflow/stream_executor/cuda/cuda_dnn.cc:369] Loaded cuDNN version 8005\n",
      "Downloading: \"https://github.com/tmp-iclr/convmixer/releases/download/timm-v1.0/convmixer_768_32_ks7_p7_relu.pth.tar\" to /root/.cache/torch/hub/checkpoints/convmixer_768_32_ks7_p7_relu.pth.tar\n"
     ]
    },
    {
     "name": "stdout",
     "output_type": "stream",
     "text": [
      "Model: \"conv_mixer\"\n",
      "_________________________________________________________________\n",
      "Layer (type)                 Output Shape              Param #   \n",
      "=================================================================\n",
      "sequential (Sequential)      (1, 32, 32, 768)          116736    \n",
      "_________________________________________________________________\n",
      "blocks/0 (Block)             multiple                  635136    \n",
      "_________________________________________________________________\n",
      "blocks/1 (Block)             multiple                  635136    \n",
      "_________________________________________________________________\n",
      "blocks/2 (Block)             multiple                  635136    \n",
      "_________________________________________________________________\n",
      "blocks/3 (Block)             multiple                  635136    \n",
      "_________________________________________________________________\n",
      "blocks/4 (Block)             multiple                  635136    \n",
      "_________________________________________________________________\n",
      "blocks/5 (Block)             multiple                  635136    \n",
      "_________________________________________________________________\n",
      "blocks/6 (Block)             multiple                  635136    \n",
      "_________________________________________________________________\n",
      "blocks/7 (Block)             multiple                  635136    \n",
      "_________________________________________________________________\n",
      "blocks/8 (Block)             multiple                  635136    \n",
      "_________________________________________________________________\n",
      "blocks/9 (Block)             multiple                  635136    \n",
      "_________________________________________________________________\n",
      "blocks/10 (Block)            multiple                  635136    \n",
      "_________________________________________________________________\n",
      "blocks/11 (Block)            multiple                  635136    \n",
      "_________________________________________________________________\n",
      "blocks/12 (Block)            multiple                  635136    \n",
      "_________________________________________________________________\n",
      "blocks/13 (Block)            multiple                  635136    \n",
      "_________________________________________________________________\n",
      "blocks/14 (Block)            multiple                  635136    \n",
      "_________________________________________________________________\n",
      "blocks/15 (Block)            multiple                  635136    \n",
      "_________________________________________________________________\n",
      "blocks/16 (Block)            multiple                  635136    \n",
      "_________________________________________________________________\n",
      "blocks/17 (Block)            multiple                  635136    \n",
      "_________________________________________________________________\n",
      "blocks/18 (Block)            multiple                  635136    \n",
      "_________________________________________________________________\n",
      "blocks/19 (Block)            multiple                  635136    \n",
      "_________________________________________________________________\n",
      "blocks/20 (Block)            multiple                  635136    \n",
      "_________________________________________________________________\n",
      "blocks/21 (Block)            multiple                  635136    \n",
      "_________________________________________________________________\n",
      "blocks/22 (Block)            multiple                  635136    \n",
      "_________________________________________________________________\n",
      "blocks/23 (Block)            multiple                  635136    \n",
      "_________________________________________________________________\n",
      "blocks/24 (Block)            multiple                  635136    \n",
      "_________________________________________________________________\n",
      "blocks/25 (Block)            multiple                  635136    \n",
      "_________________________________________________________________\n",
      "blocks/26 (Block)            multiple                  635136    \n",
      "_________________________________________________________________\n",
      "blocks/27 (Block)            multiple                  635136    \n",
      "_________________________________________________________________\n",
      "blocks/28 (Block)            multiple                  635136    \n",
      "_________________________________________________________________\n",
      "blocks/29 (Block)            multiple                  635136    \n",
      "_________________________________________________________________\n",
      "blocks/30 (Block)            multiple                  635136    \n",
      "_________________________________________________________________\n",
      "blocks/31 (Block)            multiple                  635136    \n",
      "_________________________________________________________________\n",
      "global_average_pooling2d (Gl multiple                  0         \n",
      "_________________________________________________________________\n",
      "flatten (Flatten)            multiple                  0         \n",
      "_________________________________________________________________\n",
      "head (Dense)                 multiple                  769000    \n",
      "=================================================================\n",
      "Total params: 21,210,088\n",
      "Trainable params: 21,110,248\n",
      "Non-trainable params: 99,840\n",
      "_________________________________________________________________\n"
     ]
    }
   ],
   "source": [
    "convmixer_model = tfimm.create_model(\"convmixer_768_32\", pretrained=\"timm\")\n",
    "convmixer_model.summary()"
   ]
  },
  {
   "cell_type": "markdown",
   "id": "7e6b56af",
   "metadata": {
    "papermill": {
     "duration": 0.009584,
     "end_time": "2022-06-05T00:39:22.761164",
     "exception": false,
     "start_time": "2022-06-05T00:39:22.751580",
     "status": "completed"
    },
    "tags": []
   },
   "source": [
    "image size de nuestro ConvMixer"
   ]
  },
  {
   "cell_type": "code",
   "execution_count": 6,
   "id": "799d4c2e",
   "metadata": {
    "execution": {
     "iopub.execute_input": "2022-06-05T00:39:22.781795Z",
     "iopub.status.busy": "2022-06-05T00:39:22.781503Z",
     "iopub.status.idle": "2022-06-05T00:39:22.785159Z",
     "shell.execute_reply": "2022-06-05T00:39:22.784325Z"
    },
    "papermill": {
     "duration": 0.015818,
     "end_time": "2022-06-05T00:39:22.786818",
     "exception": false,
     "start_time": "2022-06-05T00:39:22.771000",
     "status": "completed"
    },
    "tags": []
   },
   "outputs": [],
   "source": [
    "image_size = 224"
   ]
  },
  {
   "cell_type": "markdown",
   "id": "6fea709d",
   "metadata": {
    "papermill": {
     "duration": 0.009615,
     "end_time": "2022-06-05T00:39:22.806125",
     "exception": false,
     "start_time": "2022-06-05T00:39:22.796510",
     "status": "completed"
    },
    "tags": []
   },
   "source": [
    "input shape de CIFAR-100"
   ]
  },
  {
   "cell_type": "code",
   "execution_count": 7,
   "id": "6375ec75",
   "metadata": {
    "execution": {
     "iopub.execute_input": "2022-06-05T00:39:22.826519Z",
     "iopub.status.busy": "2022-06-05T00:39:22.826248Z",
     "iopub.status.idle": "2022-06-05T00:39:22.830735Z",
     "shell.execute_reply": "2022-06-05T00:39:22.830071Z"
    },
    "papermill": {
     "duration": 0.016666,
     "end_time": "2022-06-05T00:39:22.832416",
     "exception": false,
     "start_time": "2022-06-05T00:39:22.815750",
     "status": "completed"
    },
    "tags": []
   },
   "outputs": [],
   "source": [
    "input_shape = (32, 32, 3)"
   ]
  },
  {
   "cell_type": "code",
   "execution_count": 8,
   "id": "31ca572c",
   "metadata": {
    "execution": {
     "iopub.execute_input": "2022-06-05T00:39:22.853309Z",
     "iopub.status.busy": "2022-06-05T00:39:22.853065Z",
     "iopub.status.idle": "2022-06-05T00:39:30.889157Z",
     "shell.execute_reply": "2022-06-05T00:39:30.887382Z"
    },
    "papermill": {
     "duration": 8.048552,
     "end_time": "2022-06-05T00:39:30.891095",
     "exception": false,
     "start_time": "2022-06-05T00:39:22.842543",
     "status": "completed"
    },
    "tags": []
   },
   "outputs": [
    {
     "name": "stdout",
     "output_type": "stream",
     "text": [
      "Downloading data from https://www.cs.toronto.edu/~kriz/cifar-100-python.tar.gz\n",
      "169009152/169001437 [==============================] - 6s 0us/step\n",
      "169017344/169001437 [==============================] - 6s 0us/step\n",
      "x_train shape: (50000, 32, 32, 3) - y_train shape: (50000, 1)\n",
      "x_test shape: (10000, 32, 32, 3) - y_test shape: (10000, 1)\n"
     ]
    }
   ],
   "source": [
    "(x_train, y_train), (x_test, y_test) = keras.datasets.cifar100.load_data()\n",
    "\n",
    "print(f\"x_train shape: {x_train.shape} - y_train shape: {y_train.shape}\")\n",
    "print(f\"x_test shape: {x_test.shape} - y_test shape: {y_test.shape}\")"
   ]
  },
  {
   "cell_type": "code",
   "execution_count": 9,
   "id": "877f391b",
   "metadata": {
    "execution": {
     "iopub.execute_input": "2022-06-05T00:39:30.922371Z",
     "iopub.status.busy": "2022-06-05T00:39:30.922058Z",
     "iopub.status.idle": "2022-06-05T00:39:31.554016Z",
     "shell.execute_reply": "2022-06-05T00:39:31.553216Z"
    },
    "papermill": {
     "duration": 0.649666,
     "end_time": "2022-06-05T00:39:31.556021",
     "exception": false,
     "start_time": "2022-06-05T00:39:30.906355",
     "status": "completed"
    },
    "tags": []
   },
   "outputs": [],
   "source": [
    "preprocess = tfimm.create_preprocessing(\"convmixer_768_32\", dtype=\"float32\")\n",
    "x_train, x_test = preprocess(x_train), preprocess(x_test)"
   ]
  },
  {
   "cell_type": "code",
   "execution_count": 10,
   "id": "d6afbccf",
   "metadata": {
    "execution": {
     "iopub.execute_input": "2022-06-05T00:39:31.586908Z",
     "iopub.status.busy": "2022-06-05T00:39:31.586618Z",
     "iopub.status.idle": "2022-06-05T00:39:31.602883Z",
     "shell.execute_reply": "2022-06-05T00:39:31.602198Z"
    },
    "papermill": {
     "duration": 0.033468,
     "end_time": "2022-06-05T00:39:31.604503",
     "exception": false,
     "start_time": "2022-06-05T00:39:31.571035",
     "status": "completed"
    },
    "tags": []
   },
   "outputs": [],
   "source": [
    "data_augmentation = keras.Sequential(\n",
    "    [\n",
    "        layers.Normalization(),\n",
    "        layers.Resizing(image_size, image_size),\n",
    "        layers.RandomFlip(\"horizontal\"),\n",
    "        layers.RandomRotation(factor=0.02),\n",
    "        layers.RandomZoom(\n",
    "            height_factor=0.2, width_factor=0.2\n",
    "        )\n",
    "    ],\n",
    "    name=\"data_augmentation\",\n",
    ")"
   ]
  },
  {
   "cell_type": "markdown",
   "id": "1246415b",
   "metadata": {
    "papermill": {
     "duration": 0.014517,
     "end_time": "2022-06-05T00:39:31.633589",
     "exception": false,
     "start_time": "2022-06-05T00:39:31.619072",
     "status": "completed"
    },
    "tags": []
   },
   "source": [
    "añadimos las capas de entrada y salida correspondiente a nuestro problema (CIFAR-100)"
   ]
  },
  {
   "cell_type": "code",
   "execution_count": 11,
   "id": "2b632f0a",
   "metadata": {
    "execution": {
     "iopub.execute_input": "2022-06-05T00:39:31.664042Z",
     "iopub.status.busy": "2022-06-05T00:39:31.663772Z",
     "iopub.status.idle": "2022-06-05T00:39:32.740777Z",
     "shell.execute_reply": "2022-06-05T00:39:32.739842Z"
    },
    "papermill": {
     "duration": 1.094436,
     "end_time": "2022-06-05T00:39:32.742649",
     "exception": false,
     "start_time": "2022-06-05T00:39:31.648213",
     "status": "completed"
    },
    "tags": []
   },
   "outputs": [
    {
     "name": "stdout",
     "output_type": "stream",
     "text": [
      "Model: \"model\"\n",
      "_________________________________________________________________\n",
      "Layer (type)                 Output Shape              Param #   \n",
      "=================================================================\n",
      "input_1 (InputLayer)         [(None, 32, 32, 3)]       0         \n",
      "_________________________________________________________________\n",
      "data_augmentation (Sequentia (None, 224, 224, 3)       7         \n",
      "_________________________________________________________________\n",
      "conv_mixer (ConvMixer)       (None, 1000)              21210088  \n",
      "_________________________________________________________________\n",
      "dense (Dense)                (None, 100)               100100    \n",
      "=================================================================\n",
      "Total params: 21,310,195\n",
      "Trainable params: 21,210,348\n",
      "Non-trainable params: 99,847\n",
      "_________________________________________________________________\n"
     ]
    }
   ],
   "source": [
    "inputs = layers.Input(shape=input_shape)\n",
    "augmented = data_augmentation(inputs)\n",
    "features = convmixer_model(augmented)\n",
    "logits = keras.layers.Dense(100)(features)\n",
    "model = keras.Model(inputs=inputs, outputs=logits)\n",
    "model.summary()"
   ]
  },
  {
   "cell_type": "code",
   "execution_count": 12,
   "id": "4c03a1bf",
   "metadata": {
    "execution": {
     "iopub.execute_input": "2022-06-05T00:39:32.773673Z",
     "iopub.status.busy": "2022-06-05T00:39:32.773383Z",
     "iopub.status.idle": "2022-06-05T00:39:32.778628Z",
     "shell.execute_reply": "2022-06-05T00:39:32.777759Z"
    },
    "papermill": {
     "duration": 0.023367,
     "end_time": "2022-06-05T00:39:32.781171",
     "exception": false,
     "start_time": "2022-06-05T00:39:32.757804",
     "status": "completed"
    },
    "tags": []
   },
   "outputs": [
    {
     "data": {
      "text/plain": [
       "'\\nmodel = keras.models.Sequential()\\nmodel.add(layers.Input(shape=input_shape))\\nmodel.add(data_augmentation)\\nfor layer in convmixer_model.layers[0:-1]:\\n    model.add(layer)\\nmodel.add(keras.layers.Dense(100))\\nmodel.summary()\\n\\n'"
      ]
     },
     "execution_count": 12,
     "metadata": {},
     "output_type": "execute_result"
    }
   ],
   "source": [
    "\"\"\"\n",
    "model = keras.models.Sequential()\n",
    "model.add(layers.Input(shape=input_shape))\n",
    "model.add(data_augmentation)\n",
    "for layer in convmixer_model.layers[0:-1]:\n",
    "    model.add(layer)\n",
    "model.add(keras.layers.Dense(100))\n",
    "model.summary()\n",
    "\n",
    "\"\"\""
   ]
  },
  {
   "cell_type": "markdown",
   "id": "4c160cbb",
   "metadata": {
    "papermill": {
     "duration": 0.014587,
     "end_time": "2022-06-05T00:39:32.810644",
     "exception": false,
     "start_time": "2022-06-05T00:39:32.796057",
     "status": "completed"
    },
    "tags": []
   },
   "source": [
    "hacemos las capas no entrenables"
   ]
  },
  {
   "cell_type": "code",
   "execution_count": 13,
   "id": "037bbf4b",
   "metadata": {
    "execution": {
     "iopub.execute_input": "2022-06-05T00:39:32.842073Z",
     "iopub.status.busy": "2022-06-05T00:39:32.841803Z",
     "iopub.status.idle": "2022-06-05T00:39:32.845082Z",
     "shell.execute_reply": "2022-06-05T00:39:32.844351Z"
    },
    "papermill": {
     "duration": 0.020822,
     "end_time": "2022-06-05T00:39:32.846783",
     "exception": false,
     "start_time": "2022-06-05T00:39:32.825961",
     "status": "completed"
    },
    "tags": []
   },
   "outputs": [],
   "source": [
    "#for layer in model.layers:\n",
    "#    layer.trainable = False\n",
    "#model.summary()"
   ]
  },
  {
   "cell_type": "markdown",
   "id": "59ec35a2",
   "metadata": {
    "papermill": {
     "duration": 0.014691,
     "end_time": "2022-06-05T00:39:32.876702",
     "exception": false,
     "start_time": "2022-06-05T00:39:32.862011",
     "status": "completed"
    },
    "tags": []
   },
   "source": [
    "parámetros para compilar, entrenar y evaluar el modelo"
   ]
  },
  {
   "cell_type": "code",
   "execution_count": 14,
   "id": "6736d52c",
   "metadata": {
    "execution": {
     "iopub.execute_input": "2022-06-05T00:39:32.907030Z",
     "iopub.status.busy": "2022-06-05T00:39:32.906780Z",
     "iopub.status.idle": "2022-06-05T00:39:32.910570Z",
     "shell.execute_reply": "2022-06-05T00:39:32.909737Z"
    },
    "papermill": {
     "duration": 0.02094,
     "end_time": "2022-06-05T00:39:32.912348",
     "exception": false,
     "start_time": "2022-06-05T00:39:32.891408",
     "status": "completed"
    },
    "tags": []
   },
   "outputs": [],
   "source": [
    "learning_rate = 0.00001\n",
    "weight_decay = 0.0001\n",
    "batch_size = 32\n",
    "num_epochs = 10"
   ]
  },
  {
   "cell_type": "code",
   "execution_count": 15,
   "id": "f4e4b6bc",
   "metadata": {
    "execution": {
     "iopub.execute_input": "2022-06-05T00:39:32.942957Z",
     "iopub.status.busy": "2022-06-05T00:39:32.942401Z",
     "iopub.status.idle": "2022-06-05T05:43:26.256246Z",
     "shell.execute_reply": "2022-06-05T05:43:26.255427Z"
    },
    "papermill": {
     "duration": 18234.276023,
     "end_time": "2022-06-05T05:43:27.203101",
     "exception": false,
     "start_time": "2022-06-05T00:39:32.927078",
     "status": "completed"
    },
    "tags": []
   },
   "outputs": [
    {
     "name": "stderr",
     "output_type": "stream",
     "text": [
      "2022-06-05 00:39:33.417594: I tensorflow/compiler/mlir/mlir_graph_optimization_pass.cc:185] None of the MLIR Optimization Passes are enabled (registered 2)\n"
     ]
    },
    {
     "name": "stdout",
     "output_type": "stream",
     "text": [
      "Epoch 1/10\n",
      "1407/1407 [==============================] - 1811s 1s/step - loss: 4.4404 - accuracy: 0.0510 - top-5-accuracy: 0.1739 - val_loss: 6.2710 - val_accuracy: 0.0850 - val_top-5-accuracy: 0.2382\n",
      "Epoch 2/10\n",
      "1407/1407 [==============================] - 1798s 1s/step - loss: 2.8899 - accuracy: 0.2810 - top-5-accuracy: 0.6026 - val_loss: 3.3252 - val_accuracy: 0.3418 - val_top-5-accuracy: 0.6688\n",
      "Epoch 3/10\n",
      "1407/1407 [==============================] - 1797s 1s/step - loss: 1.8625 - accuracy: 0.5096 - top-5-accuracy: 0.8263 - val_loss: 1.8731 - val_accuracy: 0.5256 - val_top-5-accuracy: 0.8394\n",
      "Epoch 4/10\n",
      "1407/1407 [==============================] - 1796s 1s/step - loss: 1.4633 - accuracy: 0.6212 - top-5-accuracy: 0.8971 - val_loss: 5.1759 - val_accuracy: 0.6256 - val_top-5-accuracy: 0.8932\n",
      "Epoch 5/10\n",
      "1407/1407 [==============================] - 1796s 1s/step - loss: 1.2968 - accuracy: 0.6762 - top-5-accuracy: 0.9252 - val_loss: 1.2903 - val_accuracy: 0.6780 - val_top-5-accuracy: 0.9242\n",
      "Epoch 6/10\n",
      "1407/1407 [==============================] - 1796s 1s/step - loss: 1.2008 - accuracy: 0.7122 - top-5-accuracy: 0.9418 - val_loss: 1.1890 - val_accuracy: 0.7114 - val_top-5-accuracy: 0.9358\n",
      "Epoch 7/10\n",
      "1407/1407 [==============================] - 1797s 1s/step - loss: 1.1417 - accuracy: 0.7351 - top-5-accuracy: 0.9505 - val_loss: 1.1104 - val_accuracy: 0.7338 - val_top-5-accuracy: 0.9484\n",
      "Epoch 8/10\n",
      "1407/1407 [==============================] - 1798s 1s/step - loss: 1.1089 - accuracy: 0.7471 - top-5-accuracy: 0.9558 - val_loss: 1.0436 - val_accuracy: 0.7502 - val_top-5-accuracy: 0.9572\n",
      "Epoch 9/10\n",
      "1407/1407 [==============================] - 1830s 1s/step - loss: 1.0853 - accuracy: 0.7578 - top-5-accuracy: 0.9582 - val_loss: 1.0125 - val_accuracy: 0.7534 - val_top-5-accuracy: 0.9592\n",
      "Epoch 10/10\n",
      "1407/1407 [==============================] - 1798s 1s/step - loss: 1.0672 - accuracy: 0.7657 - top-5-accuracy: 0.9605 - val_loss: 1.0007 - val_accuracy: 0.7606 - val_top-5-accuracy: 0.9582\n",
      "313/313 [==============================] - 101s 322ms/step - loss: 0.9841 - accuracy: 0.7687 - top-5-accuracy: 0.9610\n",
      "Test accuracy: 76.87%\n",
      "Test top 5 accuracy: 96.1%\n"
     ]
    }
   ],
   "source": [
    "def run_experiment(model):\n",
    "    optimizer = tfa.optimizers.AdamW(\n",
    "        learning_rate=learning_rate, weight_decay=weight_decay\n",
    "    )\n",
    "\n",
    "    model.compile(\n",
    "        optimizer=optimizer,\n",
    "        loss=keras.losses.SparseCategoricalCrossentropy(from_logits=True),\n",
    "        metrics=[\n",
    "            keras.metrics.SparseCategoricalAccuracy(name=\"accuracy\"),\n",
    "            keras.metrics.SparseTopKCategoricalAccuracy(5, name=\"top-5-accuracy\"),\n",
    "        ]\n",
    "    )\n",
    "\n",
    "    checkpoint_filepath = \"/tmp/checkpoint\"\n",
    "    checkpoint_callback = keras.callbacks.ModelCheckpoint(\n",
    "        checkpoint_filepath,\n",
    "        monitor=\"val_accuracy\",\n",
    "        save_best_only=True,\n",
    "        save_weights_only=True,\n",
    "    )\n",
    "\n",
    "    history = model.fit(\n",
    "        x= x_train,\n",
    "        y= y_train,\n",
    "        batch_size=batch_size,\n",
    "        epochs=num_epochs,\n",
    "        validation_split=0.1,\n",
    "        callbacks=[checkpoint_callback],\n",
    "    )\n",
    "\n",
    "    model.load_weights(checkpoint_filepath)\n",
    "    _, accuracy, top_5_accuracy = model.evaluate(x_test, y_test)\n",
    "    print(f\"Test accuracy: {round(accuracy * 100, 2)}%\")\n",
    "    print(f\"Test top 5 accuracy: {round(top_5_accuracy * 100, 2)}%\")\n",
    "\n",
    "    return history\n",
    "\n",
    "history = run_experiment(model)"
   ]
  },
  {
   "cell_type": "markdown",
   "id": "f3899cc1",
   "metadata": {
    "papermill": {
     "duration": 0.870849,
     "end_time": "2022-06-05T05:43:29.027862",
     "exception": false,
     "start_time": "2022-06-05T05:43:28.157013",
     "status": "completed"
    },
    "tags": []
   },
   "source": [
    "# Performance of model"
   ]
  },
  {
   "cell_type": "code",
   "execution_count": 16,
   "id": "1b429da3",
   "metadata": {
    "execution": {
     "iopub.execute_input": "2022-06-05T05:43:30.886321Z",
     "iopub.status.busy": "2022-06-05T05:43:30.885827Z",
     "iopub.status.idle": "2022-06-05T05:43:31.101218Z",
     "shell.execute_reply": "2022-06-05T05:43:31.100479Z"
    },
    "papermill": {
     "duration": 1.199992,
     "end_time": "2022-06-05T05:43:31.103431",
     "exception": false,
     "start_time": "2022-06-05T05:43:29.903439",
     "status": "completed"
    },
    "tags": []
   },
   "outputs": [
    {
     "data": {
      "image/png": "[encoded data removed]",
      "text/plain": [
       "<Figure size 432x288 with 1 Axes>"
      ]
     },
     "metadata": {
      "needs_background": "light"
     },
     "output_type": "display_data"
    }
   ],
   "source": [
    "# accuracies\n",
    "plt.plot(history.history['accuracy'], label='train acc')\n",
    "plt.plot(history.history['val_accuracy'], label='val acc')\n",
    "plt.legend()\n",
    "plt.show()"
   ]
  },
  {
   "cell_type": "code",
   "execution_count": 17,
   "id": "28177d5c",
   "metadata": {
    "execution": {
     "iopub.execute_input": "2022-06-05T05:43:32.874147Z",
     "iopub.status.busy": "2022-06-05T05:43:32.873786Z",
     "iopub.status.idle": "2022-06-05T05:43:33.295171Z",
     "shell.execute_reply": "2022-06-05T05:43:33.294299Z"
    },
    "papermill": {
     "duration": 1.304036,
     "end_time": "2022-06-05T05:43:33.297294",
     "exception": false,
     "start_time": "2022-06-05T05:43:31.993258",
     "status": "completed"
    },
    "tags": []
   },
   "outputs": [
    {
     "data": {
      "image/png": "[encoded data removed]",
      "text/plain": [
       "<Figure size 432x288 with 1 Axes>"
      ]
     },
     "metadata": {
      "needs_background": "light"
     },
     "output_type": "display_data"
    }
   ],
   "source": [
    "# loss\n",
    "plt.plot(history.history['loss'], label='train loss')\n",
    "plt.plot(history.history['val_loss'], label='val loss')\n",
    "plt.legend()\n",
    "plt.show()"
   ]
  }
 ],
 "metadata": {
  "kernelspec": {
   "display_name": "Python 3",
   "language": "python",
   "name": "python3"
  },
  "language_info": {
   "codemirror_mode": {
    "name": "ipython",
    "version": 3
   },
   "file_extension": ".py",
   "mimetype": "text/x-python",
   "name": "python",
   "nbconvert_exporter": "python",
   "pygments_lexer": "ipython3",
   "version": "3.7.12"
  },
  "papermill": {
   "default_parameters": {},
   "duration": 18326.415553,
   "end_time": "2022-06-05T05:43:37.773053",
   "environment_variables": {},
   "exception": null,
   "input_path": "__notebook__.ipynb",
   "output_path": "__notebook__.ipynb",
   "parameters": {},
   "start_time": "2022-06-05T00:38:11.357500",
   "version": "2.3.4"
  }
 },
 "nbformat": 4,
 "nbformat_minor": 5
}
