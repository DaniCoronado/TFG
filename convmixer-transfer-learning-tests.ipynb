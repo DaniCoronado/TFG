{
 "cells": [
  {
   "cell_type": "markdown",
   "id": "b4fbae18",
   "metadata": {
    "papermill": {
     "duration": 0.008703,
     "end_time": "2022-06-05T10:00:08.355342",
     "exception": false,
     "start_time": "2022-06-05T10:00:08.346639",
     "status": "completed"
    },
    "tags": []
   },
   "source": [
    "instalaciones e imports previos"
   ]
  },
  {
   "cell_type": "code",
   "execution_count": 1,
   "id": "b6d855dd",
   "metadata": {
    "_kg_hide-input": true,
    "_kg_hide-output": true,
    "execution": {
     "iopub.execute_input": "2022-06-05T10:00:08.375007Z",
     "iopub.status.busy": "2022-06-05T10:00:08.374433Z",
     "iopub.status.idle": "2022-06-05T10:00:33.559059Z",
     "shell.execute_reply": "2022-06-05T10:00:33.557983Z"
    },
    "papermill": {
     "duration": 25.19615,
     "end_time": "2022-06-05T10:00:33.561108",
     "exception": false,
     "start_time": "2022-06-05T10:00:08.364958",
     "status": "completed"
    },
    "tags": []
   },
   "outputs": [
    {
     "name": "stdout",
     "output_type": "stream",
     "text": [
      "Collecting tfimm\r\n",
      "  Downloading tfimm-0.2.6-py3-none-any.whl (139 kB)\r\n",
      "\u001b[2K     \u001b[90m━━━━━━━━━━━━━━━━━━━━━━━━━━━━━━━━━━━━━━━\u001b[0m \u001b[32m139.2/139.2 kB\u001b[0m \u001b[31m4.6 MB/s\u001b[0m eta \u001b[36m0:00:00\u001b[0m\r\n",
      "\u001b[?25hRequirement already satisfied: tensorflow<3.0,>=2.5 in /opt/conda/lib/python3.7/site-packages (from tfimm) (2.6.4)\r\n",
      "Requirement already satisfied: numpy in /opt/conda/lib/python3.7/site-packages (from tfimm) (1.21.6)\r\n",
      "Requirement already satisfied: markdown<4.0.0,>=3.3.6 in /opt/conda/lib/python3.7/site-packages (from tfimm) (3.3.7)\r\n",
      "Requirement already satisfied: importlib-metadata>=4.4 in /opt/conda/lib/python3.7/site-packages (from markdown<4.0.0,>=3.3.6->tfimm) (4.11.4)\r\n",
      "Collecting numpy\r\n",
      "  Downloading numpy-1.19.5-cp37-cp37m-manylinux2010_x86_64.whl (14.8 MB)\r\n",
      "\u001b[2K     \u001b[90m━━━━━━━━━━━━━━━━━━━━━━━━━━━━━━━━━━━━━━━━\u001b[0m \u001b[32m14.8/14.8 MB\u001b[0m \u001b[31m51.4 MB/s\u001b[0m eta \u001b[36m0:00:00\u001b[0m\r\n",
      "\u001b[?25hCollecting wrapt~=1.12.1\r\n",
      "  Downloading wrapt-1.12.1.tar.gz (27 kB)\r\n",
      "  Preparing metadata (setup.py) ... \u001b[?25l-\b \bdone\r\n",
      "\u001b[?25hRequirement already satisfied: keras<2.7,>=2.6.0 in /opt/conda/lib/python3.7/site-packages (from tensorflow<3.0,>=2.5->tfimm) (2.6.0)\r\n",
      "Requirement already satisfied: h5py~=3.1.0 in /opt/conda/lib/python3.7/site-packages (from tensorflow<3.0,>=2.5->tfimm) (3.1.0)\r\n",
      "Requirement already satisfied: clang~=5.0 in /opt/conda/lib/python3.7/site-packages (from tensorflow<3.0,>=2.5->tfimm) (5.0)\r\n",
      "Requirement already satisfied: flatbuffers~=1.12.0 in /opt/conda/lib/python3.7/site-packages (from tensorflow<3.0,>=2.5->tfimm) (1.12)\r\n",
      "Requirement already satisfied: tensorboard<2.7,>=2.6.0 in /opt/conda/lib/python3.7/site-packages (from tensorflow<3.0,>=2.5->tfimm) (2.6.0)\r\n",
      "Requirement already satisfied: astunparse~=1.6.3 in /opt/conda/lib/python3.7/site-packages (from tensorflow<3.0,>=2.5->tfimm) (1.6.3)\r\n",
      "Requirement already satisfied: tensorflow-estimator<2.7,>=2.6.0 in /opt/conda/lib/python3.7/site-packages (from tensorflow<3.0,>=2.5->tfimm) (2.6.0)\r\n",
      "Requirement already satisfied: protobuf>=3.9.2 in /opt/conda/lib/python3.7/site-packages (from tensorflow<3.0,>=2.5->tfimm) (3.20.1)\r\n",
      "Requirement already satisfied: google-pasta~=0.2 in /opt/conda/lib/python3.7/site-packages (from tensorflow<3.0,>=2.5->tfimm) (0.2.0)\r\n",
      "Requirement already satisfied: gast==0.4.0 in /opt/conda/lib/python3.7/site-packages (from tensorflow<3.0,>=2.5->tfimm) (0.4.0)\r\n",
      "Requirement already satisfied: opt-einsum~=3.3.0 in /opt/conda/lib/python3.7/site-packages (from tensorflow<3.0,>=2.5->tfimm) (3.3.0)\r\n",
      "Requirement already satisfied: wheel~=0.35 in /opt/conda/lib/python3.7/site-packages (from tensorflow<3.0,>=2.5->tfimm) (0.37.1)\r\n",
      "Collecting absl-py~=0.10\r\n",
      "  Downloading absl_py-0.15.0-py3-none-any.whl (132 kB)\r\n",
      "\u001b[2K     \u001b[90m━━━━━━━━━━━━━━━━━━━━━━━━━━━━━━━━━━━━━━\u001b[0m \u001b[32m132.0/132.0 kB\u001b[0m \u001b[31m13.4 MB/s\u001b[0m eta \u001b[36m0:00:00\u001b[0m\r\n",
      "\u001b[?25hRequirement already satisfied: keras-preprocessing~=1.1.2 in /opt/conda/lib/python3.7/site-packages (from tensorflow<3.0,>=2.5->tfimm) (1.1.2)\r\n",
      "Requirement already satisfied: grpcio<2.0,>=1.37.0 in /opt/conda/lib/python3.7/site-packages (from tensorflow<3.0,>=2.5->tfimm) (1.43.0)\r\n",
      "Collecting typing-extensions<3.11,>=3.7\r\n",
      "  Downloading typing_extensions-3.10.0.2-py3-none-any.whl (26 kB)\r\n",
      "Requirement already satisfied: termcolor~=1.1.0 in /opt/conda/lib/python3.7/site-packages (from tensorflow<3.0,>=2.5->tfimm) (1.1.0)\r\n",
      "Collecting six~=1.15.0\r\n",
      "  Downloading six-1.15.0-py2.py3-none-any.whl (10 kB)\r\n",
      "Requirement already satisfied: cached-property in /opt/conda/lib/python3.7/site-packages (from h5py~=3.1.0->tensorflow<3.0,>=2.5->tfimm) (1.5.2)\r\n",
      "Requirement already satisfied: zipp>=0.5 in /opt/conda/lib/python3.7/site-packages (from importlib-metadata>=4.4->markdown<4.0.0,>=3.3.6->tfimm) (3.8.0)\r\n",
      "Requirement already satisfied: requests<3,>=2.21.0 in /opt/conda/lib/python3.7/site-packages (from tensorboard<2.7,>=2.6.0->tensorflow<3.0,>=2.5->tfimm) (2.27.1)\r\n",
      "Requirement already satisfied: google-auth<2,>=1.6.3 in /opt/conda/lib/python3.7/site-packages (from tensorboard<2.7,>=2.6.0->tensorflow<3.0,>=2.5->tfimm) (1.35.0)\r\n",
      "Requirement already satisfied: tensorboard-data-server<0.7.0,>=0.6.0 in /opt/conda/lib/python3.7/site-packages (from tensorboard<2.7,>=2.6.0->tensorflow<3.0,>=2.5->tfimm) (0.6.1)\r\n",
      "Requirement already satisfied: tensorboard-plugin-wit>=1.6.0 in /opt/conda/lib/python3.7/site-packages (from tensorboard<2.7,>=2.6.0->tensorflow<3.0,>=2.5->tfimm) (1.8.1)\r\n",
      "Requirement already satisfied: setuptools>=41.0.0 in /opt/conda/lib/python3.7/site-packages (from tensorboard<2.7,>=2.6.0->tensorflow<3.0,>=2.5->tfimm) (59.8.0)\r\n",
      "Requirement already satisfied: werkzeug>=0.11.15 in /opt/conda/lib/python3.7/site-packages (from tensorboard<2.7,>=2.6.0->tensorflow<3.0,>=2.5->tfimm) (2.1.2)\r\n",
      "Requirement already satisfied: google-auth-oauthlib<0.5,>=0.4.1 in /opt/conda/lib/python3.7/site-packages (from tensorboard<2.7,>=2.6.0->tensorflow<3.0,>=2.5->tfimm) (0.4.6)\r\n",
      "Requirement already satisfied: rsa<5,>=3.1.4 in /opt/conda/lib/python3.7/site-packages (from google-auth<2,>=1.6.3->tensorboard<2.7,>=2.6.0->tensorflow<3.0,>=2.5->tfimm) (4.8)\r\n",
      "Requirement already satisfied: cachetools<5.0,>=2.0.0 in /opt/conda/lib/python3.7/site-packages (from google-auth<2,>=1.6.3->tensorboard<2.7,>=2.6.0->tensorflow<3.0,>=2.5->tfimm) (4.2.4)\r\n",
      "Requirement already satisfied: pyasn1-modules>=0.2.1 in /opt/conda/lib/python3.7/site-packages (from google-auth<2,>=1.6.3->tensorboard<2.7,>=2.6.0->tensorflow<3.0,>=2.5->tfimm) (0.2.7)\r\n",
      "Requirement already satisfied: requests-oauthlib>=0.7.0 in /opt/conda/lib/python3.7/site-packages (from google-auth-oauthlib<0.5,>=0.4.1->tensorboard<2.7,>=2.6.0->tensorflow<3.0,>=2.5->tfimm) (1.3.1)\r\n",
      "Requirement already satisfied: idna<4,>=2.5 in /opt/conda/lib/python3.7/site-packages (from requests<3,>=2.21.0->tensorboard<2.7,>=2.6.0->tensorflow<3.0,>=2.5->tfimm) (3.3)\r\n",
      "Requirement already satisfied: certifi>=2017.4.17 in /opt/conda/lib/python3.7/site-packages (from requests<3,>=2.21.0->tensorboard<2.7,>=2.6.0->tensorflow<3.0,>=2.5->tfimm) (2022.5.18.1)\r\n",
      "Requirement already satisfied: charset-normalizer~=2.0.0 in /opt/conda/lib/python3.7/site-packages (from requests<3,>=2.21.0->tensorboard<2.7,>=2.6.0->tensorflow<3.0,>=2.5->tfimm) (2.0.12)\r\n",
      "Requirement already satisfied: urllib3<1.27,>=1.21.1 in /opt/conda/lib/python3.7/site-packages (from requests<3,>=2.21.0->tensorboard<2.7,>=2.6.0->tensorflow<3.0,>=2.5->tfimm) (1.26.9)\r\n",
      "Requirement already satisfied: pyasn1<0.5.0,>=0.4.6 in /opt/conda/lib/python3.7/site-packages (from pyasn1-modules>=0.2.1->google-auth<2,>=1.6.3->tensorboard<2.7,>=2.6.0->tensorflow<3.0,>=2.5->tfimm) (0.4.8)\r\n",
      "Requirement already satisfied: oauthlib>=3.0.0 in /opt/conda/lib/python3.7/site-packages (from requests-oauthlib>=0.7.0->google-auth-oauthlib<0.5,>=0.4.1->tensorboard<2.7,>=2.6.0->tensorflow<3.0,>=2.5->tfimm) (3.2.0)\r\n",
      "Building wheels for collected packages: wrapt\r\n",
      "  Building wheel for wrapt (setup.py) ... \u001b[?25l-\b \b\\\b \b|\b \bdone\r\n",
      "\u001b[?25h  Created wheel for wrapt: filename=wrapt-1.12.1-cp37-cp37m-linux_x86_64.whl size=77049 sha256=889397486fb79d577bcde95e572f80d7de7f2c040401f66480d8f28665928a8f\r\n",
      "  Stored in directory: /root/.cache/pip/wheels/62/76/4c/aa25851149f3f6d9785f6c869387ad82b3fd37582fa8147ac6\r\n",
      "Successfully built wrapt\r\n",
      "Installing collected packages: wrapt, typing-extensions, six, numpy, absl-py, tfimm\r\n",
      "  Attempting uninstall: wrapt\r\n",
      "    Found existing installation: wrapt 1.14.1\r\n",
      "    Uninstalling wrapt-1.14.1:\r\n",
      "      Successfully uninstalled wrapt-1.14.1\r\n",
      "  Attempting uninstall: typing-extensions\r\n",
      "    Found existing installation: typing_extensions 4.2.0\r\n",
      "    Uninstalling typing_extensions-4.2.0:\r\n",
      "      Successfully uninstalled typing_extensions-4.2.0\r\n",
      "  Attempting uninstall: six\r\n",
      "    Found existing installation: six 1.16.0\r\n",
      "    Uninstalling six-1.16.0:\r\n",
      "      Successfully uninstalled six-1.16.0\r\n",
      "  Attempting uninstall: numpy\r\n",
      "    Found existing installation: numpy 1.21.6\r\n",
      "    Uninstalling numpy-1.21.6:\r\n",
      "      Successfully uninstalled numpy-1.21.6\r\n",
      "  Attempting uninstall: absl-py\r\n",
      "    Found existing installation: absl-py 1.0.0\r\n",
      "    Uninstalling absl-py-1.0.0:\r\n",
      "      Successfully uninstalled absl-py-1.0.0\r\n",
      "\u001b[31mERROR: pip's dependency resolver does not currently take into account all the packages that are installed. This behaviour is the source of the following dependency conflicts.\r\n",
      "tensorflow-io 0.21.0 requires tensorflow-io-gcs-filesystem==0.21.0, which is not installed.\r\n",
      "dask-cudf 21.10.1 requires cupy-cuda114, which is not installed.\r\n",
      "beatrix-jupyterlab 3.1.7 requires google-cloud-bigquery-storage, which is not installed.\r\n",
      "xarray-einstats 0.2.2 requires numpy>=1.21, but you have numpy 1.19.5 which is incompatible.\r\n",
      "tfx-bsl 1.8.0 requires tensorflow!=2.0.*,!=2.1.*,!=2.2.*,!=2.3.*,!=2.4.*,!=2.5.*,!=2.6.*,!=2.7.*,<3,>=1.15.5, but you have tensorflow 2.6.4 which is incompatible.\r\n",
      "tensorflow-transform 1.8.0 requires tensorflow!=2.0.*,!=2.1.*,!=2.2.*,!=2.3.*,!=2.4.*,!=2.5.*,!=2.6.*,!=2.7.*,<2.9,>=1.15.5, but you have tensorflow 2.6.4 which is incompatible.\r\n",
      "tensorflow-serving-api 2.8.0 requires tensorflow<3,>=2.8.0, but you have tensorflow 2.6.4 which is incompatible.\r\n",
      "rich 12.4.4 requires typing-extensions<5.0,>=4.0.0; python_version < \"3.9\", but you have typing-extensions 3.10.0.2 which is incompatible.\r\n",
      "pytorch-lightning 1.6.3 requires typing-extensions>=4.0.0, but you have typing-extensions 3.10.0.2 which is incompatible.\r\n",
      "pytools 2022.1.9 requires typing-extensions>=4.0; python_version < \"3.11\", but you have typing-extensions 3.10.0.2 which is incompatible.\r\n",
      "pdpbox 0.2.1 requires matplotlib==3.1.1, but you have matplotlib 3.5.2 which is incompatible.\r\n",
      "grpcio-status 1.46.1 requires grpcio>=1.46.1, but you have grpcio 1.43.0 which is incompatible.\r\n",
      "google-cloud-aiplatform 0.6.0a1 requires google-cloud-storage<2.0.0dev,>=1.26.0, but you have google-cloud-storage 2.1.0 which is incompatible.\r\n",
      "gcsfs 2022.3.0 requires fsspec==2022.3.0, but you have fsspec 2022.5.0 which is incompatible.\r\n",
      "flax 0.5.0 requires typing-extensions>=4.1.1, but you have typing-extensions 3.10.0.2 which is incompatible.\r\n",
      "flake8 4.0.1 requires importlib-metadata<4.3; python_version < \"3.8\", but you have importlib-metadata 4.11.4 which is incompatible.\r\n",
      "featuretools 1.9.0 requires numpy>=1.21.0, but you have numpy 1.19.5 which is incompatible.\r\n",
      "dask-cudf 21.10.1 requires dask==2021.09.1, but you have dask 2022.2.0 which is incompatible.\r\n",
      "dask-cudf 21.10.1 requires distributed==2021.09.1, but you have distributed 2022.2.0 which is incompatible.\r\n",
      "apache-beam 2.38.0 requires dill<0.3.2,>=0.3.1.1, but you have dill 0.3.5.1 which is incompatible.\r\n",
      "apache-beam 2.38.0 requires httplib2<0.20.0,>=0.8, but you have httplib2 0.20.4 which is incompatible.\r\n",
      "aioitertools 0.10.0 requires typing_extensions>=4.0; python_version < \"3.10\", but you have typing-extensions 3.10.0.2 which is incompatible.\r\n",
      "aiobotocore 2.3.2 requires botocore<1.24.22,>=1.24.21, but you have botocore 1.26.7 which is incompatible.\u001b[0m\u001b[31m\r\n",
      "\u001b[0mSuccessfully installed absl-py-0.15.0 numpy-1.19.5 six-1.15.0 tfimm-0.2.6 typing-extensions-3.10.0.2 wrapt-1.12.1\r\n",
      "\u001b[33mWARNING: Running pip as the 'root' user can result in broken permissions and conflicting behaviour with the system package manager. It is recommended to use a virtual environment instead: https://pip.pypa.io/warnings/venv\u001b[0m\u001b[33m\r\n",
      "\u001b[0mNote: you may need to restart the kernel to use updated packages.\n"
     ]
    }
   ],
   "source": [
    "pip install tfimm"
   ]
  },
  {
   "cell_type": "code",
   "execution_count": 2,
   "id": "732f89e7",
   "metadata": {
    "_kg_hide-input": true,
    "_kg_hide-output": true,
    "execution": {
     "iopub.execute_input": "2022-06-05T10:00:33.579001Z",
     "iopub.status.busy": "2022-06-05T10:00:33.578667Z",
     "iopub.status.idle": "2022-06-05T10:00:43.830245Z",
     "shell.execute_reply": "2022-06-05T10:00:43.829141Z"
    },
    "papermill": {
     "duration": 10.262818,
     "end_time": "2022-06-05T10:00:43.832235",
     "exception": false,
     "start_time": "2022-06-05T10:00:33.569417",
     "status": "completed"
    },
    "tags": []
   },
   "outputs": [
    {
     "name": "stdout",
     "output_type": "stream",
     "text": [
      "Collecting timm\r\n",
      "  Downloading timm-0.5.4-py3-none-any.whl (431 kB)\r\n",
      "\u001b[2K     \u001b[90m━━━━━━━━━━━━━━━━━━━━━━━━━━━━━━━━━━━━━━━\u001b[0m \u001b[32m431.5/431.5 kB\u001b[0m \u001b[31m9.1 MB/s\u001b[0m eta \u001b[36m0:00:00\u001b[0m\r\n",
      "\u001b[?25hRequirement already satisfied: torchvision in /opt/conda/lib/python3.7/site-packages (from timm) (0.12.0)\r\n",
      "Requirement already satisfied: torch>=1.4 in /opt/conda/lib/python3.7/site-packages (from timm) (1.11.0)\r\n",
      "Requirement already satisfied: typing-extensions in /opt/conda/lib/python3.7/site-packages (from torch>=1.4->timm) (3.10.0.2)\r\n",
      "Requirement already satisfied: numpy in /opt/conda/lib/python3.7/site-packages (from torchvision->timm) (1.19.5)\r\n",
      "Requirement already satisfied: requests in /opt/conda/lib/python3.7/site-packages (from torchvision->timm) (2.27.1)\r\n",
      "Requirement already satisfied: pillow!=8.3.*,>=5.3.0 in /opt/conda/lib/python3.7/site-packages (from torchvision->timm) (9.1.0)\r\n",
      "Requirement already satisfied: idna<4,>=2.5 in /opt/conda/lib/python3.7/site-packages (from requests->torchvision->timm) (3.3)\r\n",
      "Requirement already satisfied: urllib3<1.27,>=1.21.1 in /opt/conda/lib/python3.7/site-packages (from requests->torchvision->timm) (1.26.9)\r\n",
      "Requirement already satisfied: charset-normalizer~=2.0.0 in /opt/conda/lib/python3.7/site-packages (from requests->torchvision->timm) (2.0.12)\r\n",
      "Requirement already satisfied: certifi>=2017.4.17 in /opt/conda/lib/python3.7/site-packages (from requests->torchvision->timm) (2022.5.18.1)\r\n",
      "Installing collected packages: timm\r\n",
      "Successfully installed timm-0.5.4\r\n",
      "\u001b[33mWARNING: Running pip as the 'root' user can result in broken permissions and conflicting behaviour with the system package manager. It is recommended to use a virtual environment instead: https://pip.pypa.io/warnings/venv\u001b[0m\u001b[33m\r\n",
      "\u001b[0mNote: you may need to restart the kernel to use updated packages.\n"
     ]
    }
   ],
   "source": [
    "pip install timm"
   ]
  },
  {
   "cell_type": "code",
   "execution_count": 3,
   "id": "c8a9b5f6",
   "metadata": {
    "_kg_hide-input": true,
    "_kg_hide-output": true,
    "execution": {
     "iopub.execute_input": "2022-06-05T10:00:43.850742Z",
     "iopub.status.busy": "2022-06-05T10:00:43.850432Z",
     "iopub.status.idle": "2022-06-05T10:00:50.925330Z",
     "shell.execute_reply": "2022-06-05T10:00:50.924369Z"
    },
    "papermill": {
     "duration": 7.086648,
     "end_time": "2022-06-05T10:00:50.927518",
     "exception": false,
     "start_time": "2022-06-05T10:00:43.840870",
     "status": "completed"
    },
    "tags": []
   },
   "outputs": [],
   "source": [
    "import tfimm\n",
    "import timm\n",
    "import matplotlib.pyplot as plt\n",
    "import tensorflow as tf\n",
    "from tensorflow import keras\n",
    "from tensorflow.keras import layers\n",
    "import tensorflow_addons as tfa"
   ]
  },
  {
   "cell_type": "code",
   "execution_count": 4,
   "id": "68337611",
   "metadata": {
    "execution": {
     "iopub.execute_input": "2022-06-05T10:00:50.945932Z",
     "iopub.status.busy": "2022-06-05T10:00:50.945188Z",
     "iopub.status.idle": "2022-06-05T10:00:50.957478Z",
     "shell.execute_reply": "2022-06-05T10:00:50.956794Z"
    },
    "papermill": {
     "duration": 0.023049,
     "end_time": "2022-06-05T10:00:50.958998",
     "exception": false,
     "start_time": "2022-06-05T10:00:50.935949",
     "status": "completed"
    },
    "tags": []
   },
   "outputs": [
    {
     "data": {
      "text/plain": [
       "['convmixer_768_32', 'convmixer_1024_20_ks9_p14', 'convmixer_1536_20']"
      ]
     },
     "execution_count": 4,
     "metadata": {},
     "output_type": "execute_result"
    }
   ],
   "source": [
    "model_list = tfimm.list_models(pretrained=\"timm\")\n",
    "str_match = [s for s in model_list if \"convmixer\" in s]\n",
    "str_match"
   ]
  },
  {
   "cell_type": "code",
   "execution_count": 5,
   "id": "e167e11a",
   "metadata": {
    "execution": {
     "iopub.execute_input": "2022-06-05T10:00:50.976684Z",
     "iopub.status.busy": "2022-06-05T10:00:50.976372Z",
     "iopub.status.idle": "2022-06-05T10:01:04.322524Z",
     "shell.execute_reply": "2022-06-05T10:01:04.319920Z"
    },
    "papermill": {
     "duration": 13.357292,
     "end_time": "2022-06-05T10:01:04.324472",
     "exception": false,
     "start_time": "2022-06-05T10:00:50.967180",
     "status": "completed"
    },
    "tags": []
   },
   "outputs": [
    {
     "name": "stderr",
     "output_type": "stream",
     "text": [
      "2022-06-05 10:00:51.062157: I tensorflow/stream_executor/cuda/cuda_gpu_executor.cc:937] successful NUMA node read from SysFS had negative value (-1), but there must be at least one NUMA node, so returning NUMA node zero\n",
      "2022-06-05 10:00:51.063309: I tensorflow/stream_executor/cuda/cuda_gpu_executor.cc:937] successful NUMA node read from SysFS had negative value (-1), but there must be at least one NUMA node, so returning NUMA node zero\n",
      "2022-06-05 10:00:51.064027: I tensorflow/stream_executor/cuda/cuda_gpu_executor.cc:937] successful NUMA node read from SysFS had negative value (-1), but there must be at least one NUMA node, so returning NUMA node zero\n",
      "2022-06-05 10:00:51.065009: I tensorflow/core/platform/cpu_feature_guard.cc:142] This TensorFlow binary is optimized with oneAPI Deep Neural Network Library (oneDNN) to use the following CPU instructions in performance-critical operations:  AVX2 AVX512F FMA\n",
      "To enable them in other operations, rebuild TensorFlow with the appropriate compiler flags.\n",
      "2022-06-05 10:00:51.065432: I tensorflow/stream_executor/cuda/cuda_gpu_executor.cc:937] successful NUMA node read from SysFS had negative value (-1), but there must be at least one NUMA node, so returning NUMA node zero\n",
      "2022-06-05 10:00:51.066179: I tensorflow/stream_executor/cuda/cuda_gpu_executor.cc:937] successful NUMA node read from SysFS had negative value (-1), but there must be at least one NUMA node, so returning NUMA node zero\n",
      "2022-06-05 10:00:51.066852: I tensorflow/stream_executor/cuda/cuda_gpu_executor.cc:937] successful NUMA node read from SysFS had negative value (-1), but there must be at least one NUMA node, so returning NUMA node zero\n",
      "2022-06-05 10:00:55.650594: I tensorflow/stream_executor/cuda/cuda_gpu_executor.cc:937] successful NUMA node read from SysFS had negative value (-1), but there must be at least one NUMA node, so returning NUMA node zero\n",
      "2022-06-05 10:00:55.651564: I tensorflow/stream_executor/cuda/cuda_gpu_executor.cc:937] successful NUMA node read from SysFS had negative value (-1), but there must be at least one NUMA node, so returning NUMA node zero\n",
      "2022-06-05 10:00:55.652358: I tensorflow/stream_executor/cuda/cuda_gpu_executor.cc:937] successful NUMA node read from SysFS had negative value (-1), but there must be at least one NUMA node, so returning NUMA node zero\n",
      "2022-06-05 10:00:55.653152: I tensorflow/core/common_runtime/gpu/gpu_device.cc:1510] Created device /job:localhost/replica:0/task:0/device:GPU:0 with 15045 MB memory:  -> device: 0, name: Tesla P100-PCIE-16GB, pci bus id: 0000:00:04.0, compute capability: 6.0\n",
      "2022-06-05 10:00:57.137760: I tensorflow/stream_executor/cuda/cuda_dnn.cc:369] Loaded cuDNN version 8005\n",
      "Downloading: \"https://github.com/tmp-iclr/convmixer/releases/download/timm-v1.0/convmixer_768_32_ks7_p7_relu.pth.tar\" to /root/.cache/torch/hub/checkpoints/convmixer_768_32_ks7_p7_relu.pth.tar\n"
     ]
    },
    {
     "name": "stdout",
     "output_type": "stream",
     "text": [
      "Model: \"conv_mixer\"\n",
      "_________________________________________________________________\n",
      "Layer (type)                 Output Shape              Param #   \n",
      "=================================================================\n",
      "sequential (Sequential)      (1, 32, 32, 768)          116736    \n",
      "_________________________________________________________________\n",
      "blocks/0 (Block)             multiple                  635136    \n",
      "_________________________________________________________________\n",
      "blocks/1 (Block)             multiple                  635136    \n",
      "_________________________________________________________________\n",
      "blocks/2 (Block)             multiple                  635136    \n",
      "_________________________________________________________________\n",
      "blocks/3 (Block)             multiple                  635136    \n",
      "_________________________________________________________________\n",
      "blocks/4 (Block)             multiple                  635136    \n",
      "_________________________________________________________________\n",
      "blocks/5 (Block)             multiple                  635136    \n",
      "_________________________________________________________________\n",
      "blocks/6 (Block)             multiple                  635136    \n",
      "_________________________________________________________________\n",
      "blocks/7 (Block)             multiple                  635136    \n",
      "_________________________________________________________________\n",
      "blocks/8 (Block)             multiple                  635136    \n",
      "_________________________________________________________________\n",
      "blocks/9 (Block)             multiple                  635136    \n",
      "_________________________________________________________________\n",
      "blocks/10 (Block)            multiple                  635136    \n",
      "_________________________________________________________________\n",
      "blocks/11 (Block)            multiple                  635136    \n",
      "_________________________________________________________________\n",
      "blocks/12 (Block)            multiple                  635136    \n",
      "_________________________________________________________________\n",
      "blocks/13 (Block)            multiple                  635136    \n",
      "_________________________________________________________________\n",
      "blocks/14 (Block)            multiple                  635136    \n",
      "_________________________________________________________________\n",
      "blocks/15 (Block)            multiple                  635136    \n",
      "_________________________________________________________________\n",
      "blocks/16 (Block)            multiple                  635136    \n",
      "_________________________________________________________________\n",
      "blocks/17 (Block)            multiple                  635136    \n",
      "_________________________________________________________________\n",
      "blocks/18 (Block)            multiple                  635136    \n",
      "_________________________________________________________________\n",
      "blocks/19 (Block)            multiple                  635136    \n",
      "_________________________________________________________________\n",
      "blocks/20 (Block)            multiple                  635136    \n",
      "_________________________________________________________________\n",
      "blocks/21 (Block)            multiple                  635136    \n",
      "_________________________________________________________________\n",
      "blocks/22 (Block)            multiple                  635136    \n",
      "_________________________________________________________________\n",
      "blocks/23 (Block)            multiple                  635136    \n",
      "_________________________________________________________________\n",
      "blocks/24 (Block)            multiple                  635136    \n",
      "_________________________________________________________________\n",
      "blocks/25 (Block)            multiple                  635136    \n",
      "_________________________________________________________________\n",
      "blocks/26 (Block)            multiple                  635136    \n",
      "_________________________________________________________________\n",
      "blocks/27 (Block)            multiple                  635136    \n",
      "_________________________________________________________________\n",
      "blocks/28 (Block)            multiple                  635136    \n",
      "_________________________________________________________________\n",
      "blocks/29 (Block)            multiple                  635136    \n",
      "_________________________________________________________________\n",
      "blocks/30 (Block)            multiple                  635136    \n",
      "_________________________________________________________________\n",
      "blocks/31 (Block)            multiple                  635136    \n",
      "_________________________________________________________________\n",
      "global_average_pooling2d (Gl multiple                  0         \n",
      "_________________________________________________________________\n",
      "flatten (Flatten)            multiple                  0         \n",
      "_________________________________________________________________\n",
      "head (Dense)                 multiple                  769000    \n",
      "=================================================================\n",
      "Total params: 21,210,088\n",
      "Trainable params: 21,110,248\n",
      "Non-trainable params: 99,840\n",
      "_________________________________________________________________\n"
     ]
    }
   ],
   "source": [
    "convmixer_model = tfimm.create_model(\"convmixer_768_32\", pretrained=\"timm\")\n",
    "convmixer_model.summary()"
   ]
  },
  {
   "cell_type": "markdown",
   "id": "40c8cc47",
   "metadata": {
    "papermill": {
     "duration": 0.009529,
     "end_time": "2022-06-05T10:01:04.344274",
     "exception": false,
     "start_time": "2022-06-05T10:01:04.334745",
     "status": "completed"
    },
    "tags": []
   },
   "source": [
    "image size de nuestro ConvMixer"
   ]
  },
  {
   "cell_type": "code",
   "execution_count": 6,
   "id": "31da92da",
   "metadata": {
    "execution": {
     "iopub.execute_input": "2022-06-05T10:01:04.364681Z",
     "iopub.status.busy": "2022-06-05T10:01:04.364341Z",
     "iopub.status.idle": "2022-06-05T10:01:04.368942Z",
     "shell.execute_reply": "2022-06-05T10:01:04.368031Z"
    },
    "papermill": {
     "duration": 0.016741,
     "end_time": "2022-06-05T10:01:04.370694",
     "exception": false,
     "start_time": "2022-06-05T10:01:04.353953",
     "status": "completed"
    },
    "tags": []
   },
   "outputs": [],
   "source": [
    "image_size = 224"
   ]
  },
  {
   "cell_type": "markdown",
   "id": "483ed953",
   "metadata": {
    "papermill": {
     "duration": 0.009345,
     "end_time": "2022-06-05T10:01:04.389417",
     "exception": false,
     "start_time": "2022-06-05T10:01:04.380072",
     "status": "completed"
    },
    "tags": []
   },
   "source": [
    "input shape de CIFAR-100"
   ]
  },
  {
   "cell_type": "code",
   "execution_count": 7,
   "id": "8b28b967",
   "metadata": {
    "execution": {
     "iopub.execute_input": "2022-06-05T10:01:04.409985Z",
     "iopub.status.busy": "2022-06-05T10:01:04.409419Z",
     "iopub.status.idle": "2022-06-05T10:01:04.414950Z",
     "shell.execute_reply": "2022-06-05T10:01:04.414112Z"
    },
    "papermill": {
     "duration": 0.019515,
     "end_time": "2022-06-05T10:01:04.418290",
     "exception": false,
     "start_time": "2022-06-05T10:01:04.398775",
     "status": "completed"
    },
    "tags": []
   },
   "outputs": [],
   "source": [
    "input_shape = (32, 32, 3)"
   ]
  },
  {
   "cell_type": "code",
   "execution_count": 8,
   "id": "ca775971",
   "metadata": {
    "execution": {
     "iopub.execute_input": "2022-06-05T10:01:04.437629Z",
     "iopub.status.busy": "2022-06-05T10:01:04.437365Z",
     "iopub.status.idle": "2022-06-05T10:01:08.512463Z",
     "shell.execute_reply": "2022-06-05T10:01:08.511513Z"
    },
    "papermill": {
     "duration": 4.087024,
     "end_time": "2022-06-05T10:01:08.514689",
     "exception": false,
     "start_time": "2022-06-05T10:01:04.427665",
     "status": "completed"
    },
    "tags": []
   },
   "outputs": [
    {
     "name": "stdout",
     "output_type": "stream",
     "text": [
      "Downloading data from https://www.cs.toronto.edu/~kriz/cifar-100-python.tar.gz\n",
      "169009152/169001437 [==============================] - 2s 0us/step\n",
      "169017344/169001437 [==============================] - 2s 0us/step\n",
      "x_train shape: (50000, 32, 32, 3) - y_train shape: (50000, 1)\n",
      "x_test shape: (10000, 32, 32, 3) - y_test shape: (10000, 1)\n"
     ]
    }
   ],
   "source": [
    "(x_train, y_train), (x_test, y_test) = keras.datasets.cifar100.load_data()\n",
    "\n",
    "print(f\"x_train shape: {x_train.shape} - y_train shape: {y_train.shape}\")\n",
    "print(f\"x_test shape: {x_test.shape} - y_test shape: {y_test.shape}\")"
   ]
  },
  {
   "cell_type": "code",
   "execution_count": 9,
   "id": "a6b2f298",
   "metadata": {
    "execution": {
     "iopub.execute_input": "2022-06-05T10:01:08.541251Z",
     "iopub.status.busy": "2022-06-05T10:01:08.539864Z",
     "iopub.status.idle": "2022-06-05T10:01:09.168225Z",
     "shell.execute_reply": "2022-06-05T10:01:09.167363Z"
    },
    "papermill": {
     "duration": 0.642725,
     "end_time": "2022-06-05T10:01:09.170391",
     "exception": false,
     "start_time": "2022-06-05T10:01:08.527666",
     "status": "completed"
    },
    "tags": []
   },
   "outputs": [],
   "source": [
    "preprocess = tfimm.create_preprocessing(\"convmixer_768_32\", dtype=\"float32\")\n",
    "x_train, x_test = preprocess(x_train), preprocess(x_test)"
   ]
  },
  {
   "cell_type": "code",
   "execution_count": 10,
   "id": "e0dbdde0",
   "metadata": {
    "execution": {
     "iopub.execute_input": "2022-06-05T10:01:09.195172Z",
     "iopub.status.busy": "2022-06-05T10:01:09.194482Z",
     "iopub.status.idle": "2022-06-05T10:01:09.211110Z",
     "shell.execute_reply": "2022-06-05T10:01:09.210421Z"
    },
    "papermill": {
     "duration": 0.030593,
     "end_time": "2022-06-05T10:01:09.212758",
     "exception": false,
     "start_time": "2022-06-05T10:01:09.182165",
     "status": "completed"
    },
    "tags": []
   },
   "outputs": [],
   "source": [
    "data_augmentation = keras.Sequential(\n",
    "    [\n",
    "        layers.Normalization(),\n",
    "        layers.Resizing(image_size, image_size),\n",
    "        layers.RandomFlip(\"horizontal\"),\n",
    "        layers.RandomRotation(factor=0.02),\n",
    "        layers.RandomZoom(\n",
    "            height_factor=0.2, width_factor=0.2\n",
    "        )\n",
    "    ],\n",
    "    name=\"data_augmentation\",\n",
    ")"
   ]
  },
  {
   "cell_type": "markdown",
   "id": "60203468",
   "metadata": {
    "papermill": {
     "duration": 0.011337,
     "end_time": "2022-06-05T10:01:09.235726",
     "exception": false,
     "start_time": "2022-06-05T10:01:09.224389",
     "status": "completed"
    },
    "tags": []
   },
   "source": [
    "añadimos las capas de entrada y salida correspondiente a nuestro problema (CIFAR-100)"
   ]
  },
  {
   "cell_type": "code",
   "execution_count": 11,
   "id": "7ebee07e",
   "metadata": {
    "execution": {
     "iopub.execute_input": "2022-06-05T10:01:09.259584Z",
     "iopub.status.busy": "2022-06-05T10:01:09.259312Z",
     "iopub.status.idle": "2022-06-05T10:01:10.290604Z",
     "shell.execute_reply": "2022-06-05T10:01:10.289810Z"
    },
    "papermill": {
     "duration": 1.045822,
     "end_time": "2022-06-05T10:01:10.293091",
     "exception": false,
     "start_time": "2022-06-05T10:01:09.247269",
     "status": "completed"
    },
    "tags": []
   },
   "outputs": [
    {
     "name": "stdout",
     "output_type": "stream",
     "text": [
      "Model: \"model\"\n",
      "_________________________________________________________________\n",
      "Layer (type)                 Output Shape              Param #   \n",
      "=================================================================\n",
      "input_1 (InputLayer)         [(None, 32, 32, 3)]       0         \n",
      "_________________________________________________________________\n",
      "data_augmentation (Sequentia (None, 224, 224, 3)       7         \n",
      "_________________________________________________________________\n",
      "conv_mixer (ConvMixer)       (None, 1000)              21210088  \n",
      "_________________________________________________________________\n",
      "dense (Dense)                (None, 100)               100100    \n",
      "=================================================================\n",
      "Total params: 21,310,195\n",
      "Trainable params: 21,210,348\n",
      "Non-trainable params: 99,847\n",
      "_________________________________________________________________\n"
     ]
    }
   ],
   "source": [
    "inputs = layers.Input(shape=input_shape)\n",
    "augmented = data_augmentation(inputs)\n",
    "features = convmixer_model(augmented)\n",
    "logits = keras.layers.Dense(100)(features)\n",
    "model = keras.Model(inputs=inputs, outputs=logits)\n",
    "model.summary()"
   ]
  },
  {
   "cell_type": "code",
   "execution_count": 12,
   "id": "01a6405c",
   "metadata": {
    "execution": {
     "iopub.execute_input": "2022-06-05T10:01:10.320163Z",
     "iopub.status.busy": "2022-06-05T10:01:10.319845Z",
     "iopub.status.idle": "2022-06-05T10:01:10.325520Z",
     "shell.execute_reply": "2022-06-05T10:01:10.324636Z"
    },
    "papermill": {
     "duration": 0.021502,
     "end_time": "2022-06-05T10:01:10.328133",
     "exception": false,
     "start_time": "2022-06-05T10:01:10.306631",
     "status": "completed"
    },
    "tags": []
   },
   "outputs": [
    {
     "data": {
      "text/plain": [
       "'\\nmodel = keras.models.Sequential()\\nmodel.add(layers.Input(shape=input_shape))\\nmodel.add(data_augmentation)\\nfor layer in convmixer_model.layers[0:-1]:\\n    model.add(layer)\\nmodel.add(keras.layers.Dense(100))\\nmodel.summary()\\n\\n'"
      ]
     },
     "execution_count": 12,
     "metadata": {},
     "output_type": "execute_result"
    }
   ],
   "source": [
    "\"\"\"\n",
    "model = keras.models.Sequential()\n",
    "model.add(layers.Input(shape=input_shape))\n",
    "model.add(data_augmentation)\n",
    "for layer in convmixer_model.layers[0:-1]:\n",
    "    model.add(layer)\n",
    "model.add(keras.layers.Dense(100))\n",
    "model.summary()\n",
    "\n",
    "\"\"\""
   ]
  },
  {
   "cell_type": "markdown",
   "id": "669128b4",
   "metadata": {
    "papermill": {
     "duration": 0.011486,
     "end_time": "2022-06-05T10:01:10.351243",
     "exception": false,
     "start_time": "2022-06-05T10:01:10.339757",
     "status": "completed"
    },
    "tags": []
   },
   "source": [
    "hacemos las capas no entrenables"
   ]
  },
  {
   "cell_type": "code",
   "execution_count": 13,
   "id": "0025f1a8",
   "metadata": {
    "execution": {
     "iopub.execute_input": "2022-06-05T10:01:10.375596Z",
     "iopub.status.busy": "2022-06-05T10:01:10.375307Z",
     "iopub.status.idle": "2022-06-05T10:01:10.378917Z",
     "shell.execute_reply": "2022-06-05T10:01:10.378024Z"
    },
    "papermill": {
     "duration": 0.017934,
     "end_time": "2022-06-05T10:01:10.380784",
     "exception": false,
     "start_time": "2022-06-05T10:01:10.362850",
     "status": "completed"
    },
    "tags": []
   },
   "outputs": [],
   "source": [
    "#for layer in model.layers:\n",
    "#    layer.trainable = False\n",
    "#model.summary()"
   ]
  },
  {
   "cell_type": "markdown",
   "id": "1f3b1112",
   "metadata": {
    "papermill": {
     "duration": 0.011342,
     "end_time": "2022-06-05T10:01:10.404148",
     "exception": false,
     "start_time": "2022-06-05T10:01:10.392806",
     "status": "completed"
    },
    "tags": []
   },
   "source": [
    "parámetros para compilar, entrenar y evaluar el modelo"
   ]
  },
  {
   "cell_type": "code",
   "execution_count": 14,
   "id": "2c855a4c",
   "metadata": {
    "execution": {
     "iopub.execute_input": "2022-06-05T10:01:10.428560Z",
     "iopub.status.busy": "2022-06-05T10:01:10.428255Z",
     "iopub.status.idle": "2022-06-05T10:01:10.433604Z",
     "shell.execute_reply": "2022-06-05T10:01:10.432881Z"
    },
    "papermill": {
     "duration": 0.019647,
     "end_time": "2022-06-05T10:01:10.435273",
     "exception": false,
     "start_time": "2022-06-05T10:01:10.415626",
     "status": "completed"
    },
    "tags": []
   },
   "outputs": [],
   "source": [
    "learning_rate = 0.00001\n",
    "weight_decay = 0.0001\n",
    "batch_size = 32\n",
    "num_epochs = 20"
   ]
  },
  {
   "cell_type": "code",
   "execution_count": 15,
   "id": "fd7318b6",
   "metadata": {
    "execution": {
     "iopub.execute_input": "2022-06-05T10:01:10.460101Z",
     "iopub.status.busy": "2022-06-05T10:01:10.459389Z",
     "iopub.status.idle": "2022-06-05T20:04:52.592897Z",
     "shell.execute_reply": "2022-06-05T20:04:52.591848Z"
    },
    "papermill": {
     "duration": 36224.24282,
     "end_time": "2022-06-05T20:04:54.689582",
     "exception": false,
     "start_time": "2022-06-05T10:01:10.446762",
     "status": "completed"
    },
    "tags": []
   },
   "outputs": [
    {
     "name": "stderr",
     "output_type": "stream",
     "text": [
      "2022-06-05 10:01:10.948500: I tensorflow/compiler/mlir/mlir_graph_optimization_pass.cc:185] None of the MLIR Optimization Passes are enabled (registered 2)\n"
     ]
    },
    {
     "name": "stdout",
     "output_type": "stream",
     "text": [
      "Epoch 1/20\n",
      "1407/1407 [==============================] - 1813s 1s/step - loss: 4.5104 - accuracy: 0.0486 - top-5-accuracy: 0.1599 - val_loss: 4.6855 - val_accuracy: 0.0754 - val_top-5-accuracy: 0.2082\n",
      "Epoch 2/20\n",
      "1407/1407 [==============================] - 1799s 1s/step - loss: 3.0404 - accuracy: 0.2614 - top-5-accuracy: 0.5646 - val_loss: 2.7905 - val_accuracy: 0.3360 - val_top-5-accuracy: 0.6566\n",
      "Epoch 3/20\n",
      "1407/1407 [==============================] - 1798s 1s/step - loss: 1.9139 - accuracy: 0.4943 - top-5-accuracy: 0.8170 - val_loss: 1.8433 - val_accuracy: 0.5268 - val_top-5-accuracy: 0.8284\n",
      "Epoch 4/20\n",
      "1407/1407 [==============================] - 1797s 1s/step - loss: 1.4872 - accuracy: 0.6161 - top-5-accuracy: 0.8939 - val_loss: 1.5754 - val_accuracy: 0.6146 - val_top-5-accuracy: 0.8802\n",
      "Epoch 5/20\n",
      "1407/1407 [==============================] - 1798s 1s/step - loss: 1.2938 - accuracy: 0.6800 - top-5-accuracy: 0.9261 - val_loss: 1.3342 - val_accuracy: 0.6726 - val_top-5-accuracy: 0.9148\n",
      "Epoch 6/20\n",
      "1407/1407 [==============================] - 1798s 1s/step - loss: 1.2052 - accuracy: 0.7116 - top-5-accuracy: 0.9388 - val_loss: 1.2386 - val_accuracy: 0.7012 - val_top-5-accuracy: 0.9270\n",
      "Epoch 7/20\n",
      "1407/1407 [==============================] - 1799s 1s/step - loss: 1.1468 - accuracy: 0.7337 - top-5-accuracy: 0.9474 - val_loss: 1.1973 - val_accuracy: 0.7166 - val_top-5-accuracy: 0.9332\n",
      "Epoch 8/20\n",
      "1407/1407 [==============================] - 1799s 1s/step - loss: 1.1104 - accuracy: 0.7478 - top-5-accuracy: 0.9536 - val_loss: 1.1303 - val_accuracy: 0.7294 - val_top-5-accuracy: 0.9430\n",
      "Epoch 9/20\n",
      "1407/1407 [==============================] - 1798s 1s/step - loss: 1.0934 - accuracy: 0.7564 - top-5-accuracy: 0.9567 - val_loss: 1.0854 - val_accuracy: 0.7412 - val_top-5-accuracy: 0.9432\n",
      "Epoch 10/20\n",
      "1407/1407 [==============================] - 1800s 1s/step - loss: 1.0672 - accuracy: 0.7643 - top-5-accuracy: 0.9603 - val_loss: 1.0324 - val_accuracy: 0.7560 - val_top-5-accuracy: 0.9530\n",
      "Epoch 11/20\n",
      "1407/1407 [==============================] - 1801s 1s/step - loss: 1.0370 - accuracy: 0.7790 - top-5-accuracy: 0.9632 - val_loss: 1.0698 - val_accuracy: 0.7448 - val_top-5-accuracy: 0.9404\n",
      "Epoch 12/20\n",
      "1407/1407 [==============================] - 1800s 1s/step - loss: 1.0176 - accuracy: 0.7817 - top-5-accuracy: 0.9656 - val_loss: 0.9847 - val_accuracy: 0.7690 - val_top-5-accuracy: 0.9574\n",
      "Epoch 13/20\n",
      "1407/1407 [==============================] - 1834s 1s/step - loss: 0.9888 - accuracy: 0.7920 - top-5-accuracy: 0.9677 - val_loss: 0.9370 - val_accuracy: 0.7796 - val_top-5-accuracy: 0.9566\n",
      "Epoch 14/20\n",
      "1407/1407 [==============================] - 1802s 1s/step - loss: 0.9521 - accuracy: 0.8024 - top-5-accuracy: 0.9710 - val_loss: 0.9796 - val_accuracy: 0.7700 - val_top-5-accuracy: 0.9478\n",
      "Epoch 15/20\n",
      "1407/1407 [==============================] - 1801s 1s/step - loss: 0.9234 - accuracy: 0.8084 - top-5-accuracy: 0.9732 - val_loss: 0.9383 - val_accuracy: 0.7766 - val_top-5-accuracy: 0.9526\n",
      "Epoch 16/20\n",
      "1407/1407 [==============================] - 1804s 1s/step - loss: 0.8859 - accuracy: 0.8204 - top-5-accuracy: 0.9765 - val_loss: 0.9326 - val_accuracy: 0.7794 - val_top-5-accuracy: 0.9540\n",
      "Epoch 17/20\n",
      "1407/1407 [==============================] - 1804s 1s/step - loss: 0.8466 - accuracy: 0.8312 - top-5-accuracy: 0.9782 - val_loss: 0.9691 - val_accuracy: 0.7778 - val_top-5-accuracy: 0.9464\n",
      "Epoch 18/20\n",
      "1407/1407 [==============================] - 1803s 1s/step - loss: 0.8127 - accuracy: 0.8391 - top-5-accuracy: 0.9795 - val_loss: 0.8975 - val_accuracy: 0.7874 - val_top-5-accuracy: 0.9528\n",
      "Epoch 19/20\n",
      "1407/1407 [==============================] - 1803s 1s/step - loss: 0.7720 - accuracy: 0.8478 - top-5-accuracy: 0.9821 - val_loss: 0.9532 - val_accuracy: 0.7804 - val_top-5-accuracy: 0.9448\n",
      "Epoch 20/20\n",
      "1407/1407 [==============================] - 1804s 1s/step - loss: 0.7417 - accuracy: 0.8559 - top-5-accuracy: 0.9822 - val_loss: 0.8636 - val_accuracy: 0.7926 - val_top-5-accuracy: 0.9558\n",
      "313/313 [==============================] - 102s 324ms/step - loss: 0.8366 - accuracy: 0.8085 - top-5-accuracy: 0.9579\n",
      "Test accuracy: 80.85%\n",
      "Test top 5 accuracy: 95.79%\n"
     ]
    }
   ],
   "source": [
    "def run_experiment(model):\n",
    "    optimizer = tfa.optimizers.AdamW(\n",
    "        learning_rate=learning_rate, weight_decay=weight_decay\n",
    "    )\n",
    "\n",
    "    model.compile(\n",
    "        optimizer=optimizer,\n",
    "        loss=keras.losses.SparseCategoricalCrossentropy(from_logits=True),\n",
    "        metrics=[\n",
    "            keras.metrics.SparseCategoricalAccuracy(name=\"accuracy\"),\n",
    "            keras.metrics.SparseTopKCategoricalAccuracy(5, name=\"top-5-accuracy\"),\n",
    "        ]\n",
    "    )\n",
    "\n",
    "    checkpoint_filepath = \"/tmp/checkpoint\"\n",
    "    checkpoint_callback = keras.callbacks.ModelCheckpoint(\n",
    "        checkpoint_filepath,\n",
    "        monitor=\"val_accuracy\",\n",
    "        save_best_only=True,\n",
    "        save_weights_only=True,\n",
    "    )\n",
    "\n",
    "    history = model.fit(\n",
    "        x= x_train,\n",
    "        y= y_train,\n",
    "        batch_size=batch_size,\n",
    "        epochs=num_epochs,\n",
    "        validation_split=0.1,\n",
    "        callbacks=[checkpoint_callback],\n",
    "    )\n",
    "\n",
    "    model.load_weights(checkpoint_filepath)\n",
    "    _, accuracy, top_5_accuracy = model.evaluate(x_test, y_test)\n",
    "    print(f\"Test accuracy: {round(accuracy * 100, 2)}%\")\n",
    "    print(f\"Test top 5 accuracy: {round(top_5_accuracy * 100, 2)}%\")\n",
    "\n",
    "    return history\n",
    "\n",
    "history = run_experiment(model)"
   ]
  },
  {
   "cell_type": "markdown",
   "id": "4bbe7ef9",
   "metadata": {
    "papermill": {
     "duration": 2.429768,
     "end_time": "2022-06-05T20:04:59.352559",
     "exception": false,
     "start_time": "2022-06-05T20:04:56.922791",
     "status": "completed"
    },
    "tags": []
   },
   "source": [
    "# Performance of model"
   ]
  },
  {
   "cell_type": "code",
   "execution_count": 16,
   "id": "ff85bd0b",
   "metadata": {
    "execution": {
     "iopub.execute_input": "2022-06-05T20:05:03.689896Z",
     "iopub.status.busy": "2022-06-05T20:05:03.689362Z",
     "iopub.status.idle": "2022-06-05T20:05:03.974109Z",
     "shell.execute_reply": "2022-06-05T20:05:03.973138Z"
    },
    "papermill": {
     "duration": 2.362785,
     "end_time": "2022-06-05T20:05:03.976473",
     "exception": false,
     "start_time": "2022-06-05T20:05:01.613688",
     "status": "completed"
    },
    "tags": []
   },
   "outputs": [
    {
     "data": {
      "image/png": "[encoded data removed]",
      "text/plain": [
       "<Figure size 432x288 with 1 Axes>"
      ]
     },
     "metadata": {
      "needs_background": "light"
     },
     "output_type": "display_data"
    }
   ],
   "source": [
    "# accuracies\n",
    "plt.plot(history.history['accuracy'], label='train acc')\n",
    "plt.plot(history.history['val_accuracy'], label='val acc')\n",
    "plt.legend()\n",
    "plt.show()"
   ]
  },
  {
   "cell_type": "code",
   "execution_count": 17,
   "id": "d3f4a6e4",
   "metadata": {
    "execution": {
     "iopub.execute_input": "2022-06-05T20:05:08.491384Z",
     "iopub.status.busy": "2022-06-05T20:05:08.490807Z",
     "iopub.status.idle": "2022-06-05T20:05:08.732038Z",
     "shell.execute_reply": "2022-06-05T20:05:08.731016Z"
    },
    "papermill": {
     "duration": 2.528263,
     "end_time": "2022-06-05T20:05:08.734453",
     "exception": false,
     "start_time": "2022-06-05T20:05:06.206190",
     "status": "completed"
    },
    "tags": []
   },
   "outputs": [
    {
     "data": {
      "image/png": "[encoded data removed]",
      "text/plain": [
       "<Figure size 432x288 with 1 Axes>"
      ]
     },
     "metadata": {
      "needs_background": "light"
     },
     "output_type": "display_data"
    }
   ],
   "source": [
    "# loss\n",
    "plt.plot(history.history['loss'], label='train loss')\n",
    "plt.plot(history.history['val_loss'], label='val loss')\n",
    "plt.legend()\n",
    "plt.show()"
   ]
  }
 ],
 "metadata": {
  "kernelspec": {
   "display_name": "Python 3",
   "language": "python",
   "name": "python3"
  },
  "language_info": {
   "codemirror_mode": {
    "name": "ipython",
    "version": 3
   },
   "file_extension": ".py",
   "mimetype": "text/x-python",
   "name": "python",
   "nbconvert_exporter": "python",
   "pygments_lexer": "ipython3",
   "version": "3.7.12"
  },
  "papermill": {
   "default_parameters": {},
   "duration": 36313.871027,
   "end_time": "2022-06-05T20:05:14.021951",
   "environment_variables": {},
   "exception": null,
   "input_path": "__notebook__.ipynb",
   "output_path": "__notebook__.ipynb",
   "parameters": {},
   "start_time": "2022-06-05T10:00:00.150924",
   "version": "2.3.4"
  }
 },
 "nbformat": 4,
 "nbformat_minor": 5
}
