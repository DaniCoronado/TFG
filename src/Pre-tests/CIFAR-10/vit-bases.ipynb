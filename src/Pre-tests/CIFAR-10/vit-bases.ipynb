{
 "cells": [
  {
   "cell_type": "markdown",
   "id": "21dfcb46",
   "metadata": {
    "id": "zSsvKumT1-7B",
    "papermill": {
     "duration": 0.02363,
     "end_time": "2022-05-29T10:35:23.963508",
     "exception": false,
     "start_time": "2022-05-29T10:35:23.939878",
     "status": "completed"
    },
    "tags": []
   },
   "source": [
    "# Image classification with Vision Transformer\n",
    "\n",
    "**Author:** [Khalid Salama](https://www.linkedin.com/in/khalid-salama-24403144/)<br>\n",
    "**Date created:** 2021/01/18<br>\n",
    "**Last modified:** 2021/01/18<br>\n",
    "**Description:** Implementing the Vision Transformer (ViT) model for image classification."
   ]
  },
  {
   "cell_type": "markdown",
   "id": "67889bd0",
   "metadata": {
    "id": "Pf0rxx431-7E",
    "papermill": {
     "duration": 0.022546,
     "end_time": "2022-05-29T10:35:24.008994",
     "exception": false,
     "start_time": "2022-05-29T10:35:23.986448",
     "status": "completed"
    },
    "tags": []
   },
   "source": [
    "## Introduction\n",
    "\n",
    "This example implements the [Vision Transformer (ViT)](https://arxiv.org/abs/2010.11929)\n",
    "model by Alexey Dosovitskiy et al. for image classification,\n",
    "and demonstrates it on the CIFAR-10 dataset.\n",
    "The ViT model applies the Transformer architecture with self-attention to sequences of\n",
    "image patches, without using convolution layers.\n",
    "\n",
    "This example requires TensorFlow 2.4 or higher, as well as\n",
    "[TensorFlow Addons](https://www.tensorflow.org/addons/overview),\n",
    "which can be installed using the following command:\n",
    "\n",
    "```python\n",
    "pip install -U tensorflow-addons\n",
    "```"
   ]
  },
  {
   "cell_type": "markdown",
   "id": "c3eb2e1c",
   "metadata": {
    "id": "17tJq5YD1-7F",
    "papermill": {
     "duration": 0.023014,
     "end_time": "2022-05-29T10:35:24.054640",
     "exception": false,
     "start_time": "2022-05-29T10:35:24.031626",
     "status": "completed"
    },
    "tags": []
   },
   "source": [
    "## Setup"
   ]
  },
  {
   "cell_type": "code",
   "execution_count": 1,
   "id": "375c117b",
   "metadata": {
    "execution": {
     "iopub.execute_input": "2022-05-29T10:35:24.107283Z",
     "iopub.status.busy": "2022-05-29T10:35:24.105690Z",
     "iopub.status.idle": "2022-05-29T10:35:33.629883Z",
     "shell.execute_reply": "2022-05-29T10:35:33.629225Z",
     "shell.execute_reply.started": "2022-05-10T13:14:00.733955Z"
    },
    "id": "RpBNXZo-7FNO",
    "outputId": "656e7388-bba7-4f3a-eb7c-f4da6a855b23",
    "papermill": {
     "duration": 9.551448,
     "end_time": "2022-05-29T10:35:33.630037",
     "exception": false,
     "start_time": "2022-05-29T10:35:24.078589",
     "status": "completed"
    },
    "tags": []
   },
   "outputs": [
    {
     "name": "stdout",
     "output_type": "stream",
     "text": [
      "Requirement already satisfied: tensorflow_addons in /opt/conda/lib/python3.7/site-packages (0.14.0)\r\n",
      "Requirement already satisfied: typeguard>=2.7 in /opt/conda/lib/python3.7/site-packages (from tensorflow_addons) (2.13.3)\r\n",
      "\u001b[33mWARNING: Running pip as the 'root' user can result in broken permissions and conflicting behaviour with the system package manager. It is recommended to use a virtual environment instead: https://pip.pypa.io/warnings/venv\u001b[0m\r\n"
     ]
    }
   ],
   "source": [
    "!pip install tensorflow_addons"
   ]
  },
  {
   "cell_type": "code",
   "execution_count": 2,
   "id": "9acb7972",
   "metadata": {
    "execution": {
     "iopub.execute_input": "2022-05-29T10:35:33.686469Z",
     "iopub.status.busy": "2022-05-29T10:35:33.685881Z",
     "iopub.status.idle": "2022-05-29T10:35:39.591263Z",
     "shell.execute_reply": "2022-05-29T10:35:39.590704Z",
     "shell.execute_reply.started": "2022-05-10T13:14:02.372398Z"
    },
    "id": "TOgzPiM11-7F",
    "papermill": {
     "duration": 5.936084,
     "end_time": "2022-05-29T10:35:39.591402",
     "exception": false,
     "start_time": "2022-05-29T10:35:33.655318",
     "status": "completed"
    },
    "tags": []
   },
   "outputs": [],
   "source": [
    "import numpy as np\n",
    "import tensorflow as tf\n",
    "from tensorflow import keras\n",
    "from tensorflow.keras import layers\n",
    "import tensorflow_addons as tfa"
   ]
  },
  {
   "cell_type": "markdown",
   "id": "649c65f4",
   "metadata": {
    "id": "BvuCtxkv1-7G",
    "papermill": {
     "duration": 0.02361,
     "end_time": "2022-05-29T10:35:39.652226",
     "exception": false,
     "start_time": "2022-05-29T10:35:39.628616",
     "status": "completed"
    },
    "tags": []
   },
   "source": [
    "## Prepare the data"
   ]
  },
  {
   "cell_type": "markdown",
   "id": "285da258",
   "metadata": {
    "id": "e53arMEc7itJ",
    "papermill": {
     "duration": 0.02444,
     "end_time": "2022-05-29T10:35:39.701072",
     "exception": false,
     "start_time": "2022-05-29T10:35:39.676632",
     "status": "completed"
    },
    "tags": []
   },
   "source": [
    "Aquí cambiaríamos de CIFAR a MINST o la FINAL de clasificación"
   ]
  },
  {
   "cell_type": "code",
   "execution_count": 3,
   "id": "79ab5339",
   "metadata": {
    "execution": {
     "iopub.execute_input": "2022-05-29T10:35:39.756283Z",
     "iopub.status.busy": "2022-05-29T10:35:39.755208Z",
     "iopub.status.idle": "2022-05-29T10:35:44.461935Z",
     "shell.execute_reply": "2022-05-29T10:35:44.462418Z",
     "shell.execute_reply.started": "2022-05-10T13:14:02.380027Z"
    },
    "id": "s103Rdnt1-7H",
    "outputId": "dcead731-d3ec-486d-d852-7477e2dccf7d",
    "papermill": {
     "duration": 4.737155,
     "end_time": "2022-05-29T10:35:44.462579",
     "exception": false,
     "start_time": "2022-05-29T10:35:39.725424",
     "status": "completed"
    },
    "tags": []
   },
   "outputs": [
    {
     "name": "stdout",
     "output_type": "stream",
     "text": [
      "Downloading data from https://www.cs.toronto.edu/~kriz/cifar-10-python.tar.gz\n",
      "170500096/170498071 [==============================] - 2s 0us/step\n",
      "170508288/170498071 [==============================] - 2s 0us/step\n",
      "x_train shape: (50000, 32, 32, 3) - y_train shape: (50000, 1)\n",
      "x_test shape: (10000, 32, 32, 3) - y_test shape: (10000, 1)\n"
     ]
    }
   ],
   "source": [
    "num_classes = 10\n",
    "input_shape = (32, 32, 3)\n",
    "\n",
    "(x_train, y_train), (x_test, y_test) = keras.datasets.cifar10.load_data()\n",
    "\n",
    "print(f\"x_train shape: {x_train.shape} - y_train shape: {y_train.shape}\")\n",
    "print(f\"x_test shape: {x_test.shape} - y_test shape: {y_test.shape}\")\n"
   ]
  },
  {
   "cell_type": "markdown",
   "id": "fcd687c7",
   "metadata": {
    "id": "TALsq-qi1-7H",
    "papermill": {
     "duration": 0.042581,
     "end_time": "2022-05-29T10:35:44.549163",
     "exception": false,
     "start_time": "2022-05-29T10:35:44.506582",
     "status": "completed"
    },
    "tags": []
   },
   "source": [
    "## Configure the hyperparameters"
   ]
  },
  {
   "cell_type": "code",
   "execution_count": 4,
   "id": "3a74729f",
   "metadata": {
    "execution": {
     "iopub.execute_input": "2022-05-29T10:35:44.642089Z",
     "iopub.status.busy": "2022-05-29T10:35:44.641128Z",
     "iopub.status.idle": "2022-05-29T10:35:44.643310Z",
     "shell.execute_reply": "2022-05-29T10:35:44.643726Z",
     "shell.execute_reply.started": "2022-05-10T13:14:03.062328Z"
    },
    "id": "jQZeTx1T1-7I",
    "papermill": {
     "duration": 0.051976,
     "end_time": "2022-05-29T10:35:44.643871",
     "exception": false,
     "start_time": "2022-05-29T10:35:44.591895",
     "status": "completed"
    },
    "tags": []
   },
   "outputs": [],
   "source": [
    "learning_rate = 0.001\n",
    "weight_decay = 0.0001\n",
    "batch_size = 256\n",
    "num_epochs = 20\n",
    "image_size = 72  # We'll resize input images to this size\n",
    "patch_size = 6  # Size of the patches to be extract from the input images\n",
    "num_patches = (image_size // patch_size) ** 2\n",
    "projection_dim = 64\n",
    "num_heads = 4\n",
    "transformer_units = [\n",
    "    projection_dim * 2,\n",
    "    projection_dim,\n",
    "]  # Size of the transformer layers\n",
    "transformer_layers = 8\n",
    "mlp_head_units = [2048, 1024]  # Size of the dense layers of the final classifier\n"
   ]
  },
  {
   "cell_type": "markdown",
   "id": "4831d1fe",
   "metadata": {
    "id": "FN7XlWfP1-7J",
    "papermill": {
     "duration": 0.044147,
     "end_time": "2022-05-29T10:35:44.731013",
     "exception": false,
     "start_time": "2022-05-29T10:35:44.686866",
     "status": "completed"
    },
    "tags": []
   },
   "source": [
    "## Use data augmentation"
   ]
  },
  {
   "cell_type": "code",
   "execution_count": 5,
   "id": "e833a693",
   "metadata": {
    "execution": {
     "iopub.execute_input": "2022-05-29T10:35:44.825852Z",
     "iopub.status.busy": "2022-05-29T10:35:44.825018Z",
     "iopub.status.idle": "2022-05-29T10:35:51.501286Z",
     "shell.execute_reply": "2022-05-29T10:35:51.500533Z",
     "shell.execute_reply.started": "2022-05-10T13:14:03.070906Z"
    },
    "id": "Mk_wE7Cp1-7J",
    "papermill": {
     "duration": 6.726553,
     "end_time": "2022-05-29T10:35:51.501433",
     "exception": false,
     "start_time": "2022-05-29T10:35:44.774880",
     "status": "completed"
    },
    "tags": []
   },
   "outputs": [
    {
     "name": "stderr",
     "output_type": "stream",
     "text": [
      "2022-05-29 10:35:44.918847: I tensorflow/stream_executor/cuda/cuda_gpu_executor.cc:937] successful NUMA node read from SysFS had negative value (-1), but there must be at least one NUMA node, so returning NUMA node zero\n",
      "2022-05-29 10:35:45.027181: I tensorflow/stream_executor/cuda/cuda_gpu_executor.cc:937] successful NUMA node read from SysFS had negative value (-1), but there must be at least one NUMA node, so returning NUMA node zero\n",
      "2022-05-29 10:35:45.028166: I tensorflow/stream_executor/cuda/cuda_gpu_executor.cc:937] successful NUMA node read from SysFS had negative value (-1), but there must be at least one NUMA node, so returning NUMA node zero\n",
      "2022-05-29 10:35:45.029961: I tensorflow/core/platform/cpu_feature_guard.cc:142] This TensorFlow binary is optimized with oneAPI Deep Neural Network Library (oneDNN) to use the following CPU instructions in performance-critical operations:  AVX2 AVX512F FMA\n",
      "To enable them in other operations, rebuild TensorFlow with the appropriate compiler flags.\n",
      "2022-05-29 10:35:45.031259: I tensorflow/stream_executor/cuda/cuda_gpu_executor.cc:937] successful NUMA node read from SysFS had negative value (-1), but there must be at least one NUMA node, so returning NUMA node zero\n",
      "2022-05-29 10:35:45.032069: I tensorflow/stream_executor/cuda/cuda_gpu_executor.cc:937] successful NUMA node read from SysFS had negative value (-1), but there must be at least one NUMA node, so returning NUMA node zero\n",
      "2022-05-29 10:35:45.032806: I tensorflow/stream_executor/cuda/cuda_gpu_executor.cc:937] successful NUMA node read from SysFS had negative value (-1), but there must be at least one NUMA node, so returning NUMA node zero\n",
      "2022-05-29 10:35:47.538886: I tensorflow/stream_executor/cuda/cuda_gpu_executor.cc:937] successful NUMA node read from SysFS had negative value (-1), but there must be at least one NUMA node, so returning NUMA node zero\n",
      "2022-05-29 10:35:47.539816: I tensorflow/stream_executor/cuda/cuda_gpu_executor.cc:937] successful NUMA node read from SysFS had negative value (-1), but there must be at least one NUMA node, so returning NUMA node zero\n",
      "2022-05-29 10:35:47.540544: I tensorflow/stream_executor/cuda/cuda_gpu_executor.cc:937] successful NUMA node read from SysFS had negative value (-1), but there must be at least one NUMA node, so returning NUMA node zero\n",
      "2022-05-29 10:35:47.541183: I tensorflow/core/common_runtime/gpu/gpu_device.cc:1510] Created device /job:localhost/replica:0/task:0/device:GPU:0 with 15403 MB memory:  -> device: 0, name: Tesla P100-PCIE-16GB, pci bus id: 0000:00:04.0, compute capability: 6.0\n",
      "2022-05-29 10:35:48.690850: I tensorflow/compiler/mlir/mlir_graph_optimization_pass.cc:185] None of the MLIR Optimization Passes are enabled (registered 2)\n"
     ]
    }
   ],
   "source": [
    "data_augmentation = keras.Sequential(\n",
    "    [\n",
    "        layers.Normalization(),\n",
    "        layers.Resizing(image_size, image_size),\n",
    "        layers.RandomFlip(\"horizontal\"),\n",
    "        layers.RandomRotation(factor=0.02),\n",
    "        layers.RandomZoom(\n",
    "            height_factor=0.2, width_factor=0.2\n",
    "        ),\n",
    "    ],\n",
    "    name=\"data_augmentation\",\n",
    ")\n",
    "# Compute the mean and the variance of the training data for normalization.\n",
    "data_augmentation.layers[0].adapt(x_train)\n"
   ]
  },
  {
   "cell_type": "markdown",
   "id": "15e4b44c",
   "metadata": {
    "id": "49NWqCA_1-7K",
    "papermill": {
     "duration": 0.044573,
     "end_time": "2022-05-29T10:35:51.591513",
     "exception": false,
     "start_time": "2022-05-29T10:35:51.546940",
     "status": "completed"
    },
    "tags": []
   },
   "source": [
    "## Implement multilayer perceptron (MLP)"
   ]
  },
  {
   "cell_type": "code",
   "execution_count": 6,
   "id": "c1d759fe",
   "metadata": {
    "execution": {
     "iopub.execute_input": "2022-05-29T10:35:51.686088Z",
     "iopub.status.busy": "2022-05-29T10:35:51.683738Z",
     "iopub.status.idle": "2022-05-29T10:35:51.688631Z",
     "shell.execute_reply": "2022-05-29T10:35:51.688111Z",
     "shell.execute_reply.started": "2022-05-10T13:14:06.351827Z"
    },
    "id": "Z73Q_O-21-7K",
    "papermill": {
     "duration": 0.053153,
     "end_time": "2022-05-29T10:35:51.688789",
     "exception": false,
     "start_time": "2022-05-29T10:35:51.635636",
     "status": "completed"
    },
    "tags": []
   },
   "outputs": [],
   "source": [
    "\n",
    "def mlp(x, hidden_units, dropout_rate):\n",
    "    for units in hidden_units:\n",
    "        x = layers.Dense(units, activation=tf.nn.gelu)(x)\n",
    "        x = layers.Dropout(dropout_rate)(x)\n",
    "    return x\n"
   ]
  },
  {
   "cell_type": "markdown",
   "id": "7ea6a558",
   "metadata": {
    "id": "aSSW68BZ1-7K",
    "papermill": {
     "duration": 0.04585,
     "end_time": "2022-05-29T10:35:51.781310",
     "exception": false,
     "start_time": "2022-05-29T10:35:51.735460",
     "status": "completed"
    },
    "tags": []
   },
   "source": [
    "## Implement patch creation as a layer"
   ]
  },
  {
   "cell_type": "code",
   "execution_count": 7,
   "id": "97a27163",
   "metadata": {
    "execution": {
     "iopub.execute_input": "2022-05-29T10:35:51.882276Z",
     "iopub.status.busy": "2022-05-29T10:35:51.881307Z",
     "iopub.status.idle": "2022-05-29T10:35:51.883295Z",
     "shell.execute_reply": "2022-05-29T10:35:51.883809Z",
     "shell.execute_reply.started": "2022-05-10T13:14:06.359999Z"
    },
    "id": "-oFX6NJL1-7K",
    "papermill": {
     "duration": 0.056474,
     "end_time": "2022-05-29T10:35:51.883953",
     "exception": false,
     "start_time": "2022-05-29T10:35:51.827479",
     "status": "completed"
    },
    "tags": []
   },
   "outputs": [],
   "source": [
    "\n",
    "class Patches(layers.Layer):\n",
    "    def __init__(self, patch_size):\n",
    "        super(Patches, self).__init__()\n",
    "        self.patch_size = patch_size\n",
    "\n",
    "    def call(self, images):\n",
    "        batch_size = tf.shape(images)[0]\n",
    "        patches = tf.image.extract_patches(\n",
    "            images=images,\n",
    "            sizes=[1, self.patch_size, self.patch_size, 1],\n",
    "            strides=[1, self.patch_size, self.patch_size, 1],\n",
    "            rates=[1, 1, 1, 1],\n",
    "            padding=\"VALID\",\n",
    "        )\n",
    "        patch_dims = patches.shape[-1]\n",
    "        patches = tf.reshape(patches, [batch_size, -1, patch_dims])\n",
    "        return patches\n"
   ]
  },
  {
   "cell_type": "markdown",
   "id": "3c349402",
   "metadata": {
    "id": "eEGS38W41-7L",
    "papermill": {
     "duration": 0.045327,
     "end_time": "2022-05-29T10:35:51.974998",
     "exception": false,
     "start_time": "2022-05-29T10:35:51.929671",
     "status": "completed"
    },
    "tags": []
   },
   "source": [
    "Let's display patches for a sample image"
   ]
  },
  {
   "cell_type": "code",
   "execution_count": 8,
   "id": "0c7df397",
   "metadata": {
    "execution": {
     "iopub.execute_input": "2022-05-29T10:35:52.088640Z",
     "iopub.status.busy": "2022-05-29T10:35:52.087606Z",
     "iopub.status.idle": "2022-05-29T10:35:57.573683Z",
     "shell.execute_reply": "2022-05-29T10:35:57.574793Z",
     "shell.execute_reply.started": "2022-05-10T13:14:06.372131Z"
    },
    "id": "CMzM45sC1-7L",
    "outputId": "dd7a6534-ca0d-4e5c-b633-6eb6748d4d86",
    "papermill": {
     "duration": 5.553738,
     "end_time": "2022-05-29T10:35:57.575019",
     "exception": false,
     "start_time": "2022-05-29T10:35:52.021281",
     "status": "completed"
    },
    "tags": []
   },
   "outputs": [
    {
     "name": "stdout",
     "output_type": "stream",
     "text": [
      "Image size: 72 X 72\n",
      "Patch size: 6 X 6\n",
      "Patches per image: 144\n",
      "Elements per patch: 108\n"
     ]
    },
    {
     "data": {
      "image/png": "[encoded data removed]",
      "text/plain": [
       "<Figure size 288x288 with 1 Axes>"
      ]
     },
     "metadata": {
      "needs_background": "light"
     },
     "output_type": "display_data"
    },
    {
     "data": {
      "image/png": "[encoded data removed]",
      "text/plain": [
       "<Figure size 288x288 with 144 Axes>"
      ]
     },
     "metadata": {
      "needs_background": "light"
     },
     "output_type": "display_data"
    }
   ],
   "source": [
    "import matplotlib.pyplot as plt\n",
    "\n",
    "plt.figure(figsize=(4, 4))\n",
    "image = x_train[np.random.choice(range(x_train.shape[0]))]\n",
    "plt.imshow(image.astype(\"uint8\"))\n",
    "plt.axis(\"off\")\n",
    "\n",
    "resized_image = tf.image.resize(\n",
    "    tf.convert_to_tensor([image]), size=(image_size, image_size)\n",
    ")\n",
    "patches = Patches(patch_size)(resized_image)\n",
    "print(f\"Image size: {image_size} X {image_size}\")\n",
    "print(f\"Patch size: {patch_size} X {patch_size}\")\n",
    "print(f\"Patches per image: {patches.shape[1]}\")\n",
    "print(f\"Elements per patch: {patches.shape[-1]}\")\n",
    "\n",
    "n = int(np.sqrt(patches.shape[1]))\n",
    "plt.figure(figsize=(4, 4))\n",
    "for i, patch in enumerate(patches[0]):\n",
    "    ax = plt.subplot(n, n, i + 1)\n",
    "    patch_img = tf.reshape(patch, (patch_size, patch_size, 3))\n",
    "    plt.imshow(patch_img.numpy().astype(\"uint8\"))\n",
    "    plt.axis(\"off\")"
   ]
  },
  {
   "cell_type": "markdown",
   "id": "5e2f8cd1",
   "metadata": {
    "id": "_-_aj5_Y1-7L",
    "papermill": {
     "duration": 0.078784,
     "end_time": "2022-05-29T10:35:57.733567",
     "exception": false,
     "start_time": "2022-05-29T10:35:57.654783",
     "status": "completed"
    },
    "tags": []
   },
   "source": [
    "## Implement the patch encoding layer\n",
    "\n",
    "The `PatchEncoder` layer will linearly transform a patch by projecting it into a\n",
    "vector of size `projection_dim`. In addition, it adds a learnable position\n",
    "embedding to the projected vector."
   ]
  },
  {
   "cell_type": "code",
   "execution_count": 9,
   "id": "f940daf4",
   "metadata": {
    "execution": {
     "iopub.execute_input": "2022-05-29T10:35:57.898553Z",
     "iopub.status.busy": "2022-05-29T10:35:57.897580Z",
     "iopub.status.idle": "2022-05-29T10:35:57.899595Z",
     "shell.execute_reply": "2022-05-29T10:35:57.900090Z",
     "shell.execute_reply.started": "2022-05-10T13:14:11.652692Z"
    },
    "id": "MXL5uXva1-7M",
    "papermill": {
     "duration": 0.085479,
     "end_time": "2022-05-29T10:35:57.900253",
     "exception": false,
     "start_time": "2022-05-29T10:35:57.814774",
     "status": "completed"
    },
    "tags": []
   },
   "outputs": [],
   "source": [
    "\n",
    "class PatchEncoder(layers.Layer):\n",
    "    def __init__(self, num_patches, projection_dim):\n",
    "        super(PatchEncoder, self).__init__()\n",
    "        self.num_patches = num_patches\n",
    "        self.projection = layers.Dense(units=projection_dim)\n",
    "        self.position_embedding = layers.Embedding(\n",
    "            input_dim=num_patches, output_dim=projection_dim\n",
    "        )\n",
    "\n",
    "    def call(self, patch):\n",
    "        positions = tf.range(start=0, limit=self.num_patches, delta=1)\n",
    "        encoded = self.projection(patch) + self.position_embedding(positions)\n",
    "        return encoded\n"
   ]
  },
  {
   "cell_type": "markdown",
   "id": "23f246da",
   "metadata": {
    "id": "nZOb6KB_1-7M",
    "papermill": {
     "duration": 0.048303,
     "end_time": "2022-05-29T10:35:57.997887",
     "exception": false,
     "start_time": "2022-05-29T10:35:57.949584",
     "status": "completed"
    },
    "tags": []
   },
   "source": [
    "## Build the ViT model\n",
    "\n",
    "The ViT model consists of multiple Transformer blocks,\n",
    "which use the `layers.MultiHeadAttention` layer as a self-attention mechanism\n",
    "applied to the sequence of patches. The Transformer blocks produce a\n",
    "`[batch_size, num_patches, projection_dim]` tensor, which is processed via an\n",
    "classifier head with softmax to produce the final class probabilities output.\n",
    "\n",
    "Unlike the technique described in the [paper](https://arxiv.org/abs/2010.11929),\n",
    "which prepends a learnable embedding to the sequence of encoded patches to serve\n",
    "as the image representation, all the outputs of the final Transformer block are\n",
    "reshaped with `layers.Flatten()` and used as the image\n",
    "representation input to the classifier head.\n",
    "Note that the `layers.GlobalAveragePooling1D` layer\n",
    "could also be used instead to aggregate the outputs of the Transformer block,\n",
    "especially when the number of patches and the projection dimensions are large."
   ]
  },
  {
   "cell_type": "code",
   "execution_count": 10,
   "id": "a6e6525c",
   "metadata": {
    "execution": {
     "iopub.execute_input": "2022-05-29T10:35:58.098929Z",
     "iopub.status.busy": "2022-05-29T10:35:58.098030Z",
     "iopub.status.idle": "2022-05-29T10:35:58.107998Z",
     "shell.execute_reply": "2022-05-29T10:35:58.107499Z",
     "shell.execute_reply.started": "2022-05-10T13:14:11.654704Z"
    },
    "id": "9G_rMqu91-7M",
    "papermill": {
     "duration": 0.061051,
     "end_time": "2022-05-29T10:35:58.108126",
     "exception": false,
     "start_time": "2022-05-29T10:35:58.047075",
     "status": "completed"
    },
    "tags": []
   },
   "outputs": [],
   "source": [
    "def create_vit_classifier():\n",
    "    inputs = layers.Input(shape=input_shape)\n",
    "    # Augment data.\n",
    "    augmented = data_augmentation(inputs)\n",
    "    # Create patches.\n",
    "    patches = Patches(patch_size)(augmented)\n",
    "    # Encode patches.\n",
    "    encoded_patches = PatchEncoder(num_patches, projection_dim)(patches)\n",
    "\n",
    "    # Create multiple layers of the Transformer block.\n",
    "    for _ in range(transformer_layers):\n",
    "        # Layer normalization 1.\n",
    "        x1 = layers.LayerNormalization(epsilon=1e-6)(encoded_patches)\n",
    "        # Create a multi-head attention layer.\n",
    "        attention_output = layers.MultiHeadAttention(\n",
    "            num_heads=num_heads, key_dim=projection_dim, dropout=0.1\n",
    "        )(x1, x1)\n",
    "        # Skip connection 1.\n",
    "        x2 = layers.Add()([attention_output, encoded_patches])\n",
    "        # Layer normalization 2.\n",
    "        x3 = layers.LayerNormalization(epsilon=1e-6)(x2)\n",
    "        # MLP.\n",
    "        x3 = mlp(x3, hidden_units=transformer_units, dropout_rate=0.1)\n",
    "        # Skip connection 2.\n",
    "        encoded_patches = layers.Add()([x3, x2])\n",
    "\n",
    "    # Create a [batch_size, projection_dim] tensor.\n",
    "    representation = layers.LayerNormalization(epsilon=1e-6)(encoded_patches)\n",
    "    representation = layers.Flatten()(representation)\n",
    "    representation = layers.Dropout(0.5)(representation)\n",
    "    # Add MLP.\n",
    "    features = mlp(representation, hidden_units=mlp_head_units, dropout_rate=0.5)\n",
    "    # Classify outputs.\n",
    "    logits = layers.Dense(num_classes)(features)\n",
    "    # Create the Keras model.\n",
    "    model = keras.Model(inputs=inputs, outputs=logits)\n",
    "    return model\n"
   ]
  },
  {
   "cell_type": "markdown",
   "id": "2228c55d",
   "metadata": {
    "id": "wiCpaBWw1-7N",
    "papermill": {
     "duration": 0.048884,
     "end_time": "2022-05-29T10:35:58.205228",
     "exception": false,
     "start_time": "2022-05-29T10:35:58.156344",
     "status": "completed"
    },
    "tags": []
   },
   "source": [
    "## Compile, train, and evaluate the mode"
   ]
  },
  {
   "cell_type": "code",
   "execution_count": 11,
   "id": "1fa4db53",
   "metadata": {
    "execution": {
     "iopub.execute_input": "2022-05-29T10:35:58.313910Z",
     "iopub.status.busy": "2022-05-29T10:35:58.312974Z",
     "iopub.status.idle": "2022-05-29T10:51:43.413988Z",
     "shell.execute_reply": "2022-05-29T10:51:43.413263Z",
     "shell.execute_reply.started": "2022-05-10T13:14:11.656705Z"
    },
    "id": "5J_qNIby1-7N",
    "outputId": "e4b23f2c-e50e-45e7-8b3c-39c8ac2faa28",
    "papermill": {
     "duration": 945.159819,
     "end_time": "2022-05-29T10:51:43.414173",
     "exception": false,
     "start_time": "2022-05-29T10:35:58.254354",
     "status": "completed"
    },
    "tags": []
   },
   "outputs": [
    {
     "name": "stdout",
     "output_type": "stream",
     "text": [
      "Epoch 1/20\n",
      "176/176 [==============================] - 56s 256ms/step - loss: 2.0379 - accuracy: 0.3172 - val_loss: 1.4771 - val_accuracy: 0.4616\n",
      "Epoch 2/20\n",
      "176/176 [==============================] - 44s 249ms/step - loss: 1.5438 - accuracy: 0.4428 - val_loss: 1.2450 - val_accuracy: 0.5438\n",
      "Epoch 3/20\n",
      "176/176 [==============================] - 44s 249ms/step - loss: 1.3851 - accuracy: 0.5053 - val_loss: 1.1442 - val_accuracy: 0.5924\n",
      "Epoch 4/20\n",
      "176/176 [==============================] - 44s 249ms/step - loss: 1.2897 - accuracy: 0.5403 - val_loss: 1.0682 - val_accuracy: 0.6190\n",
      "Epoch 5/20\n",
      "176/176 [==============================] - 44s 250ms/step - loss: 1.2206 - accuracy: 0.5700 - val_loss: 1.0430 - val_accuracy: 0.6408\n",
      "Epoch 6/20\n",
      "176/176 [==============================] - 44s 249ms/step - loss: 1.1554 - accuracy: 0.5910 - val_loss: 0.9614 - val_accuracy: 0.6574\n",
      "Epoch 7/20\n",
      "176/176 [==============================] - 44s 249ms/step - loss: 1.0992 - accuracy: 0.6142 - val_loss: 0.9157 - val_accuracy: 0.6786\n",
      "Epoch 8/20\n",
      "176/176 [==============================] - 44s 249ms/step - loss: 1.0437 - accuracy: 0.6361 - val_loss: 0.8920 - val_accuracy: 0.6878\n",
      "Epoch 9/20\n",
      "176/176 [==============================] - 44s 249ms/step - loss: 1.0066 - accuracy: 0.6488 - val_loss: 0.8411 - val_accuracy: 0.7064\n",
      "Epoch 10/20\n",
      "176/176 [==============================] - 44s 249ms/step - loss: 0.9586 - accuracy: 0.6666 - val_loss: 0.7886 - val_accuracy: 0.7330\n",
      "Epoch 11/20\n",
      "176/176 [==============================] - 44s 249ms/step - loss: 0.9139 - accuracy: 0.6801 - val_loss: 0.7777 - val_accuracy: 0.7274\n",
      "Epoch 12/20\n",
      "176/176 [==============================] - 44s 249ms/step - loss: 0.8882 - accuracy: 0.6931 - val_loss: 0.7778 - val_accuracy: 0.7318\n",
      "Epoch 13/20\n",
      "176/176 [==============================] - 44s 249ms/step - loss: 0.8486 - accuracy: 0.7047 - val_loss: 0.7348 - val_accuracy: 0.7408\n",
      "Epoch 14/20\n",
      "176/176 [==============================] - 44s 249ms/step - loss: 0.8270 - accuracy: 0.7117 - val_loss: 0.7114 - val_accuracy: 0.7528\n",
      "Epoch 15/20\n",
      "176/176 [==============================] - 44s 249ms/step - loss: 0.8029 - accuracy: 0.7209 - val_loss: 0.6807 - val_accuracy: 0.7666\n",
      "Epoch 16/20\n",
      "176/176 [==============================] - 44s 249ms/step - loss: 0.7834 - accuracy: 0.7266 - val_loss: 0.6666 - val_accuracy: 0.7714\n",
      "Epoch 17/20\n",
      "176/176 [==============================] - 44s 249ms/step - loss: 0.7585 - accuracy: 0.7350 - val_loss: 0.6534 - val_accuracy: 0.7744\n",
      "Epoch 18/20\n",
      "176/176 [==============================] - 44s 249ms/step - loss: 0.7351 - accuracy: 0.7444 - val_loss: 0.6510 - val_accuracy: 0.7806\n",
      "Epoch 19/20\n",
      "176/176 [==============================] - 44s 249ms/step - loss: 0.7151 - accuracy: 0.7518 - val_loss: 0.6181 - val_accuracy: 0.7822\n",
      "Epoch 20/20\n",
      "176/176 [==============================] - 44s 249ms/step - loss: 0.7001 - accuracy: 0.7568 - val_loss: 0.6268 - val_accuracy: 0.7740\n",
      "313/313 [==============================] - 7s 22ms/step - loss: 0.6381 - accuracy: 0.7740\n",
      "Test accuracy: 77.4%\n"
     ]
    }
   ],
   "source": [
    "def run_experiment(model):\n",
    "    #(le llegan los gradientes)\n",
    "    #los optimizadores encargados del paso de la actualización de pesos\n",
    "    optimizer = tfa.optimizers.AdamW(\n",
    "        learning_rate=learning_rate, weight_decay=weight_decay\n",
    "    )\n",
    "\n",
    "    model.compile(\n",
    "        optimizer=optimizer,\n",
    "        loss=keras.losses.SparseCategoricalCrossentropy(from_logits=True),\n",
    "        metrics=[\n",
    "            keras.metrics.SparseCategoricalAccuracy(name=\"accuracy\")\n",
    "        ],\n",
    "    )\n",
    "\n",
    "    checkpoint_filepath = \"/tmp/checkpoint\"\n",
    "    checkpoint_callback = keras.callbacks.ModelCheckpoint(\n",
    "        checkpoint_filepath,\n",
    "        monitor=\"val_accuracy\",\n",
    "        save_best_only=True,\n",
    "        save_weights_only=True,\n",
    "    )\n",
    "\n",
    "    history = model.fit(\n",
    "        x=x_train,\n",
    "        y=y_train,\n",
    "        batch_size=batch_size,\n",
    "        epochs=num_epochs,\n",
    "        validation_split=0.1,\n",
    "        callbacks=[checkpoint_callback],\n",
    "    )\n",
    "\n",
    "    model.load_weights(checkpoint_filepath)\n",
    "    _, accuracy = model.evaluate(x_test, y_test)\n",
    "    print(f\"Test accuracy: {round(accuracy * 100, 2)}%\")\n",
    "\n",
    "    return history\n",
    "\n",
    "\n",
    "vit_classifier = create_vit_classifier()\n",
    "history = run_experiment(vit_classifier)"
   ]
  },
  {
   "cell_type": "markdown",
   "id": "d7bdb23c",
   "metadata": {
    "papermill": {
     "duration": 1.270693,
     "end_time": "2022-05-29T10:51:46.093584",
     "exception": false,
     "start_time": "2022-05-29T10:51:44.822891",
     "status": "completed"
    },
    "tags": []
   },
   "source": [
    "# Performance of model"
   ]
  },
  {
   "cell_type": "code",
   "execution_count": 12,
   "id": "0fad054d",
   "metadata": {
    "execution": {
     "iopub.execute_input": "2022-05-29T10:51:48.662464Z",
     "iopub.status.busy": "2022-05-29T10:51:48.659823Z",
     "iopub.status.idle": "2022-05-29T10:51:48.854330Z",
     "shell.execute_reply": "2022-05-29T10:51:48.853847Z",
     "shell.execute_reply.started": "2022-05-10T13:14:11.658624Z"
    },
    "papermill": {
     "duration": 1.494572,
     "end_time": "2022-05-29T10:51:48.854480",
     "exception": false,
     "start_time": "2022-05-29T10:51:47.359908",
     "status": "completed"
    },
    "tags": []
   },
   "outputs": [
    {
     "data": {
      "image/png": "[encoded data removed]",
      "text/plain": [
       "<Figure size 432x288 with 1 Axes>"
      ]
     },
     "metadata": {
      "needs_background": "light"
     },
     "output_type": "display_data"
    }
   ],
   "source": [
    "# accuracies\n",
    "plt.plot(history.history['accuracy'], label='train acc')\n",
    "plt.plot(history.history['val_accuracy'], label='val acc')\n",
    "plt.legend()\n",
    "plt.show()"
   ]
  },
  {
   "cell_type": "code",
   "execution_count": 13,
   "id": "28641b7a",
   "metadata": {
    "execution": {
     "iopub.execute_input": "2022-05-29T10:51:51.433687Z",
     "iopub.status.busy": "2022-05-29T10:51:51.430966Z",
     "iopub.status.idle": "2022-05-29T10:51:51.629190Z",
     "shell.execute_reply": "2022-05-29T10:51:51.629671Z",
     "shell.execute_reply.started": "2022-05-10T13:14:11.660536Z"
    },
    "papermill": {
     "duration": 1.502358,
     "end_time": "2022-05-29T10:51:51.629844",
     "exception": false,
     "start_time": "2022-05-29T10:51:50.127486",
     "status": "completed"
    },
    "tags": []
   },
   "outputs": [
    {
     "data": {
      "image/png": "[encoded data removed]",
      "text/plain": [
       "<Figure size 432x288 with 1 Axes>"
      ]
     },
     "metadata": {
      "needs_background": "light"
     },
     "output_type": "display_data"
    }
   ],
   "source": [
    "# loss\n",
    "plt.plot(history.history['loss'], label='train loss')\n",
    "plt.plot(history.history['val_loss'], label='val loss')\n",
    "plt.legend()\n",
    "plt.show()"
   ]
  },
  {
   "cell_type": "markdown",
   "id": "144031b0",
   "metadata": {
    "papermill": {
     "duration": 1.438569,
     "end_time": "2022-05-29T10:51:54.367811",
     "exception": false,
     "start_time": "2022-05-29T10:51:52.929242",
     "status": "completed"
    },
    "tags": []
   },
   "source": [
    "# Model Evaluation"
   ]
  },
  {
   "cell_type": "code",
   "execution_count": 14,
   "id": "07f848ed",
   "metadata": {
    "execution": {
     "iopub.execute_input": "2022-05-29T10:51:57.829851Z",
     "iopub.status.busy": "2022-05-29T10:51:57.829019Z",
     "iopub.status.idle": "2022-05-29T10:52:01.652159Z",
     "shell.execute_reply": "2022-05-29T10:52:01.651411Z",
     "shell.execute_reply.started": "2022-05-10T13:14:11.662514Z"
    },
    "papermill": {
     "duration": 5.238007,
     "end_time": "2022-05-29T10:52:01.652333",
     "exception": false,
     "start_time": "2022-05-29T10:51:56.414326",
     "status": "completed"
    },
    "tags": []
   },
   "outputs": [
    {
     "name": "stderr",
     "output_type": "stream",
     "text": [
      "/opt/conda/lib/python3.7/site-packages/geopandas/_compat.py:115: UserWarning: The Shapely GEOS version (3.9.1-CAPI-1.14.2) is incompatible with the GEOS version PyGEOS was compiled with (3.10.1-CAPI-1.16.0). Conversions between both will be slow.\n",
      "  shapely_geos_version, geos_capi_version_string\n"
     ]
    }
   ],
   "source": [
    "from sklearn.metrics import accuracy_score,classification_report,confusion_matrix\n",
    "from sklearn.utils.multiclass import unique_labels\n",
    "import numpy as np\n",
    "import pandas as pd\n",
    "import plotly.figure_factory as ff"
   ]
  },
  {
   "cell_type": "code",
   "execution_count": 15,
   "id": "9daca8f8",
   "metadata": {
    "execution": {
     "iopub.execute_input": "2022-05-29T10:52:04.233220Z",
     "iopub.status.busy": "2022-05-29T10:52:04.232350Z",
     "iopub.status.idle": "2022-05-29T10:52:11.611155Z",
     "shell.execute_reply": "2022-05-29T10:52:11.611608Z",
     "shell.execute_reply.started": "2022-05-10T13:14:11.664469Z"
    },
    "papermill": {
     "duration": 8.654858,
     "end_time": "2022-05-29T10:52:11.611791",
     "exception": false,
     "start_time": "2022-05-29T10:52:02.956933",
     "status": "completed"
    },
    "tags": []
   },
   "outputs": [
    {
     "data": {
      "image/png": "[encoded data removed]",
      "text/plain": [
       "<Figure size 432x288 with 10 Axes>"
      ]
     },
     "metadata": {
      "needs_background": "light"
     },
     "output_type": "display_data"
    }
   ],
   "source": [
    "#predict\n",
    "predictions = vit_classifier.predict(x_test)\n",
    "predictions = np.argmax(predictions,axis=1)\n",
    "plt.figure()\n",
    "for i in range(10):\n",
    "    ax = plt.subplot(2, 5, i + 1)\n",
    "    ax.imshow(x_test[i].astype(\"uint8\"))\n",
    "    ax.axis(\"off\")\n",
    "    ax.set_title(predictions[i])"
   ]
  },
  {
   "cell_type": "code",
   "execution_count": 16,
   "id": "3f26dd7f",
   "metadata": {
    "execution": {
     "iopub.execute_input": "2022-05-29T10:52:14.320532Z",
     "iopub.status.busy": "2022-05-29T10:52:14.319652Z",
     "iopub.status.idle": "2022-05-29T10:52:14.362822Z",
     "shell.execute_reply": "2022-05-29T10:52:14.363352Z",
     "shell.execute_reply.started": "2022-05-10T13:14:11.666406Z"
    },
    "papermill": {
     "duration": 1.367752,
     "end_time": "2022-05-29T10:52:14.363513",
     "exception": false,
     "start_time": "2022-05-29T10:52:12.995761",
     "status": "completed"
    },
    "tags": []
   },
   "outputs": [
    {
     "data": {
      "text/html": [
       "<div>\n",
       "<style scoped>\n",
       "    .dataframe tbody tr th:only-of-type {\n",
       "        vertical-align: middle;\n",
       "    }\n",
       "\n",
       "    .dataframe tbody tr th {\n",
       "        vertical-align: top;\n",
       "    }\n",
       "\n",
       "    .dataframe thead th {\n",
       "        text-align: right;\n",
       "    }\n",
       "</style>\n",
       "<table border=\"1\" class=\"dataframe\">\n",
       "  <thead>\n",
       "    <tr style=\"text-align: right;\">\n",
       "      <th></th>\n",
       "      <th>precision</th>\n",
       "      <th>recall</th>\n",
       "      <th>f1-score</th>\n",
       "      <th>support</th>\n",
       "    </tr>\n",
       "  </thead>\n",
       "  <tbody>\n",
       "    <tr>\n",
       "      <th>0</th>\n",
       "      <td>0.807771</td>\n",
       "      <td>0.790</td>\n",
       "      <td>0.798787</td>\n",
       "      <td>1000.000</td>\n",
       "    </tr>\n",
       "    <tr>\n",
       "      <th>1</th>\n",
       "      <td>0.858509</td>\n",
       "      <td>0.898</td>\n",
       "      <td>0.877810</td>\n",
       "      <td>1000.000</td>\n",
       "    </tr>\n",
       "    <tr>\n",
       "      <th>2</th>\n",
       "      <td>0.716371</td>\n",
       "      <td>0.687</td>\n",
       "      <td>0.701378</td>\n",
       "      <td>1000.000</td>\n",
       "    </tr>\n",
       "    <tr>\n",
       "      <th>3</th>\n",
       "      <td>0.574526</td>\n",
       "      <td>0.636</td>\n",
       "      <td>0.603702</td>\n",
       "      <td>1000.000</td>\n",
       "    </tr>\n",
       "    <tr>\n",
       "      <th>4</th>\n",
       "      <td>0.782514</td>\n",
       "      <td>0.716</td>\n",
       "      <td>0.747781</td>\n",
       "      <td>1000.000</td>\n",
       "    </tr>\n",
       "    <tr>\n",
       "      <th>5</th>\n",
       "      <td>0.690811</td>\n",
       "      <td>0.639</td>\n",
       "      <td>0.663896</td>\n",
       "      <td>1000.000</td>\n",
       "    </tr>\n",
       "    <tr>\n",
       "      <th>6</th>\n",
       "      <td>0.795841</td>\n",
       "      <td>0.842</td>\n",
       "      <td>0.818270</td>\n",
       "      <td>1000.000</td>\n",
       "    </tr>\n",
       "    <tr>\n",
       "      <th>7</th>\n",
       "      <td>0.864370</td>\n",
       "      <td>0.803</td>\n",
       "      <td>0.832556</td>\n",
       "      <td>1000.000</td>\n",
       "    </tr>\n",
       "    <tr>\n",
       "      <th>8</th>\n",
       "      <td>0.825528</td>\n",
       "      <td>0.899</td>\n",
       "      <td>0.860699</td>\n",
       "      <td>1000.000</td>\n",
       "    </tr>\n",
       "    <tr>\n",
       "      <th>9</th>\n",
       "      <td>0.835010</td>\n",
       "      <td>0.830</td>\n",
       "      <td>0.832497</td>\n",
       "      <td>1000.000</td>\n",
       "    </tr>\n",
       "    <tr>\n",
       "      <th>accuracy</th>\n",
       "      <td>0.774000</td>\n",
       "      <td>0.774</td>\n",
       "      <td>0.774000</td>\n",
       "      <td>0.774</td>\n",
       "    </tr>\n",
       "    <tr>\n",
       "      <th>macro avg</th>\n",
       "      <td>0.775125</td>\n",
       "      <td>0.774</td>\n",
       "      <td>0.773738</td>\n",
       "      <td>10000.000</td>\n",
       "    </tr>\n",
       "    <tr>\n",
       "      <th>weighted avg</th>\n",
       "      <td>0.775125</td>\n",
       "      <td>0.774</td>\n",
       "      <td>0.773738</td>\n",
       "      <td>10000.000</td>\n",
       "    </tr>\n",
       "  </tbody>\n",
       "</table>\n",
       "</div>"
      ],
      "text/plain": [
       "              precision  recall  f1-score    support\n",
       "0              0.807771   0.790  0.798787   1000.000\n",
       "1              0.858509   0.898  0.877810   1000.000\n",
       "2              0.716371   0.687  0.701378   1000.000\n",
       "3              0.574526   0.636  0.603702   1000.000\n",
       "4              0.782514   0.716  0.747781   1000.000\n",
       "5              0.690811   0.639  0.663896   1000.000\n",
       "6              0.795841   0.842  0.818270   1000.000\n",
       "7              0.864370   0.803  0.832556   1000.000\n",
       "8              0.825528   0.899  0.860699   1000.000\n",
       "9              0.835010   0.830  0.832497   1000.000\n",
       "accuracy       0.774000   0.774  0.774000      0.774\n",
       "macro avg      0.775125   0.774  0.773738  10000.000\n",
       "weighted avg   0.775125   0.774  0.773738  10000.000"
      ]
     },
     "execution_count": 16,
     "metadata": {},
     "output_type": "execute_result"
    }
   ],
   "source": [
    "#get classification report\n",
    "report = classification_report(y_test, predictions, output_dict=True)\n",
    "pd.DataFrame(report).T"
   ]
  }
 ],
 "metadata": {
  "kernelspec": {
   "display_name": "Python 3",
   "language": "python",
   "name": "python3"
  },
  "language_info": {
   "codemirror_mode": {
    "name": "ipython",
    "version": 3
   },
   "file_extension": ".py",
   "mimetype": "text/x-python",
   "name": "python",
   "nbconvert_exporter": "python",
   "pygments_lexer": "ipython3",
   "version": "3.7.12"
  },
  "papermill": {
   "default_parameters": {},
   "duration": 1023.367927,
   "end_time": "2022-05-29T10:52:18.421063",
   "environment_variables": {},
   "exception": null,
   "input_path": "__notebook__.ipynb",
   "output_path": "__notebook__.ipynb",
   "parameters": {},
   "start_time": "2022-05-29T10:35:15.053136",
   "version": "2.3.3"
  }
 },
 "nbformat": 4,
 "nbformat_minor": 5
}
