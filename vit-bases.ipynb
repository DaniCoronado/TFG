{
 "cells": [
  {
   "cell_type": "markdown",
   "id": "090b6dc7",
   "metadata": {
    "id": "zSsvKumT1-7B",
    "papermill": {
     "duration": 0.028894,
     "end_time": "2022-05-10T13:14:54.040935",
     "exception": false,
     "start_time": "2022-05-10T13:14:54.012041",
     "status": "completed"
    },
    "tags": []
   },
   "source": [
    "# Image classification with Vision Transformer\n",
    "\n",
    "**Author:** [Khalid Salama](https://www.linkedin.com/in/khalid-salama-24403144/)<br>\n",
    "**Date created:** 2021/01/18<br>\n",
    "**Last modified:** 2021/01/18<br>\n",
    "**Description:** Implementing the Vision Transformer (ViT) model for image classification."
   ]
  },
  {
   "cell_type": "markdown",
   "id": "c16a010c",
   "metadata": {
    "id": "Pf0rxx431-7E",
    "papermill": {
     "duration": 0.027389,
     "end_time": "2022-05-10T13:14:54.098041",
     "exception": false,
     "start_time": "2022-05-10T13:14:54.070652",
     "status": "completed"
    },
    "tags": []
   },
   "source": [
    "## Introduction\n",
    "\n",
    "This example implements the [Vision Transformer (ViT)](https://arxiv.org/abs/2010.11929)\n",
    "model by Alexey Dosovitskiy et al. for image classification,\n",
    "and demonstrates it on the CIFAR-100 dataset.\n",
    "The ViT model applies the Transformer architecture with self-attention to sequences of\n",
    "image patches, without using convolution layers.\n",
    "\n",
    "This example requires TensorFlow 2.4 or higher, as well as\n",
    "[TensorFlow Addons](https://www.tensorflow.org/addons/overview),\n",
    "which can be installed using the following command:\n",
    "\n",
    "```python\n",
    "pip install -U tensorflow-addons\n",
    "```"
   ]
  },
  {
   "cell_type": "markdown",
   "id": "7b315fcb",
   "metadata": {
    "id": "17tJq5YD1-7F",
    "papermill": {
     "duration": 0.027692,
     "end_time": "2022-05-10T13:14:54.153346",
     "exception": false,
     "start_time": "2022-05-10T13:14:54.125654",
     "status": "completed"
    },
    "tags": []
   },
   "source": [
    "## Setup"
   ]
  },
  {
   "cell_type": "code",
   "execution_count": 1,
   "id": "22337595",
   "metadata": {
    "execution": {
     "iopub.execute_input": "2022-05-10T13:14:54.224874Z",
     "iopub.status.busy": "2022-05-10T13:14:54.223863Z",
     "iopub.status.idle": "2022-05-10T13:15:04.960687Z",
     "shell.execute_reply": "2022-05-10T13:15:04.959826Z",
     "shell.execute_reply.started": "2022-05-10T13:14:00.733955Z"
    },
    "id": "RpBNXZo-7FNO",
    "outputId": "656e7388-bba7-4f3a-eb7c-f4da6a855b23",
    "papermill": {
     "duration": 10.779688,
     "end_time": "2022-05-10T13:15:04.960869",
     "exception": false,
     "start_time": "2022-05-10T13:14:54.181181",
     "status": "completed"
    },
    "tags": []
   },
   "outputs": [
    {
     "name": "stdout",
     "output_type": "stream",
     "text": [
      "Requirement already satisfied: tensorflow_addons in /opt/conda/lib/python3.7/site-packages (0.14.0)\r\n",
      "Requirement already satisfied: typeguard>=2.7 in /opt/conda/lib/python3.7/site-packages (from tensorflow_addons) (2.13.3)\r\n",
      "\u001b[33mWARNING: Running pip as the 'root' user can result in broken permissions and conflicting behaviour with the system package manager. It is recommended to use a virtual environment instead: https://pip.pypa.io/warnings/venv\u001b[0m\r\n"
     ]
    }
   ],
   "source": [
    "!pip install tensorflow_addons"
   ]
  },
  {
   "cell_type": "code",
   "execution_count": 2,
   "id": "20610b89",
   "metadata": {
    "execution": {
     "iopub.execute_input": "2022-05-10T13:15:05.026652Z",
     "iopub.status.busy": "2022-05-10T13:15:05.025944Z",
     "iopub.status.idle": "2022-05-10T13:15:11.556467Z",
     "shell.execute_reply": "2022-05-10T13:15:11.555822Z",
     "shell.execute_reply.started": "2022-05-10T13:14:02.372398Z"
    },
    "id": "TOgzPiM11-7F",
    "papermill": {
     "duration": 6.566348,
     "end_time": "2022-05-10T13:15:11.556638",
     "exception": false,
     "start_time": "2022-05-10T13:15:04.990290",
     "status": "completed"
    },
    "tags": []
   },
   "outputs": [],
   "source": [
    "import numpy as np\n",
    "import tensorflow as tf\n",
    "from tensorflow import keras\n",
    "from tensorflow.keras import layers\n",
    "import tensorflow_addons as tfa"
   ]
  },
  {
   "cell_type": "markdown",
   "id": "9c4b0244",
   "metadata": {
    "id": "BvuCtxkv1-7G",
    "papermill": {
     "duration": 0.028359,
     "end_time": "2022-05-10T13:15:11.614622",
     "exception": false,
     "start_time": "2022-05-10T13:15:11.586263",
     "status": "completed"
    },
    "tags": []
   },
   "source": [
    "## Prepare the data"
   ]
  },
  {
   "cell_type": "markdown",
   "id": "4a4ba3a5",
   "metadata": {
    "id": "e53arMEc7itJ",
    "papermill": {
     "duration": 0.028742,
     "end_time": "2022-05-10T13:15:11.672924",
     "exception": false,
     "start_time": "2022-05-10T13:15:11.644182",
     "status": "completed"
    },
    "tags": []
   },
   "source": [
    "Aquí cambiaríamos de CIFAR a MINST o la FINAL de clasificación"
   ]
  },
  {
   "cell_type": "code",
   "execution_count": 3,
   "id": "80294390",
   "metadata": {
    "execution": {
     "iopub.execute_input": "2022-05-10T13:15:11.738708Z",
     "iopub.status.busy": "2022-05-10T13:15:11.737691Z",
     "iopub.status.idle": "2022-05-10T13:15:20.368004Z",
     "shell.execute_reply": "2022-05-10T13:15:20.369320Z",
     "shell.execute_reply.started": "2022-05-10T13:14:02.380027Z"
    },
    "id": "s103Rdnt1-7H",
    "outputId": "dcead731-d3ec-486d-d852-7477e2dccf7d",
    "papermill": {
     "duration": 8.667284,
     "end_time": "2022-05-10T13:15:20.369585",
     "exception": false,
     "start_time": "2022-05-10T13:15:11.702301",
     "status": "completed"
    },
    "tags": []
   },
   "outputs": [
    {
     "name": "stdout",
     "output_type": "stream",
     "text": [
      "Downloading data from https://www.cs.toronto.edu/~kriz/cifar-100-python.tar.gz\n",
      "169009152/169001437 [==============================] - 6s 0us/step\n",
      "169017344/169001437 [==============================] - 6s 0us/step\n",
      "x_train shape: (50000, 32, 32, 3) - y_train shape: (50000, 1)\n",
      "x_test shape: (10000, 32, 32, 3) - y_test shape: (10000, 1)\n"
     ]
    }
   ],
   "source": [
    "num_classes = 100\n",
    "input_shape = (32, 32, 3)\n",
    "\n",
    "(x_train, y_train), (x_test, y_test) = keras.datasets.cifar100.load_data()\n",
    "\n",
    "print(f\"x_train shape: {x_train.shape} - y_train shape: {y_train.shape}\")\n",
    "print(f\"x_test shape: {x_test.shape} - y_test shape: {y_test.shape}\")\n"
   ]
  },
  {
   "cell_type": "markdown",
   "id": "9feec7d1",
   "metadata": {
    "id": "TALsq-qi1-7H",
    "papermill": {
     "duration": 0.112871,
     "end_time": "2022-05-10T13:15:20.596296",
     "exception": false,
     "start_time": "2022-05-10T13:15:20.483425",
     "status": "completed"
    },
    "tags": []
   },
   "source": [
    "## Configure the hyperparameters"
   ]
  },
  {
   "cell_type": "code",
   "execution_count": 4,
   "id": "32b610b8",
   "metadata": {
    "execution": {
     "iopub.execute_input": "2022-05-10T13:15:20.820041Z",
     "iopub.status.busy": "2022-05-10T13:15:20.817630Z",
     "iopub.status.idle": "2022-05-10T13:15:20.820789Z",
     "shell.execute_reply": "2022-05-10T13:15:20.821450Z",
     "shell.execute_reply.started": "2022-05-10T13:14:03.062328Z"
    },
    "id": "jQZeTx1T1-7I",
    "papermill": {
     "duration": 0.113328,
     "end_time": "2022-05-10T13:15:20.821701",
     "exception": false,
     "start_time": "2022-05-10T13:15:20.708373",
     "status": "completed"
    },
    "tags": []
   },
   "outputs": [],
   "source": [
    "learning_rate = 0.001\n",
    "weight_decay = 0.0001\n",
    "batch_size = 256\n",
    "num_epochs = 100\n",
    "image_size = 72  # We'll resize input images to this size\n",
    "patch_size = 6  # Size of the patches to be extract from the input images\n",
    "num_patches = (image_size // patch_size) ** 2\n",
    "projection_dim = 64\n",
    "num_heads = 4\n",
    "transformer_units = [\n",
    "    projection_dim * 2,\n",
    "    projection_dim,\n",
    "]  # Size of the transformer layers\n",
    "transformer_layers = 8\n",
    "mlp_head_units = [2048, 1024]  # Size of the dense layers of the final classifier\n"
   ]
  },
  {
   "cell_type": "markdown",
   "id": "1bfa1c1f",
   "metadata": {
    "id": "FN7XlWfP1-7J",
    "papermill": {
     "duration": 0.066412,
     "end_time": "2022-05-10T13:15:20.959394",
     "exception": false,
     "start_time": "2022-05-10T13:15:20.892982",
     "status": "completed"
    },
    "tags": []
   },
   "source": [
    "## Use data augmentation"
   ]
  },
  {
   "cell_type": "code",
   "execution_count": 5,
   "id": "d1f2452e",
   "metadata": {
    "execution": {
     "iopub.execute_input": "2022-05-10T13:15:21.099454Z",
     "iopub.status.busy": "2022-05-10T13:15:21.098697Z",
     "iopub.status.idle": "2022-05-10T13:15:27.888049Z",
     "shell.execute_reply": "2022-05-10T13:15:27.888648Z",
     "shell.execute_reply.started": "2022-05-10T13:14:03.070906Z"
    },
    "id": "Mk_wE7Cp1-7J",
    "papermill": {
     "duration": 6.862156,
     "end_time": "2022-05-10T13:15:27.888868",
     "exception": false,
     "start_time": "2022-05-10T13:15:21.026712",
     "status": "completed"
    },
    "tags": []
   },
   "outputs": [
    {
     "name": "stderr",
     "output_type": "stream",
     "text": [
      "2022-05-10 13:15:21.207255: I tensorflow/stream_executor/cuda/cuda_gpu_executor.cc:937] successful NUMA node read from SysFS had negative value (-1), but there must be at least one NUMA node, so returning NUMA node zero\n",
      "2022-05-10 13:15:21.321518: I tensorflow/stream_executor/cuda/cuda_gpu_executor.cc:937] successful NUMA node read from SysFS had negative value (-1), but there must be at least one NUMA node, so returning NUMA node zero\n",
      "2022-05-10 13:15:21.322608: I tensorflow/stream_executor/cuda/cuda_gpu_executor.cc:937] successful NUMA node read from SysFS had negative value (-1), but there must be at least one NUMA node, so returning NUMA node zero\n",
      "2022-05-10 13:15:21.324304: I tensorflow/core/platform/cpu_feature_guard.cc:142] This TensorFlow binary is optimized with oneAPI Deep Neural Network Library (oneDNN) to use the following CPU instructions in performance-critical operations:  AVX2 FMA\n",
      "To enable them in other operations, rebuild TensorFlow with the appropriate compiler flags.\n",
      "2022-05-10 13:15:21.325603: I tensorflow/stream_executor/cuda/cuda_gpu_executor.cc:937] successful NUMA node read from SysFS had negative value (-1), but there must be at least one NUMA node, so returning NUMA node zero\n",
      "2022-05-10 13:15:21.326738: I tensorflow/stream_executor/cuda/cuda_gpu_executor.cc:937] successful NUMA node read from SysFS had negative value (-1), but there must be at least one NUMA node, so returning NUMA node zero\n",
      "2022-05-10 13:15:21.327807: I tensorflow/stream_executor/cuda/cuda_gpu_executor.cc:937] successful NUMA node read from SysFS had negative value (-1), but there must be at least one NUMA node, so returning NUMA node zero\n",
      "2022-05-10 13:15:24.021356: I tensorflow/stream_executor/cuda/cuda_gpu_executor.cc:937] successful NUMA node read from SysFS had negative value (-1), but there must be at least one NUMA node, so returning NUMA node zero\n",
      "2022-05-10 13:15:24.022514: I tensorflow/stream_executor/cuda/cuda_gpu_executor.cc:937] successful NUMA node read from SysFS had negative value (-1), but there must be at least one NUMA node, so returning NUMA node zero\n",
      "2022-05-10 13:15:24.023405: I tensorflow/stream_executor/cuda/cuda_gpu_executor.cc:937] successful NUMA node read from SysFS had negative value (-1), but there must be at least one NUMA node, so returning NUMA node zero\n",
      "2022-05-10 13:15:24.024324: I tensorflow/core/common_runtime/gpu/gpu_device.cc:1510] Created device /job:localhost/replica:0/task:0/device:GPU:0 with 15403 MB memory:  -> device: 0, name: Tesla P100-PCIE-16GB, pci bus id: 0000:00:04.0, compute capability: 6.0\n",
      "2022-05-10 13:15:25.041529: I tensorflow/compiler/mlir/mlir_graph_optimization_pass.cc:185] None of the MLIR Optimization Passes are enabled (registered 2)\n"
     ]
    }
   ],
   "source": [
    "data_augmentation = keras.Sequential(\n",
    "    [\n",
    "        layers.Normalization(),\n",
    "        layers.Resizing(image_size, image_size),\n",
    "        layers.RandomFlip(\"horizontal\"),\n",
    "        layers.RandomRotation(factor=0.02),\n",
    "        layers.RandomZoom(\n",
    "            height_factor=0.2, width_factor=0.2\n",
    "        ),\n",
    "    ],\n",
    "    name=\"data_augmentation\",\n",
    ")\n",
    "# Compute the mean and the variance of the training data for normalization.\n",
    "data_augmentation.layers[0].adapt(x_train)\n"
   ]
  },
  {
   "cell_type": "markdown",
   "id": "8614c06c",
   "metadata": {
    "id": "49NWqCA_1-7K",
    "papermill": {
     "duration": 0.073114,
     "end_time": "2022-05-10T13:15:28.033798",
     "exception": false,
     "start_time": "2022-05-10T13:15:27.960684",
     "status": "completed"
    },
    "tags": []
   },
   "source": [
    "## Implement multilayer perceptron (MLP)"
   ]
  },
  {
   "cell_type": "code",
   "execution_count": 6,
   "id": "d87b72e7",
   "metadata": {
    "execution": {
     "iopub.execute_input": "2022-05-10T13:15:28.183488Z",
     "iopub.status.busy": "2022-05-10T13:15:28.182358Z",
     "iopub.status.idle": "2022-05-10T13:15:28.184706Z",
     "shell.execute_reply": "2022-05-10T13:15:28.185348Z",
     "shell.execute_reply.started": "2022-05-10T13:14:06.351827Z"
    },
    "id": "Z73Q_O-21-7K",
    "papermill": {
     "duration": 0.079447,
     "end_time": "2022-05-10T13:15:28.185510",
     "exception": false,
     "start_time": "2022-05-10T13:15:28.106063",
     "status": "completed"
    },
    "tags": []
   },
   "outputs": [],
   "source": [
    "\n",
    "def mlp(x, hidden_units, dropout_rate):\n",
    "    for units in hidden_units:\n",
    "        x = layers.Dense(units, activation=tf.nn.gelu)(x)\n",
    "        x = layers.Dropout(dropout_rate)(x)\n",
    "    return x\n"
   ]
  },
  {
   "cell_type": "markdown",
   "id": "c25c1e46",
   "metadata": {
    "id": "aSSW68BZ1-7K",
    "papermill": {
     "duration": 0.069804,
     "end_time": "2022-05-10T13:15:28.326544",
     "exception": false,
     "start_time": "2022-05-10T13:15:28.256740",
     "status": "completed"
    },
    "tags": []
   },
   "source": [
    "## Implement patch creation as a layer"
   ]
  },
  {
   "cell_type": "code",
   "execution_count": 7,
   "id": "4614cb32",
   "metadata": {
    "execution": {
     "iopub.execute_input": "2022-05-10T13:15:28.472225Z",
     "iopub.status.busy": "2022-05-10T13:15:28.469995Z",
     "iopub.status.idle": "2022-05-10T13:15:28.472956Z",
     "shell.execute_reply": "2022-05-10T13:15:28.473554Z",
     "shell.execute_reply.started": "2022-05-10T13:14:06.359999Z"
    },
    "id": "-oFX6NJL1-7K",
    "papermill": {
     "duration": 0.078749,
     "end_time": "2022-05-10T13:15:28.473706",
     "exception": false,
     "start_time": "2022-05-10T13:15:28.394957",
     "status": "completed"
    },
    "tags": []
   },
   "outputs": [],
   "source": [
    "\n",
    "class Patches(layers.Layer):\n",
    "    def __init__(self, patch_size):\n",
    "        super(Patches, self).__init__()\n",
    "        self.patch_size = patch_size\n",
    "\n",
    "    def call(self, images):\n",
    "        batch_size = tf.shape(images)[0]\n",
    "        patches = tf.image.extract_patches(\n",
    "            images=images,\n",
    "            sizes=[1, self.patch_size, self.patch_size, 1],\n",
    "            strides=[1, self.patch_size, self.patch_size, 1],\n",
    "            rates=[1, 1, 1, 1],\n",
    "            padding=\"VALID\",\n",
    "        )\n",
    "        patch_dims = patches.shape[-1]\n",
    "        patches = tf.reshape(patches, [batch_size, -1, patch_dims])\n",
    "        return patches\n"
   ]
  },
  {
   "cell_type": "markdown",
   "id": "84a33e7d",
   "metadata": {
    "id": "eEGS38W41-7L",
    "papermill": {
     "duration": 0.067999,
     "end_time": "2022-05-10T13:15:28.610016",
     "exception": false,
     "start_time": "2022-05-10T13:15:28.542017",
     "status": "completed"
    },
    "tags": []
   },
   "source": [
    "Let's display patches for a sample image"
   ]
  },
  {
   "cell_type": "code",
   "execution_count": 8,
   "id": "47bce6f1",
   "metadata": {
    "execution": {
     "iopub.execute_input": "2022-05-10T13:15:28.768982Z",
     "iopub.status.busy": "2022-05-10T13:15:28.768142Z",
     "iopub.status.idle": "2022-05-10T13:15:34.614422Z",
     "shell.execute_reply": "2022-05-10T13:15:34.615014Z",
     "shell.execute_reply.started": "2022-05-10T13:14:06.372131Z"
    },
    "id": "CMzM45sC1-7L",
    "outputId": "dd7a6534-ca0d-4e5c-b633-6eb6748d4d86",
    "papermill": {
     "duration": 5.938016,
     "end_time": "2022-05-10T13:15:34.615218",
     "exception": false,
     "start_time": "2022-05-10T13:15:28.677202",
     "status": "completed"
    },
    "tags": []
   },
   "outputs": [
    {
     "name": "stdout",
     "output_type": "stream",
     "text": [
      "Image size: 72 X 72\n",
      "Patch size: 6 X 6\n",
      "Patches per image: 144\n",
      "Elements per patch: 108\n"
     ]
    },
    {
     "data": {
      "image/png": "[encoded data removed]",
      "text/plain": [
       "<Figure size 288x288 with 1 Axes>"
      ]
     },
     "metadata": {
      "needs_background": "light"
     },
     "output_type": "display_data"
    },
    {
     "data": {
      "image/png": "[encoded data removed]",
      "text/plain": [
       "<Figure size 288x288 with 144 Axes>"
      ]
     },
     "metadata": {
      "needs_background": "light"
     },
     "output_type": "display_data"
    }
   ],
   "source": [
    "import matplotlib.pyplot as plt\n",
    "\n",
    "plt.figure(figsize=(4, 4))\n",
    "image = x_train[np.random.choice(range(x_train.shape[0]))]\n",
    "plt.imshow(image.astype(\"uint8\"))\n",
    "plt.axis(\"off\")\n",
    "\n",
    "resized_image = tf.image.resize(\n",
    "    tf.convert_to_tensor([image]), size=(image_size, image_size)\n",
    ")\n",
    "patches = Patches(patch_size)(resized_image)\n",
    "print(f\"Image size: {image_size} X {image_size}\")\n",
    "print(f\"Patch size: {patch_size} X {patch_size}\")\n",
    "print(f\"Patches per image: {patches.shape[1]}\")\n",
    "print(f\"Elements per patch: {patches.shape[-1]}\")\n",
    "\n",
    "n = int(np.sqrt(patches.shape[1]))\n",
    "plt.figure(figsize=(4, 4))\n",
    "for i, patch in enumerate(patches[0]):\n",
    "    ax = plt.subplot(n, n, i + 1)\n",
    "    patch_img = tf.reshape(patch, (patch_size, patch_size, 3))\n",
    "    plt.imshow(patch_img.numpy().astype(\"uint8\"))\n",
    "    plt.axis(\"off\")"
   ]
  },
  {
   "cell_type": "markdown",
   "id": "f4b3ded8",
   "metadata": {
    "id": "_-_aj5_Y1-7L",
    "papermill": {
     "duration": 0.077063,
     "end_time": "2022-05-10T13:15:34.767781",
     "exception": false,
     "start_time": "2022-05-10T13:15:34.690718",
     "status": "completed"
    },
    "tags": []
   },
   "source": [
    "## Implement the patch encoding layer\n",
    "\n",
    "The `PatchEncoder` layer will linearly transform a patch by projecting it into a\n",
    "vector of size `projection_dim`. In addition, it adds a learnable position\n",
    "embedding to the projected vector."
   ]
  },
  {
   "cell_type": "code",
   "execution_count": 9,
   "id": "71baa0a4",
   "metadata": {
    "execution": {
     "iopub.execute_input": "2022-05-10T13:15:34.926747Z",
     "iopub.status.busy": "2022-05-10T13:15:34.925226Z",
     "iopub.status.idle": "2022-05-10T13:15:34.927574Z",
     "shell.execute_reply": "2022-05-10T13:15:34.928174Z",
     "shell.execute_reply.started": "2022-05-10T13:14:11.652692Z"
    },
    "id": "MXL5uXva1-7M",
    "papermill": {
     "duration": 0.086307,
     "end_time": "2022-05-10T13:15:34.928367",
     "exception": false,
     "start_time": "2022-05-10T13:15:34.842060",
     "status": "completed"
    },
    "tags": []
   },
   "outputs": [],
   "source": [
    "\n",
    "class PatchEncoder(layers.Layer):\n",
    "    def __init__(self, num_patches, projection_dim):\n",
    "        super(PatchEncoder, self).__init__()\n",
    "        self.num_patches = num_patches\n",
    "        self.projection = layers.Dense(units=projection_dim)\n",
    "        self.position_embedding = layers.Embedding(\n",
    "            input_dim=num_patches, output_dim=projection_dim\n",
    "        )\n",
    "\n",
    "    def call(self, patch):\n",
    "        positions = tf.range(start=0, limit=self.num_patches, delta=1)\n",
    "        encoded = self.projection(patch) + self.position_embedding(positions)\n",
    "        return encoded\n"
   ]
  },
  {
   "cell_type": "markdown",
   "id": "a3b9333e",
   "metadata": {
    "id": "nZOb6KB_1-7M",
    "papermill": {
     "duration": 0.074231,
     "end_time": "2022-05-10T13:15:35.075745",
     "exception": false,
     "start_time": "2022-05-10T13:15:35.001514",
     "status": "completed"
    },
    "tags": []
   },
   "source": [
    "## Build the ViT model\n",
    "\n",
    "The ViT model consists of multiple Transformer blocks,\n",
    "which use the `layers.MultiHeadAttention` layer as a self-attention mechanism\n",
    "applied to the sequence of patches. The Transformer blocks produce a\n",
    "`[batch_size, num_patches, projection_dim]` tensor, which is processed via an\n",
    "classifier head with softmax to produce the final class probabilities output.\n",
    "\n",
    "Unlike the technique described in the [paper](https://arxiv.org/abs/2010.11929),\n",
    "which prepends a learnable embedding to the sequence of encoded patches to serve\n",
    "as the image representation, all the outputs of the final Transformer block are\n",
    "reshaped with `layers.Flatten()` and used as the image\n",
    "representation input to the classifier head.\n",
    "Note that the `layers.GlobalAveragePooling1D` layer\n",
    "could also be used instead to aggregate the outputs of the Transformer block,\n",
    "especially when the number of patches and the projection dimensions are large."
   ]
  },
  {
   "cell_type": "code",
   "execution_count": 10,
   "id": "c239855f",
   "metadata": {
    "execution": {
     "iopub.execute_input": "2022-05-10T13:15:35.247866Z",
     "iopub.status.busy": "2022-05-10T13:15:35.243150Z",
     "iopub.status.idle": "2022-05-10T13:15:35.251515Z",
     "shell.execute_reply": "2022-05-10T13:15:35.250760Z",
     "shell.execute_reply.started": "2022-05-10T13:14:11.654704Z"
    },
    "id": "9G_rMqu91-7M",
    "papermill": {
     "duration": 0.097729,
     "end_time": "2022-05-10T13:15:35.251729",
     "exception": false,
     "start_time": "2022-05-10T13:15:35.154000",
     "status": "completed"
    },
    "tags": []
   },
   "outputs": [],
   "source": [
    "def create_vit_classifier():\n",
    "    inputs = layers.Input(shape=input_shape)\n",
    "    # Augment data.\n",
    "    augmented = data_augmentation(inputs)\n",
    "    # Create patches.\n",
    "    patches = Patches(patch_size)(augmented)\n",
    "    # Encode patches.\n",
    "    encoded_patches = PatchEncoder(num_patches, projection_dim)(patches)\n",
    "\n",
    "    # Create multiple layers of the Transformer block.\n",
    "    for _ in range(transformer_layers):\n",
    "        # Layer normalization 1.\n",
    "        x1 = layers.LayerNormalization(epsilon=1e-6)(encoded_patches)\n",
    "        # Create a multi-head attention layer.\n",
    "        attention_output = layers.MultiHeadAttention(\n",
    "            num_heads=num_heads, key_dim=projection_dim, dropout=0.1\n",
    "        )(x1, x1)\n",
    "        # Skip connection 1.\n",
    "        x2 = layers.Add()([attention_output, encoded_patches])\n",
    "        # Layer normalization 2.\n",
    "        x3 = layers.LayerNormalization(epsilon=1e-6)(x2)\n",
    "        # MLP.\n",
    "        x3 = mlp(x3, hidden_units=transformer_units, dropout_rate=0.1)\n",
    "        # Skip connection 2.\n",
    "        encoded_patches = layers.Add()([x3, x2])\n",
    "\n",
    "    # Create a [batch_size, projection_dim] tensor.\n",
    "    representation = layers.LayerNormalization(epsilon=1e-6)(encoded_patches)\n",
    "    representation = layers.Flatten()(representation)\n",
    "    representation = layers.Dropout(0.5)(representation)\n",
    "    # Add MLP.\n",
    "    features = mlp(representation, hidden_units=mlp_head_units, dropout_rate=0.5)\n",
    "    # Classify outputs.\n",
    "    logits = layers.Dense(num_classes)(features)\n",
    "    # Create the Keras model.\n",
    "    model = keras.Model(inputs=inputs, outputs=logits)\n",
    "    return model\n"
   ]
  },
  {
   "cell_type": "markdown",
   "id": "484947fb",
   "metadata": {
    "id": "wiCpaBWw1-7N",
    "papermill": {
     "duration": 0.072283,
     "end_time": "2022-05-10T13:15:35.401002",
     "exception": false,
     "start_time": "2022-05-10T13:15:35.328719",
     "status": "completed"
    },
    "tags": []
   },
   "source": [
    "## Compile, train, and evaluate the mode"
   ]
  },
  {
   "cell_type": "code",
   "execution_count": 11,
   "id": "885d89f8",
   "metadata": {
    "execution": {
     "iopub.execute_input": "2022-05-10T13:15:35.557230Z",
     "iopub.status.busy": "2022-05-10T13:15:35.556135Z",
     "iopub.status.idle": "2022-05-10T14:32:21.954379Z",
     "shell.execute_reply": "2022-05-10T14:32:21.953821Z",
     "shell.execute_reply.started": "2022-05-10T13:14:11.656705Z"
    },
    "id": "5J_qNIby1-7N",
    "outputId": "e4b23f2c-e50e-45e7-8b3c-39c8ac2faa28",
    "papermill": {
     "duration": 4606.482346,
     "end_time": "2022-05-10T14:32:21.954523",
     "exception": false,
     "start_time": "2022-05-10T13:15:35.472177",
     "status": "completed"
    },
    "tags": []
   },
   "outputs": [
    {
     "name": "stdout",
     "output_type": "stream",
     "text": [
      "Epoch 1/100\n",
      "176/176 [==============================] - 60s 263ms/step - loss: 4.4485 - accuracy: 0.0499 - top-5-accuracy: 0.1724 - val_loss: 3.9006 - val_accuracy: 0.1078 - val_top-5-accuracy: 0.3154\n",
      "Epoch 2/100\n",
      "176/176 [==============================] - 45s 254ms/step - loss: 3.9177 - accuracy: 0.0988 - top-5-accuracy: 0.2979 - val_loss: 3.5578 - val_accuracy: 0.1590 - val_top-5-accuracy: 0.4138\n",
      "Epoch 3/100\n",
      "176/176 [==============================] - 45s 254ms/step - loss: 3.6705 - accuracy: 0.1343 - top-5-accuracy: 0.3738 - val_loss: 3.3742 - val_accuracy: 0.1946 - val_top-5-accuracy: 0.4646\n",
      "Epoch 4/100\n",
      "176/176 [==============================] - 45s 255ms/step - loss: 3.4796 - accuracy: 0.1691 - top-5-accuracy: 0.4307 - val_loss: 3.1631 - val_accuracy: 0.2316 - val_top-5-accuracy: 0.5146\n",
      "Epoch 5/100\n",
      "176/176 [==============================] - 45s 254ms/step - loss: 3.3390 - accuracy: 0.1944 - top-5-accuracy: 0.4686 - val_loss: 3.0710 - val_accuracy: 0.2492 - val_top-5-accuracy: 0.5426\n",
      "Epoch 6/100\n",
      "176/176 [==============================] - 45s 254ms/step - loss: 3.2141 - accuracy: 0.2164 - top-5-accuracy: 0.5039 - val_loss: 2.9624 - val_accuracy: 0.2750 - val_top-5-accuracy: 0.5620\n",
      "Epoch 7/100\n",
      "176/176 [==============================] - 45s 253ms/step - loss: 3.0973 - accuracy: 0.2386 - top-5-accuracy: 0.5310 - val_loss: 2.8290 - val_accuracy: 0.2956 - val_top-5-accuracy: 0.6002\n",
      "Epoch 8/100\n",
      "176/176 [==============================] - 45s 254ms/step - loss: 2.9674 - accuracy: 0.2637 - top-5-accuracy: 0.5614 - val_loss: 2.7504 - val_accuracy: 0.3144 - val_top-5-accuracy: 0.6192\n",
      "Epoch 9/100\n",
      "176/176 [==============================] - 45s 254ms/step - loss: 2.8652 - accuracy: 0.2810 - top-5-accuracy: 0.5885 - val_loss: 2.6687 - val_accuracy: 0.3326 - val_top-5-accuracy: 0.6278\n",
      "Epoch 10/100\n",
      "176/176 [==============================] - 45s 254ms/step - loss: 2.7639 - accuracy: 0.3023 - top-5-accuracy: 0.6127 - val_loss: 2.5563 - val_accuracy: 0.3504 - val_top-5-accuracy: 0.6586\n",
      "Epoch 11/100\n",
      "176/176 [==============================] - 45s 255ms/step - loss: 2.6799 - accuracy: 0.3170 - top-5-accuracy: 0.6318 - val_loss: 2.4856 - val_accuracy: 0.3640 - val_top-5-accuracy: 0.6738\n",
      "Epoch 12/100\n",
      "176/176 [==============================] - 45s 255ms/step - loss: 2.5996 - accuracy: 0.3348 - top-5-accuracy: 0.6498 - val_loss: 2.4259 - val_accuracy: 0.3786 - val_top-5-accuracy: 0.6780\n",
      "Epoch 13/100\n",
      "176/176 [==============================] - 45s 255ms/step - loss: 2.5198 - accuracy: 0.3505 - top-5-accuracy: 0.6674 - val_loss: 2.3745 - val_accuracy: 0.3874 - val_top-5-accuracy: 0.6906\n",
      "Epoch 14/100\n",
      "176/176 [==============================] - 45s 254ms/step - loss: 2.4445 - accuracy: 0.3661 - top-5-accuracy: 0.6829 - val_loss: 2.3476 - val_accuracy: 0.3966 - val_top-5-accuracy: 0.7004\n",
      "Epoch 15/100\n",
      "176/176 [==============================] - 45s 254ms/step - loss: 2.3728 - accuracy: 0.3826 - top-5-accuracy: 0.6967 - val_loss: 2.2850 - val_accuracy: 0.4106 - val_top-5-accuracy: 0.7094\n",
      "Epoch 16/100\n",
      "176/176 [==============================] - 45s 255ms/step - loss: 2.3084 - accuracy: 0.3964 - top-5-accuracy: 0.7129 - val_loss: 2.2446 - val_accuracy: 0.4208 - val_top-5-accuracy: 0.7196\n",
      "Epoch 17/100\n",
      "176/176 [==============================] - 45s 254ms/step - loss: 2.2430 - accuracy: 0.4098 - top-5-accuracy: 0.7254 - val_loss: 2.1989 - val_accuracy: 0.4268 - val_top-5-accuracy: 0.7280\n",
      "Epoch 18/100\n",
      "176/176 [==============================] - 45s 255ms/step - loss: 2.1834 - accuracy: 0.4232 - top-5-accuracy: 0.7383 - val_loss: 2.1547 - val_accuracy: 0.4316 - val_top-5-accuracy: 0.7384\n",
      "Epoch 19/100\n",
      "176/176 [==============================] - 45s 255ms/step - loss: 2.1183 - accuracy: 0.4370 - top-5-accuracy: 0.7518 - val_loss: 2.1502 - val_accuracy: 0.4386 - val_top-5-accuracy: 0.7378\n",
      "Epoch 20/100\n",
      "176/176 [==============================] - 45s 254ms/step - loss: 2.0627 - accuracy: 0.4473 - top-5-accuracy: 0.7625 - val_loss: 2.0781 - val_accuracy: 0.4600 - val_top-5-accuracy: 0.7546\n",
      "Epoch 21/100\n",
      "176/176 [==============================] - 45s 256ms/step - loss: 2.0138 - accuracy: 0.4587 - top-5-accuracy: 0.7730 - val_loss: 2.0691 - val_accuracy: 0.4606 - val_top-5-accuracy: 0.7508\n",
      "Epoch 22/100\n",
      "176/176 [==============================] - 45s 254ms/step - loss: 1.9486 - accuracy: 0.4744 - top-5-accuracy: 0.7855 - val_loss: 2.0569 - val_accuracy: 0.4662 - val_top-5-accuracy: 0.7578\n",
      "Epoch 23/100\n",
      "176/176 [==============================] - 45s 255ms/step - loss: 1.9037 - accuracy: 0.4829 - top-5-accuracy: 0.7935 - val_loss: 2.0412 - val_accuracy: 0.4632 - val_top-5-accuracy: 0.7570\n",
      "Epoch 24/100\n",
      "176/176 [==============================] - 45s 255ms/step - loss: 1.8636 - accuracy: 0.4919 - top-5-accuracy: 0.8012 - val_loss: 2.0234 - val_accuracy: 0.4688 - val_top-5-accuracy: 0.7676\n",
      "Epoch 25/100\n",
      "176/176 [==============================] - 45s 254ms/step - loss: 1.8164 - accuracy: 0.5038 - top-5-accuracy: 0.8099 - val_loss: 1.9920 - val_accuracy: 0.4776 - val_top-5-accuracy: 0.7692\n",
      "Epoch 26/100\n",
      "176/176 [==============================] - 45s 255ms/step - loss: 1.7730 - accuracy: 0.5146 - top-5-accuracy: 0.8164 - val_loss: 1.9580 - val_accuracy: 0.4890 - val_top-5-accuracy: 0.7782\n",
      "Epoch 27/100\n",
      "176/176 [==============================] - 45s 255ms/step - loss: 1.7336 - accuracy: 0.5233 - top-5-accuracy: 0.8220 - val_loss: 1.9873 - val_accuracy: 0.4782 - val_top-5-accuracy: 0.7752\n",
      "Epoch 28/100\n",
      "176/176 [==============================] - 45s 254ms/step - loss: 1.7061 - accuracy: 0.5282 - top-5-accuracy: 0.8284 - val_loss: 1.9560 - val_accuracy: 0.4860 - val_top-5-accuracy: 0.7874\n",
      "Epoch 29/100\n",
      "176/176 [==============================] - 45s 255ms/step - loss: 1.6675 - accuracy: 0.5398 - top-5-accuracy: 0.8350 - val_loss: 1.9361 - val_accuracy: 0.4846 - val_top-5-accuracy: 0.7808\n",
      "Epoch 30/100\n",
      "176/176 [==============================] - 45s 255ms/step - loss: 1.6287 - accuracy: 0.5465 - top-5-accuracy: 0.8408 - val_loss: 1.9128 - val_accuracy: 0.4966 - val_top-5-accuracy: 0.7900\n",
      "Epoch 31/100\n",
      "176/176 [==============================] - 45s 255ms/step - loss: 1.5994 - accuracy: 0.5536 - top-5-accuracy: 0.8476 - val_loss: 1.9358 - val_accuracy: 0.4958 - val_top-5-accuracy: 0.7848\n",
      "Epoch 32/100\n",
      "176/176 [==============================] - 45s 255ms/step - loss: 1.5469 - accuracy: 0.5629 - top-5-accuracy: 0.8556 - val_loss: 1.8973 - val_accuracy: 0.5072 - val_top-5-accuracy: 0.7882\n",
      "Epoch 33/100\n",
      "176/176 [==============================] - 45s 255ms/step - loss: 1.5285 - accuracy: 0.5692 - top-5-accuracy: 0.8584 - val_loss: 1.8871 - val_accuracy: 0.5090 - val_top-5-accuracy: 0.7946\n",
      "Epoch 34/100\n",
      "176/176 [==============================] - 45s 254ms/step - loss: 1.4937 - accuracy: 0.5788 - top-5-accuracy: 0.8646 - val_loss: 1.8748 - val_accuracy: 0.5140 - val_top-5-accuracy: 0.7976\n",
      "Epoch 35/100\n",
      "176/176 [==============================] - 45s 254ms/step - loss: 1.4636 - accuracy: 0.5861 - top-5-accuracy: 0.8704 - val_loss: 1.8909 - val_accuracy: 0.5074 - val_top-5-accuracy: 0.7988\n",
      "Epoch 36/100\n",
      "176/176 [==============================] - 45s 256ms/step - loss: 1.4465 - accuracy: 0.5904 - top-5-accuracy: 0.8730 - val_loss: 1.9064 - val_accuracy: 0.5048 - val_top-5-accuracy: 0.7914\n",
      "Epoch 37/100\n",
      "176/176 [==============================] - 45s 254ms/step - loss: 1.4135 - accuracy: 0.5955 - top-5-accuracy: 0.8779 - val_loss: 1.8699 - val_accuracy: 0.5106 - val_top-5-accuracy: 0.7960\n",
      "Epoch 38/100\n",
      "176/176 [==============================] - 45s 255ms/step - loss: 1.4050 - accuracy: 0.6010 - top-5-accuracy: 0.8786 - val_loss: 1.8742 - val_accuracy: 0.5166 - val_top-5-accuracy: 0.7942\n",
      "Epoch 39/100\n",
      "176/176 [==============================] - 45s 256ms/step - loss: 1.3658 - accuracy: 0.6094 - top-5-accuracy: 0.8858 - val_loss: 1.8645 - val_accuracy: 0.5224 - val_top-5-accuracy: 0.8010\n",
      "Epoch 40/100\n",
      "176/176 [==============================] - 45s 255ms/step - loss: 1.3365 - accuracy: 0.6151 - top-5-accuracy: 0.8890 - val_loss: 1.8617 - val_accuracy: 0.5104 - val_top-5-accuracy: 0.7944\n",
      "Epoch 41/100\n",
      "176/176 [==============================] - 45s 256ms/step - loss: 1.3172 - accuracy: 0.6232 - top-5-accuracy: 0.8950 - val_loss: 1.8487 - val_accuracy: 0.5166 - val_top-5-accuracy: 0.8020\n",
      "Epoch 42/100\n",
      "176/176 [==============================] - 45s 255ms/step - loss: 1.2956 - accuracy: 0.6265 - top-5-accuracy: 0.8958 - val_loss: 1.8523 - val_accuracy: 0.5296 - val_top-5-accuracy: 0.7954\n",
      "Epoch 43/100\n",
      "176/176 [==============================] - 45s 257ms/step - loss: 1.2678 - accuracy: 0.6328 - top-5-accuracy: 0.9017 - val_loss: 1.8787 - val_accuracy: 0.5228 - val_top-5-accuracy: 0.7950\n",
      "Epoch 44/100\n",
      "176/176 [==============================] - 45s 256ms/step - loss: 1.2543 - accuracy: 0.6358 - top-5-accuracy: 0.9018 - val_loss: 1.8422 - val_accuracy: 0.5248 - val_top-5-accuracy: 0.8016\n",
      "Epoch 45/100\n",
      "176/176 [==============================] - 45s 255ms/step - loss: 1.2394 - accuracy: 0.6395 - top-5-accuracy: 0.9061 - val_loss: 1.8618 - val_accuracy: 0.5184 - val_top-5-accuracy: 0.8030\n",
      "Epoch 46/100\n",
      "176/176 [==============================] - 45s 256ms/step - loss: 1.2158 - accuracy: 0.6483 - top-5-accuracy: 0.9080 - val_loss: 1.8512 - val_accuracy: 0.5334 - val_top-5-accuracy: 0.8066\n",
      "Epoch 47/100\n",
      "176/176 [==============================] - 45s 258ms/step - loss: 1.2036 - accuracy: 0.6508 - top-5-accuracy: 0.9102 - val_loss: 1.8385 - val_accuracy: 0.5280 - val_top-5-accuracy: 0.8054\n",
      "Epoch 48/100\n",
      "176/176 [==============================] - 45s 255ms/step - loss: 1.1780 - accuracy: 0.6568 - top-5-accuracy: 0.9140 - val_loss: 1.8617 - val_accuracy: 0.5288 - val_top-5-accuracy: 0.8136\n",
      "Epoch 49/100\n",
      "176/176 [==============================] - 45s 255ms/step - loss: 1.1648 - accuracy: 0.6592 - top-5-accuracy: 0.9143 - val_loss: 1.8419 - val_accuracy: 0.5274 - val_top-5-accuracy: 0.8060\n",
      "Epoch 50/100\n",
      "176/176 [==============================] - 45s 255ms/step - loss: 1.1541 - accuracy: 0.6616 - top-5-accuracy: 0.9167 - val_loss: 1.8548 - val_accuracy: 0.5376 - val_top-5-accuracy: 0.8022\n",
      "Epoch 51/100\n",
      "176/176 [==============================] - 45s 256ms/step - loss: 1.1350 - accuracy: 0.6679 - top-5-accuracy: 0.9195 - val_loss: 1.8348 - val_accuracy: 0.5340 - val_top-5-accuracy: 0.8086\n",
      "Epoch 52/100\n",
      "176/176 [==============================] - 45s 256ms/step - loss: 1.1164 - accuracy: 0.6740 - top-5-accuracy: 0.9206 - val_loss: 1.8345 - val_accuracy: 0.5370 - val_top-5-accuracy: 0.8086\n",
      "Epoch 53/100\n",
      "176/176 [==============================] - 45s 254ms/step - loss: 1.1047 - accuracy: 0.6762 - top-5-accuracy: 0.9239 - val_loss: 1.8363 - val_accuracy: 0.5350 - val_top-5-accuracy: 0.8064\n",
      "Epoch 54/100\n",
      "176/176 [==============================] - 45s 255ms/step - loss: 1.0836 - accuracy: 0.6834 - top-5-accuracy: 0.9256 - val_loss: 1.8799 - val_accuracy: 0.5344 - val_top-5-accuracy: 0.8040\n",
      "Epoch 55/100\n",
      "176/176 [==============================] - 45s 255ms/step - loss: 1.0809 - accuracy: 0.6808 - top-5-accuracy: 0.9278 - val_loss: 1.8507 - val_accuracy: 0.5364 - val_top-5-accuracy: 0.8076\n",
      "Epoch 56/100\n",
      "176/176 [==============================] - 45s 255ms/step - loss: 1.0599 - accuracy: 0.6881 - top-5-accuracy: 0.9301 - val_loss: 1.8377 - val_accuracy: 0.5288 - val_top-5-accuracy: 0.8106\n",
      "Epoch 57/100\n",
      "176/176 [==============================] - 45s 255ms/step - loss: 1.0583 - accuracy: 0.6879 - top-5-accuracy: 0.9292 - val_loss: 1.8801 - val_accuracy: 0.5328 - val_top-5-accuracy: 0.8038\n",
      "Epoch 58/100\n",
      "176/176 [==============================] - 45s 255ms/step - loss: 1.0228 - accuracy: 0.7007 - top-5-accuracy: 0.9320 - val_loss: 1.8442 - val_accuracy: 0.5358 - val_top-5-accuracy: 0.8120\n",
      "Epoch 59/100\n",
      "176/176 [==============================] - 45s 254ms/step - loss: 1.0387 - accuracy: 0.6942 - top-5-accuracy: 0.9327 - val_loss: 1.8784 - val_accuracy: 0.5282 - val_top-5-accuracy: 0.8042\n",
      "Epoch 60/100\n",
      "176/176 [==============================] - 45s 256ms/step - loss: 1.0183 - accuracy: 0.6994 - top-5-accuracy: 0.9332 - val_loss: 1.8723 - val_accuracy: 0.5332 - val_top-5-accuracy: 0.8078\n",
      "Epoch 61/100\n",
      "176/176 [==============================] - 45s 255ms/step - loss: 0.9979 - accuracy: 0.7037 - top-5-accuracy: 0.9367 - val_loss: 1.8533 - val_accuracy: 0.5384 - val_top-5-accuracy: 0.8146\n",
      "Epoch 62/100\n",
      "176/176 [==============================] - 45s 254ms/step - loss: 0.9986 - accuracy: 0.7043 - top-5-accuracy: 0.9357 - val_loss: 1.8635 - val_accuracy: 0.5342 - val_top-5-accuracy: 0.8128\n",
      "Epoch 63/100\n",
      "176/176 [==============================] - 45s 255ms/step - loss: 0.9713 - accuracy: 0.7106 - top-5-accuracy: 0.9404 - val_loss: 1.8850 - val_accuracy: 0.5250 - val_top-5-accuracy: 0.8022\n",
      "Epoch 64/100\n",
      "176/176 [==============================] - 45s 255ms/step - loss: 0.9688 - accuracy: 0.7125 - top-5-accuracy: 0.9393 - val_loss: 1.8735 - val_accuracy: 0.5338 - val_top-5-accuracy: 0.8130\n",
      "Epoch 65/100\n",
      "176/176 [==============================] - 45s 254ms/step - loss: 0.9677 - accuracy: 0.7109 - top-5-accuracy: 0.9408 - val_loss: 1.8681 - val_accuracy: 0.5402 - val_top-5-accuracy: 0.8138\n",
      "Epoch 66/100\n",
      "176/176 [==============================] - 45s 255ms/step - loss: 0.9523 - accuracy: 0.7159 - top-5-accuracy: 0.9423 - val_loss: 1.8768 - val_accuracy: 0.5370 - val_top-5-accuracy: 0.8110\n",
      "Epoch 67/100\n",
      "176/176 [==============================] - 45s 256ms/step - loss: 0.9462 - accuracy: 0.7192 - top-5-accuracy: 0.9424 - val_loss: 1.8766 - val_accuracy: 0.5318 - val_top-5-accuracy: 0.8094\n",
      "Epoch 68/100\n",
      "176/176 [==============================] - 45s 254ms/step - loss: 0.9442 - accuracy: 0.7199 - top-5-accuracy: 0.9435 - val_loss: 1.8660 - val_accuracy: 0.5396 - val_top-5-accuracy: 0.8136\n",
      "Epoch 69/100\n",
      "176/176 [==============================] - 45s 255ms/step - loss: 0.9188 - accuracy: 0.7237 - top-5-accuracy: 0.9479 - val_loss: 1.8855 - val_accuracy: 0.5366 - val_top-5-accuracy: 0.8108\n",
      "Epoch 70/100\n",
      "176/176 [==============================] - 45s 255ms/step - loss: 0.9313 - accuracy: 0.7252 - top-5-accuracy: 0.9445 - val_loss: 1.8610 - val_accuracy: 0.5416 - val_top-5-accuracy: 0.8142\n",
      "Epoch 71/100\n",
      "176/176 [==============================] - 45s 253ms/step - loss: 0.9090 - accuracy: 0.7286 - top-5-accuracy: 0.9483 - val_loss: 1.8744 - val_accuracy: 0.5394 - val_top-5-accuracy: 0.8170\n",
      "Epoch 72/100\n",
      "176/176 [==============================] - 45s 255ms/step - loss: 0.9129 - accuracy: 0.7271 - top-5-accuracy: 0.9483 - val_loss: 1.9026 - val_accuracy: 0.5396 - val_top-5-accuracy: 0.8106\n",
      "Epoch 73/100\n",
      "176/176 [==============================] - 45s 257ms/step - loss: 0.8930 - accuracy: 0.7343 - top-5-accuracy: 0.9491 - val_loss: 1.8425 - val_accuracy: 0.5440 - val_top-5-accuracy: 0.8154\n",
      "Epoch 74/100\n",
      "176/176 [==============================] - 44s 253ms/step - loss: 0.8789 - accuracy: 0.7357 - top-5-accuracy: 0.9496 - val_loss: 1.8561 - val_accuracy: 0.5340 - val_top-5-accuracy: 0.8106\n",
      "Epoch 75/100\n",
      "176/176 [==============================] - 45s 255ms/step - loss: 0.8909 - accuracy: 0.7343 - top-5-accuracy: 0.9493 - val_loss: 1.8676 - val_accuracy: 0.5434 - val_top-5-accuracy: 0.8180\n",
      "Epoch 76/100\n",
      "176/176 [==============================] - 45s 255ms/step - loss: 0.8666 - accuracy: 0.7398 - top-5-accuracy: 0.9520 - val_loss: 1.8815 - val_accuracy: 0.5444 - val_top-5-accuracy: 0.8114\n",
      "Epoch 77/100\n",
      "176/176 [==============================] - 45s 254ms/step - loss: 0.8722 - accuracy: 0.7398 - top-5-accuracy: 0.9499 - val_loss: 1.8600 - val_accuracy: 0.5474 - val_top-5-accuracy: 0.8192\n",
      "Epoch 78/100\n",
      "176/176 [==============================] - 45s 256ms/step - loss: 0.8579 - accuracy: 0.7445 - top-5-accuracy: 0.9512 - val_loss: 1.8926 - val_accuracy: 0.5484 - val_top-5-accuracy: 0.8100\n",
      "Epoch 79/100\n",
      "176/176 [==============================] - 45s 254ms/step - loss: 0.8516 - accuracy: 0.7450 - top-5-accuracy: 0.9527 - val_loss: 1.8857 - val_accuracy: 0.5442 - val_top-5-accuracy: 0.8112\n",
      "Epoch 80/100\n",
      "176/176 [==============================] - 45s 255ms/step - loss: 0.8672 - accuracy: 0.7429 - top-5-accuracy: 0.9520 - val_loss: 1.8971 - val_accuracy: 0.5416 - val_top-5-accuracy: 0.8158\n",
      "Epoch 81/100\n",
      "176/176 [==============================] - 45s 256ms/step - loss: 0.8505 - accuracy: 0.7436 - top-5-accuracy: 0.9538 - val_loss: 1.8752 - val_accuracy: 0.5488 - val_top-5-accuracy: 0.8144\n",
      "Epoch 82/100\n",
      "176/176 [==============================] - 45s 254ms/step - loss: 0.8363 - accuracy: 0.7501 - top-5-accuracy: 0.9551 - val_loss: 1.9077 - val_accuracy: 0.5458 - val_top-5-accuracy: 0.8130\n",
      "Epoch 83/100\n",
      "176/176 [==============================] - 45s 255ms/step - loss: 0.8308 - accuracy: 0.7497 - top-5-accuracy: 0.9546 - val_loss: 1.8831 - val_accuracy: 0.5488 - val_top-5-accuracy: 0.8178\n",
      "Epoch 84/100\n",
      "176/176 [==============================] - 45s 257ms/step - loss: 0.8293 - accuracy: 0.7538 - top-5-accuracy: 0.9560 - val_loss: 1.9000 - val_accuracy: 0.5476 - val_top-5-accuracy: 0.8116\n",
      "Epoch 85/100\n",
      "176/176 [==============================] - 45s 253ms/step - loss: 0.8302 - accuracy: 0.7488 - top-5-accuracy: 0.9566 - val_loss: 1.8999 - val_accuracy: 0.5482 - val_top-5-accuracy: 0.8154\n",
      "Epoch 86/100\n",
      "176/176 [==============================] - 45s 255ms/step - loss: 0.8155 - accuracy: 0.7538 - top-5-accuracy: 0.9570 - val_loss: 1.8781 - val_accuracy: 0.5388 - val_top-5-accuracy: 0.8118\n",
      "Epoch 87/100\n",
      "176/176 [==============================] - 45s 255ms/step - loss: 0.8160 - accuracy: 0.7554 - top-5-accuracy: 0.9566 - val_loss: 1.8660 - val_accuracy: 0.5430 - val_top-5-accuracy: 0.8182\n",
      "Epoch 88/100\n",
      "176/176 [==============================] - 45s 254ms/step - loss: 0.8097 - accuracy: 0.7574 - top-5-accuracy: 0.9575 - val_loss: 1.9176 - val_accuracy: 0.5398 - val_top-5-accuracy: 0.8086\n",
      "Epoch 89/100\n",
      "176/176 [==============================] - 45s 256ms/step - loss: 0.8046 - accuracy: 0.7597 - top-5-accuracy: 0.9580 - val_loss: 1.9109 - val_accuracy: 0.5410 - val_top-5-accuracy: 0.8122\n",
      "Epoch 90/100\n",
      "176/176 [==============================] - 45s 253ms/step - loss: 0.7953 - accuracy: 0.7629 - top-5-accuracy: 0.9586 - val_loss: 1.8942 - val_accuracy: 0.5446 - val_top-5-accuracy: 0.8130\n",
      "Epoch 91/100\n",
      "176/176 [==============================] - 45s 256ms/step - loss: 0.8030 - accuracy: 0.7571 - top-5-accuracy: 0.9578 - val_loss: 1.9196 - val_accuracy: 0.5352 - val_top-5-accuracy: 0.8094\n",
      "Epoch 92/100\n",
      "176/176 [==============================] - 45s 256ms/step - loss: 0.7918 - accuracy: 0.7619 - top-5-accuracy: 0.9594 - val_loss: 1.9065 - val_accuracy: 0.5450 - val_top-5-accuracy: 0.8148\n",
      "Epoch 93/100\n",
      "176/176 [==============================] - 45s 253ms/step - loss: 0.7907 - accuracy: 0.7602 - top-5-accuracy: 0.9590 - val_loss: 1.8690 - val_accuracy: 0.5436 - val_top-5-accuracy: 0.8138\n",
      "Epoch 94/100\n",
      "176/176 [==============================] - 45s 256ms/step - loss: 0.7838 - accuracy: 0.7637 - top-5-accuracy: 0.9600 - val_loss: 1.9049 - val_accuracy: 0.5402 - val_top-5-accuracy: 0.8120\n",
      "Epoch 95/100\n",
      "176/176 [==============================] - 45s 255ms/step - loss: 0.7825 - accuracy: 0.7660 - top-5-accuracy: 0.9593 - val_loss: 1.8946 - val_accuracy: 0.5450 - val_top-5-accuracy: 0.8116\n",
      "Epoch 96/100\n",
      "176/176 [==============================] - 45s 257ms/step - loss: 0.7714 - accuracy: 0.7664 - top-5-accuracy: 0.9620 - val_loss: 1.9646 - val_accuracy: 0.5414 - val_top-5-accuracy: 0.8064\n",
      "Epoch 97/100\n",
      "176/176 [==============================] - 45s 257ms/step - loss: 0.7569 - accuracy: 0.7712 - top-5-accuracy: 0.9639 - val_loss: 1.8999 - val_accuracy: 0.5424 - val_top-5-accuracy: 0.8066\n",
      "Epoch 98/100\n",
      "176/176 [==============================] - 45s 254ms/step - loss: 0.7636 - accuracy: 0.7700 - top-5-accuracy: 0.9604 - val_loss: 1.9198 - val_accuracy: 0.5448 - val_top-5-accuracy: 0.8084\n",
      "Epoch 99/100\n",
      "176/176 [==============================] - 45s 258ms/step - loss: 0.7568 - accuracy: 0.7708 - top-5-accuracy: 0.9631 - val_loss: 1.8947 - val_accuracy: 0.5452 - val_top-5-accuracy: 0.8158\n",
      "Epoch 100/100\n",
      "176/176 [==============================] - 45s 255ms/step - loss: 0.7559 - accuracy: 0.7712 - top-5-accuracy: 0.9625 - val_loss: 1.8942 - val_accuracy: 0.5412 - val_top-5-accuracy: 0.8148\n",
      "313/313 [==============================] - 8s 26ms/step - loss: 1.8536 - accuracy: 0.5481 - top-5-accuracy: 0.8159\n",
      "Test accuracy: 54.81%\n",
      "Test top 5 accuracy: 81.59%\n"
     ]
    }
   ],
   "source": [
    "def run_experiment(model):\n",
    "    #(le llegan los gradientes)\n",
    "    #los optimizadores encargados del paso de la actualización de pesos\n",
    "    optimizer = tfa.optimizers.AdamW(\n",
    "        learning_rate=learning_rate, weight_decay=weight_decay\n",
    "    )\n",
    "\n",
    "    model.compile(\n",
    "        optimizer=optimizer,\n",
    "        loss=keras.losses.SparseCategoricalCrossentropy(from_logits=True),\n",
    "        metrics=[\n",
    "            keras.metrics.SparseCategoricalAccuracy(name=\"accuracy\"),\n",
    "            keras.metrics.SparseTopKCategoricalAccuracy(5, name=\"top-5-accuracy\"),\n",
    "        ],\n",
    "    )\n",
    "\n",
    "    checkpoint_filepath = \"/tmp/checkpoint\"\n",
    "    checkpoint_callback = keras.callbacks.ModelCheckpoint(\n",
    "        checkpoint_filepath,\n",
    "        monitor=\"val_accuracy\",\n",
    "        save_best_only=True,\n",
    "        save_weights_only=True,\n",
    "    )\n",
    "\n",
    "    history = model.fit(\n",
    "        x=x_train,\n",
    "        y=y_train,\n",
    "        batch_size=batch_size,\n",
    "        epochs=num_epochs,\n",
    "        validation_split=0.1,\n",
    "        callbacks=[checkpoint_callback],\n",
    "    )\n",
    "\n",
    "    model.load_weights(checkpoint_filepath)\n",
    "    _, accuracy, top_5_accuracy = model.evaluate(x_test, y_test)\n",
    "    print(f\"Test accuracy: {round(accuracy * 100, 2)}%\")\n",
    "    print(f\"Test top 5 accuracy: {round(top_5_accuracy * 100, 2)}%\")\n",
    "\n",
    "    return history\n",
    "\n",
    "\n",
    "vit_classifier = create_vit_classifier()\n",
    "history = run_experiment(vit_classifier)"
   ]
  },
  {
   "cell_type": "markdown",
   "id": "6bc48503",
   "metadata": {
    "id": "dRU7kh6R1-7N",
    "papermill": {
     "duration": 7.436206,
     "end_time": "2022-05-10T14:32:36.904596",
     "exception": false,
     "start_time": "2022-05-10T14:32:29.468390",
     "status": "completed"
    },
    "tags": []
   },
   "source": [
    "After 100 epochs, the ViT model achieves around 55% accuracy and\n",
    "82% top-5 accuracy on the test data. These are not competitive results on the CIFAR-100 dataset,\n",
    "as a ResNet50V2 trained from scratch on the same data can achieve 67% accuracy.\n",
    "\n",
    "Note that the state of the art results reported in the\n",
    "[paper](https://arxiv.org/abs/2010.11929) are achieved by pre-training the ViT model using\n",
    "the JFT-300M dataset, then fine-tuning it on the target dataset. To improve the model quality\n",
    "without pre-training, you can try to train the model for more epochs, use a larger number of\n",
    "Transformer layers, resize the input images, change the patch size, or increase the projection dimensions. \n",
    "Besides, as mentioned in the paper, the quality of the model is affected not only by architecture choices, \n",
    "but also by parameters such as the learning rate schedule, optimizer, weight decay, etc.\n",
    "In practice, it's recommended to fine-tune a ViT model\n",
    "that was pre-trained using a large, high-resolution dataset."
   ]
  },
  {
   "cell_type": "markdown",
   "id": "f875f21a",
   "metadata": {
    "papermill": {
     "duration": 8.369733,
     "end_time": "2022-05-10T14:32:52.856248",
     "exception": false,
     "start_time": "2022-05-10T14:32:44.486515",
     "status": "completed"
    },
    "tags": []
   },
   "source": [
    "# Performance of model"
   ]
  },
  {
   "cell_type": "code",
   "execution_count": 12,
   "id": "d4f5cb08",
   "metadata": {
    "execution": {
     "iopub.execute_input": "2022-05-10T14:33:07.916194Z",
     "iopub.status.busy": "2022-05-10T14:33:07.913087Z",
     "iopub.status.idle": "2022-05-10T14:33:08.151087Z",
     "shell.execute_reply": "2022-05-10T14:33:08.150548Z",
     "shell.execute_reply.started": "2022-05-10T13:14:11.658624Z"
    },
    "papermill": {
     "duration": 7.630268,
     "end_time": "2022-05-10T14:33:08.151261",
     "exception": false,
     "start_time": "2022-05-10T14:33:00.520993",
     "status": "completed"
    },
    "tags": []
   },
   "outputs": [
    {
     "data": {
      "image/png": "[encoded data removed]",
      "text/plain": [
       "<Figure size 432x288 with 1 Axes>"
      ]
     },
     "metadata": {
      "needs_background": "light"
     },
     "output_type": "display_data"
    }
   ],
   "source": [
    "# accuracies\n",
    "plt.plot(history.history['accuracy'], label='train acc')\n",
    "plt.plot(history.history['val_accuracy'], label='val acc')\n",
    "plt.legend()\n",
    "plt.show()"
   ]
  },
  {
   "cell_type": "code",
   "execution_count": 13,
   "id": "855a411b",
   "metadata": {
    "execution": {
     "iopub.execute_input": "2022-05-10T14:33:23.596201Z",
     "iopub.status.busy": "2022-05-10T14:33:23.594630Z",
     "iopub.status.idle": "2022-05-10T14:33:23.815676Z",
     "shell.execute_reply": "2022-05-10T14:33:23.816304Z",
     "shell.execute_reply.started": "2022-05-10T13:14:11.660536Z"
    },
    "papermill": {
     "duration": 7.960745,
     "end_time": "2022-05-10T14:33:23.816487",
     "exception": false,
     "start_time": "2022-05-10T14:33:15.855742",
     "status": "completed"
    },
    "tags": []
   },
   "outputs": [
    {
     "data": {
      "image/png": "[encoded data removed]",
      "text/plain": [
       "<Figure size 432x288 with 1 Axes>"
      ]
     },
     "metadata": {
      "needs_background": "light"
     },
     "output_type": "display_data"
    }
   ],
   "source": [
    "# loss\n",
    "plt.plot(history.history['loss'], label='train loss')\n",
    "plt.plot(history.history['val_loss'], label='val loss')\n",
    "plt.legend()\n",
    "plt.show()"
   ]
  },
  {
   "cell_type": "markdown",
   "id": "928b4fd2",
   "metadata": {
    "papermill": {
     "duration": 7.561957,
     "end_time": "2022-05-10T14:33:39.892882",
     "exception": false,
     "start_time": "2022-05-10T14:33:32.330925",
     "status": "completed"
    },
    "tags": []
   },
   "source": [
    "# Model Evaluation"
   ]
  },
  {
   "cell_type": "code",
   "execution_count": 14,
   "id": "77bb59f8",
   "metadata": {
    "execution": {
     "iopub.execute_input": "2022-05-10T14:33:55.303513Z",
     "iopub.status.busy": "2022-05-10T14:33:55.302713Z",
     "iopub.status.idle": "2022-05-10T14:33:59.865205Z",
     "shell.execute_reply": "2022-05-10T14:33:59.864628Z",
     "shell.execute_reply.started": "2022-05-10T13:14:11.662514Z"
    },
    "papermill": {
     "duration": 12.227053,
     "end_time": "2022-05-10T14:33:59.865379",
     "exception": false,
     "start_time": "2022-05-10T14:33:47.638326",
     "status": "completed"
    },
    "tags": []
   },
   "outputs": [
    {
     "name": "stderr",
     "output_type": "stream",
     "text": [
      "/opt/conda/lib/python3.7/site-packages/geopandas/_compat.py:115: UserWarning: The Shapely GEOS version (3.9.1-CAPI-1.14.2) is incompatible with the GEOS version PyGEOS was compiled with (3.10.1-CAPI-1.16.0). Conversions between both will be slow.\n",
      "  shapely_geos_version, geos_capi_version_string\n"
     ]
    }
   ],
   "source": [
    "from sklearn.metrics import accuracy_score,classification_report,confusion_matrix\n",
    "from sklearn.utils.multiclass import unique_labels\n",
    "import numpy as np\n",
    "import pandas as pd\n",
    "import plotly.figure_factory as ff"
   ]
  },
  {
   "cell_type": "code",
   "execution_count": 15,
   "id": "02cedd5a",
   "metadata": {
    "execution": {
     "iopub.execute_input": "2022-05-10T14:34:14.869741Z",
     "iopub.status.busy": "2022-05-10T14:34:14.868776Z",
     "iopub.status.idle": "2022-05-10T14:34:27.637740Z",
     "shell.execute_reply": "2022-05-10T14:34:27.638541Z",
     "shell.execute_reply.started": "2022-05-10T13:14:11.664469Z"
    },
    "papermill": {
     "duration": 20.136973,
     "end_time": "2022-05-10T14:34:27.638805",
     "exception": false,
     "start_time": "2022-05-10T14:34:07.501832",
     "status": "completed"
    },
    "tags": []
   },
   "outputs": [
    {
     "data": {
      "image/png": "[encoded data removed]",
      "text/plain": [
       "<Figure size 432x288 with 10 Axes>"
      ]
     },
     "metadata": {
      "needs_background": "light"
     },
     "output_type": "display_data"
    }
   ],
   "source": [
    "#predict\n",
    "predictions = vit_classifier.predict(x_test)\n",
    "predictions = np.argmax(predictions,axis=1)\n",
    "plt.figure()\n",
    "for i in range(10):\n",
    "    ax = plt.subplot(2, 5, i + 1)\n",
    "    ax.imshow(x_test[i].astype(\"uint8\"))\n",
    "    ax.axis(\"off\")\n",
    "    ax.set_title(predictions[i])"
   ]
  },
  {
   "cell_type": "code",
   "execution_count": 16,
   "id": "c3f1e61e",
   "metadata": {
    "execution": {
     "iopub.execute_input": "2022-05-10T14:34:43.669422Z",
     "iopub.status.busy": "2022-05-10T14:34:43.668359Z",
     "iopub.status.idle": "2022-05-10T14:34:43.745334Z",
     "shell.execute_reply": "2022-05-10T14:34:43.744749Z",
     "shell.execute_reply.started": "2022-05-10T13:14:11.666406Z"
    },
    "papermill": {
     "duration": 7.897538,
     "end_time": "2022-05-10T14:34:43.745509",
     "exception": false,
     "start_time": "2022-05-10T14:34:35.847971",
     "status": "completed"
    },
    "tags": []
   },
   "outputs": [
    {
     "data": {
      "text/html": [
       "<div>\n",
       "<style scoped>\n",
       "    .dataframe tbody tr th:only-of-type {\n",
       "        vertical-align: middle;\n",
       "    }\n",
       "\n",
       "    .dataframe tbody tr th {\n",
       "        vertical-align: top;\n",
       "    }\n",
       "\n",
       "    .dataframe thead th {\n",
       "        text-align: right;\n",
       "    }\n",
       "</style>\n",
       "<table border=\"1\" class=\"dataframe\">\n",
       "  <thead>\n",
       "    <tr style=\"text-align: right;\">\n",
       "      <th></th>\n",
       "      <th>precision</th>\n",
       "      <th>recall</th>\n",
       "      <th>f1-score</th>\n",
       "      <th>support</th>\n",
       "    </tr>\n",
       "  </thead>\n",
       "  <tbody>\n",
       "    <tr>\n",
       "      <th>0</th>\n",
       "      <td>0.720721</td>\n",
       "      <td>0.8000</td>\n",
       "      <td>0.758294</td>\n",
       "      <td>100.0000</td>\n",
       "    </tr>\n",
       "    <tr>\n",
       "      <th>1</th>\n",
       "      <td>0.660714</td>\n",
       "      <td>0.7400</td>\n",
       "      <td>0.698113</td>\n",
       "      <td>100.0000</td>\n",
       "    </tr>\n",
       "    <tr>\n",
       "      <th>2</th>\n",
       "      <td>0.367188</td>\n",
       "      <td>0.4700</td>\n",
       "      <td>0.412281</td>\n",
       "      <td>100.0000</td>\n",
       "    </tr>\n",
       "    <tr>\n",
       "      <th>3</th>\n",
       "      <td>0.369565</td>\n",
       "      <td>0.3400</td>\n",
       "      <td>0.354167</td>\n",
       "      <td>100.0000</td>\n",
       "    </tr>\n",
       "    <tr>\n",
       "      <th>4</th>\n",
       "      <td>0.464789</td>\n",
       "      <td>0.3300</td>\n",
       "      <td>0.385965</td>\n",
       "      <td>100.0000</td>\n",
       "    </tr>\n",
       "    <tr>\n",
       "      <th>...</th>\n",
       "      <td>...</td>\n",
       "      <td>...</td>\n",
       "      <td>...</td>\n",
       "      <td>...</td>\n",
       "    </tr>\n",
       "    <tr>\n",
       "      <th>98</th>\n",
       "      <td>0.268657</td>\n",
       "      <td>0.1800</td>\n",
       "      <td>0.215569</td>\n",
       "      <td>100.0000</td>\n",
       "    </tr>\n",
       "    <tr>\n",
       "      <th>99</th>\n",
       "      <td>0.595960</td>\n",
       "      <td>0.5900</td>\n",
       "      <td>0.592965</td>\n",
       "      <td>100.0000</td>\n",
       "    </tr>\n",
       "    <tr>\n",
       "      <th>accuracy</th>\n",
       "      <td>0.548100</td>\n",
       "      <td>0.5481</td>\n",
       "      <td>0.548100</td>\n",
       "      <td>0.5481</td>\n",
       "    </tr>\n",
       "    <tr>\n",
       "      <th>macro avg</th>\n",
       "      <td>0.556810</td>\n",
       "      <td>0.5481</td>\n",
       "      <td>0.545498</td>\n",
       "      <td>10000.0000</td>\n",
       "    </tr>\n",
       "    <tr>\n",
       "      <th>weighted avg</th>\n",
       "      <td>0.556810</td>\n",
       "      <td>0.5481</td>\n",
       "      <td>0.545498</td>\n",
       "      <td>10000.0000</td>\n",
       "    </tr>\n",
       "  </tbody>\n",
       "</table>\n",
       "<p>103 rows × 4 columns</p>\n",
       "</div>"
      ],
      "text/plain": [
       "              precision  recall  f1-score     support\n",
       "0              0.720721  0.8000  0.758294    100.0000\n",
       "1              0.660714  0.7400  0.698113    100.0000\n",
       "2              0.367188  0.4700  0.412281    100.0000\n",
       "3              0.369565  0.3400  0.354167    100.0000\n",
       "4              0.464789  0.3300  0.385965    100.0000\n",
       "...                 ...     ...       ...         ...\n",
       "98             0.268657  0.1800  0.215569    100.0000\n",
       "99             0.595960  0.5900  0.592965    100.0000\n",
       "accuracy       0.548100  0.5481  0.548100      0.5481\n",
       "macro avg      0.556810  0.5481  0.545498  10000.0000\n",
       "weighted avg   0.556810  0.5481  0.545498  10000.0000\n",
       "\n",
       "[103 rows x 4 columns]"
      ]
     },
     "execution_count": 16,
     "metadata": {},
     "output_type": "execute_result"
    }
   ],
   "source": [
    "#get classification report\n",
    "report = classification_report(y_test, predictions, output_dict=True)\n",
    "pd.DataFrame(report).T"
   ]
  }
 ],
 "metadata": {
  "kernelspec": {
   "display_name": "Python 3",
   "language": "python",
   "name": "python3"
  },
  "language_info": {
   "codemirror_mode": {
    "name": "ipython",
    "version": 3
   },
   "file_extension": ".py",
   "mimetype": "text/x-python",
   "name": "python",
   "nbconvert_exporter": "python",
   "pygments_lexer": "ipython3",
   "version": "3.7.12"
  },
  "papermill": {
   "default_parameters": {},
   "duration": 4811.25167,
   "end_time": "2022-05-10T14:34:54.746050",
   "environment_variables": {},
   "exception": null,
   "input_path": "__notebook__.ipynb",
   "output_path": "__notebook__.ipynb",
   "parameters": {},
   "start_time": "2022-05-10T13:14:43.494380",
   "version": "2.3.3"
  }
 },
 "nbformat": 4,
 "nbformat_minor": 5
}
