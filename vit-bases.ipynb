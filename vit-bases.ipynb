{
 "cells": [
  {
   "cell_type": "markdown",
   "id": "3f067d18",
   "metadata": {
    "id": "zSsvKumT1-7B",
    "papermill": {
     "duration": 0.022648,
     "end_time": "2022-05-29T10:23:52.610488",
     "exception": false,
     "start_time": "2022-05-29T10:23:52.587840",
     "status": "completed"
    },
    "tags": []
   },
   "source": [
    "# Image classification with Vision Transformer\n",
    "\n",
    "**Author:** [Khalid Salama](https://www.linkedin.com/in/khalid-salama-24403144/)<br>\n",
    "**Date created:** 2021/01/18<br>\n",
    "**Last modified:** 2021/01/18<br>\n",
    "**Description:** Implementing the Vision Transformer (ViT) model for image classification."
   ]
  },
  {
   "cell_type": "markdown",
   "id": "7e9adb3f",
   "metadata": {
    "id": "Pf0rxx431-7E",
    "papermill": {
     "duration": 0.021294,
     "end_time": "2022-05-29T10:23:52.653164",
     "exception": false,
     "start_time": "2022-05-29T10:23:52.631870",
     "status": "completed"
    },
    "tags": []
   },
   "source": [
    "## Introduction\n",
    "\n",
    "This example implements the [Vision Transformer (ViT)](https://arxiv.org/abs/2010.11929)\n",
    "model by Alexey Dosovitskiy et al. for image classification,\n",
    "and demonstrates it on the CIFAR-100 dataset.\n",
    "The ViT model applies the Transformer architecture with self-attention to sequences of\n",
    "image patches, without using convolution layers.\n",
    "\n",
    "This example requires TensorFlow 2.4 or higher, as well as\n",
    "[TensorFlow Addons](https://www.tensorflow.org/addons/overview),\n",
    "which can be installed using the following command:\n",
    "\n",
    "```python\n",
    "pip install -U tensorflow-addons\n",
    "```"
   ]
  },
  {
   "cell_type": "markdown",
   "id": "a7fd340f",
   "metadata": {
    "id": "17tJq5YD1-7F",
    "papermill": {
     "duration": 0.020911,
     "end_time": "2022-05-29T10:23:52.695063",
     "exception": false,
     "start_time": "2022-05-29T10:23:52.674152",
     "status": "completed"
    },
    "tags": []
   },
   "source": [
    "## Setup"
   ]
  },
  {
   "cell_type": "code",
   "execution_count": 1,
   "id": "52069c69",
   "metadata": {
    "execution": {
     "iopub.execute_input": "2022-05-29T10:23:52.749787Z",
     "iopub.status.busy": "2022-05-29T10:23:52.749023Z",
     "iopub.status.idle": "2022-05-29T10:24:01.531996Z",
     "shell.execute_reply": "2022-05-29T10:24:01.531360Z",
     "shell.execute_reply.started": "2022-05-10T13:14:00.733955Z"
    },
    "id": "RpBNXZo-7FNO",
    "outputId": "656e7388-bba7-4f3a-eb7c-f4da6a855b23",
    "papermill": {
     "duration": 8.815355,
     "end_time": "2022-05-29T10:24:01.532145",
     "exception": false,
     "start_time": "2022-05-29T10:23:52.716790",
     "status": "completed"
    },
    "tags": []
   },
   "outputs": [
    {
     "name": "stdout",
     "output_type": "stream",
     "text": [
      "Requirement already satisfied: tensorflow_addons in /opt/conda/lib/python3.7/site-packages (0.14.0)\r\n",
      "Requirement already satisfied: typeguard>=2.7 in /opt/conda/lib/python3.7/site-packages (from tensorflow_addons) (2.13.3)\r\n",
      "\u001b[33mWARNING: Running pip as the 'root' user can result in broken permissions and conflicting behaviour with the system package manager. It is recommended to use a virtual environment instead: https://pip.pypa.io/warnings/venv\u001b[0m\r\n"
     ]
    }
   ],
   "source": [
    "!pip install tensorflow_addons"
   ]
  },
  {
   "cell_type": "code",
   "execution_count": 2,
   "id": "2205e239",
   "metadata": {
    "execution": {
     "iopub.execute_input": "2022-05-29T10:24:01.582052Z",
     "iopub.status.busy": "2022-05-29T10:24:01.581486Z",
     "iopub.status.idle": "2022-05-29T10:24:07.238913Z",
     "shell.execute_reply": "2022-05-29T10:24:07.237920Z",
     "shell.execute_reply.started": "2022-05-10T13:14:02.372398Z"
    },
    "id": "TOgzPiM11-7F",
    "papermill": {
     "duration": 5.684155,
     "end_time": "2022-05-29T10:24:07.239062",
     "exception": false,
     "start_time": "2022-05-29T10:24:01.554907",
     "status": "completed"
    },
    "tags": []
   },
   "outputs": [],
   "source": [
    "import numpy as np\n",
    "import tensorflow as tf\n",
    "from tensorflow import keras\n",
    "from tensorflow.keras import layers\n",
    "import tensorflow_addons as tfa"
   ]
  },
  {
   "cell_type": "markdown",
   "id": "9e6dfe9b",
   "metadata": {
    "id": "BvuCtxkv1-7G",
    "papermill": {
     "duration": 0.022814,
     "end_time": "2022-05-29T10:24:07.285936",
     "exception": false,
     "start_time": "2022-05-29T10:24:07.263122",
     "status": "completed"
    },
    "tags": []
   },
   "source": [
    "## Prepare the data"
   ]
  },
  {
   "cell_type": "markdown",
   "id": "86990aab",
   "metadata": {
    "id": "e53arMEc7itJ",
    "papermill": {
     "duration": 0.021736,
     "end_time": "2022-05-29T10:24:07.329944",
     "exception": false,
     "start_time": "2022-05-29T10:24:07.308208",
     "status": "completed"
    },
    "tags": []
   },
   "source": [
    "Aquí cambiaríamos de CIFAR a MINST o la FINAL de clasificación"
   ]
  },
  {
   "cell_type": "code",
   "execution_count": 3,
   "id": "57cec14e",
   "metadata": {
    "execution": {
     "iopub.execute_input": "2022-05-29T10:24:07.381457Z",
     "iopub.status.busy": "2022-05-29T10:24:07.380547Z",
     "iopub.status.idle": "2022-05-29T10:24:22.095959Z",
     "shell.execute_reply": "2022-05-29T10:24:22.095001Z",
     "shell.execute_reply.started": "2022-05-10T13:14:02.380027Z"
    },
    "id": "s103Rdnt1-7H",
    "outputId": "dcead731-d3ec-486d-d852-7477e2dccf7d",
    "papermill": {
     "duration": 14.74266,
     "end_time": "2022-05-29T10:24:22.096123",
     "exception": false,
     "start_time": "2022-05-29T10:24:07.353463",
     "status": "completed"
    },
    "tags": []
   },
   "outputs": [
    {
     "name": "stdout",
     "output_type": "stream",
     "text": [
      "Downloading data from https://www.cs.toronto.edu/~kriz/cifar-10-python.tar.gz\n",
      "170500096/170498071 [==============================] - 11s 0us/step\n",
      "170508288/170498071 [==============================] - 11s 0us/step\n",
      "x_train shape: (50000, 32, 32, 3) - y_train shape: (50000, 1)\n",
      "x_test shape: (10000, 32, 32, 3) - y_test shape: (10000, 1)\n"
     ]
    }
   ],
   "source": [
    "num_classes = 10\n",
    "input_shape = (32, 32, 3)\n",
    "\n",
    "(x_train, y_train), (x_test, y_test) = keras.datasets.cifar10.load_data()\n",
    "\n",
    "print(f\"x_train shape: {x_train.shape} - y_train shape: {y_train.shape}\")\n",
    "print(f\"x_test shape: {x_test.shape} - y_test shape: {y_test.shape}\")\n"
   ]
  },
  {
   "cell_type": "markdown",
   "id": "313aa8ab",
   "metadata": {
    "id": "TALsq-qi1-7H",
    "papermill": {
     "duration": 0.057325,
     "end_time": "2022-05-29T10:24:22.211552",
     "exception": false,
     "start_time": "2022-05-29T10:24:22.154227",
     "status": "completed"
    },
    "tags": []
   },
   "source": [
    "## Configure the hyperparameters"
   ]
  },
  {
   "cell_type": "code",
   "execution_count": 4,
   "id": "8baa4611",
   "metadata": {
    "execution": {
     "iopub.execute_input": "2022-05-29T10:24:22.388081Z",
     "iopub.status.busy": "2022-05-29T10:24:22.387196Z",
     "iopub.status.idle": "2022-05-29T10:24:22.388844Z",
     "shell.execute_reply": "2022-05-29T10:24:22.389352Z",
     "shell.execute_reply.started": "2022-05-10T13:14:03.062328Z"
    },
    "id": "jQZeTx1T1-7I",
    "papermill": {
     "duration": 0.085053,
     "end_time": "2022-05-29T10:24:22.389490",
     "exception": false,
     "start_time": "2022-05-29T10:24:22.304437",
     "status": "completed"
    },
    "tags": []
   },
   "outputs": [],
   "source": [
    "learning_rate = 0.001\n",
    "weight_decay = 0.0001\n",
    "batch_size = 256\n",
    "num_epochs = 10\n",
    "image_size = 72  # We'll resize input images to this size\n",
    "patch_size = 6  # Size of the patches to be extract from the input images\n",
    "num_patches = (image_size // patch_size) ** 2\n",
    "projection_dim = 64\n",
    "num_heads = 4\n",
    "transformer_units = [\n",
    "    projection_dim * 2,\n",
    "    projection_dim,\n",
    "]  # Size of the transformer layers\n",
    "transformer_layers = 8\n",
    "mlp_head_units = [2048, 1024]  # Size of the dense layers of the final classifier\n"
   ]
  },
  {
   "cell_type": "markdown",
   "id": "aa66d87f",
   "metadata": {
    "id": "FN7XlWfP1-7J",
    "papermill": {
     "duration": 0.057256,
     "end_time": "2022-05-29T10:24:22.504296",
     "exception": false,
     "start_time": "2022-05-29T10:24:22.447040",
     "status": "completed"
    },
    "tags": []
   },
   "source": [
    "## Use data augmentation"
   ]
  },
  {
   "cell_type": "code",
   "execution_count": 5,
   "id": "6c6c6ca9",
   "metadata": {
    "execution": {
     "iopub.execute_input": "2022-05-29T10:24:22.625384Z",
     "iopub.status.busy": "2022-05-29T10:24:22.624782Z",
     "iopub.status.idle": "2022-05-29T10:24:28.953671Z",
     "shell.execute_reply": "2022-05-29T10:24:28.953130Z",
     "shell.execute_reply.started": "2022-05-10T13:14:03.070906Z"
    },
    "id": "Mk_wE7Cp1-7J",
    "papermill": {
     "duration": 6.392439,
     "end_time": "2022-05-29T10:24:28.953847",
     "exception": false,
     "start_time": "2022-05-29T10:24:22.561408",
     "status": "completed"
    },
    "tags": []
   },
   "outputs": [
    {
     "name": "stderr",
     "output_type": "stream",
     "text": [
      "2022-05-29 10:24:22.711369: I tensorflow/stream_executor/cuda/cuda_gpu_executor.cc:937] successful NUMA node read from SysFS had negative value (-1), but there must be at least one NUMA node, so returning NUMA node zero\n",
      "2022-05-29 10:24:22.869517: I tensorflow/stream_executor/cuda/cuda_gpu_executor.cc:937] successful NUMA node read from SysFS had negative value (-1), but there must be at least one NUMA node, so returning NUMA node zero\n",
      "2022-05-29 10:24:22.870339: I tensorflow/stream_executor/cuda/cuda_gpu_executor.cc:937] successful NUMA node read from SysFS had negative value (-1), but there must be at least one NUMA node, so returning NUMA node zero\n",
      "2022-05-29 10:24:22.871505: I tensorflow/core/platform/cpu_feature_guard.cc:142] This TensorFlow binary is optimized with oneAPI Deep Neural Network Library (oneDNN) to use the following CPU instructions in performance-critical operations:  AVX2 AVX512F FMA\n",
      "To enable them in other operations, rebuild TensorFlow with the appropriate compiler flags.\n",
      "2022-05-29 10:24:22.872675: I tensorflow/stream_executor/cuda/cuda_gpu_executor.cc:937] successful NUMA node read from SysFS had negative value (-1), but there must be at least one NUMA node, so returning NUMA node zero\n",
      "2022-05-29 10:24:22.873435: I tensorflow/stream_executor/cuda/cuda_gpu_executor.cc:937] successful NUMA node read from SysFS had negative value (-1), but there must be at least one NUMA node, so returning NUMA node zero\n",
      "2022-05-29 10:24:22.874195: I tensorflow/stream_executor/cuda/cuda_gpu_executor.cc:937] successful NUMA node read from SysFS had negative value (-1), but there must be at least one NUMA node, so returning NUMA node zero\n",
      "2022-05-29 10:24:25.185944: I tensorflow/stream_executor/cuda/cuda_gpu_executor.cc:937] successful NUMA node read from SysFS had negative value (-1), but there must be at least one NUMA node, so returning NUMA node zero\n",
      "2022-05-29 10:24:25.187173: I tensorflow/stream_executor/cuda/cuda_gpu_executor.cc:937] successful NUMA node read from SysFS had negative value (-1), but there must be at least one NUMA node, so returning NUMA node zero\n",
      "2022-05-29 10:24:25.188090: I tensorflow/stream_executor/cuda/cuda_gpu_executor.cc:937] successful NUMA node read from SysFS had negative value (-1), but there must be at least one NUMA node, so returning NUMA node zero\n",
      "2022-05-29 10:24:25.188925: I tensorflow/core/common_runtime/gpu/gpu_device.cc:1510] Created device /job:localhost/replica:0/task:0/device:GPU:0 with 15403 MB memory:  -> device: 0, name: Tesla P100-PCIE-16GB, pci bus id: 0000:00:04.0, compute capability: 6.0\n",
      "2022-05-29 10:24:26.208650: I tensorflow/compiler/mlir/mlir_graph_optimization_pass.cc:185] None of the MLIR Optimization Passes are enabled (registered 2)\n"
     ]
    }
   ],
   "source": [
    "data_augmentation = keras.Sequential(\n",
    "    [\n",
    "        layers.Normalization(),\n",
    "        layers.Resizing(image_size, image_size),\n",
    "        layers.RandomFlip(\"horizontal\"),\n",
    "        layers.RandomRotation(factor=0.02),\n",
    "        layers.RandomZoom(\n",
    "            height_factor=0.2, width_factor=0.2\n",
    "        ),\n",
    "    ],\n",
    "    name=\"data_augmentation\",\n",
    ")\n",
    "# Compute the mean and the variance of the training data for normalization.\n",
    "data_augmentation.layers[0].adapt(x_train)\n"
   ]
  },
  {
   "cell_type": "markdown",
   "id": "ea193227",
   "metadata": {
    "id": "49NWqCA_1-7K",
    "papermill": {
     "duration": 0.057584,
     "end_time": "2022-05-29T10:24:29.071893",
     "exception": false,
     "start_time": "2022-05-29T10:24:29.014309",
     "status": "completed"
    },
    "tags": []
   },
   "source": [
    "## Implement multilayer perceptron (MLP)"
   ]
  },
  {
   "cell_type": "code",
   "execution_count": 6,
   "id": "3e0599cd",
   "metadata": {
    "execution": {
     "iopub.execute_input": "2022-05-29T10:24:29.194007Z",
     "iopub.status.busy": "2022-05-29T10:24:29.193398Z",
     "iopub.status.idle": "2022-05-29T10:24:29.196309Z",
     "shell.execute_reply": "2022-05-29T10:24:29.196676Z",
     "shell.execute_reply.started": "2022-05-10T13:14:06.351827Z"
    },
    "id": "Z73Q_O-21-7K",
    "papermill": {
     "duration": 0.067428,
     "end_time": "2022-05-29T10:24:29.196854",
     "exception": false,
     "start_time": "2022-05-29T10:24:29.129426",
     "status": "completed"
    },
    "tags": []
   },
   "outputs": [],
   "source": [
    "\n",
    "def mlp(x, hidden_units, dropout_rate):\n",
    "    for units in hidden_units:\n",
    "        x = layers.Dense(units, activation=tf.nn.gelu)(x)\n",
    "        x = layers.Dropout(dropout_rate)(x)\n",
    "    return x\n"
   ]
  },
  {
   "cell_type": "markdown",
   "id": "b774d166",
   "metadata": {
    "id": "aSSW68BZ1-7K",
    "papermill": {
     "duration": 0.057114,
     "end_time": "2022-05-29T10:24:29.313374",
     "exception": false,
     "start_time": "2022-05-29T10:24:29.256260",
     "status": "completed"
    },
    "tags": []
   },
   "source": [
    "## Implement patch creation as a layer"
   ]
  },
  {
   "cell_type": "code",
   "execution_count": 7,
   "id": "5e132b40",
   "metadata": {
    "execution": {
     "iopub.execute_input": "2022-05-29T10:24:29.437674Z",
     "iopub.status.busy": "2022-05-29T10:24:29.436117Z",
     "iopub.status.idle": "2022-05-29T10:24:29.438260Z",
     "shell.execute_reply": "2022-05-29T10:24:29.438660Z",
     "shell.execute_reply.started": "2022-05-10T13:14:06.359999Z"
    },
    "id": "-oFX6NJL1-7K",
    "papermill": {
     "duration": 0.067406,
     "end_time": "2022-05-29T10:24:29.438814",
     "exception": false,
     "start_time": "2022-05-29T10:24:29.371408",
     "status": "completed"
    },
    "tags": []
   },
   "outputs": [],
   "source": [
    "\n",
    "class Patches(layers.Layer):\n",
    "    def __init__(self, patch_size):\n",
    "        super(Patches, self).__init__()\n",
    "        self.patch_size = patch_size\n",
    "\n",
    "    def call(self, images):\n",
    "        batch_size = tf.shape(images)[0]\n",
    "        patches = tf.image.extract_patches(\n",
    "            images=images,\n",
    "            sizes=[1, self.patch_size, self.patch_size, 1],\n",
    "            strides=[1, self.patch_size, self.patch_size, 1],\n",
    "            rates=[1, 1, 1, 1],\n",
    "            padding=\"VALID\",\n",
    "        )\n",
    "        patch_dims = patches.shape[-1]\n",
    "        patches = tf.reshape(patches, [batch_size, -1, patch_dims])\n",
    "        return patches\n"
   ]
  },
  {
   "cell_type": "markdown",
   "id": "9eb55e46",
   "metadata": {
    "id": "eEGS38W41-7L",
    "papermill": {
     "duration": 0.057018,
     "end_time": "2022-05-29T10:24:29.553497",
     "exception": false,
     "start_time": "2022-05-29T10:24:29.496479",
     "status": "completed"
    },
    "tags": []
   },
   "source": [
    "Let's display patches for a sample image"
   ]
  },
  {
   "cell_type": "code",
   "execution_count": 8,
   "id": "e9b81c04",
   "metadata": {
    "execution": {
     "iopub.execute_input": "2022-05-29T10:24:29.691266Z",
     "iopub.status.busy": "2022-05-29T10:24:29.690483Z",
     "iopub.status.idle": "2022-05-29T10:24:34.327493Z",
     "shell.execute_reply": "2022-05-29T10:24:34.326998Z",
     "shell.execute_reply.started": "2022-05-10T13:14:06.372131Z"
    },
    "id": "CMzM45sC1-7L",
    "outputId": "dd7a6534-ca0d-4e5c-b633-6eb6748d4d86",
    "papermill": {
     "duration": 4.715826,
     "end_time": "2022-05-29T10:24:34.327624",
     "exception": false,
     "start_time": "2022-05-29T10:24:29.611798",
     "status": "completed"
    },
    "tags": []
   },
   "outputs": [
    {
     "name": "stdout",
     "output_type": "stream",
     "text": [
      "Image size: 72 X 72\n",
      "Patch size: 6 X 6\n",
      "Patches per image: 144\n",
      "Elements per patch: 108\n"
     ]
    },
    {
     "data": {
      "image/png": "[encoded data removed]",
      "text/plain": [
       "<Figure size 288x288 with 1 Axes>"
      ]
     },
     "metadata": {
      "needs_background": "light"
     },
     "output_type": "display_data"
    },
    {
     "data": {
      "image/png": "[encoded data removed]",
      "text/plain": [
       "<Figure size 288x288 with 144 Axes>"
      ]
     },
     "metadata": {
      "needs_background": "light"
     },
     "output_type": "display_data"
    }
   ],
   "source": [
    "import matplotlib.pyplot as plt\n",
    "\n",
    "plt.figure(figsize=(4, 4))\n",
    "image = x_train[np.random.choice(range(x_train.shape[0]))]\n",
    "plt.imshow(image.astype(\"uint8\"))\n",
    "plt.axis(\"off\")\n",
    "\n",
    "resized_image = tf.image.resize(\n",
    "    tf.convert_to_tensor([image]), size=(image_size, image_size)\n",
    ")\n",
    "patches = Patches(patch_size)(resized_image)\n",
    "print(f\"Image size: {image_size} X {image_size}\")\n",
    "print(f\"Patch size: {patch_size} X {patch_size}\")\n",
    "print(f\"Patches per image: {patches.shape[1]}\")\n",
    "print(f\"Elements per patch: {patches.shape[-1]}\")\n",
    "\n",
    "n = int(np.sqrt(patches.shape[1]))\n",
    "plt.figure(figsize=(4, 4))\n",
    "for i, patch in enumerate(patches[0]):\n",
    "    ax = plt.subplot(n, n, i + 1)\n",
    "    patch_img = tf.reshape(patch, (patch_size, patch_size, 3))\n",
    "    plt.imshow(patch_img.numpy().astype(\"uint8\"))\n",
    "    plt.axis(\"off\")"
   ]
  },
  {
   "cell_type": "markdown",
   "id": "27b88720",
   "metadata": {
    "id": "_-_aj5_Y1-7L",
    "papermill": {
     "duration": 0.066459,
     "end_time": "2022-05-29T10:24:34.460411",
     "exception": false,
     "start_time": "2022-05-29T10:24:34.393952",
     "status": "completed"
    },
    "tags": []
   },
   "source": [
    "## Implement the patch encoding layer\n",
    "\n",
    "The `PatchEncoder` layer will linearly transform a patch by projecting it into a\n",
    "vector of size `projection_dim`. In addition, it adds a learnable position\n",
    "embedding to the projected vector."
   ]
  },
  {
   "cell_type": "code",
   "execution_count": 9,
   "id": "224e347b",
   "metadata": {
    "execution": {
     "iopub.execute_input": "2022-05-29T10:24:34.586989Z",
     "iopub.status.busy": "2022-05-29T10:24:34.586412Z",
     "iopub.status.idle": "2022-05-29T10:24:34.589719Z",
     "shell.execute_reply": "2022-05-29T10:24:34.589279Z",
     "shell.execute_reply.started": "2022-05-10T13:14:11.652692Z"
    },
    "id": "MXL5uXva1-7M",
    "papermill": {
     "duration": 0.069225,
     "end_time": "2022-05-29T10:24:34.589860",
     "exception": false,
     "start_time": "2022-05-29T10:24:34.520635",
     "status": "completed"
    },
    "tags": []
   },
   "outputs": [],
   "source": [
    "\n",
    "class PatchEncoder(layers.Layer):\n",
    "    def __init__(self, num_patches, projection_dim):\n",
    "        super(PatchEncoder, self).__init__()\n",
    "        self.num_patches = num_patches\n",
    "        self.projection = layers.Dense(units=projection_dim)\n",
    "        self.position_embedding = layers.Embedding(\n",
    "            input_dim=num_patches, output_dim=projection_dim\n",
    "        )\n",
    "\n",
    "    def call(self, patch):\n",
    "        positions = tf.range(start=0, limit=self.num_patches, delta=1)\n",
    "        encoded = self.projection(patch) + self.position_embedding(positions)\n",
    "        return encoded\n"
   ]
  },
  {
   "cell_type": "markdown",
   "id": "6e443e24",
   "metadata": {
    "id": "nZOb6KB_1-7M",
    "papermill": {
     "duration": 0.059283,
     "end_time": "2022-05-29T10:24:34.709055",
     "exception": false,
     "start_time": "2022-05-29T10:24:34.649772",
     "status": "completed"
    },
    "tags": []
   },
   "source": [
    "## Build the ViT model\n",
    "\n",
    "The ViT model consists of multiple Transformer blocks,\n",
    "which use the `layers.MultiHeadAttention` layer as a self-attention mechanism\n",
    "applied to the sequence of patches. The Transformer blocks produce a\n",
    "`[batch_size, num_patches, projection_dim]` tensor, which is processed via an\n",
    "classifier head with softmax to produce the final class probabilities output.\n",
    "\n",
    "Unlike the technique described in the [paper](https://arxiv.org/abs/2010.11929),\n",
    "which prepends a learnable embedding to the sequence of encoded patches to serve\n",
    "as the image representation, all the outputs of the final Transformer block are\n",
    "reshaped with `layers.Flatten()` and used as the image\n",
    "representation input to the classifier head.\n",
    "Note that the `layers.GlobalAveragePooling1D` layer\n",
    "could also be used instead to aggregate the outputs of the Transformer block,\n",
    "especially when the number of patches and the projection dimensions are large."
   ]
  },
  {
   "cell_type": "code",
   "execution_count": 10,
   "id": "17ded633",
   "metadata": {
    "execution": {
     "iopub.execute_input": "2022-05-29T10:24:34.839296Z",
     "iopub.status.busy": "2022-05-29T10:24:34.838460Z",
     "iopub.status.idle": "2022-05-29T10:24:34.840973Z",
     "shell.execute_reply": "2022-05-29T10:24:34.840527Z",
     "shell.execute_reply.started": "2022-05-10T13:14:11.654704Z"
    },
    "id": "9G_rMqu91-7M",
    "papermill": {
     "duration": 0.071121,
     "end_time": "2022-05-29T10:24:34.841090",
     "exception": false,
     "start_time": "2022-05-29T10:24:34.769969",
     "status": "completed"
    },
    "tags": []
   },
   "outputs": [],
   "source": [
    "def create_vit_classifier():\n",
    "    inputs = layers.Input(shape=input_shape)\n",
    "    # Augment data.\n",
    "    augmented = data_augmentation(inputs)\n",
    "    # Create patches.\n",
    "    patches = Patches(patch_size)(augmented)\n",
    "    # Encode patches.\n",
    "    encoded_patches = PatchEncoder(num_patches, projection_dim)(patches)\n",
    "\n",
    "    # Create multiple layers of the Transformer block.\n",
    "    for _ in range(transformer_layers):\n",
    "        # Layer normalization 1.\n",
    "        x1 = layers.LayerNormalization(epsilon=1e-6)(encoded_patches)\n",
    "        # Create a multi-head attention layer.\n",
    "        attention_output = layers.MultiHeadAttention(\n",
    "            num_heads=num_heads, key_dim=projection_dim, dropout=0.1\n",
    "        )(x1, x1)\n",
    "        # Skip connection 1.\n",
    "        x2 = layers.Add()([attention_output, encoded_patches])\n",
    "        # Layer normalization 2.\n",
    "        x3 = layers.LayerNormalization(epsilon=1e-6)(x2)\n",
    "        # MLP.\n",
    "        x3 = mlp(x3, hidden_units=transformer_units, dropout_rate=0.1)\n",
    "        # Skip connection 2.\n",
    "        encoded_patches = layers.Add()([x3, x2])\n",
    "\n",
    "    # Create a [batch_size, projection_dim] tensor.\n",
    "    representation = layers.LayerNormalization(epsilon=1e-6)(encoded_patches)\n",
    "    representation = layers.Flatten()(representation)\n",
    "    representation = layers.Dropout(0.5)(representation)\n",
    "    # Add MLP.\n",
    "    features = mlp(representation, hidden_units=mlp_head_units, dropout_rate=0.5)\n",
    "    # Classify outputs.\n",
    "    logits = layers.Dense(num_classes)(features)\n",
    "    # Create the Keras model.\n",
    "    model = keras.Model(inputs=inputs, outputs=logits)\n",
    "    return model\n"
   ]
  },
  {
   "cell_type": "markdown",
   "id": "860f7cbc",
   "metadata": {
    "id": "wiCpaBWw1-7N",
    "papermill": {
     "duration": 0.059259,
     "end_time": "2022-05-29T10:24:34.960944",
     "exception": false,
     "start_time": "2022-05-29T10:24:34.901685",
     "status": "completed"
    },
    "tags": []
   },
   "source": [
    "## Compile, train, and evaluate the mode"
   ]
  },
  {
   "cell_type": "code",
   "execution_count": 11,
   "id": "2a27dc26",
   "metadata": {
    "execution": {
     "iopub.execute_input": "2022-05-29T10:24:35.089750Z",
     "iopub.status.busy": "2022-05-29T10:24:35.088925Z",
     "iopub.status.idle": "2022-05-29T10:33:19.422775Z",
     "shell.execute_reply": "2022-05-29T10:33:19.422184Z",
     "shell.execute_reply.started": "2022-05-10T13:14:11.656705Z"
    },
    "id": "5J_qNIby1-7N",
    "outputId": "e4b23f2c-e50e-45e7-8b3c-39c8ac2faa28",
    "papermill": {
     "duration": 524.40258,
     "end_time": "2022-05-29T10:33:19.423279",
     "exception": false,
     "start_time": "2022-05-29T10:24:35.020699",
     "status": "completed"
    },
    "tags": []
   },
   "outputs": [
    {
     "name": "stdout",
     "output_type": "stream",
     "text": [
      "Epoch 1/10\n",
      "176/176 [==============================] - 55s 254ms/step - loss: 2.0450 - accuracy: 0.3202 - val_loss: 1.4883 - val_accuracy: 0.4708\n",
      "Epoch 2/10\n",
      "176/176 [==============================] - 44s 248ms/step - loss: 1.5304 - accuracy: 0.4516 - val_loss: 1.2481 - val_accuracy: 0.5486\n",
      "Epoch 3/10\n",
      "176/176 [==============================] - 44s 247ms/step - loss: 1.3752 - accuracy: 0.5081 - val_loss: 1.1975 - val_accuracy: 0.5772\n",
      "Epoch 4/10\n",
      "176/176 [==============================] - 44s 248ms/step - loss: 1.2935 - accuracy: 0.5364 - val_loss: 1.0698 - val_accuracy: 0.6230\n",
      "Epoch 5/10\n",
      "176/176 [==============================] - 44s 248ms/step - loss: 1.2157 - accuracy: 0.5692 - val_loss: 1.0301 - val_accuracy: 0.6422\n",
      "Epoch 6/10\n",
      "176/176 [==============================] - 44s 247ms/step - loss: 1.1544 - accuracy: 0.5914 - val_loss: 0.9677 - val_accuracy: 0.6606\n",
      "Epoch 7/10\n",
      "176/176 [==============================] - 44s 248ms/step - loss: 1.1044 - accuracy: 0.6088 - val_loss: 0.9216 - val_accuracy: 0.6772\n",
      "Epoch 8/10\n",
      "176/176 [==============================] - 44s 248ms/step - loss: 1.0473 - accuracy: 0.6327 - val_loss: 0.8881 - val_accuracy: 0.6900\n",
      "Epoch 9/10\n",
      "176/176 [==============================] - 44s 247ms/step - loss: 1.0037 - accuracy: 0.6519 - val_loss: 0.8369 - val_accuracy: 0.7118\n",
      "Epoch 10/10\n",
      "176/176 [==============================] - 44s 248ms/step - loss: 0.9650 - accuracy: 0.6614 - val_loss: 0.7916 - val_accuracy: 0.7204\n",
      "313/313 [==============================] - 6s 20ms/step - loss: 0.8187 - accuracy: 0.7140\n",
      "Test accuracy: 71.4%\n"
     ]
    }
   ],
   "source": [
    "def run_experiment(model):\n",
    "    #(le llegan los gradientes)\n",
    "    #los optimizadores encargados del paso de la actualización de pesos\n",
    "    optimizer = tfa.optimizers.AdamW(\n",
    "        learning_rate=learning_rate, weight_decay=weight_decay\n",
    "    )\n",
    "\n",
    "    model.compile(\n",
    "        optimizer=optimizer,\n",
    "        loss=keras.losses.SparseCategoricalCrossentropy(from_logits=True),\n",
    "        metrics=[\n",
    "            keras.metrics.SparseCategoricalAccuracy(name=\"accuracy\")\n",
    "        ],\n",
    "    )\n",
    "\n",
    "    checkpoint_filepath = \"/tmp/checkpoint\"\n",
    "    checkpoint_callback = keras.callbacks.ModelCheckpoint(\n",
    "        checkpoint_filepath,\n",
    "        monitor=\"val_accuracy\",\n",
    "        save_best_only=True,\n",
    "        save_weights_only=True,\n",
    "    )\n",
    "\n",
    "    history = model.fit(\n",
    "        x=x_train,\n",
    "        y=y_train,\n",
    "        batch_size=batch_size,\n",
    "        epochs=num_epochs,\n",
    "        validation_split=0.1,\n",
    "        callbacks=[checkpoint_callback],\n",
    "    )\n",
    "\n",
    "    model.load_weights(checkpoint_filepath)\n",
    "    _, accuracy = model.evaluate(x_test, y_test)\n",
    "    print(f\"Test accuracy: {round(accuracy * 100, 2)}%\")\n",
    "\n",
    "    return history\n",
    "\n",
    "\n",
    "vit_classifier = create_vit_classifier()\n",
    "history = run_experiment(vit_classifier)"
   ]
  },
  {
   "cell_type": "markdown",
   "id": "8c5a7862",
   "metadata": {
    "papermill": {
     "duration": 0.628129,
     "end_time": "2022-05-29T10:33:20.684556",
     "exception": false,
     "start_time": "2022-05-29T10:33:20.056427",
     "status": "completed"
    },
    "tags": []
   },
   "source": [
    "# Performance of model"
   ]
  },
  {
   "cell_type": "code",
   "execution_count": 12,
   "id": "01bd4255",
   "metadata": {
    "execution": {
     "iopub.execute_input": "2022-05-29T10:33:21.977979Z",
     "iopub.status.busy": "2022-05-29T10:33:21.977079Z",
     "iopub.status.idle": "2022-05-29T10:33:22.166995Z",
     "shell.execute_reply": "2022-05-29T10:33:22.166100Z",
     "shell.execute_reply.started": "2022-05-10T13:14:11.658624Z"
    },
    "papermill": {
     "duration": 0.841254,
     "end_time": "2022-05-29T10:33:22.167133",
     "exception": false,
     "start_time": "2022-05-29T10:33:21.325879",
     "status": "completed"
    },
    "tags": []
   },
   "outputs": [
    {
     "data": {
      "image/png": "[encoded data removed]",
      "text/plain": [
       "<Figure size 432x288 with 1 Axes>"
      ]
     },
     "metadata": {
      "needs_background": "light"
     },
     "output_type": "display_data"
    }
   ],
   "source": [
    "# accuracies\n",
    "plt.plot(history.history['accuracy'], label='train acc')\n",
    "plt.plot(history.history['val_accuracy'], label='val acc')\n",
    "plt.legend()\n",
    "plt.show()"
   ]
  },
  {
   "cell_type": "code",
   "execution_count": 13,
   "id": "adea8c93",
   "metadata": {
    "execution": {
     "iopub.execute_input": "2022-05-29T10:33:23.509371Z",
     "iopub.status.busy": "2022-05-29T10:33:23.503554Z",
     "iopub.status.idle": "2022-05-29T10:33:23.678934Z",
     "shell.execute_reply": "2022-05-29T10:33:23.678371Z",
     "shell.execute_reply.started": "2022-05-10T13:14:11.660536Z"
    },
    "papermill": {
     "duration": 0.852516,
     "end_time": "2022-05-29T10:33:23.679059",
     "exception": false,
     "start_time": "2022-05-29T10:33:22.826543",
     "status": "completed"
    },
    "tags": []
   },
   "outputs": [
    {
     "data": {
      "image/png": "[encoded data removed]",
      "text/plain": [
       "<Figure size 432x288 with 1 Axes>"
      ]
     },
     "metadata": {
      "needs_background": "light"
     },
     "output_type": "display_data"
    }
   ],
   "source": [
    "# loss\n",
    "plt.plot(history.history['loss'], label='train loss')\n",
    "plt.plot(history.history['val_loss'], label='val loss')\n",
    "plt.legend()\n",
    "plt.show()"
   ]
  },
  {
   "cell_type": "markdown",
   "id": "193c47ac",
   "metadata": {
    "papermill": {
     "duration": 0.706372,
     "end_time": "2022-05-29T10:33:25.032764",
     "exception": false,
     "start_time": "2022-05-29T10:33:24.326392",
     "status": "completed"
    },
    "tags": []
   },
   "source": [
    "# Model Evaluation"
   ]
  },
  {
   "cell_type": "code",
   "execution_count": 14,
   "id": "ad18526e",
   "metadata": {
    "execution": {
     "iopub.execute_input": "2022-05-29T10:33:26.337607Z",
     "iopub.status.busy": "2022-05-29T10:33:26.336948Z",
     "iopub.status.idle": "2022-05-29T10:33:29.962928Z",
     "shell.execute_reply": "2022-05-29T10:33:29.962027Z",
     "shell.execute_reply.started": "2022-05-10T13:14:11.662514Z"
    },
    "papermill": {
     "duration": 4.283108,
     "end_time": "2022-05-29T10:33:29.963067",
     "exception": false,
     "start_time": "2022-05-29T10:33:25.679959",
     "status": "completed"
    },
    "tags": []
   },
   "outputs": [
    {
     "name": "stderr",
     "output_type": "stream",
     "text": [
      "/opt/conda/lib/python3.7/site-packages/geopandas/_compat.py:115: UserWarning: The Shapely GEOS version (3.9.1-CAPI-1.14.2) is incompatible with the GEOS version PyGEOS was compiled with (3.10.1-CAPI-1.16.0). Conversions between both will be slow.\n",
      "  shapely_geos_version, geos_capi_version_string\n"
     ]
    }
   ],
   "source": [
    "from sklearn.metrics import accuracy_score,classification_report,confusion_matrix\n",
    "from sklearn.utils.multiclass import unique_labels\n",
    "import numpy as np\n",
    "import pandas as pd\n",
    "import plotly.figure_factory as ff"
   ]
  },
  {
   "cell_type": "code",
   "execution_count": 15,
   "id": "772a4a4a",
   "metadata": {
    "execution": {
     "iopub.execute_input": "2022-05-29T10:33:31.280843Z",
     "iopub.status.busy": "2022-05-29T10:33:31.279899Z",
     "iopub.status.idle": "2022-05-29T10:33:38.361347Z",
     "shell.execute_reply": "2022-05-29T10:33:38.360699Z",
     "shell.execute_reply.started": "2022-05-10T13:14:11.664469Z"
    },
    "papermill": {
     "duration": 7.750772,
     "end_time": "2022-05-29T10:33:38.361519",
     "exception": false,
     "start_time": "2022-05-29T10:33:30.610747",
     "status": "completed"
    },
    "tags": []
   },
   "outputs": [
    {
     "data": {
      "image/png": "[encoded data removed]",
      "text/plain": [
       "<Figure size 432x288 with 10 Axes>"
      ]
     },
     "metadata": {
      "needs_background": "light"
     },
     "output_type": "display_data"
    }
   ],
   "source": [
    "#predict\n",
    "predictions = vit_classifier.predict(x_test)\n",
    "predictions = np.argmax(predictions,axis=1)\n",
    "plt.figure()\n",
    "for i in range(10):\n",
    "    ax = plt.subplot(2, 5, i + 1)\n",
    "    ax.imshow(x_test[i].astype(\"uint8\"))\n",
    "    ax.axis(\"off\")\n",
    "    ax.set_title(predictions[i])"
   ]
  },
  {
   "cell_type": "code",
   "execution_count": 16,
   "id": "a8f84410",
   "metadata": {
    "execution": {
     "iopub.execute_input": "2022-05-29T10:33:39.663926Z",
     "iopub.status.busy": "2022-05-29T10:33:39.662997Z",
     "iopub.status.idle": "2022-05-29T10:33:39.705579Z",
     "shell.execute_reply": "2022-05-29T10:33:39.706035Z",
     "shell.execute_reply.started": "2022-05-10T13:14:11.666406Z"
    },
    "papermill": {
     "duration": 0.681961,
     "end_time": "2022-05-29T10:33:39.706182",
     "exception": false,
     "start_time": "2022-05-29T10:33:39.024221",
     "status": "completed"
    },
    "tags": []
   },
   "outputs": [
    {
     "data": {
      "text/html": [
       "<div>\n",
       "<style scoped>\n",
       "    .dataframe tbody tr th:only-of-type {\n",
       "        vertical-align: middle;\n",
       "    }\n",
       "\n",
       "    .dataframe tbody tr th {\n",
       "        vertical-align: top;\n",
       "    }\n",
       "\n",
       "    .dataframe thead th {\n",
       "        text-align: right;\n",
       "    }\n",
       "</style>\n",
       "<table border=\"1\" class=\"dataframe\">\n",
       "  <thead>\n",
       "    <tr style=\"text-align: right;\">\n",
       "      <th></th>\n",
       "      <th>precision</th>\n",
       "      <th>recall</th>\n",
       "      <th>f1-score</th>\n",
       "      <th>support</th>\n",
       "    </tr>\n",
       "  </thead>\n",
       "  <tbody>\n",
       "    <tr>\n",
       "      <th>0</th>\n",
       "      <td>0.662866</td>\n",
       "      <td>0.814</td>\n",
       "      <td>0.730700</td>\n",
       "      <td>1000.000</td>\n",
       "    </tr>\n",
       "    <tr>\n",
       "      <th>1</th>\n",
       "      <td>0.802974</td>\n",
       "      <td>0.864</td>\n",
       "      <td>0.832370</td>\n",
       "      <td>1000.000</td>\n",
       "    </tr>\n",
       "    <tr>\n",
       "      <th>2</th>\n",
       "      <td>0.709632</td>\n",
       "      <td>0.501</td>\n",
       "      <td>0.587339</td>\n",
       "      <td>1000.000</td>\n",
       "    </tr>\n",
       "    <tr>\n",
       "      <th>3</th>\n",
       "      <td>0.559905</td>\n",
       "      <td>0.472</td>\n",
       "      <td>0.512208</td>\n",
       "      <td>1000.000</td>\n",
       "    </tr>\n",
       "    <tr>\n",
       "      <th>4</th>\n",
       "      <td>0.681913</td>\n",
       "      <td>0.656</td>\n",
       "      <td>0.668705</td>\n",
       "      <td>1000.000</td>\n",
       "    </tr>\n",
       "    <tr>\n",
       "      <th>5</th>\n",
       "      <td>0.582906</td>\n",
       "      <td>0.682</td>\n",
       "      <td>0.628571</td>\n",
       "      <td>1000.000</td>\n",
       "    </tr>\n",
       "    <tr>\n",
       "      <th>6</th>\n",
       "      <td>0.749767</td>\n",
       "      <td>0.803</td>\n",
       "      <td>0.775471</td>\n",
       "      <td>1000.000</td>\n",
       "    </tr>\n",
       "    <tr>\n",
       "      <th>7</th>\n",
       "      <td>0.810195</td>\n",
       "      <td>0.747</td>\n",
       "      <td>0.777315</td>\n",
       "      <td>1000.000</td>\n",
       "    </tr>\n",
       "    <tr>\n",
       "      <th>8</th>\n",
       "      <td>0.797196</td>\n",
       "      <td>0.853</td>\n",
       "      <td>0.824155</td>\n",
       "      <td>1000.000</td>\n",
       "    </tr>\n",
       "    <tr>\n",
       "      <th>9</th>\n",
       "      <td>0.785714</td>\n",
       "      <td>0.748</td>\n",
       "      <td>0.766393</td>\n",
       "      <td>1000.000</td>\n",
       "    </tr>\n",
       "    <tr>\n",
       "      <th>accuracy</th>\n",
       "      <td>0.714000</td>\n",
       "      <td>0.714</td>\n",
       "      <td>0.714000</td>\n",
       "      <td>0.714</td>\n",
       "    </tr>\n",
       "    <tr>\n",
       "      <th>macro avg</th>\n",
       "      <td>0.714307</td>\n",
       "      <td>0.714</td>\n",
       "      <td>0.710323</td>\n",
       "      <td>10000.000</td>\n",
       "    </tr>\n",
       "    <tr>\n",
       "      <th>weighted avg</th>\n",
       "      <td>0.714307</td>\n",
       "      <td>0.714</td>\n",
       "      <td>0.710323</td>\n",
       "      <td>10000.000</td>\n",
       "    </tr>\n",
       "  </tbody>\n",
       "</table>\n",
       "</div>"
      ],
      "text/plain": [
       "              precision  recall  f1-score    support\n",
       "0              0.662866   0.814  0.730700   1000.000\n",
       "1              0.802974   0.864  0.832370   1000.000\n",
       "2              0.709632   0.501  0.587339   1000.000\n",
       "3              0.559905   0.472  0.512208   1000.000\n",
       "4              0.681913   0.656  0.668705   1000.000\n",
       "5              0.582906   0.682  0.628571   1000.000\n",
       "6              0.749767   0.803  0.775471   1000.000\n",
       "7              0.810195   0.747  0.777315   1000.000\n",
       "8              0.797196   0.853  0.824155   1000.000\n",
       "9              0.785714   0.748  0.766393   1000.000\n",
       "accuracy       0.714000   0.714  0.714000      0.714\n",
       "macro avg      0.714307   0.714  0.710323  10000.000\n",
       "weighted avg   0.714307   0.714  0.710323  10000.000"
      ]
     },
     "execution_count": 16,
     "metadata": {},
     "output_type": "execute_result"
    }
   ],
   "source": [
    "#get classification report\n",
    "report = classification_report(y_test, predictions, output_dict=True)\n",
    "pd.DataFrame(report).T"
   ]
  }
 ],
 "metadata": {
  "kernelspec": {
   "display_name": "Python 3",
   "language": "python",
   "name": "python3"
  },
  "language_info": {
   "codemirror_mode": {
    "name": "ipython",
    "version": 3
   },
   "file_extension": ".py",
   "mimetype": "text/x-python",
   "name": "python",
   "nbconvert_exporter": "python",
   "pygments_lexer": "ipython3",
   "version": "3.7.12"
  },
  "papermill": {
   "default_parameters": {},
   "duration": 598.883021,
   "end_time": "2022-05-29T10:33:43.080252",
   "environment_variables": {},
   "exception": null,
   "input_path": "__notebook__.ipynb",
   "output_path": "__notebook__.ipynb",
   "parameters": {},
   "start_time": "2022-05-29T10:23:44.197231",
   "version": "2.3.3"
  }
 },
 "nbformat": 4,
 "nbformat_minor": 5
}
