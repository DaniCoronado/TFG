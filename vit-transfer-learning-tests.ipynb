{
 "cells": [
  {
   "cell_type": "markdown",
   "id": "5ab301d0",
   "metadata": {
    "papermill": {
     "duration": 0.008851,
     "end_time": "2022-06-03T14:25:49.916395",
     "exception": false,
     "start_time": "2022-06-03T14:25:49.907544",
     "status": "completed"
    },
    "tags": []
   },
   "source": [
    "instalaciones e imports previos"
   ]
  },
  {
   "cell_type": "code",
   "execution_count": 1,
   "id": "ef765b2f",
   "metadata": {
    "_kg_hide-input": true,
    "_kg_hide-output": true,
    "execution": {
     "iopub.execute_input": "2022-06-03T14:25:49.933767Z",
     "iopub.status.busy": "2022-06-03T14:25:49.933194Z",
     "iopub.status.idle": "2022-06-03T14:26:17.311786Z",
     "shell.execute_reply": "2022-06-03T14:26:17.310719Z"
    },
    "papermill": {
     "duration": 27.391004,
     "end_time": "2022-06-03T14:26:17.314600",
     "exception": false,
     "start_time": "2022-06-03T14:25:49.923596",
     "status": "completed"
    },
    "tags": []
   },
   "outputs": [
    {
     "name": "stdout",
     "output_type": "stream",
     "text": [
      "Collecting tfimm\r\n",
      "  Downloading tfimm-0.2.6-py3-none-any.whl (139 kB)\r\n",
      "\u001b[2K     \u001b[90m━━━━━━━━━━━━━━━━━━━━━━━━━━━━━━━━━━━━━━━\u001b[0m \u001b[32m139.2/139.2 kB\u001b[0m \u001b[31m1.1 MB/s\u001b[0m eta \u001b[36m0:00:00\u001b[0m\r\n",
      "\u001b[?25hRequirement already satisfied: numpy in /opt/conda/lib/python3.7/site-packages (from tfimm) (1.21.6)\r\n",
      "Requirement already satisfied: tensorflow<3.0,>=2.5 in /opt/conda/lib/python3.7/site-packages (from tfimm) (2.6.4)\r\n",
      "Requirement already satisfied: markdown<4.0.0,>=3.3.6 in /opt/conda/lib/python3.7/site-packages (from tfimm) (3.3.7)\r\n",
      "Requirement already satisfied: importlib-metadata>=4.4 in /opt/conda/lib/python3.7/site-packages (from markdown<4.0.0,>=3.3.6->tfimm) (4.11.4)\r\n",
      "Collecting numpy\r\n",
      "  Downloading numpy-1.19.5-cp37-cp37m-manylinux2010_x86_64.whl (14.8 MB)\r\n",
      "\u001b[2K     \u001b[90m━━━━━━━━━━━━━━━━━━━━━━━━━━━━━━━━━━━━━━━━\u001b[0m \u001b[32m14.8/14.8 MB\u001b[0m \u001b[31m35.1 MB/s\u001b[0m eta \u001b[36m0:00:00\u001b[0m\r\n",
      "\u001b[?25hRequirement already satisfied: keras-preprocessing~=1.1.2 in /opt/conda/lib/python3.7/site-packages (from tensorflow<3.0,>=2.5->tfimm) (1.1.2)\r\n",
      "Requirement already satisfied: opt-einsum~=3.3.0 in /opt/conda/lib/python3.7/site-packages (from tensorflow<3.0,>=2.5->tfimm) (3.3.0)\r\n",
      "Requirement already satisfied: wheel~=0.35 in /opt/conda/lib/python3.7/site-packages (from tensorflow<3.0,>=2.5->tfimm) (0.37.1)\r\n",
      "Requirement already satisfied: gast==0.4.0 in /opt/conda/lib/python3.7/site-packages (from tensorflow<3.0,>=2.5->tfimm) (0.4.0)\r\n",
      "Requirement already satisfied: tensorboard<2.7,>=2.6.0 in /opt/conda/lib/python3.7/site-packages (from tensorflow<3.0,>=2.5->tfimm) (2.6.0)\r\n",
      "Requirement already satisfied: flatbuffers~=1.12.0 in /opt/conda/lib/python3.7/site-packages (from tensorflow<3.0,>=2.5->tfimm) (1.12)\r\n",
      "Requirement already satisfied: keras<2.7,>=2.6.0 in /opt/conda/lib/python3.7/site-packages (from tensorflow<3.0,>=2.5->tfimm) (2.6.0)\r\n",
      "Requirement already satisfied: protobuf>=3.9.2 in /opt/conda/lib/python3.7/site-packages (from tensorflow<3.0,>=2.5->tfimm) (3.20.1)\r\n",
      "Collecting typing-extensions<3.11,>=3.7\r\n",
      "  Downloading typing_extensions-3.10.0.2-py3-none-any.whl (26 kB)\r\n",
      "Requirement already satisfied: h5py~=3.1.0 in /opt/conda/lib/python3.7/site-packages (from tensorflow<3.0,>=2.5->tfimm) (3.1.0)\r\n",
      "Requirement already satisfied: grpcio<2.0,>=1.37.0 in /opt/conda/lib/python3.7/site-packages (from tensorflow<3.0,>=2.5->tfimm) (1.43.0)\r\n",
      "Collecting absl-py~=0.10\r\n",
      "  Downloading absl_py-0.15.0-py3-none-any.whl (132 kB)\r\n",
      "\u001b[2K     \u001b[90m━━━━━━━━━━━━━━━━━━━━━━━━━━━━━━━━━━━━━━\u001b[0m \u001b[32m132.0/132.0 kB\u001b[0m \u001b[31m12.6 MB/s\u001b[0m eta \u001b[36m0:00:00\u001b[0m\r\n",
      "\u001b[?25hCollecting six~=1.15.0\r\n",
      "  Downloading six-1.15.0-py2.py3-none-any.whl (10 kB)\r\n",
      "Collecting wrapt~=1.12.1\r\n",
      "  Downloading wrapt-1.12.1.tar.gz (27 kB)\r\n",
      "  Preparing metadata (setup.py) ... \u001b[?25l-\b \bdone\r\n",
      "\u001b[?25hRequirement already satisfied: tensorflow-estimator<2.7,>=2.6.0 in /opt/conda/lib/python3.7/site-packages (from tensorflow<3.0,>=2.5->tfimm) (2.6.0)\r\n",
      "Requirement already satisfied: astunparse~=1.6.3 in /opt/conda/lib/python3.7/site-packages (from tensorflow<3.0,>=2.5->tfimm) (1.6.3)\r\n",
      "Requirement already satisfied: clang~=5.0 in /opt/conda/lib/python3.7/site-packages (from tensorflow<3.0,>=2.5->tfimm) (5.0)\r\n",
      "Requirement already satisfied: google-pasta~=0.2 in /opt/conda/lib/python3.7/site-packages (from tensorflow<3.0,>=2.5->tfimm) (0.2.0)\r\n",
      "Requirement already satisfied: termcolor~=1.1.0 in /opt/conda/lib/python3.7/site-packages (from tensorflow<3.0,>=2.5->tfimm) (1.1.0)\r\n",
      "Requirement already satisfied: cached-property in /opt/conda/lib/python3.7/site-packages (from h5py~=3.1.0->tensorflow<3.0,>=2.5->tfimm) (1.5.2)\r\n",
      "Requirement already satisfied: zipp>=0.5 in /opt/conda/lib/python3.7/site-packages (from importlib-metadata>=4.4->markdown<4.0.0,>=3.3.6->tfimm) (3.8.0)\r\n",
      "Requirement already satisfied: tensorboard-data-server<0.7.0,>=0.6.0 in /opt/conda/lib/python3.7/site-packages (from tensorboard<2.7,>=2.6.0->tensorflow<3.0,>=2.5->tfimm) (0.6.1)\r\n",
      "Requirement already satisfied: werkzeug>=0.11.15 in /opt/conda/lib/python3.7/site-packages (from tensorboard<2.7,>=2.6.0->tensorflow<3.0,>=2.5->tfimm) (2.1.2)\r\n",
      "Requirement already satisfied: google-auth<2,>=1.6.3 in /opt/conda/lib/python3.7/site-packages (from tensorboard<2.7,>=2.6.0->tensorflow<3.0,>=2.5->tfimm) (1.35.0)\r\n",
      "Requirement already satisfied: google-auth-oauthlib<0.5,>=0.4.1 in /opt/conda/lib/python3.7/site-packages (from tensorboard<2.7,>=2.6.0->tensorflow<3.0,>=2.5->tfimm) (0.4.6)\r\n",
      "Requirement already satisfied: requests<3,>=2.21.0 in /opt/conda/lib/python3.7/site-packages (from tensorboard<2.7,>=2.6.0->tensorflow<3.0,>=2.5->tfimm) (2.27.1)\r\n",
      "Requirement already satisfied: tensorboard-plugin-wit>=1.6.0 in /opt/conda/lib/python3.7/site-packages (from tensorboard<2.7,>=2.6.0->tensorflow<3.0,>=2.5->tfimm) (1.8.1)\r\n",
      "Requirement already satisfied: setuptools>=41.0.0 in /opt/conda/lib/python3.7/site-packages (from tensorboard<2.7,>=2.6.0->tensorflow<3.0,>=2.5->tfimm) (59.8.0)\r\n",
      "Requirement already satisfied: cachetools<5.0,>=2.0.0 in /opt/conda/lib/python3.7/site-packages (from google-auth<2,>=1.6.3->tensorboard<2.7,>=2.6.0->tensorflow<3.0,>=2.5->tfimm) (4.2.4)\r\n",
      "Requirement already satisfied: pyasn1-modules>=0.2.1 in /opt/conda/lib/python3.7/site-packages (from google-auth<2,>=1.6.3->tensorboard<2.7,>=2.6.0->tensorflow<3.0,>=2.5->tfimm) (0.2.7)\r\n",
      "Requirement already satisfied: rsa<5,>=3.1.4 in /opt/conda/lib/python3.7/site-packages (from google-auth<2,>=1.6.3->tensorboard<2.7,>=2.6.0->tensorflow<3.0,>=2.5->tfimm) (4.8)\r\n",
      "Requirement already satisfied: requests-oauthlib>=0.7.0 in /opt/conda/lib/python3.7/site-packages (from google-auth-oauthlib<0.5,>=0.4.1->tensorboard<2.7,>=2.6.0->tensorflow<3.0,>=2.5->tfimm) (1.3.1)\r\n",
      "Requirement already satisfied: idna<4,>=2.5 in /opt/conda/lib/python3.7/site-packages (from requests<3,>=2.21.0->tensorboard<2.7,>=2.6.0->tensorflow<3.0,>=2.5->tfimm) (3.3)\r\n",
      "Requirement already satisfied: charset-normalizer~=2.0.0 in /opt/conda/lib/python3.7/site-packages (from requests<3,>=2.21.0->tensorboard<2.7,>=2.6.0->tensorflow<3.0,>=2.5->tfimm) (2.0.12)\r\n",
      "Requirement already satisfied: urllib3<1.27,>=1.21.1 in /opt/conda/lib/python3.7/site-packages (from requests<3,>=2.21.0->tensorboard<2.7,>=2.6.0->tensorflow<3.0,>=2.5->tfimm) (1.26.9)\r\n",
      "Requirement already satisfied: certifi>=2017.4.17 in /opt/conda/lib/python3.7/site-packages (from requests<3,>=2.21.0->tensorboard<2.7,>=2.6.0->tensorflow<3.0,>=2.5->tfimm) (2022.5.18.1)\r\n",
      "Requirement already satisfied: pyasn1<0.5.0,>=0.4.6 in /opt/conda/lib/python3.7/site-packages (from pyasn1-modules>=0.2.1->google-auth<2,>=1.6.3->tensorboard<2.7,>=2.6.0->tensorflow<3.0,>=2.5->tfimm) (0.4.8)\r\n",
      "Requirement already satisfied: oauthlib>=3.0.0 in /opt/conda/lib/python3.7/site-packages (from requests-oauthlib>=0.7.0->google-auth-oauthlib<0.5,>=0.4.1->tensorboard<2.7,>=2.6.0->tensorflow<3.0,>=2.5->tfimm) (3.2.0)\r\n",
      "Building wheels for collected packages: wrapt\r\n",
      "  Building wheel for wrapt (setup.py) ... \u001b[?25l-\b \b\\\b \b|\b \bdone\r\n",
      "\u001b[?25h  Created wheel for wrapt: filename=wrapt-1.12.1-cp37-cp37m-linux_x86_64.whl size=77045 sha256=7455df37c8684f39a34d6cc0ba1379dc8de79cd748e6aa6f7f7c264aeb5aeedd\r\n",
      "  Stored in directory: /root/.cache/pip/wheels/62/76/4c/aa25851149f3f6d9785f6c869387ad82b3fd37582fa8147ac6\r\n",
      "Successfully built wrapt\r\n",
      "Installing collected packages: wrapt, typing-extensions, six, numpy, absl-py, tfimm\r\n",
      "  Attempting uninstall: wrapt\r\n",
      "    Found existing installation: wrapt 1.14.1\r\n",
      "    Uninstalling wrapt-1.14.1:\r\n",
      "      Successfully uninstalled wrapt-1.14.1\r\n",
      "  Attempting uninstall: typing-extensions\r\n",
      "    Found existing installation: typing_extensions 4.2.0\r\n",
      "    Uninstalling typing_extensions-4.2.0:\r\n",
      "      Successfully uninstalled typing_extensions-4.2.0\r\n",
      "  Attempting uninstall: six\r\n",
      "    Found existing installation: six 1.16.0\r\n",
      "    Uninstalling six-1.16.0:\r\n",
      "      Successfully uninstalled six-1.16.0\r\n",
      "  Attempting uninstall: numpy\r\n",
      "    Found existing installation: numpy 1.21.6\r\n",
      "    Uninstalling numpy-1.21.6:\r\n",
      "      Successfully uninstalled numpy-1.21.6\r\n",
      "  Attempting uninstall: absl-py\r\n",
      "    Found existing installation: absl-py 1.0.0\r\n",
      "    Uninstalling absl-py-1.0.0:\r\n",
      "      Successfully uninstalled absl-py-1.0.0\r\n",
      "\u001b[31mERROR: pip's dependency resolver does not currently take into account all the packages that are installed. This behaviour is the source of the following dependency conflicts.\r\n",
      "tensorflow-io 0.21.0 requires tensorflow-io-gcs-filesystem==0.21.0, which is not installed.\r\n",
      "dask-cudf 21.10.1 requires cupy-cuda114, which is not installed.\r\n",
      "beatrix-jupyterlab 3.1.7 requires google-cloud-bigquery-storage, which is not installed.\r\n",
      "xarray-einstats 0.2.2 requires numpy>=1.21, but you have numpy 1.19.5 which is incompatible.\r\n",
      "tfx-bsl 1.8.0 requires tensorflow!=2.0.*,!=2.1.*,!=2.2.*,!=2.3.*,!=2.4.*,!=2.5.*,!=2.6.*,!=2.7.*,<3,>=1.15.5, but you have tensorflow 2.6.4 which is incompatible.\r\n",
      "tensorflow-transform 1.8.0 requires tensorflow!=2.0.*,!=2.1.*,!=2.2.*,!=2.3.*,!=2.4.*,!=2.5.*,!=2.6.*,!=2.7.*,<2.9,>=1.15.5, but you have tensorflow 2.6.4 which is incompatible.\r\n",
      "tensorflow-serving-api 2.8.0 requires tensorflow<3,>=2.8.0, but you have tensorflow 2.6.4 which is incompatible.\r\n",
      "rich 12.4.4 requires typing-extensions<5.0,>=4.0.0; python_version < \"3.9\", but you have typing-extensions 3.10.0.2 which is incompatible.\r\n",
      "pytorch-lightning 1.6.3 requires typing-extensions>=4.0.0, but you have typing-extensions 3.10.0.2 which is incompatible.\r\n",
      "pytools 2022.1.9 requires typing-extensions>=4.0; python_version < \"3.11\", but you have typing-extensions 3.10.0.2 which is incompatible.\r\n",
      "pdpbox 0.2.1 requires matplotlib==3.1.1, but you have matplotlib 3.5.2 which is incompatible.\r\n",
      "grpcio-status 1.46.1 requires grpcio>=1.46.1, but you have grpcio 1.43.0 which is incompatible.\r\n",
      "google-cloud-aiplatform 0.6.0a1 requires google-cloud-storage<2.0.0dev,>=1.26.0, but you have google-cloud-storage 2.1.0 which is incompatible.\r\n",
      "gcsfs 2022.3.0 requires fsspec==2022.3.0, but you have fsspec 2022.5.0 which is incompatible.\r\n",
      "flax 0.5.0 requires typing-extensions>=4.1.1, but you have typing-extensions 3.10.0.2 which is incompatible.\r\n",
      "flake8 4.0.1 requires importlib-metadata<4.3; python_version < \"3.8\", but you have importlib-metadata 4.11.4 which is incompatible.\r\n",
      "featuretools 1.9.0 requires numpy>=1.21.0, but you have numpy 1.19.5 which is incompatible.\r\n",
      "dask-cudf 21.10.1 requires dask==2021.09.1, but you have dask 2022.2.0 which is incompatible.\r\n",
      "dask-cudf 21.10.1 requires distributed==2021.09.1, but you have distributed 2022.2.0 which is incompatible.\r\n",
      "apache-beam 2.38.0 requires dill<0.3.2,>=0.3.1.1, but you have dill 0.3.5.1 which is incompatible.\r\n",
      "apache-beam 2.38.0 requires httplib2<0.20.0,>=0.8, but you have httplib2 0.20.4 which is incompatible.\r\n",
      "aioitertools 0.10.0 requires typing_extensions>=4.0; python_version < \"3.10\", but you have typing-extensions 3.10.0.2 which is incompatible.\r\n",
      "aiobotocore 2.3.2 requires botocore<1.24.22,>=1.24.21, but you have botocore 1.26.7 which is incompatible.\u001b[0m\u001b[31m\r\n",
      "\u001b[0mSuccessfully installed absl-py-0.15.0 numpy-1.19.5 six-1.15.0 tfimm-0.2.6 typing-extensions-3.10.0.2 wrapt-1.12.1\r\n",
      "\u001b[33mWARNING: Running pip as the 'root' user can result in broken permissions and conflicting behaviour with the system package manager. It is recommended to use a virtual environment instead: https://pip.pypa.io/warnings/venv\u001b[0m\u001b[33m\r\n",
      "\u001b[0mNote: you may need to restart the kernel to use updated packages.\n"
     ]
    }
   ],
   "source": [
    "pip install tfimm"
   ]
  },
  {
   "cell_type": "code",
   "execution_count": 2,
   "id": "ca0ade30",
   "metadata": {
    "_kg_hide-input": true,
    "_kg_hide-output": true,
    "execution": {
     "iopub.execute_input": "2022-06-03T14:26:17.332062Z",
     "iopub.status.busy": "2022-06-03T14:26:17.331747Z",
     "iopub.status.idle": "2022-06-03T14:26:27.593657Z",
     "shell.execute_reply": "2022-06-03T14:26:27.592705Z"
    },
    "papermill": {
     "duration": 10.272973,
     "end_time": "2022-06-03T14:26:27.596106",
     "exception": false,
     "start_time": "2022-06-03T14:26:17.323133",
     "status": "completed"
    },
    "tags": []
   },
   "outputs": [
    {
     "name": "stdout",
     "output_type": "stream",
     "text": [
      "Collecting timm\r\n",
      "  Downloading timm-0.5.4-py3-none-any.whl (431 kB)\r\n",
      "\u001b[2K     \u001b[90m━━━━━━━━━━━━━━━━━━━━━━━━━━━━━━━━━━━━━━━\u001b[0m \u001b[32m431.5/431.5 kB\u001b[0m \u001b[31m1.8 MB/s\u001b[0m eta \u001b[36m0:00:00\u001b[0m\r\n",
      "\u001b[?25hRequirement already satisfied: torch>=1.4 in /opt/conda/lib/python3.7/site-packages (from timm) (1.11.0)\r\n",
      "Requirement already satisfied: torchvision in /opt/conda/lib/python3.7/site-packages (from timm) (0.12.0)\r\n",
      "Requirement already satisfied: typing-extensions in /opt/conda/lib/python3.7/site-packages (from torch>=1.4->timm) (3.10.0.2)\r\n",
      "Requirement already satisfied: requests in /opt/conda/lib/python3.7/site-packages (from torchvision->timm) (2.27.1)\r\n",
      "Requirement already satisfied: pillow!=8.3.*,>=5.3.0 in /opt/conda/lib/python3.7/site-packages (from torchvision->timm) (9.1.0)\r\n",
      "Requirement already satisfied: numpy in /opt/conda/lib/python3.7/site-packages (from torchvision->timm) (1.19.5)\r\n",
      "Requirement already satisfied: certifi>=2017.4.17 in /opt/conda/lib/python3.7/site-packages (from requests->torchvision->timm) (2022.5.18.1)\r\n",
      "Requirement already satisfied: urllib3<1.27,>=1.21.1 in /opt/conda/lib/python3.7/site-packages (from requests->torchvision->timm) (1.26.9)\r\n",
      "Requirement already satisfied: idna<4,>=2.5 in /opt/conda/lib/python3.7/site-packages (from requests->torchvision->timm) (3.3)\r\n",
      "Requirement already satisfied: charset-normalizer~=2.0.0 in /opt/conda/lib/python3.7/site-packages (from requests->torchvision->timm) (2.0.12)\r\n",
      "Installing collected packages: timm\r\n",
      "Successfully installed timm-0.5.4\r\n",
      "\u001b[33mWARNING: Running pip as the 'root' user can result in broken permissions and conflicting behaviour with the system package manager. It is recommended to use a virtual environment instead: https://pip.pypa.io/warnings/venv\u001b[0m\u001b[33m\r\n",
      "\u001b[0mNote: you may need to restart the kernel to use updated packages.\n"
     ]
    }
   ],
   "source": [
    "pip install timm"
   ]
  },
  {
   "cell_type": "code",
   "execution_count": 3,
   "id": "69825928",
   "metadata": {
    "_kg_hide-input": true,
    "_kg_hide-output": true,
    "execution": {
     "iopub.execute_input": "2022-06-03T14:26:27.615039Z",
     "iopub.status.busy": "2022-06-03T14:26:27.614730Z",
     "iopub.status.idle": "2022-06-03T14:26:35.366086Z",
     "shell.execute_reply": "2022-06-03T14:26:35.365156Z"
    },
    "papermill": {
     "duration": 7.762772,
     "end_time": "2022-06-03T14:26:35.368201",
     "exception": false,
     "start_time": "2022-06-03T14:26:27.605429",
     "status": "completed"
    },
    "tags": []
   },
   "outputs": [],
   "source": [
    "import tfimm\n",
    "import timm\n",
    "import matplotlib.pyplot as plt\n",
    "import tensorflow as tf\n",
    "from tensorflow import keras\n",
    "from tensorflow.keras import layers\n",
    "import tensorflow_addons as tfa"
   ]
  },
  {
   "cell_type": "code",
   "execution_count": 4,
   "id": "9eee1a44",
   "metadata": {
    "execution": {
     "iopub.execute_input": "2022-06-03T14:26:35.387369Z",
     "iopub.status.busy": "2022-06-03T14:26:35.386189Z",
     "iopub.status.idle": "2022-06-03T14:26:35.400304Z",
     "shell.execute_reply": "2022-06-03T14:26:35.399527Z"
    },
    "papermill": {
     "duration": 0.025104,
     "end_time": "2022-06-03T14:26:35.401993",
     "exception": false,
     "start_time": "2022-06-03T14:26:35.376889",
     "status": "completed"
    },
    "tags": []
   },
   "outputs": [
    {
     "data": {
      "text/plain": [
       "['vit_base_patch8_224',\n",
       " 'vit_base_patch8_224_in21k',\n",
       " 'vit_base_patch16_224',\n",
       " 'vit_base_patch16_224_in21k',\n",
       " 'vit_base_patch16_224_miil',\n",
       " 'vit_base_patch16_224_miil_in21k',\n",
       " 'vit_base_patch16_384',\n",
       " 'vit_base_patch16_sam_224',\n",
       " 'vit_base_patch32_224',\n",
       " 'vit_base_patch32_224_in21k',\n",
       " 'vit_base_patch32_384',\n",
       " 'vit_base_patch32_sam_224',\n",
       " 'vit_base_r50_s16_224_in21k',\n",
       " 'vit_base_r50_s16_384',\n",
       " 'vit_huge_patch14_224_in21k',\n",
       " 'vit_large_patch16_224',\n",
       " 'vit_large_patch16_224_in21k',\n",
       " 'vit_large_patch16_384',\n",
       " 'vit_large_patch32_224_in21k',\n",
       " 'vit_large_patch32_384',\n",
       " 'vit_large_r50_s32_224',\n",
       " 'vit_large_r50_s32_224_in21k',\n",
       " 'vit_large_r50_s32_384',\n",
       " 'vit_small_patch16_224',\n",
       " 'vit_small_patch16_224_in21k',\n",
       " 'vit_small_patch16_384',\n",
       " 'vit_small_patch32_224',\n",
       " 'vit_small_patch32_224_in21k',\n",
       " 'vit_small_patch32_384',\n",
       " 'vit_small_r26_s32_224',\n",
       " 'vit_small_r26_s32_224_in21k',\n",
       " 'vit_small_r26_s32_384',\n",
       " 'vit_tiny_patch16_224',\n",
       " 'vit_tiny_patch16_224_in21k',\n",
       " 'vit_tiny_patch16_384',\n",
       " 'vit_tiny_r_s16_p8_224',\n",
       " 'vit_tiny_r_s16_p8_224_in21k',\n",
       " 'vit_tiny_r_s16_p8_384']"
      ]
     },
     "execution_count": 4,
     "metadata": {},
     "output_type": "execute_result"
    }
   ],
   "source": [
    "model_list = tfimm.list_models(pretrained=\"timm\")\n",
    "str_match = [s for s in model_list if \"vit\" in s]\n",
    "str_match"
   ]
  },
  {
   "cell_type": "code",
   "execution_count": 5,
   "id": "264d4785",
   "metadata": {
    "execution": {
     "iopub.execute_input": "2022-06-03T14:26:35.419502Z",
     "iopub.status.busy": "2022-06-03T14:26:35.419246Z",
     "iopub.status.idle": "2022-06-03T14:26:52.453949Z",
     "shell.execute_reply": "2022-06-03T14:26:52.451946Z"
    },
    "papermill": {
     "duration": 17.045982,
     "end_time": "2022-06-03T14:26:52.456224",
     "exception": false,
     "start_time": "2022-06-03T14:26:35.410242",
     "status": "completed"
    },
    "tags": []
   },
   "outputs": [
    {
     "name": "stderr",
     "output_type": "stream",
     "text": [
      "2022-06-03 14:26:35.522786: I tensorflow/stream_executor/cuda/cuda_gpu_executor.cc:937] successful NUMA node read from SysFS had negative value (-1), but there must be at least one NUMA node, so returning NUMA node zero\n",
      "2022-06-03 14:26:35.524110: I tensorflow/stream_executor/cuda/cuda_gpu_executor.cc:937] successful NUMA node read from SysFS had negative value (-1), but there must be at least one NUMA node, so returning NUMA node zero\n",
      "2022-06-03 14:26:35.525341: I tensorflow/stream_executor/cuda/cuda_gpu_executor.cc:937] successful NUMA node read from SysFS had negative value (-1), but there must be at least one NUMA node, so returning NUMA node zero\n",
      "2022-06-03 14:26:35.527866: I tensorflow/core/platform/cpu_feature_guard.cc:142] This TensorFlow binary is optimized with oneAPI Deep Neural Network Library (oneDNN) to use the following CPU instructions in performance-critical operations:  AVX2 AVX512F FMA\n",
      "To enable them in other operations, rebuild TensorFlow with the appropriate compiler flags.\n",
      "2022-06-03 14:26:35.528426: I tensorflow/stream_executor/cuda/cuda_gpu_executor.cc:937] successful NUMA node read from SysFS had negative value (-1), but there must be at least one NUMA node, so returning NUMA node zero\n",
      "2022-06-03 14:26:35.529639: I tensorflow/stream_executor/cuda/cuda_gpu_executor.cc:937] successful NUMA node read from SysFS had negative value (-1), but there must be at least one NUMA node, so returning NUMA node zero\n",
      "2022-06-03 14:26:35.530926: I tensorflow/stream_executor/cuda/cuda_gpu_executor.cc:937] successful NUMA node read from SysFS had negative value (-1), but there must be at least one NUMA node, so returning NUMA node zero\n",
      "2022-06-03 14:26:40.508863: I tensorflow/stream_executor/cuda/cuda_gpu_executor.cc:937] successful NUMA node read from SysFS had negative value (-1), but there must be at least one NUMA node, so returning NUMA node zero\n",
      "2022-06-03 14:26:40.509695: I tensorflow/stream_executor/cuda/cuda_gpu_executor.cc:937] successful NUMA node read from SysFS had negative value (-1), but there must be at least one NUMA node, so returning NUMA node zero\n",
      "2022-06-03 14:26:40.510364: I tensorflow/stream_executor/cuda/cuda_gpu_executor.cc:937] successful NUMA node read from SysFS had negative value (-1), but there must be at least one NUMA node, so returning NUMA node zero\n",
      "2022-06-03 14:26:40.511002: I tensorflow/core/common_runtime/gpu/gpu_device.cc:1510] Created device /job:localhost/replica:0/task:0/device:GPU:0 with 15045 MB memory:  -> device: 0, name: Tesla P100-PCIE-16GB, pci bus id: 0000:00:04.0, compute capability: 6.0\n",
      "2022-06-03 14:26:41.974203: I tensorflow/stream_executor/cuda/cuda_dnn.cc:369] Loaded cuDNN version 8005\n"
     ]
    },
    {
     "name": "stdout",
     "output_type": "stream",
     "text": [
      "Model: \"vi_t\"\n",
      "_________________________________________________________________\n",
      "Layer (type)                 Output Shape              Param #   \n",
      "=================================================================\n",
      "patch_embed (PatchEmbeddings multiple                  2360064   \n",
      "_________________________________________________________________\n",
      "dropout (Dropout)            multiple                  0         \n",
      "_________________________________________________________________\n",
      "blocks/0 (ViTBlock)          multiple                  7087872   \n",
      "_________________________________________________________________\n",
      "blocks/1 (ViTBlock)          multiple                  7087872   \n",
      "_________________________________________________________________\n",
      "blocks/2 (ViTBlock)          multiple                  7087872   \n",
      "_________________________________________________________________\n",
      "blocks/3 (ViTBlock)          multiple                  7087872   \n",
      "_________________________________________________________________\n",
      "blocks/4 (ViTBlock)          multiple                  7087872   \n",
      "_________________________________________________________________\n",
      "blocks/5 (ViTBlock)          multiple                  7087872   \n",
      "_________________________________________________________________\n",
      "blocks/6 (ViTBlock)          multiple                  7087872   \n",
      "_________________________________________________________________\n",
      "blocks/7 (ViTBlock)          multiple                  7087872   \n",
      "_________________________________________________________________\n",
      "blocks/8 (ViTBlock)          multiple                  7087872   \n",
      "_________________________________________________________________\n",
      "blocks/9 (ViTBlock)          multiple                  7087872   \n",
      "_________________________________________________________________\n",
      "blocks/10 (ViTBlock)         multiple                  7087872   \n",
      "_________________________________________________________________\n",
      "blocks/11 (ViTBlock)         multiple                  7087872   \n",
      "_________________________________________________________________\n",
      "norm (LayerNormalization)    multiple                  1536      \n",
      "_________________________________________________________________\n",
      "head (Dense)                 multiple                  769000    \n",
      "=================================================================\n",
      "Total params: 88,224,232\n",
      "Trainable params: 88,224,232\n",
      "Non-trainable params: 0\n",
      "_________________________________________________________________\n"
     ]
    }
   ],
   "source": [
    "vit_model = tfimm.create_model(\"vit_base_patch32_224\", pretrained=\"timm\")\n",
    "vit_model.summary()"
   ]
  },
  {
   "cell_type": "markdown",
   "id": "4d31aad9",
   "metadata": {
    "papermill": {
     "duration": 0.008454,
     "end_time": "2022-06-03T14:26:52.474552",
     "exception": false,
     "start_time": "2022-06-03T14:26:52.466098",
     "status": "completed"
    },
    "tags": []
   },
   "source": [
    "image size de nuestro ViT"
   ]
  },
  {
   "cell_type": "code",
   "execution_count": 6,
   "id": "2ead8474",
   "metadata": {
    "execution": {
     "iopub.execute_input": "2022-06-03T14:26:52.492934Z",
     "iopub.status.busy": "2022-06-03T14:26:52.492622Z",
     "iopub.status.idle": "2022-06-03T14:26:52.509336Z",
     "shell.execute_reply": "2022-06-03T14:26:52.508540Z"
    },
    "papermill": {
     "duration": 0.027786,
     "end_time": "2022-06-03T14:26:52.511000",
     "exception": false,
     "start_time": "2022-06-03T14:26:52.483214",
     "status": "completed"
    },
    "tags": []
   },
   "outputs": [],
   "source": [
    "image_size = 224"
   ]
  },
  {
   "cell_type": "markdown",
   "id": "45db6bcb",
   "metadata": {
    "papermill": {
     "duration": 0.008491,
     "end_time": "2022-06-03T14:26:52.528074",
     "exception": false,
     "start_time": "2022-06-03T14:26:52.519583",
     "status": "completed"
    },
    "tags": []
   },
   "source": [
    "input shape de CIFAR-100"
   ]
  },
  {
   "cell_type": "code",
   "execution_count": 7,
   "id": "858238b5",
   "metadata": {
    "execution": {
     "iopub.execute_input": "2022-06-03T14:26:52.546291Z",
     "iopub.status.busy": "2022-06-03T14:26:52.546043Z",
     "iopub.status.idle": "2022-06-03T14:26:52.549827Z",
     "shell.execute_reply": "2022-06-03T14:26:52.548971Z"
    },
    "papermill": {
     "duration": 0.014932,
     "end_time": "2022-06-03T14:26:52.551616",
     "exception": false,
     "start_time": "2022-06-03T14:26:52.536684",
     "status": "completed"
    },
    "tags": []
   },
   "outputs": [],
   "source": [
    "input_shape = (32, 32, 3)"
   ]
  },
  {
   "cell_type": "code",
   "execution_count": 8,
   "id": "041d02ef",
   "metadata": {
    "execution": {
     "iopub.execute_input": "2022-06-03T14:26:52.570139Z",
     "iopub.status.busy": "2022-06-03T14:26:52.569893Z",
     "iopub.status.idle": "2022-06-03T14:26:59.453476Z",
     "shell.execute_reply": "2022-06-03T14:26:59.452443Z"
    },
    "papermill": {
     "duration": 6.895553,
     "end_time": "2022-06-03T14:26:59.455991",
     "exception": false,
     "start_time": "2022-06-03T14:26:52.560438",
     "status": "completed"
    },
    "tags": []
   },
   "outputs": [
    {
     "name": "stdout",
     "output_type": "stream",
     "text": [
      "Downloading data from https://www.cs.toronto.edu/~kriz/cifar-100-python.tar.gz\n",
      "169009152/169001437 [==============================] - 3s 0us/step\n",
      "169017344/169001437 [==============================] - 3s 0us/step\n",
      "x_train shape: (50000, 32, 32, 3) - y_train shape: (50000, 1)\n",
      "x_test shape: (10000, 32, 32, 3) - y_test shape: (10000, 1)\n"
     ]
    }
   ],
   "source": [
    "(x_train, y_train), (x_test, y_test) = keras.datasets.cifar100.load_data()\n",
    "\n",
    "print(f\"x_train shape: {x_train.shape} - y_train shape: {y_train.shape}\")\n",
    "print(f\"x_test shape: {x_test.shape} - y_test shape: {y_test.shape}\")"
   ]
  },
  {
   "cell_type": "code",
   "execution_count": 9,
   "id": "4de17bac",
   "metadata": {
    "execution": {
     "iopub.execute_input": "2022-06-03T14:26:59.484687Z",
     "iopub.status.busy": "2022-06-03T14:26:59.484021Z",
     "iopub.status.idle": "2022-06-03T14:27:00.105121Z",
     "shell.execute_reply": "2022-06-03T14:27:00.104264Z"
    },
    "papermill": {
     "duration": 0.637783,
     "end_time": "2022-06-03T14:27:00.107573",
     "exception": false,
     "start_time": "2022-06-03T14:26:59.469790",
     "status": "completed"
    },
    "tags": []
   },
   "outputs": [],
   "source": [
    "preprocess = tfimm.create_preprocessing(\"vit_base_patch32_224\", dtype=\"float32\")\n",
    "x_train, x_test = preprocess(x_train), preprocess(x_test)"
   ]
  },
  {
   "cell_type": "code",
   "execution_count": 10,
   "id": "b7066c38",
   "metadata": {
    "execution": {
     "iopub.execute_input": "2022-06-03T14:27:00.135375Z",
     "iopub.status.busy": "2022-06-03T14:27:00.135078Z",
     "iopub.status.idle": "2022-06-03T14:27:00.151290Z",
     "shell.execute_reply": "2022-06-03T14:27:00.150618Z"
    },
    "papermill": {
     "duration": 0.031937,
     "end_time": "2022-06-03T14:27:00.152996",
     "exception": false,
     "start_time": "2022-06-03T14:27:00.121059",
     "status": "completed"
    },
    "tags": []
   },
   "outputs": [],
   "source": [
    "data_augmentation = keras.Sequential(\n",
    "    [\n",
    "        layers.Normalization(),\n",
    "        layers.Resizing(image_size, image_size),\n",
    "        layers.RandomFlip(\"horizontal\"),\n",
    "        layers.RandomRotation(factor=0.02),\n",
    "        layers.RandomZoom(\n",
    "            height_factor=0.2, width_factor=0.2\n",
    "        )\n",
    "    ],\n",
    "    name=\"data_augmentation\",\n",
    ")"
   ]
  },
  {
   "cell_type": "markdown",
   "id": "583acb78",
   "metadata": {
    "papermill": {
     "duration": 0.012982,
     "end_time": "2022-06-03T14:27:00.179010",
     "exception": false,
     "start_time": "2022-06-03T14:27:00.166028",
     "status": "completed"
    },
    "tags": []
   },
   "source": [
    "añadimos las capas de entrada y salida correspondiente a nuestro problema (CIFAR-100)"
   ]
  },
  {
   "cell_type": "code",
   "execution_count": 11,
   "id": "4b06f797",
   "metadata": {
    "execution": {
     "iopub.execute_input": "2022-06-03T14:27:00.206439Z",
     "iopub.status.busy": "2022-06-03T14:27:00.205680Z",
     "iopub.status.idle": "2022-06-03T14:27:02.230470Z",
     "shell.execute_reply": "2022-06-03T14:27:02.229707Z"
    },
    "papermill": {
     "duration": 2.041599,
     "end_time": "2022-06-03T14:27:02.233575",
     "exception": false,
     "start_time": "2022-06-03T14:27:00.191976",
     "status": "completed"
    },
    "tags": []
   },
   "outputs": [
    {
     "name": "stdout",
     "output_type": "stream",
     "text": [
      "Model: \"model\"\n",
      "_________________________________________________________________\n",
      "Layer (type)                 Output Shape              Param #   \n",
      "=================================================================\n",
      "input_1 (InputLayer)         [(None, 32, 32, 3)]       0         \n",
      "_________________________________________________________________\n",
      "data_augmentation (Sequentia (None, 224, 224, 3)       7         \n",
      "_________________________________________________________________\n",
      "vi_t (ViT)                   (None, 1000)              88224232  \n",
      "_________________________________________________________________\n",
      "dense (Dense)                (None, 100)               100100    \n",
      "=================================================================\n",
      "Total params: 88,324,339\n",
      "Trainable params: 88,324,332\n",
      "Non-trainable params: 7\n",
      "_________________________________________________________________\n"
     ]
    }
   ],
   "source": [
    "inputs = layers.Input(shape=input_shape)\n",
    "augmented = data_augmentation(inputs)\n",
    "features = vit_model(augmented)\n",
    "logits = keras.layers.Dense(100)(features)\n",
    "model = keras.Model(inputs=inputs, outputs=logits)\n",
    "model.summary()"
   ]
  },
  {
   "cell_type": "code",
   "execution_count": 12,
   "id": "a8a7434c",
   "metadata": {
    "execution": {
     "iopub.execute_input": "2022-06-03T14:27:02.262423Z",
     "iopub.status.busy": "2022-06-03T14:27:02.262147Z",
     "iopub.status.idle": "2022-06-03T14:27:02.267149Z",
     "shell.execute_reply": "2022-06-03T14:27:02.266393Z"
    },
    "papermill": {
     "duration": 0.020659,
     "end_time": "2022-06-03T14:27:02.268773",
     "exception": false,
     "start_time": "2022-06-03T14:27:02.248114",
     "status": "completed"
    },
    "tags": []
   },
   "outputs": [
    {
     "data": {
      "text/plain": [
       "'\\nmodel = keras.models.Sequential()\\nmodel.add(layers.Input(shape=input_shape))\\nmodel.add(data_augmentation)\\nfor layer in vit_model.layers[0:-1]:\\n    model.add(layer)\\nmodel.add(keras.layers.Dense(100))\\nmodel.summary()\\n\\n'"
      ]
     },
     "execution_count": 12,
     "metadata": {},
     "output_type": "execute_result"
    }
   ],
   "source": [
    "\"\"\"\n",
    "model = keras.models.Sequential()\n",
    "model.add(layers.Input(shape=input_shape))\n",
    "model.add(data_augmentation)\n",
    "for layer in vit_model.layers[0:-1]:\n",
    "    model.add(layer)\n",
    "model.add(keras.layers.Dense(100))\n",
    "model.summary()\n",
    "\n",
    "\"\"\""
   ]
  },
  {
   "cell_type": "markdown",
   "id": "fb567c3f",
   "metadata": {
    "papermill": {
     "duration": 0.013109,
     "end_time": "2022-06-03T14:27:02.295407",
     "exception": false,
     "start_time": "2022-06-03T14:27:02.282298",
     "status": "completed"
    },
    "tags": []
   },
   "source": [
    "hacemos las capas no entrenables"
   ]
  },
  {
   "cell_type": "code",
   "execution_count": 13,
   "id": "74ca089d",
   "metadata": {
    "execution": {
     "iopub.execute_input": "2022-06-03T14:27:02.323201Z",
     "iopub.status.busy": "2022-06-03T14:27:02.322722Z",
     "iopub.status.idle": "2022-06-03T14:27:02.326037Z",
     "shell.execute_reply": "2022-06-03T14:27:02.325247Z"
    },
    "papermill": {
     "duration": 0.019061,
     "end_time": "2022-06-03T14:27:02.327678",
     "exception": false,
     "start_time": "2022-06-03T14:27:02.308617",
     "status": "completed"
    },
    "tags": []
   },
   "outputs": [],
   "source": [
    "#for layer in model.layers:\n",
    "#    layer.trainable = False\n",
    "#model.summary()"
   ]
  },
  {
   "cell_type": "markdown",
   "id": "12e4e390",
   "metadata": {
    "papermill": {
     "duration": 0.013363,
     "end_time": "2022-06-03T14:27:02.354339",
     "exception": false,
     "start_time": "2022-06-03T14:27:02.340976",
     "status": "completed"
    },
    "tags": []
   },
   "source": [
    "parámetros para compilar, entrenar y evaluar el modelo"
   ]
  },
  {
   "cell_type": "code",
   "execution_count": 14,
   "id": "8c53a470",
   "metadata": {
    "execution": {
     "iopub.execute_input": "2022-06-03T14:27:02.383155Z",
     "iopub.status.busy": "2022-06-03T14:27:02.382291Z",
     "iopub.status.idle": "2022-06-03T14:27:02.386984Z",
     "shell.execute_reply": "2022-06-03T14:27:02.386218Z"
    },
    "papermill": {
     "duration": 0.021014,
     "end_time": "2022-06-03T14:27:02.388780",
     "exception": false,
     "start_time": "2022-06-03T14:27:02.367766",
     "status": "completed"
    },
    "tags": []
   },
   "outputs": [],
   "source": [
    "learning_rate = 0.00001\n",
    "weight_decay = 0.0001\n",
    "batch_size = 256\n",
    "num_epochs = 30"
   ]
  },
  {
   "cell_type": "code",
   "execution_count": 15,
   "id": "c85e3a84",
   "metadata": {
    "execution": {
     "iopub.execute_input": "2022-06-03T14:27:02.418331Z",
     "iopub.status.busy": "2022-06-03T14:27:02.417885Z",
     "iopub.status.idle": "2022-06-03T16:30:18.772374Z",
     "shell.execute_reply": "2022-06-03T16:30:18.771309Z"
    },
    "papermill": {
     "duration": 7396.749611,
     "end_time": "2022-06-03T16:30:19.152752",
     "exception": false,
     "start_time": "2022-06-03T14:27:02.403141",
     "status": "completed"
    },
    "tags": []
   },
   "outputs": [
    {
     "name": "stderr",
     "output_type": "stream",
     "text": [
      "2022-06-03 14:27:02.896118: I tensorflow/compiler/mlir/mlir_graph_optimization_pass.cc:185] None of the MLIR Optimization Passes are enabled (registered 2)\n"
     ]
    },
    {
     "name": "stdout",
     "output_type": "stream",
     "text": [
      "Epoch 1/30\n",
      "176/176 [==============================] - 256s 1s/step - loss: 3.1003 - accuracy: 0.3691 - top-5-accuracy: 0.5551 - val_loss: 0.9079 - val_accuracy: 0.7774 - val_top-5-accuracy: 0.9406\n",
      "Epoch 2/30\n",
      "176/176 [==============================] - 242s 1s/step - loss: 0.6039 - accuracy: 0.8429 - top-5-accuracy: 0.9685 - val_loss: 0.4792 - val_accuracy: 0.8714 - val_top-5-accuracy: 0.9778\n",
      "Epoch 3/30\n",
      "176/176 [==============================] - 242s 1s/step - loss: 0.3747 - accuracy: 0.8957 - top-5-accuracy: 0.9856 - val_loss: 0.4041 - val_accuracy: 0.8904 - val_top-5-accuracy: 0.9826\n",
      "Epoch 4/30\n",
      "176/176 [==============================] - 242s 1s/step - loss: 0.2864 - accuracy: 0.9179 - top-5-accuracy: 0.9920 - val_loss: 0.3784 - val_accuracy: 0.8934 - val_top-5-accuracy: 0.9858\n",
      "Epoch 5/30\n",
      "176/176 [==============================] - 242s 1s/step - loss: 0.2348 - accuracy: 0.9333 - top-5-accuracy: 0.9941 - val_loss: 0.3552 - val_accuracy: 0.9006 - val_top-5-accuracy: 0.9874\n",
      "Epoch 6/30\n",
      "176/176 [==============================] - 242s 1s/step - loss: 0.1976 - accuracy: 0.9433 - top-5-accuracy: 0.9964 - val_loss: 0.3506 - val_accuracy: 0.9012 - val_top-5-accuracy: 0.9872\n",
      "Epoch 7/30\n",
      "176/176 [==============================] - 242s 1s/step - loss: 0.1698 - accuracy: 0.9524 - top-5-accuracy: 0.9975 - val_loss: 0.3420 - val_accuracy: 0.9022 - val_top-5-accuracy: 0.9886\n",
      "Epoch 8/30\n",
      "176/176 [==============================] - 242s 1s/step - loss: 0.1507 - accuracy: 0.9594 - top-5-accuracy: 0.9979 - val_loss: 0.3467 - val_accuracy: 0.9026 - val_top-5-accuracy: 0.9878\n",
      "Epoch 9/30\n",
      "176/176 [==============================] - 242s 1s/step - loss: 0.1379 - accuracy: 0.9630 - top-5-accuracy: 0.9984 - val_loss: 0.3471 - val_accuracy: 0.9018 - val_top-5-accuracy: 0.9886\n",
      "Epoch 10/30\n",
      "176/176 [==============================] - 242s 1s/step - loss: 0.1221 - accuracy: 0.9673 - top-5-accuracy: 0.9990 - val_loss: 0.3566 - val_accuracy: 0.8986 - val_top-5-accuracy: 0.9870\n",
      "Epoch 11/30\n",
      "176/176 [==============================] - 242s 1s/step - loss: 0.1144 - accuracy: 0.9709 - top-5-accuracy: 0.9994 - val_loss: 0.3553 - val_accuracy: 0.9008 - val_top-5-accuracy: 0.9896\n",
      "Epoch 12/30\n",
      "176/176 [==============================] - 242s 1s/step - loss: 0.1056 - accuracy: 0.9733 - top-5-accuracy: 0.9994 - val_loss: 0.3618 - val_accuracy: 0.9002 - val_top-5-accuracy: 0.9882\n",
      "Epoch 13/30\n",
      "176/176 [==============================] - 242s 1s/step - loss: 0.1026 - accuracy: 0.9750 - top-5-accuracy: 0.9993 - val_loss: 0.3759 - val_accuracy: 0.8950 - val_top-5-accuracy: 0.9870\n",
      "Epoch 14/30\n",
      "176/176 [==============================] - 242s 1s/step - loss: 0.1008 - accuracy: 0.9758 - top-5-accuracy: 0.9995 - val_loss: 0.3932 - val_accuracy: 0.8926 - val_top-5-accuracy: 0.9862\n",
      "Epoch 15/30\n",
      "176/176 [==============================] - 242s 1s/step - loss: 0.0928 - accuracy: 0.9777 - top-5-accuracy: 0.9995 - val_loss: 0.4236 - val_accuracy: 0.8888 - val_top-5-accuracy: 0.9856\n",
      "Epoch 16/30\n",
      "176/176 [==============================] - 242s 1s/step - loss: 0.0974 - accuracy: 0.9760 - top-5-accuracy: 0.9997 - val_loss: 0.4435 - val_accuracy: 0.8810 - val_top-5-accuracy: 0.9830\n",
      "Epoch 17/30\n",
      "176/176 [==============================] - 242s 1s/step - loss: 0.1010 - accuracy: 0.9750 - top-5-accuracy: 0.9996 - val_loss: 0.4533 - val_accuracy: 0.8786 - val_top-5-accuracy: 0.9820\n",
      "Epoch 18/30\n",
      "176/176 [==============================] - 242s 1s/step - loss: 0.0994 - accuracy: 0.9752 - top-5-accuracy: 0.9995 - val_loss: 0.4595 - val_accuracy: 0.8728 - val_top-5-accuracy: 0.9820\n",
      "Epoch 19/30\n",
      "176/176 [==============================] - 242s 1s/step - loss: 0.1027 - accuracy: 0.9746 - top-5-accuracy: 0.9995 - val_loss: 0.4620 - val_accuracy: 0.8750 - val_top-5-accuracy: 0.9846\n",
      "Epoch 20/30\n",
      "176/176 [==============================] - 242s 1s/step - loss: 0.1076 - accuracy: 0.9721 - top-5-accuracy: 0.9994 - val_loss: 0.4997 - val_accuracy: 0.8648 - val_top-5-accuracy: 0.9792\n",
      "Epoch 21/30\n",
      "176/176 [==============================] - 242s 1s/step - loss: 0.1075 - accuracy: 0.9728 - top-5-accuracy: 0.9993 - val_loss: 0.5115 - val_accuracy: 0.8624 - val_top-5-accuracy: 0.9800\n",
      "Epoch 22/30\n",
      "176/176 [==============================] - 242s 1s/step - loss: 0.1094 - accuracy: 0.9724 - top-5-accuracy: 0.9993 - val_loss: 0.5388 - val_accuracy: 0.8598 - val_top-5-accuracy: 0.9756\n",
      "Epoch 23/30\n",
      "176/176 [==============================] - 242s 1s/step - loss: 0.1243 - accuracy: 0.9669 - top-5-accuracy: 0.9992 - val_loss: 0.5781 - val_accuracy: 0.8516 - val_top-5-accuracy: 0.9760\n",
      "Epoch 24/30\n",
      "176/176 [==============================] - 242s 1s/step - loss: 0.1260 - accuracy: 0.9669 - top-5-accuracy: 0.9987 - val_loss: 0.5662 - val_accuracy: 0.8530 - val_top-5-accuracy: 0.9744\n",
      "Epoch 25/30\n",
      "176/176 [==============================] - 242s 1s/step - loss: 0.1293 - accuracy: 0.9654 - top-5-accuracy: 0.9992 - val_loss: 0.5989 - val_accuracy: 0.8386 - val_top-5-accuracy: 0.9736\n",
      "Epoch 26/30\n",
      "176/176 [==============================] - 242s 1s/step - loss: 0.1486 - accuracy: 0.9598 - top-5-accuracy: 0.9986 - val_loss: 0.6397 - val_accuracy: 0.8374 - val_top-5-accuracy: 0.9712\n",
      "Epoch 27/30\n",
      "176/176 [==============================] - 242s 1s/step - loss: 0.1486 - accuracy: 0.9601 - top-5-accuracy: 0.9984 - val_loss: 0.6353 - val_accuracy: 0.8366 - val_top-5-accuracy: 0.9728\n",
      "Epoch 28/30\n",
      "176/176 [==============================] - 242s 1s/step - loss: 0.1578 - accuracy: 0.9573 - top-5-accuracy: 0.9987 - val_loss: 0.6754 - val_accuracy: 0.8292 - val_top-5-accuracy: 0.9680\n",
      "Epoch 29/30\n",
      "176/176 [==============================] - 242s 1s/step - loss: 0.1687 - accuracy: 0.9539 - top-5-accuracy: 0.9982 - val_loss: 0.7255 - val_accuracy: 0.8154 - val_top-5-accuracy: 0.9662\n",
      "Epoch 30/30\n",
      "176/176 [==============================] - 242s 1s/step - loss: 0.1777 - accuracy: 0.9520 - top-5-accuracy: 0.9983 - val_loss: 0.7101 - val_accuracy: 0.8152 - val_top-5-accuracy: 0.9662\n",
      "313/313 [==============================] - 26s 82ms/step - loss: 0.3268 - accuracy: 0.9057 - top-5-accuracy: 0.9883\n",
      "Test accuracy: 90.57%\n",
      "Test top 5 accuracy: 98.83%\n"
     ]
    }
   ],
   "source": [
    "def run_experiment(model):\n",
    "    optimizer = tfa.optimizers.AdamW(\n",
    "        learning_rate=learning_rate, weight_decay=weight_decay\n",
    "    )\n",
    "\n",
    "    model.compile(\n",
    "        optimizer=optimizer,\n",
    "        loss=keras.losses.SparseCategoricalCrossentropy(from_logits=True),\n",
    "        metrics=[\n",
    "            keras.metrics.SparseCategoricalAccuracy(name=\"accuracy\"),\n",
    "            keras.metrics.SparseTopKCategoricalAccuracy(5, name=\"top-5-accuracy\"),\n",
    "        ]\n",
    "    )\n",
    "\n",
    "    checkpoint_filepath = \"/tmp/checkpoint\"\n",
    "    checkpoint_callback = keras.callbacks.ModelCheckpoint(\n",
    "        checkpoint_filepath,\n",
    "        monitor=\"val_accuracy\",\n",
    "        save_best_only=True,\n",
    "        save_weights_only=True,\n",
    "    )\n",
    "\n",
    "    history = model.fit(\n",
    "        x= x_train,\n",
    "        y= y_train,\n",
    "        batch_size=batch_size,\n",
    "        epochs=num_epochs,\n",
    "        validation_split=0.1,\n",
    "        callbacks=[checkpoint_callback],\n",
    "    )\n",
    "\n",
    "    model.load_weights(checkpoint_filepath)\n",
    "    _, accuracy, top_5_accuracy = model.evaluate(x_test, y_test)\n",
    "    print(f\"Test accuracy: {round(accuracy * 100, 2)}%\")\n",
    "    print(f\"Test top 5 accuracy: {round(top_5_accuracy * 100, 2)}%\")\n",
    "\n",
    "    return history\n",
    "\n",
    "history = run_experiment(model)"
   ]
  },
  {
   "cell_type": "markdown",
   "id": "1ea353f0",
   "metadata": {
    "papermill": {
     "duration": 0.343006,
     "end_time": "2022-06-03T16:30:19.930171",
     "exception": false,
     "start_time": "2022-06-03T16:30:19.587165",
     "status": "completed"
    },
    "tags": []
   },
   "source": [
    "# Performance of model"
   ]
  },
  {
   "cell_type": "code",
   "execution_count": 16,
   "id": "9e7f754f",
   "metadata": {
    "execution": {
     "iopub.execute_input": "2022-06-03T16:30:20.787012Z",
     "iopub.status.busy": "2022-06-03T16:30:20.786569Z",
     "iopub.status.idle": "2022-06-03T16:30:21.073004Z",
     "shell.execute_reply": "2022-06-03T16:30:21.072286Z"
    },
    "papermill": {
     "duration": 0.790985,
     "end_time": "2022-06-03T16:30:21.074695",
     "exception": false,
     "start_time": "2022-06-03T16:30:20.283710",
     "status": "completed"
    },
    "tags": []
   },
   "outputs": [
    {
     "data": {
      "image/png": "[encoded data removed]",
      "text/plain": [
       "<Figure size 432x288 with 1 Axes>"
      ]
     },
     "metadata": {
      "needs_background": "light"
     },
     "output_type": "display_data"
    }
   ],
   "source": [
    "# accuracies\n",
    "plt.plot(history.history['accuracy'], label='train acc')\n",
    "plt.plot(history.history['val_accuracy'], label='val acc')\n",
    "plt.legend()\n",
    "plt.show()"
   ]
  },
  {
   "cell_type": "code",
   "execution_count": 17,
   "id": "f4b1dec8",
   "metadata": {
    "execution": {
     "iopub.execute_input": "2022-06-03T16:30:21.766934Z",
     "iopub.status.busy": "2022-06-03T16:30:21.766568Z",
     "iopub.status.idle": "2022-06-03T16:30:21.945496Z",
     "shell.execute_reply": "2022-06-03T16:30:21.944774Z"
    },
    "papermill": {
     "duration": 0.525793,
     "end_time": "2022-06-03T16:30:21.947263",
     "exception": false,
     "start_time": "2022-06-03T16:30:21.421470",
     "status": "completed"
    },
    "tags": []
   },
   "outputs": [
    {
     "data": {
      "image/png": "[encoded data removed]",
      "text/plain": [
       "<Figure size 432x288 with 1 Axes>"
      ]
     },
     "metadata": {
      "needs_background": "light"
     },
     "output_type": "display_data"
    }
   ],
   "source": [
    "# loss\n",
    "plt.plot(history.history['loss'], label='train loss')\n",
    "plt.plot(history.history['val_loss'], label='val loss')\n",
    "plt.legend()\n",
    "plt.show()"
   ]
  }
 ],
 "metadata": {
  "kernelspec": {
   "display_name": "Python 3",
   "language": "python",
   "name": "python3"
  },
  "language_info": {
   "codemirror_mode": {
    "name": "ipython",
    "version": 3
   },
   "file_extension": ".py",
   "mimetype": "text/x-python",
   "name": "python",
   "nbconvert_exporter": "python",
   "pygments_lexer": "ipython3",
   "version": "3.7.12"
  },
  "papermill": {
   "default_parameters": {},
   "duration": 7483.316196,
   "end_time": "2022-06-03T16:30:25.182105",
   "environment_variables": {},
   "exception": null,
   "input_path": "__notebook__.ipynb",
   "output_path": "__notebook__.ipynb",
   "parameters": {},
   "start_time": "2022-06-03T14:25:41.865909",
   "version": "2.3.4"
  }
 },
 "nbformat": 4,
 "nbformat_minor": 5
}
