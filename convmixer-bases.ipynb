{
 "cells": [
  {
   "cell_type": "markdown",
   "id": "3156a767",
   "metadata": {
    "id": "gAXthSFSIqix",
    "papermill": {
     "duration": 0.022684,
     "end_time": "2022-05-11T15:42:25.051665",
     "exception": false,
     "start_time": "2022-05-11T15:42:25.028981",
     "status": "completed"
    },
    "tags": []
   },
   "source": [
    "# Image classification with ConvMixer\n",
    "\n",
    "**Author:** [Sayak Paul](https://twitter.com/RisingSayak)<br>\n",
    "**Date created:** 2021/10/12<br>\n",
    "**Last modified:** 2021/10/12<br>\n",
    "**Description:** An all-convolutional network applied to patches of images."
   ]
  },
  {
   "cell_type": "markdown",
   "id": "87950627",
   "metadata": {
    "id": "rt80QAddIqi2",
    "papermill": {
     "duration": 0.020463,
     "end_time": "2022-05-11T15:42:25.093217",
     "exception": false,
     "start_time": "2022-05-11T15:42:25.072754",
     "status": "completed"
    },
    "tags": []
   },
   "source": [
    "## Introduction\n",
    "\n",
    "Vision Transformers (ViT; [Dosovitskiy et al.](https://arxiv.org/abs/1612.00593)) extract\n",
    "small patches from the input images, linearly project them, and then apply the\n",
    "Transformer ([Vaswani et al.](https://arxiv.org/abs/1706.03762)) blocks. The application\n",
    "of ViTs to image recognition tasks is quickly becoming a promising area of research,\n",
    "because ViTs eliminate the need to have strong inductive biases (such as convolutions) for\n",
    "modeling locality. This presents them as a general computation primititive capable of\n",
    "learning just from the training data with as minimal inductive priors as possible. ViTs\n",
    "yield great downstream performance when trained with proper regularization, data\n",
    "augmentation, and relatively large datasets.\n",
    "\n",
    "In the [Patches Are All You Need](https://openreview.net/pdf?id=TVHS5Y4dNvM) paper (note: at\n",
    "the time of writing, it is a submission to the ICLR 2022 conference), the authors extend\n",
    "the idea of using patches to train an all-convolutional network and demonstrate\n",
    "competitive results. Their architecture namely **ConvMixer** uses recipes from the recent\n",
    "isotrophic architectures like ViT, MLP-Mixer\n",
    "([Tolstikhin et al.](https://arxiv.org/abs/2105.01601)), such as using the same\n",
    "depth and resolution across different layers in the network, residual connections,\n",
    "and so on.\n",
    "\n",
    "In this example, we will implement the ConvMixer model and demonstrate its performance on\n",
    "the CIFAR-10 dataset.\n",
    "\n",
    "To use the AdamW optimizer, we need to install TensorFlow Addons:\n",
    "\n",
    "```shell\n",
    "pip install -U -q tensorflow-addons\n",
    "```"
   ]
  },
  {
   "cell_type": "markdown",
   "id": "4e87ef8d",
   "metadata": {
    "id": "VNveJRmxIqi3",
    "papermill": {
     "duration": 0.020786,
     "end_time": "2022-05-11T15:42:25.135162",
     "exception": false,
     "start_time": "2022-05-11T15:42:25.114376",
     "status": "completed"
    },
    "tags": []
   },
   "source": [
    "## Imports"
   ]
  },
  {
   "cell_type": "code",
   "execution_count": 1,
   "id": "c8fba555",
   "metadata": {
    "execution": {
     "iopub.execute_input": "2022-05-11T15:42:25.178756Z",
     "iopub.status.busy": "2022-05-11T15:42:25.178324Z",
     "iopub.status.idle": "2022-05-11T15:42:31.127095Z",
     "shell.execute_reply": "2022-05-11T15:42:31.126177Z"
    },
    "id": "CvqmgOUtIqi3",
    "papermill": {
     "duration": 5.973445,
     "end_time": "2022-05-11T15:42:31.129702",
     "exception": false,
     "start_time": "2022-05-11T15:42:25.156257",
     "status": "completed"
    },
    "tags": []
   },
   "outputs": [],
   "source": [
    "from tensorflow.keras import layers\n",
    "from tensorflow import keras\n",
    "\n",
    "import matplotlib.pyplot as plt\n",
    "import tensorflow_addons as tfa\n",
    "import tensorflow as tf\n",
    "import numpy as np"
   ]
  },
  {
   "cell_type": "markdown",
   "id": "b8ed6682",
   "metadata": {
    "id": "vRTVfk1BIqi4",
    "papermill": {
     "duration": 0.023232,
     "end_time": "2022-05-11T15:42:31.175949",
     "exception": false,
     "start_time": "2022-05-11T15:42:31.152717",
     "status": "completed"
    },
    "tags": []
   },
   "source": [
    "## Hyperparameters\n",
    "\n",
    "To keep run time short, we will train the model for only 10 epochs. To focus on\n",
    "the core ideas of ConvMixer, we will not use other training-specific elements like\n",
    "RandAugment ([Cubuk et al.](https://arxiv.org/abs/1909.13719)). If you are interested in\n",
    "learning more about those details, please refer to the\n",
    "[original paper](https://openreview.net/pdf?id=TVHS5Y4dNvM)."
   ]
  },
  {
   "cell_type": "code",
   "execution_count": 2,
   "id": "d0f3dd39",
   "metadata": {
    "execution": {
     "iopub.execute_input": "2022-05-11T15:42:31.224674Z",
     "iopub.status.busy": "2022-05-11T15:42:31.224363Z",
     "iopub.status.idle": "2022-05-11T15:42:31.228728Z",
     "shell.execute_reply": "2022-05-11T15:42:31.227809Z"
    },
    "id": "CmEgKX-IIqi5",
    "papermill": {
     "duration": 0.030319,
     "end_time": "2022-05-11T15:42:31.230781",
     "exception": false,
     "start_time": "2022-05-11T15:42:31.200462",
     "status": "completed"
    },
    "tags": []
   },
   "outputs": [],
   "source": [
    "learning_rate = 0.001\n",
    "weight_decay = 0.0001\n",
    "batch_size = 128\n",
    "num_epochs = 10"
   ]
  },
  {
   "cell_type": "markdown",
   "id": "d790ded5",
   "metadata": {
    "id": "dUHADBgbIqi6",
    "papermill": {
     "duration": 0.022747,
     "end_time": "2022-05-11T15:42:31.276105",
     "exception": false,
     "start_time": "2022-05-11T15:42:31.253358",
     "status": "completed"
    },
    "tags": []
   },
   "source": [
    "## Load the CIFAR-10 dataset"
   ]
  },
  {
   "cell_type": "code",
   "execution_count": 3,
   "id": "8305918d",
   "metadata": {
    "execution": {
     "iopub.execute_input": "2022-05-11T15:42:31.322677Z",
     "iopub.status.busy": "2022-05-11T15:42:31.322423Z",
     "iopub.status.idle": "2022-05-11T15:42:37.084349Z",
     "shell.execute_reply": "2022-05-11T15:42:37.083393Z"
    },
    "id": "zyaZGU2qIqi6",
    "papermill": {
     "duration": 5.78768,
     "end_time": "2022-05-11T15:42:37.086459",
     "exception": false,
     "start_time": "2022-05-11T15:42:31.298779",
     "status": "completed"
    },
    "tags": []
   },
   "outputs": [
    {
     "name": "stdout",
     "output_type": "stream",
     "text": [
      "Downloading data from https://www.cs.toronto.edu/~kriz/cifar-10-python.tar.gz\n",
      "170500096/170498071 [==============================] - 4s 0us/step\n",
      "170508288/170498071 [==============================] - 4s 0us/step\n",
      "Training data samples: 45000\n",
      "Validation data samples: 5000\n",
      "Test data samples: 10000\n"
     ]
    }
   ],
   "source": [
    "(x_train, y_train), (x_test, y_test) = keras.datasets.cifar10.load_data()\n",
    "val_split = 0.1\n",
    "\n",
    "val_indices = int(len(x_train) * val_split)\n",
    "new_x_train, new_y_train = x_train[val_indices:], y_train[val_indices:]\n",
    "x_val, y_val = x_train[:val_indices], y_train[:val_indices]\n",
    "\n",
    "print(f\"Training data samples: {len(new_x_train)}\")\n",
    "print(f\"Validation data samples: {len(x_val)}\")\n",
    "print(f\"Test data samples: {len(x_test)}\")"
   ]
  },
  {
   "cell_type": "markdown",
   "id": "ae13c280",
   "metadata": {
    "id": "_hn_rGIuIqi7",
    "papermill": {
     "duration": 0.043412,
     "end_time": "2022-05-11T15:42:37.174189",
     "exception": false,
     "start_time": "2022-05-11T15:42:37.130777",
     "status": "completed"
    },
    "tags": []
   },
   "source": [
    "## Prepare `tf.data.Dataset` objects\n",
    "\n",
    "Our data augmentation pipeline is different from what the authors used for the CIFAR-10\n",
    "dataset, which is fine for the purpose of the example."
   ]
  },
  {
   "cell_type": "code",
   "execution_count": 4,
   "id": "cab0b155",
   "metadata": {
    "execution": {
     "iopub.execute_input": "2022-05-11T15:42:37.293650Z",
     "iopub.status.busy": "2022-05-11T15:42:37.293329Z",
     "iopub.status.idle": "2022-05-11T15:42:40.874411Z",
     "shell.execute_reply": "2022-05-11T15:42:40.873665Z"
    },
    "id": "KzMqd-TKIqi8",
    "papermill": {
     "duration": 3.657662,
     "end_time": "2022-05-11T15:42:40.876395",
     "exception": false,
     "start_time": "2022-05-11T15:42:37.218733",
     "status": "completed"
    },
    "tags": []
   },
   "outputs": [
    {
     "name": "stderr",
     "output_type": "stream",
     "text": [
      "2022-05-11 15:42:37.399809: I tensorflow/stream_executor/cuda/cuda_gpu_executor.cc:937] successful NUMA node read from SysFS had negative value (-1), but there must be at least one NUMA node, so returning NUMA node zero\n",
      "2022-05-11 15:42:37.536322: I tensorflow/stream_executor/cuda/cuda_gpu_executor.cc:937] successful NUMA node read from SysFS had negative value (-1), but there must be at least one NUMA node, so returning NUMA node zero\n",
      "2022-05-11 15:42:37.537531: I tensorflow/stream_executor/cuda/cuda_gpu_executor.cc:937] successful NUMA node read from SysFS had negative value (-1), but there must be at least one NUMA node, so returning NUMA node zero\n",
      "2022-05-11 15:42:37.541451: I tensorflow/core/platform/cpu_feature_guard.cc:142] This TensorFlow binary is optimized with oneAPI Deep Neural Network Library (oneDNN) to use the following CPU instructions in performance-critical operations:  AVX2 AVX512F FMA\n",
      "To enable them in other operations, rebuild TensorFlow with the appropriate compiler flags.\n",
      "2022-05-11 15:42:37.541869: I tensorflow/stream_executor/cuda/cuda_gpu_executor.cc:937] successful NUMA node read from SysFS had negative value (-1), but there must be at least one NUMA node, so returning NUMA node zero\n",
      "2022-05-11 15:42:37.542996: I tensorflow/stream_executor/cuda/cuda_gpu_executor.cc:937] successful NUMA node read from SysFS had negative value (-1), but there must be at least one NUMA node, so returning NUMA node zero\n",
      "2022-05-11 15:42:37.543976: I tensorflow/stream_executor/cuda/cuda_gpu_executor.cc:937] successful NUMA node read from SysFS had negative value (-1), but there must be at least one NUMA node, so returning NUMA node zero\n",
      "2022-05-11 15:42:39.657742: I tensorflow/stream_executor/cuda/cuda_gpu_executor.cc:937] successful NUMA node read from SysFS had negative value (-1), but there must be at least one NUMA node, so returning NUMA node zero\n",
      "2022-05-11 15:42:39.658606: I tensorflow/stream_executor/cuda/cuda_gpu_executor.cc:937] successful NUMA node read from SysFS had negative value (-1), but there must be at least one NUMA node, so returning NUMA node zero\n",
      "2022-05-11 15:42:39.659335: I tensorflow/stream_executor/cuda/cuda_gpu_executor.cc:937] successful NUMA node read from SysFS had negative value (-1), but there must be at least one NUMA node, so returning NUMA node zero\n",
      "2022-05-11 15:42:39.660599: I tensorflow/core/common_runtime/gpu/gpu_device.cc:1510] Created device /job:localhost/replica:0/task:0/device:GPU:0 with 15403 MB memory:  -> device: 0, name: Tesla P100-PCIE-16GB, pci bus id: 0000:00:04.0, compute capability: 6.0\n"
     ]
    }
   ],
   "source": [
    "image_size = 32\n",
    "auto = tf.data.AUTOTUNE\n",
    "\n",
    "data_augmentation = keras.Sequential(\n",
    "    [layers.RandomCrop(image_size, image_size), layers.RandomFlip(\"horizontal\"),],\n",
    "    name=\"data_augmentation\",\n",
    ")\n",
    "\n",
    "\n",
    "def make_datasets(images, labels, is_train=False):\n",
    "    dataset = tf.data.Dataset.from_tensor_slices((images, labels))\n",
    "    if is_train:\n",
    "        dataset = dataset.shuffle(batch_size * 10)\n",
    "    dataset = dataset.batch(batch_size)\n",
    "    if is_train:\n",
    "        dataset = dataset.map(\n",
    "            lambda x, y: (data_augmentation(x), y), num_parallel_calls=auto\n",
    "        )\n",
    "    return dataset.prefetch(auto)\n",
    "\n",
    "\n",
    "train_dataset = make_datasets(new_x_train, new_y_train, is_train=True)\n",
    "val_dataset = make_datasets(x_val, y_val)\n",
    "test_dataset = make_datasets(x_test, y_test)"
   ]
  },
  {
   "cell_type": "markdown",
   "id": "94535fd9",
   "metadata": {
    "id": "nXfo15veIqi8",
    "papermill": {
     "duration": 0.043843,
     "end_time": "2022-05-11T15:42:40.964819",
     "exception": false,
     "start_time": "2022-05-11T15:42:40.920976",
     "status": "completed"
    },
    "tags": []
   },
   "source": [
    "## ConvMixer utilities\n",
    "\n",
    "The following figure (taken from the original paper) depicts the ConvMixer model:\n",
    "\n",
    "![](https://i.imgur.com/yF8actg.png)\n",
    "\n",
    "ConvMixer is very similar to the MLP-Mixer, model with the following key\n",
    "differences:\n",
    "\n",
    "* Instead of using fully-connected layers, it uses standard convolution layers.\n",
    "* Instead of LayerNorm (which is typical for ViTs and MLP-Mixers), it uses BatchNorm.\n",
    "\n",
    "Two types of convolution layers are used in ConvMixer. **(1)**: Depthwise convolutions,\n",
    "for mixing spatial locations of the images, **(2)**: Pointwise convolutions (which follow\n",
    "the depthwise convolutions), for mixing channel-wise information across the patches.\n",
    "Another keypoint is the use of *larger kernel sizes* to allow a larger receptive field."
   ]
  },
  {
   "cell_type": "code",
   "execution_count": 5,
   "id": "7aa9dced",
   "metadata": {
    "execution": {
     "iopub.execute_input": "2022-05-11T15:42:41.056969Z",
     "iopub.status.busy": "2022-05-11T15:42:41.056718Z",
     "iopub.status.idle": "2022-05-11T15:42:41.068123Z",
     "shell.execute_reply": "2022-05-11T15:42:41.067391Z"
    },
    "id": "laHZKV9sIqi9",
    "papermill": {
     "duration": 0.060778,
     "end_time": "2022-05-11T15:42:41.069863",
     "exception": false,
     "start_time": "2022-05-11T15:42:41.009085",
     "status": "completed"
    },
    "tags": []
   },
   "outputs": [],
   "source": [
    "\n",
    "def activation_block(x):\n",
    "    x = layers.Activation(\"gelu\")(x)\n",
    "    return layers.BatchNormalization()(x)\n",
    "\n",
    "\n",
    "def conv_stem(x, filters: int, patch_size: int):\n",
    "    x = layers.Conv2D(filters, kernel_size=patch_size, strides=patch_size)(x)\n",
    "    return activation_block(x)\n",
    "\n",
    "\n",
    "def conv_mixer_block(x, filters: int, kernel_size: int):\n",
    "    # Depthwise convolution.\n",
    "    x0 = x\n",
    "    x = layers.DepthwiseConv2D(kernel_size=kernel_size, padding=\"same\")(x)\n",
    "    x = layers.Add()([activation_block(x), x0])  # Residual.\n",
    "\n",
    "    # Pointwise convolution.\n",
    "    x = layers.Conv2D(filters, kernel_size=1)(x)\n",
    "    x = activation_block(x)\n",
    "\n",
    "    return x\n",
    "\n",
    "\n",
    "def get_conv_mixer_256_8(\n",
    "    image_size=32, filters=256, depth=8, kernel_size=5, patch_size=2, num_classes=10\n",
    "):\n",
    "    \"\"\"ConvMixer-256/8: https://openreview.net/pdf?id=TVHS5Y4dNvM.\n",
    "    The hyperparameter values are taken from the paper.\n",
    "    \"\"\"\n",
    "    inputs = keras.Input((image_size, image_size, 3))\n",
    "    x = layers.Rescaling(scale=1.0 / 255)(inputs)\n",
    "\n",
    "    # Extract patch embeddings.\n",
    "    x = conv_stem(x, filters, patch_size)\n",
    "\n",
    "    # ConvMixer blocks.\n",
    "    for _ in range(depth):\n",
    "        x = conv_mixer_block(x, filters, kernel_size)\n",
    "\n",
    "    # Classification block.\n",
    "    x = layers.GlobalAvgPool2D()(x)\n",
    "    outputs = layers.Dense(num_classes, activation=\"softmax\")(x)\n",
    "\n",
    "    return keras.Model(inputs, outputs)\n"
   ]
  },
  {
   "cell_type": "markdown",
   "id": "71153c97",
   "metadata": {
    "id": "V_VQPG3kIqi9",
    "papermill": {
     "duration": 0.045939,
     "end_time": "2022-05-11T15:42:41.162110",
     "exception": false,
     "start_time": "2022-05-11T15:42:41.116171",
     "status": "completed"
    },
    "tags": []
   },
   "source": [
    "The model used in this experiment is termed as **ConvMixer-256/8** where 256 denotes the\n",
    "number of channels and 8 denotes the depth. The resulting model only has 0.8 million\n",
    "parameters."
   ]
  },
  {
   "cell_type": "markdown",
   "id": "d481ddfa",
   "metadata": {
    "id": "0bo8ohp1Iqi-",
    "papermill": {
     "duration": 0.04376,
     "end_time": "2022-05-11T15:42:41.251815",
     "exception": false,
     "start_time": "2022-05-11T15:42:41.208055",
     "status": "completed"
    },
    "tags": []
   },
   "source": [
    "## Model training and evaluation utility"
   ]
  },
  {
   "cell_type": "code",
   "execution_count": 6,
   "id": "92f83d42",
   "metadata": {
    "execution": {
     "iopub.execute_input": "2022-05-11T15:42:41.340137Z",
     "iopub.status.busy": "2022-05-11T15:42:41.339885Z",
     "iopub.status.idle": "2022-05-11T15:42:41.347236Z",
     "shell.execute_reply": "2022-05-11T15:42:41.346591Z"
    },
    "id": "ge9jGVplIqi-",
    "papermill": {
     "duration": 0.053296,
     "end_time": "2022-05-11T15:42:41.348926",
     "exception": false,
     "start_time": "2022-05-11T15:42:41.295630",
     "status": "completed"
    },
    "tags": []
   },
   "outputs": [],
   "source": [
    "# Code reference:\n",
    "# https://keras.io/examples/vision/image_classification_with_vision_transformer/.\n",
    "\n",
    "\n",
    "def run_experiment(model):\n",
    "    optimizer = tfa.optimizers.AdamW(\n",
    "        learning_rate=learning_rate, weight_decay=weight_decay\n",
    "    )\n",
    "\n",
    "    model.compile(\n",
    "        optimizer=optimizer,\n",
    "        loss=\"sparse_categorical_crossentropy\",\n",
    "        metrics=[\"accuracy\"],\n",
    "    )\n",
    "\n",
    "    checkpoint_filepath = \"/tmp/checkpoint\"\n",
    "    checkpoint_callback = keras.callbacks.ModelCheckpoint(\n",
    "        checkpoint_filepath,\n",
    "        monitor=\"val_accuracy\",\n",
    "        save_best_only=True,\n",
    "        save_weights_only=True,\n",
    "    )\n",
    "\n",
    "    history = model.fit(\n",
    "        train_dataset,\n",
    "        validation_data=val_dataset,\n",
    "        epochs=num_epochs,\n",
    "        callbacks=[checkpoint_callback],\n",
    "    )\n",
    "\n",
    "    model.load_weights(checkpoint_filepath)\n",
    "    _, accuracy = model.evaluate(test_dataset)\n",
    "    print(f\"Test accuracy: {round(accuracy * 100, 2)}%\")\n",
    "\n",
    "    return history, model\n"
   ]
  },
  {
   "cell_type": "markdown",
   "id": "0551baa2",
   "metadata": {
    "id": "WlG3dSvhIqi-",
    "papermill": {
     "duration": 0.043212,
     "end_time": "2022-05-11T15:42:41.435700",
     "exception": false,
     "start_time": "2022-05-11T15:42:41.392488",
     "status": "completed"
    },
    "tags": []
   },
   "source": [
    "## Train and evaluate model"
   ]
  },
  {
   "cell_type": "code",
   "execution_count": 7,
   "id": "fdbb5bdf",
   "metadata": {
    "execution": {
     "iopub.execute_input": "2022-05-11T15:42:41.524298Z",
     "iopub.status.busy": "2022-05-11T15:42:41.524092Z",
     "iopub.status.idle": "2022-05-11T15:55:10.654079Z",
     "shell.execute_reply": "2022-05-11T15:55:10.653357Z"
    },
    "id": "bdVFU1scIqi_",
    "papermill": {
     "duration": 749.175958,
     "end_time": "2022-05-11T15:55:10.655787",
     "exception": false,
     "start_time": "2022-05-11T15:42:41.479829",
     "status": "completed"
    },
    "tags": []
   },
   "outputs": [
    {
     "name": "stderr",
     "output_type": "stream",
     "text": [
      "2022-05-11 15:42:42.017198: I tensorflow/compiler/mlir/mlir_graph_optimization_pass.cc:185] None of the MLIR Optimization Passes are enabled (registered 2)\n"
     ]
    },
    {
     "name": "stdout",
     "output_type": "stream",
     "text": [
      "Epoch 1/10\n"
     ]
    },
    {
     "name": "stderr",
     "output_type": "stream",
     "text": [
      "2022-05-11 15:42:46.125944: I tensorflow/stream_executor/cuda/cuda_dnn.cc:369] Loaded cuDNN version 8005\n"
     ]
    },
    {
     "name": "stdout",
     "output_type": "stream",
     "text": [
      "352/352 [==============================] - 54s 125ms/step - loss: 1.2507 - accuracy: 0.5474 - val_loss: 4.4133 - val_accuracy: 0.1010\n",
      "Epoch 2/10\n",
      "352/352 [==============================] - 43s 123ms/step - loss: 0.8022 - accuracy: 0.7191 - val_loss: 0.8082 - val_accuracy: 0.7138\n",
      "Epoch 3/10\n",
      "352/352 [==============================] - 43s 123ms/step - loss: 0.6064 - accuracy: 0.7896 - val_loss: 0.6805 - val_accuracy: 0.7680\n",
      "Epoch 4/10\n",
      "352/352 [==============================] - 43s 123ms/step - loss: 0.4939 - accuracy: 0.8290 - val_loss: 0.5748 - val_accuracy: 0.8018\n",
      "Epoch 5/10\n",
      "352/352 [==============================] - 43s 123ms/step - loss: 0.4078 - accuracy: 0.8584 - val_loss: 0.5220 - val_accuracy: 0.8206\n",
      "Epoch 6/10\n",
      "352/352 [==============================] - 43s 123ms/step - loss: 0.3506 - accuracy: 0.8791 - val_loss: 0.5118 - val_accuracy: 0.8266\n",
      "Epoch 7/10\n",
      "352/352 [==============================] - 44s 124ms/step - loss: 0.3034 - accuracy: 0.8952 - val_loss: 0.4901 - val_accuracy: 0.8352\n",
      "Epoch 8/10\n",
      "352/352 [==============================] - 43s 123ms/step - loss: 0.2648 - accuracy: 0.9068 - val_loss: 0.4809 - val_accuracy: 0.8376\n",
      "Epoch 9/10\n",
      "352/352 [==============================] - 43s 123ms/step - loss: 0.2378 - accuracy: 0.9170 - val_loss: 0.5001 - val_accuracy: 0.8326\n",
      "Epoch 10/10\n",
      "352/352 [==============================] - 43s 123ms/step - loss: 0.2122 - accuracy: 0.9263 - val_loss: 0.5352 - val_accuracy: 0.8366\n",
      "79/79 [==============================] - 2s 31ms/step - loss: 0.5383 - accuracy: 0.8198\n",
      "Test accuracy: 81.98%\n"
     ]
    }
   ],
   "source": [
    "conv_mixer_model = get_conv_mixer_256_8()\n",
    "history, conv_mixer_model = run_experiment(conv_mixer_model)"
   ]
  },
  {
   "cell_type": "markdown",
   "id": "3d483391",
   "metadata": {
    "id": "3xd6u2xsIqi_",
    "papermill": {
     "duration": 1.117435,
     "end_time": "2022-05-11T15:55:12.890654",
     "exception": false,
     "start_time": "2022-05-11T15:55:11.773219",
     "status": "completed"
    },
    "tags": []
   },
   "source": [
    "The gap in training and validation performance can be mitigated by using additional\n",
    "regularization techniques. Nevertheless, being able to get to ~83% accuracy within 10\n",
    "epochs with 0.8 million parameters is a strong result."
   ]
  },
  {
   "cell_type": "markdown",
   "id": "e87bc64e",
   "metadata": {
    "papermill": {
     "duration": 1.194906,
     "end_time": "2022-05-11T15:55:15.206755",
     "exception": false,
     "start_time": "2022-05-11T15:55:14.011849",
     "status": "completed"
    },
    "tags": []
   },
   "source": [
    "## Performance of model"
   ]
  },
  {
   "cell_type": "code",
   "execution_count": 8,
   "id": "ab164728",
   "metadata": {
    "execution": {
     "iopub.execute_input": "2022-05-11T15:55:17.694142Z",
     "iopub.status.busy": "2022-05-11T15:55:17.693886Z",
     "iopub.status.idle": "2022-05-11T15:55:17.880215Z",
     "shell.execute_reply": "2022-05-11T15:55:17.879542Z"
    },
    "papermill": {
     "duration": 1.487883,
     "end_time": "2022-05-11T15:55:17.881973",
     "exception": false,
     "start_time": "2022-05-11T15:55:16.394090",
     "status": "completed"
    },
    "tags": []
   },
   "outputs": [
    {
     "data": {
      "image/png": "[encoded data removed]",
      "text/plain": [
       "<Figure size 432x288 with 1 Axes>"
      ]
     },
     "metadata": {
      "needs_background": "light"
     },
     "output_type": "display_data"
    }
   ],
   "source": [
    "# accuracies\n",
    "plt.plot(history.history['accuracy'], label='train acc')\n",
    "plt.plot(history.history['val_accuracy'], label='val acc')\n",
    "plt.legend()\n",
    "plt.show()"
   ]
  },
  {
   "cell_type": "code",
   "execution_count": 9,
   "id": "4aa35102",
   "metadata": {
    "execution": {
     "iopub.execute_input": "2022-05-11T15:55:20.124881Z",
     "iopub.status.busy": "2022-05-11T15:55:20.124486Z",
     "iopub.status.idle": "2022-05-11T15:55:20.282397Z",
     "shell.execute_reply": "2022-05-11T15:55:20.281737Z"
    },
    "papermill": {
     "duration": 1.280207,
     "end_time": "2022-05-11T15:55:20.284133",
     "exception": false,
     "start_time": "2022-05-11T15:55:19.003926",
     "status": "completed"
    },
    "tags": []
   },
   "outputs": [
    {
     "data": {
      "image/png": "[encoded data removed]",
      "text/plain": [
       "<Figure size 432x288 with 1 Axes>"
      ]
     },
     "metadata": {
      "needs_background": "light"
     },
     "output_type": "display_data"
    }
   ],
   "source": [
    "# loss\n",
    "plt.plot(history.history['loss'], label='train loss')\n",
    "plt.plot(history.history['val_loss'], label='val loss')\n",
    "plt.legend()\n",
    "plt.show()"
   ]
  },
  {
   "cell_type": "markdown",
   "id": "e6541158",
   "metadata": {
    "papermill": {
     "duration": 1.119988,
     "end_time": "2022-05-11T15:55:22.528821",
     "exception": false,
     "start_time": "2022-05-11T15:55:21.408833",
     "status": "completed"
    },
    "tags": []
   },
   "source": [
    "## Model Evaluation"
   ]
  },
  {
   "cell_type": "code",
   "execution_count": 10,
   "id": "077aada0",
   "metadata": {
    "execution": {
     "iopub.execute_input": "2022-05-11T15:55:24.783659Z",
     "iopub.status.busy": "2022-05-11T15:55:24.783339Z",
     "iopub.status.idle": "2022-05-11T15:55:28.693697Z",
     "shell.execute_reply": "2022-05-11T15:55:28.692933Z"
    },
    "papermill": {
     "duration": 5.040667,
     "end_time": "2022-05-11T15:55:28.695776",
     "exception": false,
     "start_time": "2022-05-11T15:55:23.655109",
     "status": "completed"
    },
    "tags": []
   },
   "outputs": [
    {
     "name": "stderr",
     "output_type": "stream",
     "text": [
      "/opt/conda/lib/python3.7/site-packages/geopandas/_compat.py:115: UserWarning: The Shapely GEOS version (3.9.1-CAPI-1.14.2) is incompatible with the GEOS version PyGEOS was compiled with (3.10.1-CAPI-1.16.0). Conversions between both will be slow.\n",
      "  shapely_geos_version, geos_capi_version_string\n"
     ]
    }
   ],
   "source": [
    "from sklearn.metrics import accuracy_score,classification_report,confusion_matrix\n",
    "from sklearn.utils.multiclass import unique_labels\n",
    "import numpy as np\n",
    "import pandas as pd\n",
    "import plotly.figure_factory as ff"
   ]
  },
  {
   "cell_type": "code",
   "execution_count": 11,
   "id": "e8de3646",
   "metadata": {
    "execution": {
     "iopub.execute_input": "2022-05-11T15:55:30.989649Z",
     "iopub.status.busy": "2022-05-11T15:55:30.989398Z",
     "iopub.status.idle": "2022-05-11T15:55:34.653073Z",
     "shell.execute_reply": "2022-05-11T15:55:34.652369Z"
    },
    "papermill": {
     "duration": 4.789428,
     "end_time": "2022-05-11T15:55:34.654902",
     "exception": false,
     "start_time": "2022-05-11T15:55:29.865474",
     "status": "completed"
    },
    "tags": []
   },
   "outputs": [
    {
     "data": {
      "image/png": "[encoded data removed]",
      "text/plain": [
       "<Figure size 432x288 with 10 Axes>"
      ]
     },
     "metadata": {
      "needs_background": "light"
     },
     "output_type": "display_data"
    }
   ],
   "source": [
    "#predict\n",
    "predictions = conv_mixer_model.predict(x_test)\n",
    "predictions = np.argmax(predictions,axis=1)\n",
    "plt.figure()\n",
    "for i in range(10):\n",
    "    ax = plt.subplot(2, 5, i + 1)\n",
    "    ax.imshow(x_test[i].astype(\"uint8\"))\n",
    "    ax.axis(\"off\")\n",
    "    ax.set_title(predictions[i])"
   ]
  },
  {
   "cell_type": "code",
   "execution_count": 12,
   "id": "f8410b8c",
   "metadata": {
    "execution": {
     "iopub.execute_input": "2022-05-11T15:55:36.918559Z",
     "iopub.status.busy": "2022-05-11T15:55:36.918312Z",
     "iopub.status.idle": "2022-05-11T15:55:36.962271Z",
     "shell.execute_reply": "2022-05-11T15:55:36.961456Z"
    },
    "papermill": {
     "duration": 1.179566,
     "end_time": "2022-05-11T15:55:36.964158",
     "exception": false,
     "start_time": "2022-05-11T15:55:35.784592",
     "status": "completed"
    },
    "tags": []
   },
   "outputs": [
    {
     "data": {
      "text/html": [
       "<div>\n",
       "<style scoped>\n",
       "    .dataframe tbody tr th:only-of-type {\n",
       "        vertical-align: middle;\n",
       "    }\n",
       "\n",
       "    .dataframe tbody tr th {\n",
       "        vertical-align: top;\n",
       "    }\n",
       "\n",
       "    .dataframe thead th {\n",
       "        text-align: right;\n",
       "    }\n",
       "</style>\n",
       "<table border=\"1\" class=\"dataframe\">\n",
       "  <thead>\n",
       "    <tr style=\"text-align: right;\">\n",
       "      <th></th>\n",
       "      <th>precision</th>\n",
       "      <th>recall</th>\n",
       "      <th>f1-score</th>\n",
       "      <th>support</th>\n",
       "    </tr>\n",
       "  </thead>\n",
       "  <tbody>\n",
       "    <tr>\n",
       "      <th>0</th>\n",
       "      <td>0.752483</td>\n",
       "      <td>0.9090</td>\n",
       "      <td>0.823370</td>\n",
       "      <td>1000.0000</td>\n",
       "    </tr>\n",
       "    <tr>\n",
       "      <th>1</th>\n",
       "      <td>0.941239</td>\n",
       "      <td>0.8810</td>\n",
       "      <td>0.910124</td>\n",
       "      <td>1000.0000</td>\n",
       "    </tr>\n",
       "    <tr>\n",
       "      <th>2</th>\n",
       "      <td>0.833133</td>\n",
       "      <td>0.6940</td>\n",
       "      <td>0.757229</td>\n",
       "      <td>1000.0000</td>\n",
       "    </tr>\n",
       "    <tr>\n",
       "      <th>3</th>\n",
       "      <td>0.594828</td>\n",
       "      <td>0.7590</td>\n",
       "      <td>0.666960</td>\n",
       "      <td>1000.0000</td>\n",
       "    </tr>\n",
       "    <tr>\n",
       "      <th>4</th>\n",
       "      <td>0.784206</td>\n",
       "      <td>0.8540</td>\n",
       "      <td>0.817616</td>\n",
       "      <td>1000.0000</td>\n",
       "    </tr>\n",
       "    <tr>\n",
       "      <th>5</th>\n",
       "      <td>0.833333</td>\n",
       "      <td>0.6450</td>\n",
       "      <td>0.727170</td>\n",
       "      <td>1000.0000</td>\n",
       "    </tr>\n",
       "    <tr>\n",
       "      <th>6</th>\n",
       "      <td>0.875128</td>\n",
       "      <td>0.8550</td>\n",
       "      <td>0.864947</td>\n",
       "      <td>1000.0000</td>\n",
       "    </tr>\n",
       "    <tr>\n",
       "      <th>7</th>\n",
       "      <td>0.910714</td>\n",
       "      <td>0.8160</td>\n",
       "      <td>0.860759</td>\n",
       "      <td>1000.0000</td>\n",
       "    </tr>\n",
       "    <tr>\n",
       "      <th>8</th>\n",
       "      <td>0.887685</td>\n",
       "      <td>0.9010</td>\n",
       "      <td>0.894293</td>\n",
       "      <td>1000.0000</td>\n",
       "    </tr>\n",
       "    <tr>\n",
       "      <th>9</th>\n",
       "      <td>0.887550</td>\n",
       "      <td>0.8840</td>\n",
       "      <td>0.885772</td>\n",
       "      <td>1000.0000</td>\n",
       "    </tr>\n",
       "    <tr>\n",
       "      <th>accuracy</th>\n",
       "      <td>0.819800</td>\n",
       "      <td>0.8198</td>\n",
       "      <td>0.819800</td>\n",
       "      <td>0.8198</td>\n",
       "    </tr>\n",
       "    <tr>\n",
       "      <th>macro avg</th>\n",
       "      <td>0.830030</td>\n",
       "      <td>0.8198</td>\n",
       "      <td>0.820824</td>\n",
       "      <td>10000.0000</td>\n",
       "    </tr>\n",
       "    <tr>\n",
       "      <th>weighted avg</th>\n",
       "      <td>0.830030</td>\n",
       "      <td>0.8198</td>\n",
       "      <td>0.820824</td>\n",
       "      <td>10000.0000</td>\n",
       "    </tr>\n",
       "  </tbody>\n",
       "</table>\n",
       "</div>"
      ],
      "text/plain": [
       "              precision  recall  f1-score     support\n",
       "0              0.752483  0.9090  0.823370   1000.0000\n",
       "1              0.941239  0.8810  0.910124   1000.0000\n",
       "2              0.833133  0.6940  0.757229   1000.0000\n",
       "3              0.594828  0.7590  0.666960   1000.0000\n",
       "4              0.784206  0.8540  0.817616   1000.0000\n",
       "5              0.833333  0.6450  0.727170   1000.0000\n",
       "6              0.875128  0.8550  0.864947   1000.0000\n",
       "7              0.910714  0.8160  0.860759   1000.0000\n",
       "8              0.887685  0.9010  0.894293   1000.0000\n",
       "9              0.887550  0.8840  0.885772   1000.0000\n",
       "accuracy       0.819800  0.8198  0.819800      0.8198\n",
       "macro avg      0.830030  0.8198  0.820824  10000.0000\n",
       "weighted avg   0.830030  0.8198  0.820824  10000.0000"
      ]
     },
     "execution_count": 12,
     "metadata": {},
     "output_type": "execute_result"
    }
   ],
   "source": [
    "#get classification report\n",
    "report = classification_report(y_test, predictions, output_dict=True)\n",
    "pd.DataFrame(report).T"
   ]
  },
  {
   "cell_type": "markdown",
   "id": "f177358a",
   "metadata": {
    "id": "9F537VI6Iqi_",
    "papermill": {
     "duration": 1.392656,
     "end_time": "2022-05-11T15:55:39.513898",
     "exception": false,
     "start_time": "2022-05-11T15:55:38.121242",
     "status": "completed"
    },
    "tags": []
   },
   "source": [
    "## Visualizing the internals of ConvMixer\n",
    "\n",
    "We can visualize the patch embeddings and the learned convolution filters. Recall\n",
    "that each patch embedding and intermediate feature map have the same number of channels\n",
    "(256 in this case). This will make our visualization utility easier to implement."
   ]
  },
  {
   "cell_type": "code",
   "execution_count": 13,
   "id": "5a632708",
   "metadata": {
    "execution": {
     "iopub.execute_input": "2022-05-11T15:55:41.766909Z",
     "iopub.status.busy": "2022-05-11T15:55:41.766637Z",
     "iopub.status.idle": "2022-05-11T15:55:50.496287Z",
     "shell.execute_reply": "2022-05-11T15:55:50.495623Z"
    },
    "id": "_YBqwlmFIqi_",
    "papermill": {
     "duration": 9.860159,
     "end_time": "2022-05-11T15:55:50.498017",
     "exception": false,
     "start_time": "2022-05-11T15:55:40.637858",
     "status": "completed"
    },
    "tags": []
   },
   "outputs": [
    {
     "data": {
      "image/png": "[encoded data removed]",
      "text/plain": [
       "<Figure size 576x576 with 256 Axes>"
      ]
     },
     "metadata": {},
     "output_type": "display_data"
    }
   ],
   "source": [
    "# Code reference: https://bit.ly/3awIRbP.\n",
    "\n",
    "\n",
    "def visualization_plot(weights, idx=1):\n",
    "    # First, apply min-max normalization to the\n",
    "    # given weights to avoid isotrophic scaling.\n",
    "    p_min, p_max = weights.min(), weights.max()\n",
    "    weights = (weights - p_min) / (p_max - p_min)\n",
    "\n",
    "    # Visualize all the filters.\n",
    "    num_filters = 256\n",
    "    plt.figure(figsize=(8, 8))\n",
    "\n",
    "    for i in range(num_filters):\n",
    "        current_weight = weights[:, :, :, i]\n",
    "        if current_weight.shape[-1] == 1:\n",
    "            current_weight = current_weight.squeeze()\n",
    "        ax = plt.subplot(16, 16, idx)\n",
    "        ax.set_xticks([])\n",
    "        ax.set_yticks([])\n",
    "        plt.imshow(current_weight)\n",
    "        idx += 1\n",
    "\n",
    "\n",
    "# We first visualize the learned patch embeddings.\n",
    "patch_embeddings = conv_mixer_model.layers[2].get_weights()[0]\n",
    "visualization_plot(patch_embeddings)"
   ]
  },
  {
   "cell_type": "markdown",
   "id": "5bc9b42a",
   "metadata": {
    "id": "qL7IM91sIqjA",
    "papermill": {
     "duration": 1.139405,
     "end_time": "2022-05-11T15:55:52.813074",
     "exception": false,
     "start_time": "2022-05-11T15:55:51.673669",
     "status": "completed"
    },
    "tags": []
   },
   "source": [
    "Even though we did not train the network to convergence, we can notice that different\n",
    "patches show different patterns. Some share similarity with others while some are very\n",
    "different. These visualizations are more salient with larger image sizes.\n",
    "\n",
    "Similarly, we can visualize the raw convolution kernels. This can help us understand\n",
    "the patterns to which a given kernel is receptive."
   ]
  },
  {
   "cell_type": "code",
   "execution_count": 14,
   "id": "ac02205e",
   "metadata": {
    "execution": {
     "iopub.execute_input": "2022-05-11T15:55:55.091232Z",
     "iopub.status.busy": "2022-05-11T15:55:55.090979Z",
     "iopub.status.idle": "2022-05-11T15:56:04.459001Z",
     "shell.execute_reply": "2022-05-11T15:56:04.458133Z"
    },
    "id": "d3xweSClIqjA",
    "papermill": {
     "duration": 10.512899,
     "end_time": "2022-05-11T15:56:04.460770",
     "exception": false,
     "start_time": "2022-05-11T15:55:53.947871",
     "status": "completed"
    },
    "tags": []
   },
   "outputs": [
    {
     "name": "stdout",
     "output_type": "stream",
     "text": [
      "5 <keras.layers.convolutional.DepthwiseConv2D object at 0x7fc5ba769610>\n",
      "12 <keras.layers.convolutional.DepthwiseConv2D object at 0x7fc5ac583c90>\n",
      "19 <keras.layers.convolutional.DepthwiseConv2D object at 0x7fc5ac37c810>\n",
      "26 <keras.layers.convolutional.DepthwiseConv2D object at 0x7fc5ac526d10>\n",
      "33 <keras.layers.convolutional.DepthwiseConv2D object at 0x7fc5a0572790>\n",
      "40 <keras.layers.convolutional.DepthwiseConv2D object at 0x7fc5a0530150>\n",
      "47 <keras.layers.convolutional.DepthwiseConv2D object at 0x7fc5a0553350>\n",
      "54 <keras.layers.convolutional.DepthwiseConv2D object at 0x7fc5a04f3d90>\n"
     ]
    },
    {
     "data": {
      "image/png": "[encoded data removed]",
      "text/plain": [
       "<Figure size 576x576 with 256 Axes>"
      ]
     },
     "metadata": {},
     "output_type": "display_data"
    }
   ],
   "source": [
    "# First, print the indices of the convolution layers that are not\n",
    "# pointwise convolutions.\n",
    "for i, layer in enumerate(conv_mixer_model.layers):\n",
    "    if isinstance(layer, layers.DepthwiseConv2D):\n",
    "        if layer.get_config()[\"kernel_size\"] == (5, 5):\n",
    "            print(i, layer)\n",
    "\n",
    "idx = 26  # Taking a kernel from the middle of the network.\n",
    "\n",
    "kernel = conv_mixer_model.layers[idx].get_weights()[0]\n",
    "kernel = np.expand_dims(kernel.squeeze(), axis=2)\n",
    "visualization_plot(kernel)"
   ]
  },
  {
   "cell_type": "markdown",
   "id": "52853bab",
   "metadata": {
    "id": "pImh_sQAIqjA",
    "papermill": {
     "duration": 1.584972,
     "end_time": "2022-05-11T15:56:07.334949",
     "exception": false,
     "start_time": "2022-05-11T15:56:05.749977",
     "status": "completed"
    },
    "tags": []
   },
   "source": [
    "We see that different filters in the kernel have different locality spans, and this pattern\n",
    "is likely to evolve with more training."
   ]
  },
  {
   "cell_type": "markdown",
   "id": "da2de2e2",
   "metadata": {
    "id": "CNGJY6rNIqjB",
    "papermill": {
     "duration": 1.150683,
     "end_time": "2022-05-11T15:56:09.605516",
     "exception": false,
     "start_time": "2022-05-11T15:56:08.454833",
     "status": "completed"
    },
    "tags": []
   },
   "source": [
    "## Final notes\n",
    "\n",
    "There's been a recent trend on fusing convolutions with other data-agnostic operations\n",
    "like self-attention. Following works are along this line of research:\n",
    "\n",
    "* ConViT ([d'Ascoli et al.](https://arxiv.org/abs/2103.10697))\n",
    "* CCT ([Hassani et al.](https://arxiv.org/abs/2104.05704))\n",
    "* CoAtNet ([Dai et al.](https://arxiv.org/abs/2106.04803))"
   ]
  }
 ],
 "metadata": {
  "kernelspec": {
   "display_name": "Python 3",
   "language": "python",
   "name": "python3"
  },
  "language_info": {
   "codemirror_mode": {
    "name": "ipython",
    "version": 3
   },
   "file_extension": ".py",
   "mimetype": "text/x-python",
   "name": "python",
   "nbconvert_exporter": "python",
   "pygments_lexer": "ipython3",
   "version": "3.7.12"
  },
  "papermill": {
   "default_parameters": {},
   "duration": 837.25808,
   "end_time": "2022-05-11T15:56:14.095841",
   "environment_variables": {},
   "exception": null,
   "input_path": "__notebook__.ipynb",
   "output_path": "__notebook__.ipynb",
   "parameters": {},
   "start_time": "2022-05-11T15:42:16.837761",
   "version": "2.3.4"
  }
 },
 "nbformat": 4,
 "nbformat_minor": 5
}
