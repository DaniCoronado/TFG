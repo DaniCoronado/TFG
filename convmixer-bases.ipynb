{
 "cells": [
  {
   "cell_type": "markdown",
   "id": "be5cfb1f",
   "metadata": {
    "id": "gAXthSFSIqix",
    "papermill": {
     "duration": 0.01612,
     "end_time": "2022-05-10T19:19:54.769662",
     "exception": false,
     "start_time": "2022-05-10T19:19:54.753542",
     "status": "completed"
    },
    "tags": []
   },
   "source": [
    "# Image classification with ConvMixer\n",
    "\n",
    "**Author:** [Sayak Paul](https://twitter.com/RisingSayak)<br>\n",
    "**Date created:** 2021/10/12<br>\n",
    "**Last modified:** 2021/10/12<br>\n",
    "**Description:** An all-convolutional network applied to patches of images."
   ]
  },
  {
   "cell_type": "markdown",
   "id": "e5f1ac0e",
   "metadata": {
    "id": "rt80QAddIqi2",
    "papermill": {
     "duration": 0.014082,
     "end_time": "2022-05-10T19:19:54.798885",
     "exception": false,
     "start_time": "2022-05-10T19:19:54.784803",
     "status": "completed"
    },
    "tags": []
   },
   "source": [
    "## Introduction\n",
    "\n",
    "Vision Transformers (ViT; [Dosovitskiy et al.](https://arxiv.org/abs/1612.00593)) extract\n",
    "small patches from the input images, linearly project them, and then apply the\n",
    "Transformer ([Vaswani et al.](https://arxiv.org/abs/1706.03762)) blocks. The application\n",
    "of ViTs to image recognition tasks is quickly becoming a promising area of research,\n",
    "because ViTs eliminate the need to have strong inductive biases (such as convolutions) for\n",
    "modeling locality. This presents them as a general computation primititive capable of\n",
    "learning just from the training data with as minimal inductive priors as possible. ViTs\n",
    "yield great downstream performance when trained with proper regularization, data\n",
    "augmentation, and relatively large datasets.\n",
    "\n",
    "In the [Patches Are All You Need](https://openreview.net/pdf?id=TVHS5Y4dNvM) paper (note: at\n",
    "the time of writing, it is a submission to the ICLR 2022 conference), the authors extend\n",
    "the idea of using patches to train an all-convolutional network and demonstrate\n",
    "competitive results. Their architecture namely **ConvMixer** uses recipes from the recent\n",
    "isotrophic architectures like ViT, MLP-Mixer\n",
    "([Tolstikhin et al.](https://arxiv.org/abs/2105.01601)), such as using the same\n",
    "depth and resolution across different layers in the network, residual connections,\n",
    "and so on.\n",
    "\n",
    "In this example, we will implement the ConvMixer model and demonstrate its performance on\n",
    "the CIFAR-10 dataset.\n",
    "\n",
    "To use the AdamW optimizer, we need to install TensorFlow Addons:\n",
    "\n",
    "```shell\n",
    "pip install -U -q tensorflow-addons\n",
    "```"
   ]
  },
  {
   "cell_type": "markdown",
   "id": "77d4e367",
   "metadata": {
    "id": "VNveJRmxIqi3",
    "papermill": {
     "duration": 0.01403,
     "end_time": "2022-05-10T19:19:54.827194",
     "exception": false,
     "start_time": "2022-05-10T19:19:54.813164",
     "status": "completed"
    },
    "tags": []
   },
   "source": [
    "## Imports"
   ]
  },
  {
   "cell_type": "code",
   "execution_count": 1,
   "id": "37731855",
   "metadata": {
    "execution": {
     "iopub.execute_input": "2022-05-10T19:19:54.857538Z",
     "iopub.status.busy": "2022-05-10T19:19:54.857111Z",
     "iopub.status.idle": "2022-05-10T19:20:00.385325Z",
     "shell.execute_reply": "2022-05-10T19:20:00.384541Z"
    },
    "id": "CvqmgOUtIqi3",
    "papermill": {
     "duration": 5.546469,
     "end_time": "2022-05-10T19:20:00.387837",
     "exception": false,
     "start_time": "2022-05-10T19:19:54.841368",
     "status": "completed"
    },
    "tags": []
   },
   "outputs": [],
   "source": [
    "from tensorflow.keras import layers\n",
    "from tensorflow import keras\n",
    "\n",
    "import matplotlib.pyplot as plt\n",
    "import tensorflow_addons as tfa\n",
    "import tensorflow as tf\n",
    "import numpy as np"
   ]
  },
  {
   "cell_type": "markdown",
   "id": "2ad6795a",
   "metadata": {
    "id": "vRTVfk1BIqi4",
    "papermill": {
     "duration": 0.014392,
     "end_time": "2022-05-10T19:20:00.417144",
     "exception": false,
     "start_time": "2022-05-10T19:20:00.402752",
     "status": "completed"
    },
    "tags": []
   },
   "source": [
    "## Hyperparameters\n",
    "\n",
    "To keep run time short, we will train the model for only 10 epochs. To focus on\n",
    "the core ideas of ConvMixer, we will not use other training-specific elements like\n",
    "RandAugment ([Cubuk et al.](https://arxiv.org/abs/1909.13719)). If you are interested in\n",
    "learning more about those details, please refer to the\n",
    "[original paper](https://openreview.net/pdf?id=TVHS5Y4dNvM)."
   ]
  },
  {
   "cell_type": "code",
   "execution_count": 2,
   "id": "c0b2b742",
   "metadata": {
    "execution": {
     "iopub.execute_input": "2022-05-10T19:20:00.447352Z",
     "iopub.status.busy": "2022-05-10T19:20:00.447067Z",
     "iopub.status.idle": "2022-05-10T19:20:00.450829Z",
     "shell.execute_reply": "2022-05-10T19:20:00.450148Z"
    },
    "id": "CmEgKX-IIqi5",
    "papermill": {
     "duration": 0.020888,
     "end_time": "2022-05-10T19:20:00.452541",
     "exception": false,
     "start_time": "2022-05-10T19:20:00.431653",
     "status": "completed"
    },
    "tags": []
   },
   "outputs": [],
   "source": [
    "learning_rate = 0.001\n",
    "weight_decay = 0.0001\n",
    "batch_size = 128\n",
    "num_epochs = 10"
   ]
  },
  {
   "cell_type": "markdown",
   "id": "84df8d7c",
   "metadata": {
    "id": "dUHADBgbIqi6",
    "papermill": {
     "duration": 0.014538,
     "end_time": "2022-05-10T19:20:00.481606",
     "exception": false,
     "start_time": "2022-05-10T19:20:00.467068",
     "status": "completed"
    },
    "tags": []
   },
   "source": [
    "## Load the CIFAR-10 dataset"
   ]
  },
  {
   "cell_type": "code",
   "execution_count": 3,
   "id": "397a9252",
   "metadata": {
    "execution": {
     "iopub.execute_input": "2022-05-10T19:20:00.514254Z",
     "iopub.status.busy": "2022-05-10T19:20:00.513556Z",
     "iopub.status.idle": "2022-05-10T19:20:09.051641Z",
     "shell.execute_reply": "2022-05-10T19:20:09.050380Z"
    },
    "id": "zyaZGU2qIqi6",
    "papermill": {
     "duration": 8.556491,
     "end_time": "2022-05-10T19:20:09.054432",
     "exception": false,
     "start_time": "2022-05-10T19:20:00.497941",
     "status": "completed"
    },
    "tags": []
   },
   "outputs": [
    {
     "name": "stdout",
     "output_type": "stream",
     "text": [
      "Downloading data from https://www.cs.toronto.edu/~kriz/cifar-10-python.tar.gz\n",
      "170500096/170498071 [==============================] - 6s 0us/step\n",
      "170508288/170498071 [==============================] - 6s 0us/step\n",
      "Training data samples: 45000\n",
      "Validation data samples: 5000\n",
      "Test data samples: 10000\n"
     ]
    }
   ],
   "source": [
    "(x_train, y_train), (x_test, y_test) = keras.datasets.cifar10.load_data()\n",
    "val_split = 0.1\n",
    "\n",
    "val_indices = int(len(x_train) * val_split)\n",
    "new_x_train, new_y_train = x_train[val_indices:], y_train[val_indices:]\n",
    "x_val, y_val = x_train[:val_indices], y_train[:val_indices]\n",
    "\n",
    "print(f\"Training data samples: {len(new_x_train)}\")\n",
    "print(f\"Validation data samples: {len(x_val)}\")\n",
    "print(f\"Test data samples: {len(x_test)}\")"
   ]
  },
  {
   "cell_type": "markdown",
   "id": "be0a4ef4",
   "metadata": {
    "id": "_hn_rGIuIqi7",
    "papermill": {
     "duration": 0.053452,
     "end_time": "2022-05-10T19:20:09.164837",
     "exception": false,
     "start_time": "2022-05-10T19:20:09.111385",
     "status": "completed"
    },
    "tags": []
   },
   "source": [
    "## Prepare `tf.data.Dataset` objects\n",
    "\n",
    "Our data augmentation pipeline is different from what the authors used for the CIFAR-10\n",
    "dataset, which is fine for the purpose of the example."
   ]
  },
  {
   "cell_type": "code",
   "execution_count": 4,
   "id": "6088b18b",
   "metadata": {
    "execution": {
     "iopub.execute_input": "2022-05-10T19:20:09.262697Z",
     "iopub.status.busy": "2022-05-10T19:20:09.261935Z",
     "iopub.status.idle": "2022-05-10T19:20:12.749752Z",
     "shell.execute_reply": "2022-05-10T19:20:12.748981Z"
    },
    "id": "KzMqd-TKIqi8",
    "papermill": {
     "duration": 3.537901,
     "end_time": "2022-05-10T19:20:12.752067",
     "exception": false,
     "start_time": "2022-05-10T19:20:09.214166",
     "status": "completed"
    },
    "tags": []
   },
   "outputs": [
    {
     "name": "stderr",
     "output_type": "stream",
     "text": [
      "2022-05-10 19:20:09.343176: I tensorflow/stream_executor/cuda/cuda_gpu_executor.cc:937] successful NUMA node read from SysFS had negative value (-1), but there must be at least one NUMA node, so returning NUMA node zero\n",
      "2022-05-10 19:20:09.465941: I tensorflow/stream_executor/cuda/cuda_gpu_executor.cc:937] successful NUMA node read from SysFS had negative value (-1), but there must be at least one NUMA node, so returning NUMA node zero\n",
      "2022-05-10 19:20:09.466707: I tensorflow/stream_executor/cuda/cuda_gpu_executor.cc:937] successful NUMA node read from SysFS had negative value (-1), but there must be at least one NUMA node, so returning NUMA node zero\n",
      "2022-05-10 19:20:09.469006: I tensorflow/core/platform/cpu_feature_guard.cc:142] This TensorFlow binary is optimized with oneAPI Deep Neural Network Library (oneDNN) to use the following CPU instructions in performance-critical operations:  AVX2 AVX512F FMA\n",
      "To enable them in other operations, rebuild TensorFlow with the appropriate compiler flags.\n",
      "2022-05-10 19:20:09.469327: I tensorflow/stream_executor/cuda/cuda_gpu_executor.cc:937] successful NUMA node read from SysFS had negative value (-1), but there must be at least one NUMA node, so returning NUMA node zero\n",
      "2022-05-10 19:20:09.470010: I tensorflow/stream_executor/cuda/cuda_gpu_executor.cc:937] successful NUMA node read from SysFS had negative value (-1), but there must be at least one NUMA node, so returning NUMA node zero\n",
      "2022-05-10 19:20:09.470651: I tensorflow/stream_executor/cuda/cuda_gpu_executor.cc:937] successful NUMA node read from SysFS had negative value (-1), but there must be at least one NUMA node, so returning NUMA node zero\n",
      "2022-05-10 19:20:11.515337: I tensorflow/stream_executor/cuda/cuda_gpu_executor.cc:937] successful NUMA node read from SysFS had negative value (-1), but there must be at least one NUMA node, so returning NUMA node zero\n",
      "2022-05-10 19:20:11.516207: I tensorflow/stream_executor/cuda/cuda_gpu_executor.cc:937] successful NUMA node read from SysFS had negative value (-1), but there must be at least one NUMA node, so returning NUMA node zero\n",
      "2022-05-10 19:20:11.516944: I tensorflow/stream_executor/cuda/cuda_gpu_executor.cc:937] successful NUMA node read from SysFS had negative value (-1), but there must be at least one NUMA node, so returning NUMA node zero\n",
      "2022-05-10 19:20:11.518501: I tensorflow/core/common_runtime/gpu/gpu_device.cc:1510] Created device /job:localhost/replica:0/task:0/device:GPU:0 with 15403 MB memory:  -> device: 0, name: Tesla P100-PCIE-16GB, pci bus id: 0000:00:04.0, compute capability: 6.0\n"
     ]
    }
   ],
   "source": [
    "image_size = 32\n",
    "auto = tf.data.AUTOTUNE\n",
    "\n",
    "data_augmentation = keras.Sequential(\n",
    "    [layers.RandomCrop(image_size, image_size), layers.RandomFlip(\"horizontal\"),],\n",
    "    name=\"data_augmentation\",\n",
    ")\n",
    "\n",
    "\n",
    "def make_datasets(images, labels, is_train=False):\n",
    "    dataset = tf.data.Dataset.from_tensor_slices((images, labels))\n",
    "    if is_train:\n",
    "        dataset = dataset.shuffle(batch_size * 10)\n",
    "    dataset = dataset.batch(batch_size)\n",
    "    if is_train:\n",
    "        dataset = dataset.map(\n",
    "            lambda x, y: (data_augmentation(x), y), num_parallel_calls=auto\n",
    "        )\n",
    "    return dataset.prefetch(auto)\n",
    "\n",
    "\n",
    "train_dataset = make_datasets(new_x_train, new_y_train, is_train=True)\n",
    "val_dataset = make_datasets(x_val, y_val)\n",
    "test_dataset = make_datasets(x_test, y_test)"
   ]
  },
  {
   "cell_type": "markdown",
   "id": "7ae825ce",
   "metadata": {
    "id": "nXfo15veIqi8",
    "papermill": {
     "duration": 0.05212,
     "end_time": "2022-05-10T19:20:12.858623",
     "exception": false,
     "start_time": "2022-05-10T19:20:12.806503",
     "status": "completed"
    },
    "tags": []
   },
   "source": [
    "## ConvMixer utilities\n",
    "\n",
    "The following figure (taken from the original paper) depicts the ConvMixer model:\n",
    "\n",
    "![](https://i.imgur.com/yF8actg.png)\n",
    "\n",
    "ConvMixer is very similar to the MLP-Mixer, model with the following key\n",
    "differences:\n",
    "\n",
    "* Instead of using fully-connected layers, it uses standard convolution layers.\n",
    "* Instead of LayerNorm (which is typical for ViTs and MLP-Mixers), it uses BatchNorm.\n",
    "\n",
    "Two types of convolution layers are used in ConvMixer. **(1)**: Depthwise convolutions,\n",
    "for mixing spatial locations of the images, **(2)**: Pointwise convolutions (which follow\n",
    "the depthwise convolutions), for mixing channel-wise information across the patches.\n",
    "Another keypoint is the use of *larger kernel sizes* to allow a larger receptive field."
   ]
  },
  {
   "cell_type": "code",
   "execution_count": 5,
   "id": "149a57c5",
   "metadata": {
    "execution": {
     "iopub.execute_input": "2022-05-10T19:20:12.965050Z",
     "iopub.status.busy": "2022-05-10T19:20:12.964775Z",
     "iopub.status.idle": "2022-05-10T19:20:12.975394Z",
     "shell.execute_reply": "2022-05-10T19:20:12.974648Z"
    },
    "id": "laHZKV9sIqi9",
    "papermill": {
     "duration": 0.066784,
     "end_time": "2022-05-10T19:20:12.977168",
     "exception": false,
     "start_time": "2022-05-10T19:20:12.910384",
     "status": "completed"
    },
    "tags": []
   },
   "outputs": [],
   "source": [
    "\n",
    "def activation_block(x):\n",
    "    x = layers.Activation(\"gelu\")(x)\n",
    "    return layers.BatchNormalization()(x)\n",
    "\n",
    "\n",
    "def conv_stem(x, filters: int, patch_size: int):\n",
    "    x = layers.Conv2D(filters, kernel_size=patch_size, strides=patch_size)(x)\n",
    "    return activation_block(x)\n",
    "\n",
    "\n",
    "def conv_mixer_block(x, filters: int, kernel_size: int):\n",
    "    # Depthwise convolution.\n",
    "    x0 = x\n",
    "    x = layers.DepthwiseConv2D(kernel_size=kernel_size, padding=\"same\")(x)\n",
    "    x = layers.Add()([activation_block(x), x0])  # Residual.\n",
    "\n",
    "    # Pointwise convolution.\n",
    "    x = layers.Conv2D(filters, kernel_size=1)(x)\n",
    "    x = activation_block(x)\n",
    "\n",
    "    return x\n",
    "\n",
    "\n",
    "def get_conv_mixer_256_8(\n",
    "    image_size=32, filters=256, depth=8, kernel_size=5, patch_size=2, num_classes=10\n",
    "):\n",
    "    \"\"\"ConvMixer-256/8: https://openreview.net/pdf?id=TVHS5Y4dNvM.\n",
    "    The hyperparameter values are taken from the paper.\n",
    "    \"\"\"\n",
    "    inputs = keras.Input((image_size, image_size, 3))\n",
    "    x = layers.Rescaling(scale=1.0 / 255)(inputs)\n",
    "\n",
    "    # Extract patch embeddings.\n",
    "    x = conv_stem(x, filters, patch_size)\n",
    "\n",
    "    # ConvMixer blocks.\n",
    "    for _ in range(depth):\n",
    "        x = conv_mixer_block(x, filters, kernel_size)\n",
    "\n",
    "    # Classification block.\n",
    "    x = layers.GlobalAvgPool2D()(x)\n",
    "    outputs = layers.Dense(num_classes, activation=\"softmax\")(x)\n",
    "\n",
    "    return keras.Model(inputs, outputs)\n"
   ]
  },
  {
   "cell_type": "markdown",
   "id": "aaa69e9a",
   "metadata": {
    "id": "V_VQPG3kIqi9",
    "papermill": {
     "duration": 0.051988,
     "end_time": "2022-05-10T19:20:13.083007",
     "exception": false,
     "start_time": "2022-05-10T19:20:13.031019",
     "status": "completed"
    },
    "tags": []
   },
   "source": [
    "The model used in this experiment is termed as **ConvMixer-256/8** where 256 denotes the\n",
    "number of channels and 8 denotes the depth. The resulting model only has 0.8 million\n",
    "parameters."
   ]
  },
  {
   "cell_type": "markdown",
   "id": "64740f3f",
   "metadata": {
    "id": "0bo8ohp1Iqi-",
    "papermill": {
     "duration": 0.050266,
     "end_time": "2022-05-10T19:20:13.185957",
     "exception": false,
     "start_time": "2022-05-10T19:20:13.135691",
     "status": "completed"
    },
    "tags": []
   },
   "source": [
    "## Model training and evaluation utility"
   ]
  },
  {
   "cell_type": "code",
   "execution_count": 6,
   "id": "aec61f56",
   "metadata": {
    "execution": {
     "iopub.execute_input": "2022-05-10T19:20:13.295926Z",
     "iopub.status.busy": "2022-05-10T19:20:13.295647Z",
     "iopub.status.idle": "2022-05-10T19:20:13.302598Z",
     "shell.execute_reply": "2022-05-10T19:20:13.301812Z"
    },
    "id": "ge9jGVplIqi-",
    "papermill": {
     "duration": 0.069107,
     "end_time": "2022-05-10T19:20:13.304424",
     "exception": false,
     "start_time": "2022-05-10T19:20:13.235317",
     "status": "completed"
    },
    "tags": []
   },
   "outputs": [],
   "source": [
    "# Code reference:\n",
    "# https://keras.io/examples/vision/image_classification_with_vision_transformer/.\n",
    "\n",
    "\n",
    "def run_experiment(model):\n",
    "    optimizer = tfa.optimizers.AdamW(\n",
    "        learning_rate=learning_rate, weight_decay=weight_decay\n",
    "    )\n",
    "\n",
    "    model.compile(\n",
    "        optimizer=optimizer,\n",
    "        loss=\"sparse_categorical_crossentropy\",\n",
    "        metrics=[\"accuracy\"],\n",
    "    )\n",
    "\n",
    "    checkpoint_filepath = \"/tmp/checkpoint\"\n",
    "    checkpoint_callback = keras.callbacks.ModelCheckpoint(\n",
    "        checkpoint_filepath,\n",
    "        monitor=\"val_accuracy\",\n",
    "        save_best_only=True,\n",
    "        save_weights_only=True,\n",
    "    )\n",
    "\n",
    "    history = model.fit(\n",
    "        train_dataset,\n",
    "        validation_data=val_dataset,\n",
    "        epochs=num_epochs,\n",
    "        callbacks=[checkpoint_callback],\n",
    "    )\n",
    "\n",
    "    model.load_weights(checkpoint_filepath)\n",
    "    _, accuracy = model.evaluate(test_dataset)\n",
    "    print(f\"Test accuracy: {round(accuracy * 100, 2)}%\")\n",
    "\n",
    "    return history, model\n"
   ]
  },
  {
   "cell_type": "markdown",
   "id": "8f34c31e",
   "metadata": {
    "id": "WlG3dSvhIqi-",
    "papermill": {
     "duration": 0.0548,
     "end_time": "2022-05-10T19:20:13.414520",
     "exception": false,
     "start_time": "2022-05-10T19:20:13.359720",
     "status": "completed"
    },
    "tags": []
   },
   "source": [
    "## Train and evaluate model"
   ]
  },
  {
   "cell_type": "code",
   "execution_count": 7,
   "id": "0c508066",
   "metadata": {
    "execution": {
     "iopub.execute_input": "2022-05-10T19:20:13.526715Z",
     "iopub.status.busy": "2022-05-10T19:20:13.526430Z",
     "iopub.status.idle": "2022-05-10T19:32:44.385963Z",
     "shell.execute_reply": "2022-05-10T19:32:44.385184Z"
    },
    "id": "bdVFU1scIqi_",
    "papermill": {
     "duration": 750.918039,
     "end_time": "2022-05-10T19:32:44.387934",
     "exception": false,
     "start_time": "2022-05-10T19:20:13.469895",
     "status": "completed"
    },
    "tags": []
   },
   "outputs": [
    {
     "name": "stderr",
     "output_type": "stream",
     "text": [
      "2022-05-10 19:20:14.074308: I tensorflow/compiler/mlir/mlir_graph_optimization_pass.cc:185] None of the MLIR Optimization Passes are enabled (registered 2)\n"
     ]
    },
    {
     "name": "stdout",
     "output_type": "stream",
     "text": [
      "Epoch 1/10\n"
     ]
    },
    {
     "name": "stderr",
     "output_type": "stream",
     "text": [
      "2022-05-10 19:20:18.612639: I tensorflow/stream_executor/cuda/cuda_dnn.cc:369] Loaded cuDNN version 8005\n"
     ]
    },
    {
     "name": "stdout",
     "output_type": "stream",
     "text": [
      "352/352 [==============================] - 54s 126ms/step - loss: 1.2299 - accuracy: 0.5580 - val_loss: 3.5913 - val_accuracy: 0.1340\n",
      "Epoch 2/10\n",
      "352/352 [==============================] - 44s 125ms/step - loss: 0.7794 - accuracy: 0.7265 - val_loss: 0.8658 - val_accuracy: 0.6932\n",
      "Epoch 3/10\n",
      "352/352 [==============================] - 44s 125ms/step - loss: 0.5967 - accuracy: 0.7932 - val_loss: 0.7183 - val_accuracy: 0.7488\n",
      "Epoch 4/10\n",
      "352/352 [==============================] - 44s 125ms/step - loss: 0.4828 - accuracy: 0.8340 - val_loss: 0.5754 - val_accuracy: 0.7978\n",
      "Epoch 5/10\n",
      "352/352 [==============================] - 44s 125ms/step - loss: 0.4108 - accuracy: 0.8587 - val_loss: 0.5676 - val_accuracy: 0.7994\n",
      "Epoch 6/10\n",
      "352/352 [==============================] - 44s 125ms/step - loss: 0.3455 - accuracy: 0.8797 - val_loss: 0.5262 - val_accuracy: 0.8208\n",
      "Epoch 7/10\n",
      "352/352 [==============================] - 44s 125ms/step - loss: 0.3006 - accuracy: 0.8950 - val_loss: 0.4968 - val_accuracy: 0.8274\n",
      "Epoch 8/10\n",
      "352/352 [==============================] - 44s 125ms/step - loss: 0.2682 - accuracy: 0.9078 - val_loss: 0.5019 - val_accuracy: 0.8352\n",
      "Epoch 9/10\n",
      "352/352 [==============================] - 44s 125ms/step - loss: 0.2414 - accuracy: 0.9158 - val_loss: 0.4987 - val_accuracy: 0.8426\n",
      "Epoch 10/10\n",
      "352/352 [==============================] - 44s 126ms/step - loss: 0.2179 - accuracy: 0.9257 - val_loss: 0.5230 - val_accuracy: 0.8290\n",
      "79/79 [==============================] - 2s 31ms/step - loss: 0.5578 - accuracy: 0.8270\n",
      "Test accuracy: 82.7%\n"
     ]
    }
   ],
   "source": [
    "conv_mixer_model = get_conv_mixer_256_8()\n",
    "history, conv_mixer_model = run_experiment(conv_mixer_model)"
   ]
  },
  {
   "cell_type": "markdown",
   "id": "47fe010e",
   "metadata": {
    "id": "3xd6u2xsIqi_",
    "papermill": {
     "duration": 1.206774,
     "end_time": "2022-05-10T19:32:46.761995",
     "exception": false,
     "start_time": "2022-05-10T19:32:45.555221",
     "status": "completed"
    },
    "tags": []
   },
   "source": [
    "The gap in training and validation performance can be mitigated by using additional\n",
    "regularization techniques. Nevertheless, being able to get to ~83% accuracy within 10\n",
    "epochs with 0.8 million parameters is a strong result."
   ]
  },
  {
   "cell_type": "markdown",
   "id": "1019cbfc",
   "metadata": {
    "id": "9F537VI6Iqi_",
    "papermill": {
     "duration": 1.123477,
     "end_time": "2022-05-10T19:32:49.326771",
     "exception": false,
     "start_time": "2022-05-10T19:32:48.203294",
     "status": "completed"
    },
    "tags": []
   },
   "source": [
    "## Visualizing the internals of ConvMixer\n",
    "\n",
    "We can visualize the patch embeddings and the learned convolution filters. Recall\n",
    "that each patch embedding and intermediate feature map have the same number of channels\n",
    "(256 in this case). This will make our visualization utility easier to implement."
   ]
  },
  {
   "cell_type": "code",
   "execution_count": 8,
   "id": "cd61bd25",
   "metadata": {
    "execution": {
     "iopub.execute_input": "2022-05-10T19:32:51.679600Z",
     "iopub.status.busy": "2022-05-10T19:32:51.679323Z",
     "iopub.status.idle": "2022-05-10T19:33:00.787672Z",
     "shell.execute_reply": "2022-05-10T19:33:00.786968Z"
    },
    "id": "_YBqwlmFIqi_",
    "papermill": {
     "duration": 10.333929,
     "end_time": "2022-05-10T19:33:00.789496",
     "exception": false,
     "start_time": "2022-05-10T19:32:50.455567",
     "status": "completed"
    },
    "tags": []
   },
   "outputs": [
    {
     "data": {
      "image/png": "[encoded data removed]",
      "text/plain": [
       "<Figure size 576x576 with 256 Axes>"
      ]
     },
     "metadata": {},
     "output_type": "display_data"
    }
   ],
   "source": [
    "# Code reference: https://bit.ly/3awIRbP.\n",
    "\n",
    "\n",
    "def visualization_plot(weights, idx=1):\n",
    "    # First, apply min-max normalization to the\n",
    "    # given weights to avoid isotrophic scaling.\n",
    "    p_min, p_max = weights.min(), weights.max()\n",
    "    weights = (weights - p_min) / (p_max - p_min)\n",
    "\n",
    "    # Visualize all the filters.\n",
    "    num_filters = 256\n",
    "    plt.figure(figsize=(8, 8))\n",
    "\n",
    "    for i in range(num_filters):\n",
    "        current_weight = weights[:, :, :, i]\n",
    "        if current_weight.shape[-1] == 1:\n",
    "            current_weight = current_weight.squeeze()\n",
    "        ax = plt.subplot(16, 16, idx)\n",
    "        ax.set_xticks([])\n",
    "        ax.set_yticks([])\n",
    "        plt.imshow(current_weight)\n",
    "        idx += 1\n",
    "\n",
    "\n",
    "# We first visualize the learned patch embeddings.\n",
    "patch_embeddings = conv_mixer_model.layers[2].get_weights()[0]\n",
    "visualization_plot(patch_embeddings)"
   ]
  },
  {
   "cell_type": "markdown",
   "id": "2607e703",
   "metadata": {
    "id": "qL7IM91sIqjA",
    "papermill": {
     "duration": 1.143876,
     "end_time": "2022-05-10T19:33:03.158938",
     "exception": false,
     "start_time": "2022-05-10T19:33:02.015062",
     "status": "completed"
    },
    "tags": []
   },
   "source": [
    "Even though we did not train the network to convergence, we can notice that different\n",
    "patches show different patterns. Some share similarity with others while some are very\n",
    "different. These visualizations are more salient with larger image sizes.\n",
    "\n",
    "Similarly, we can visualize the raw convolution kernels. This can help us understand\n",
    "the patterns to which a given kernel is receptive."
   ]
  },
  {
   "cell_type": "code",
   "execution_count": 9,
   "id": "cd8db4a5",
   "metadata": {
    "execution": {
     "iopub.execute_input": "2022-05-10T19:33:05.989070Z",
     "iopub.status.busy": "2022-05-10T19:33:05.988527Z",
     "iopub.status.idle": "2022-05-10T19:33:15.348320Z",
     "shell.execute_reply": "2022-05-10T19:33:15.347582Z"
    },
    "id": "d3xweSClIqjA",
    "papermill": {
     "duration": 11.050399,
     "end_time": "2022-05-10T19:33:15.350695",
     "exception": false,
     "start_time": "2022-05-10T19:33:04.300296",
     "status": "completed"
    },
    "tags": []
   },
   "outputs": [
    {
     "name": "stdout",
     "output_type": "stream",
     "text": [
      "5 <keras.layers.convolutional.DepthwiseConv2D object at 0x7fea7e826810>\n",
      "12 <keras.layers.convolutional.DepthwiseConv2D object at 0x7fea7e6bd710>\n",
      "19 <keras.layers.convolutional.DepthwiseConv2D object at 0x7fea7e6daad0>\n",
      "26 <keras.layers.convolutional.DepthwiseConv2D object at 0x7fea7e8e5350>\n",
      "33 <keras.layers.convolutional.DepthwiseConv2D object at 0x7fea70298f90>\n",
      "40 <keras.layers.convolutional.DepthwiseConv2D object at 0x7fea7024bf50>\n",
      "47 <keras.layers.convolutional.DepthwiseConv2D object at 0x7fea702701d0>\n",
      "54 <keras.layers.convolutional.DepthwiseConv2D object at 0x7fea70214390>\n"
     ]
    },
    {
     "data": {
      "image/png": "[encoded data removed]",
      "text/plain": [
       "<Figure size 576x576 with 256 Axes>"
      ]
     },
     "metadata": {},
     "output_type": "display_data"
    }
   ],
   "source": [
    "# First, print the indices of the convolution layers that are not\n",
    "# pointwise convolutions.\n",
    "for i, layer in enumerate(conv_mixer_model.layers):\n",
    "    if isinstance(layer, layers.DepthwiseConv2D):\n",
    "        if layer.get_config()[\"kernel_size\"] == (5, 5):\n",
    "            print(i, layer)\n",
    "\n",
    "idx = 26  # Taking a kernel from the middle of the network.\n",
    "\n",
    "kernel = conv_mixer_model.layers[idx].get_weights()[0]\n",
    "kernel = np.expand_dims(kernel.squeeze(), axis=2)\n",
    "visualization_plot(kernel)"
   ]
  },
  {
   "cell_type": "markdown",
   "id": "fdd5412d",
   "metadata": {
    "id": "pImh_sQAIqjA",
    "papermill": {
     "duration": 1.173486,
     "end_time": "2022-05-10T19:33:17.667198",
     "exception": false,
     "start_time": "2022-05-10T19:33:16.493712",
     "status": "completed"
    },
    "tags": []
   },
   "source": [
    "We see that different filters in the kernel have different locality spans, and this pattern\n",
    "is likely to evolve with more training."
   ]
  },
  {
   "cell_type": "markdown",
   "id": "7be60260",
   "metadata": {
    "id": "CNGJY6rNIqjB",
    "papermill": {
     "duration": 1.212619,
     "end_time": "2022-05-10T19:33:20.041267",
     "exception": false,
     "start_time": "2022-05-10T19:33:18.828648",
     "status": "completed"
    },
    "tags": []
   },
   "source": [
    "## Final notes\n",
    "\n",
    "There's been a recent trend on fusing convolutions with other data-agnostic operations\n",
    "like self-attention. Following works are along this line of research:\n",
    "\n",
    "* ConViT ([d'Ascoli et al.](https://arxiv.org/abs/2103.10697))\n",
    "* CCT ([Hassani et al.](https://arxiv.org/abs/2104.05704))\n",
    "* CoAtNet ([Dai et al.](https://arxiv.org/abs/2106.04803))"
   ]
  }
 ],
 "metadata": {
  "kernelspec": {
   "display_name": "Python 3",
   "language": "python",
   "name": "python3"
  },
  "language_info": {
   "codemirror_mode": {
    "name": "ipython",
    "version": 3
   },
   "file_extension": ".py",
   "mimetype": "text/x-python",
   "name": "python",
   "nbconvert_exporter": "python",
   "pygments_lexer": "ipython3",
   "version": "3.7.12"
  },
  "papermill": {
   "default_parameters": {},
   "duration": 818.204661,
   "end_time": "2022-05-10T19:33:24.529038",
   "environment_variables": {},
   "exception": null,
   "input_path": "__notebook__.ipynb",
   "output_path": "__notebook__.ipynb",
   "parameters": {},
   "start_time": "2022-05-10T19:19:46.324377",
   "version": "2.3.4"
  }
 },
 "nbformat": 4,
 "nbformat_minor": 5
}
